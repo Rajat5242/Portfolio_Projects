{
 "cells": [
  {
   "cell_type": "code",
   "execution_count": 1,
   "id": "f704707d",
   "metadata": {},
   "outputs": [],
   "source": [
    "import pandas as pd \n",
    "import numpy as np\n",
    "import matplotlib.pyplot as plt\n",
    "import seaborn as sns\n",
    "import requests\n",
    "from bs4 import BeautifulSoup"
   ]
  },
  {
   "cell_type": "code",
   "execution_count": 2,
   "id": "55fcd4fb",
   "metadata": {},
   "outputs": [
    {
     "data": {
      "text/plain": [
       "<Response [403]>"
      ]
     },
     "execution_count": 2,
     "metadata": {},
     "output_type": "execute_result"
    }
   ],
   "source": [
    "url=requests.get('https://www.ambitionbox.com/list-of-companies?campaign=desktop_nav')\n",
    "url"
   ]
  },
  {
   "cell_type": "code",
   "execution_count": 3,
   "id": "8b4ab5dd",
   "metadata": {},
   "outputs": [],
   "source": [
    "headers={'User-Agent':'Mozilla/5.0 (Windows NT 6.3; Win64; x64) AppleWebKit/537.36 (KHTM, like Gecko) Chrome/80.0.3987.162 Safari/537.36'}\n",
    "url=requests.get('https://www.ambitionbox.com/list-of-companies?campaign=desktop_nav', headers=headers).text\n",
    "\n",
    "soup=BeautifulSoup(url, 'html.parser')\n",
    "\n",
    "soup2=BeautifulSoup(soup.prettify(), 'html.parser')\n"
   ]
  },
  {
   "cell_type": "code",
   "execution_count": 4,
   "id": "50adb296",
   "metadata": {},
   "outputs": [
    {
     "name": "stdout",
     "output_type": "stream",
     "text": [
      "TCS\n",
      "Accenture\n",
      "Cognizant\n",
      "ICICI Bank\n",
      "HDFC Bank\n",
      "Wipro\n",
      "Infosys\n",
      "Capgemini\n",
      "Tech Mahindra\n",
      "Genpact\n",
      "HCLTech\n",
      "Amazon\n",
      "Axis Bank\n",
      "IBM\n",
      "Concentrix Corpo...\n",
      "Reliance jio\n",
      "Larsen & Toubro ...\n",
      "HDB Financial Se...\n",
      "Vodafone Idea\n",
      "Teleperformance\n",
      "Reliance Retail\n",
      "Kotak Mahindra B...\n",
      "Deloitte\n",
      "Reliance Industr...\n",
      "Bharti Airtel\n",
      "Tata Motors\n",
      "BYJU'S\n",
      "Flipkart\n",
      "WNS\n",
      "Mahindra & Mahin...\n"
     ]
    },
    {
     "data": {
      "text/plain": [
       "30"
      ]
     },
     "execution_count": 4,
     "metadata": {},
     "output_type": "execute_result"
    }
   ],
   "source": [
    "# companies on the first page of the website \n",
    "\n",
    "for i in soup2.find_all('h2'):\n",
    "    print(i.text.strip())\n",
    "    \n",
    "company=soup.find_all('div', class_='company-info-wrapper')\n",
    "len(company)"
   ]
  },
  {
   "cell_type": "code",
   "execution_count": 5,
   "id": "f0677bae",
   "metadata": {},
   "outputs": [
    {
     "name": "stderr",
     "output_type": "stream",
     "text": [
      "C:\\Users\\RAJAT SINGH\\AppData\\Local\\Temp\\ipykernel_1312\\2769601861.py:48: FutureWarning: The frame.append method is deprecated and will be removed from pandas in a future version. Use pandas.concat instead.\n",
      "  final_df=final_df.append(df, ignore_index=True)\n"
     ]
    }
   ],
   "source": [
    "# Extracting data from all the pages of the website\n",
    "\n",
    "final_df=pd.DataFrame()\n",
    "\n",
    "for j in range(1, 150):\n",
    "    headers={'User-Agent':'Mozilla/5.0 (Windows NT 6.3; Win64; x64) AppleWebKit/537.36 (KHTM, like Gecko) Chrome/80.0.3987.162 Safari/537.36'}\n",
    "    url='https://www.ambitionbox.com/list-of-companies?page={}'.format(j)\n",
    "    webpage=requests.get(url, headers=headers).text\n",
    "    \n",
    "    soup=BeautifulSoup(webpage, 'html.parser')\n",
    "    \n",
    "    company=soup.find_all('div', class_='company-content-wrapper')\n",
    "    \n",
    "    name=[]\n",
    "    rating=[]\n",
    "    review=[]\n",
    "    ctype=[]\n",
    "    location=[]\n",
    "    old_in_years=[]\n",
    "    employees=[]\n",
    "\n",
    "    for i in company:\n",
    "        name.append(i.find('h2', class_='company-name').text.strip())\n",
    "        rating.append(i.find('p', class_='rating').text.strip())\n",
    "        review.append(i.find('a', class_='review-count').text.strip())\n",
    "        try:\n",
    "            ctype.append(i.find_all('p', class_='infoEntity')[0].text.strip())\n",
    "        except:\n",
    "            ctype.append(np.nan)\n",
    "            \n",
    "        try:\n",
    "            location.append(i.find_all('p', class_='infoEntity')[1].text.strip())\n",
    "        except:\n",
    "            location.append(np.nan)\n",
    "            \n",
    "        try:\n",
    "            old_in_years.append(i.find_all('p', class_='infoEntity')[2].text.strip())\n",
    "        except:\n",
    "            old_in_years.append(np.nan)\n",
    "        try:\n",
    "            employees.append(i.find_all('p', class_='infoEntity')[3].text.strip())\n",
    "        except:\n",
    "            employees.append(np.nan)\n",
    "        \n",
    "    d={'name': name, 'rating': rating, 'review': review, 'ctype': ctype, 'location': location, 'old_in_years':old_in_years, 'employees':employees}\n",
    "    df=pd.DataFrame(d)\n",
    "    \n",
    "    final_df=final_df.append(df, ignore_index=True)"
   ]
  },
  {
   "cell_type": "code",
   "execution_count": 6,
   "id": "94993279",
   "metadata": {},
   "outputs": [
    {
     "data": {
      "text/html": [
       "<div>\n",
       "<style scoped>\n",
       "    .dataframe tbody tr th:only-of-type {\n",
       "        vertical-align: middle;\n",
       "    }\n",
       "\n",
       "    .dataframe tbody tr th {\n",
       "        vertical-align: top;\n",
       "    }\n",
       "\n",
       "    .dataframe thead th {\n",
       "        text-align: right;\n",
       "    }\n",
       "</style>\n",
       "<table border=\"1\" class=\"dataframe\">\n",
       "  <thead>\n",
       "    <tr style=\"text-align: right;\">\n",
       "      <th></th>\n",
       "      <th>name</th>\n",
       "      <th>rating</th>\n",
       "      <th>review</th>\n",
       "      <th>ctype</th>\n",
       "      <th>location</th>\n",
       "      <th>old_in_years</th>\n",
       "      <th>employees</th>\n",
       "    </tr>\n",
       "  </thead>\n",
       "  <tbody>\n",
       "    <tr>\n",
       "      <th>0</th>\n",
       "      <td>TCS</td>\n",
       "      <td>3.9</td>\n",
       "      <td>(50.7k Reviews)</td>\n",
       "      <td>Public</td>\n",
       "      <td>Mumbai,Maharashtra + 270 more</td>\n",
       "      <td>55 years old</td>\n",
       "      <td>1 Lakh+ Employees (India)</td>\n",
       "    </tr>\n",
       "    <tr>\n",
       "      <th>1</th>\n",
       "      <td>Accenture</td>\n",
       "      <td>4.1</td>\n",
       "      <td>(32.4k Reviews)</td>\n",
       "      <td>Public</td>\n",
       "      <td>Dublin + 131 more</td>\n",
       "      <td>34 years old</td>\n",
       "      <td>1 Lakh+ Employees (India)</td>\n",
       "    </tr>\n",
       "    <tr>\n",
       "      <th>2</th>\n",
       "      <td>Cognizant</td>\n",
       "      <td>4.0</td>\n",
       "      <td>(29.8k Reviews)</td>\n",
       "      <td>Private</td>\n",
       "      <td>Teaneck. New Jersey. + 101 more</td>\n",
       "      <td>29 years old</td>\n",
       "      <td>1 Lakh+ Employees (India)</td>\n",
       "    </tr>\n",
       "    <tr>\n",
       "      <th>3</th>\n",
       "      <td>ICICI Bank</td>\n",
       "      <td>4.0</td>\n",
       "      <td>(33.7k Reviews)</td>\n",
       "      <td>Public</td>\n",
       "      <td>Mumbai,Maharashtra + 1057 more</td>\n",
       "      <td>29 years old</td>\n",
       "      <td>1 Lakh+ Employees (India)</td>\n",
       "    </tr>\n",
       "    <tr>\n",
       "      <th>4</th>\n",
       "      <td>HDFC Bank</td>\n",
       "      <td>4.0</td>\n",
       "      <td>(39.5k Reviews)</td>\n",
       "      <td>Public</td>\n",
       "      <td>Mumbai,Maharashtra + 1254 more</td>\n",
       "      <td>29 years old</td>\n",
       "      <td>50k-1 Lakh Employees (India)</td>\n",
       "    </tr>\n",
       "  </tbody>\n",
       "</table>\n",
       "</div>"
      ],
      "text/plain": [
       "         name rating           review    ctype  \\\n",
       "0         TCS    3.9  (50.7k Reviews)   Public   \n",
       "1   Accenture    4.1  (32.4k Reviews)   Public   \n",
       "2   Cognizant    4.0  (29.8k Reviews)  Private   \n",
       "3  ICICI Bank    4.0  (33.7k Reviews)   Public   \n",
       "4   HDFC Bank    4.0  (39.5k Reviews)   Public   \n",
       "\n",
       "                          location  old_in_years                     employees  \n",
       "0    Mumbai,Maharashtra + 270 more  55 years old     1 Lakh+ Employees (India)  \n",
       "1                Dublin + 131 more  34 years old     1 Lakh+ Employees (India)  \n",
       "2  Teaneck. New Jersey. + 101 more  29 years old     1 Lakh+ Employees (India)  \n",
       "3   Mumbai,Maharashtra + 1057 more  29 years old     1 Lakh+ Employees (India)  \n",
       "4   Mumbai,Maharashtra + 1254 more  29 years old  50k-1 Lakh Employees (India)  "
      ]
     },
     "execution_count": 6,
     "metadata": {},
     "output_type": "execute_result"
    }
   ],
   "source": [
    "final_df.head()"
   ]
  },
  {
   "cell_type": "code",
   "execution_count": 7,
   "id": "c2385af5",
   "metadata": {},
   "outputs": [
    {
     "data": {
      "text/plain": [
       "(4469, 7)"
      ]
     },
     "execution_count": 7,
     "metadata": {},
     "output_type": "execute_result"
    }
   ],
   "source": [
    "final_df.shape"
   ]
  },
  {
   "cell_type": "markdown",
   "id": "90ca09b1",
   "metadata": {},
   "source": [
    "### Data Mining"
   ]
  },
  {
   "cell_type": "code",
   "execution_count": 8,
   "id": "fa046c65",
   "metadata": {},
   "outputs": [
    {
     "data": {
      "text/plain": [
       "name            0.000000\n",
       "rating          0.000000\n",
       "review          0.000000\n",
       "ctype           0.000000\n",
       "location        1.051689\n",
       "old_in_years    3.110316\n",
       "employees       9.599463\n",
       "dtype: float64"
      ]
     },
     "execution_count": 8,
     "metadata": {},
     "output_type": "execute_result"
    }
   ],
   "source": [
    "final_df.isnull().mean()*100"
   ]
  },
  {
   "cell_type": "code",
   "execution_count": 9,
   "id": "960cdd7e",
   "metadata": {},
   "outputs": [],
   "source": [
    "# we have to drop the null values as some values have jumbled up in the middle part of the dataset which has left most of the null values in the 'employees' section, i have tried correcting it multiple times but everytime i run the program as fresh , the null values changes, therefore i have left with no option. \n",
    "final_df.dropna(inplace=True)"
   ]
  },
  {
   "cell_type": "code",
   "execution_count": 10,
   "id": "fab6af0b",
   "metadata": {},
   "outputs": [
    {
     "data": {
      "text/plain": [
       "name            0.0\n",
       "rating          0.0\n",
       "review          0.0\n",
       "ctype           0.0\n",
       "location        0.0\n",
       "old_in_years    0.0\n",
       "employees       0.0\n",
       "dtype: float64"
      ]
     },
     "execution_count": 10,
     "metadata": {},
     "output_type": "execute_result"
    }
   ],
   "source": [
    "final_df.isnull().mean()*100"
   ]
  },
  {
   "cell_type": "code",
   "execution_count": 11,
   "id": "9366357d",
   "metadata": {},
   "outputs": [
    {
     "data": {
      "text/plain": [
       "(4040, 7)"
      ]
     },
     "execution_count": 11,
     "metadata": {},
     "output_type": "execute_result"
    }
   ],
   "source": [
    "final_df.shape"
   ]
  },
  {
   "cell_type": "code",
   "execution_count": 12,
   "id": "46a9e17a",
   "metadata": {},
   "outputs": [
    {
     "data": {
      "text/html": [
       "<div>\n",
       "<style scoped>\n",
       "    .dataframe tbody tr th:only-of-type {\n",
       "        vertical-align: middle;\n",
       "    }\n",
       "\n",
       "    .dataframe tbody tr th {\n",
       "        vertical-align: top;\n",
       "    }\n",
       "\n",
       "    .dataframe thead th {\n",
       "        text-align: right;\n",
       "    }\n",
       "</style>\n",
       "<table border=\"1\" class=\"dataframe\">\n",
       "  <thead>\n",
       "    <tr style=\"text-align: right;\">\n",
       "      <th></th>\n",
       "      <th>name</th>\n",
       "      <th>rating</th>\n",
       "      <th>review</th>\n",
       "      <th>ctype</th>\n",
       "      <th>location</th>\n",
       "      <th>old_in_years</th>\n",
       "      <th>employees</th>\n",
       "    </tr>\n",
       "  </thead>\n",
       "  <tbody>\n",
       "    <tr>\n",
       "      <th>0</th>\n",
       "      <td>TCS</td>\n",
       "      <td>3.9</td>\n",
       "      <td>(50.7k Reviews)</td>\n",
       "      <td>Public</td>\n",
       "      <td>Mumbai,Maharashtra + 270 more</td>\n",
       "      <td>55 years old</td>\n",
       "      <td>1 Lakh+ Employees (India)</td>\n",
       "    </tr>\n",
       "    <tr>\n",
       "      <th>1</th>\n",
       "      <td>Accenture</td>\n",
       "      <td>4.1</td>\n",
       "      <td>(32.4k Reviews)</td>\n",
       "      <td>Public</td>\n",
       "      <td>Dublin + 131 more</td>\n",
       "      <td>34 years old</td>\n",
       "      <td>1 Lakh+ Employees (India)</td>\n",
       "    </tr>\n",
       "    <tr>\n",
       "      <th>2</th>\n",
       "      <td>Cognizant</td>\n",
       "      <td>4.0</td>\n",
       "      <td>(29.8k Reviews)</td>\n",
       "      <td>Private</td>\n",
       "      <td>Teaneck. New Jersey. + 101 more</td>\n",
       "      <td>29 years old</td>\n",
       "      <td>1 Lakh+ Employees (India)</td>\n",
       "    </tr>\n",
       "    <tr>\n",
       "      <th>3</th>\n",
       "      <td>ICICI Bank</td>\n",
       "      <td>4.0</td>\n",
       "      <td>(33.7k Reviews)</td>\n",
       "      <td>Public</td>\n",
       "      <td>Mumbai,Maharashtra + 1057 more</td>\n",
       "      <td>29 years old</td>\n",
       "      <td>1 Lakh+ Employees (India)</td>\n",
       "    </tr>\n",
       "    <tr>\n",
       "      <th>4</th>\n",
       "      <td>HDFC Bank</td>\n",
       "      <td>4.0</td>\n",
       "      <td>(39.5k Reviews)</td>\n",
       "      <td>Public</td>\n",
       "      <td>Mumbai,Maharashtra + 1254 more</td>\n",
       "      <td>29 years old</td>\n",
       "      <td>50k-1 Lakh Employees (India)</td>\n",
       "    </tr>\n",
       "  </tbody>\n",
       "</table>\n",
       "</div>"
      ],
      "text/plain": [
       "         name rating           review    ctype  \\\n",
       "0         TCS    3.9  (50.7k Reviews)   Public   \n",
       "1   Accenture    4.1  (32.4k Reviews)   Public   \n",
       "2   Cognizant    4.0  (29.8k Reviews)  Private   \n",
       "3  ICICI Bank    4.0  (33.7k Reviews)   Public   \n",
       "4   HDFC Bank    4.0  (39.5k Reviews)   Public   \n",
       "\n",
       "                          location  old_in_years                     employees  \n",
       "0    Mumbai,Maharashtra + 270 more  55 years old     1 Lakh+ Employees (India)  \n",
       "1                Dublin + 131 more  34 years old     1 Lakh+ Employees (India)  \n",
       "2  Teaneck. New Jersey. + 101 more  29 years old     1 Lakh+ Employees (India)  \n",
       "3   Mumbai,Maharashtra + 1057 more  29 years old     1 Lakh+ Employees (India)  \n",
       "4   Mumbai,Maharashtra + 1254 more  29 years old  50k-1 Lakh Employees (India)  "
      ]
     },
     "execution_count": 12,
     "metadata": {},
     "output_type": "execute_result"
    }
   ],
   "source": [
    "final_df.head()"
   ]
  },
  {
   "cell_type": "code",
   "execution_count": 13,
   "id": "32a65435",
   "metadata": {},
   "outputs": [],
   "source": [
    "def review(x):\n",
    "    return x.split(' ')[0].split('(')[1]\n",
    "\n",
    "final_df['review']=final_df['review'].apply(review)"
   ]
  },
  {
   "cell_type": "code",
   "execution_count": 14,
   "id": "914d866a",
   "metadata": {},
   "outputs": [],
   "source": [
    "def year(x):\n",
    "    return x.split(' ')[0]\n",
    "\n",
    "final_df['total_no_of_years']=final_df['old_in_years'].apply(year)"
   ]
  },
  {
   "cell_type": "code",
   "execution_count": 15,
   "id": "3cf435e7",
   "metadata": {},
   "outputs": [],
   "source": [
    "def hq(x):\n",
    "    return x.split('+')[0]\n",
    "\n",
    "final_df['Hq']=final_df['location'].apply(hq)\n",
    "\n",
    "final_df.drop('old_in_years', axis=1, inplace=True)"
   ]
  },
  {
   "cell_type": "code",
   "execution_count": 16,
   "id": "3bdf67fc",
   "metadata": {},
   "outputs": [
    {
     "data": {
      "text/html": [
       "<div>\n",
       "<style scoped>\n",
       "    .dataframe tbody tr th:only-of-type {\n",
       "        vertical-align: middle;\n",
       "    }\n",
       "\n",
       "    .dataframe tbody tr th {\n",
       "        vertical-align: top;\n",
       "    }\n",
       "\n",
       "    .dataframe thead th {\n",
       "        text-align: right;\n",
       "    }\n",
       "</style>\n",
       "<table border=\"1\" class=\"dataframe\">\n",
       "  <thead>\n",
       "    <tr style=\"text-align: right;\">\n",
       "      <th></th>\n",
       "      <th>name</th>\n",
       "      <th>rating</th>\n",
       "      <th>review</th>\n",
       "      <th>ctype</th>\n",
       "      <th>location</th>\n",
       "      <th>employees</th>\n",
       "      <th>total_no_of_years</th>\n",
       "      <th>Hq</th>\n",
       "    </tr>\n",
       "  </thead>\n",
       "  <tbody>\n",
       "    <tr>\n",
       "      <th>0</th>\n",
       "      <td>TCS</td>\n",
       "      <td>3.9</td>\n",
       "      <td>50.7k</td>\n",
       "      <td>Public</td>\n",
       "      <td>Mumbai,Maharashtra + 270 more</td>\n",
       "      <td>1 Lakh+ Employees (India)</td>\n",
       "      <td>55</td>\n",
       "      <td>Mumbai,Maharashtra</td>\n",
       "    </tr>\n",
       "    <tr>\n",
       "      <th>1</th>\n",
       "      <td>Accenture</td>\n",
       "      <td>4.1</td>\n",
       "      <td>32.4k</td>\n",
       "      <td>Public</td>\n",
       "      <td>Dublin + 131 more</td>\n",
       "      <td>1 Lakh+ Employees (India)</td>\n",
       "      <td>34</td>\n",
       "      <td>Dublin</td>\n",
       "    </tr>\n",
       "    <tr>\n",
       "      <th>2</th>\n",
       "      <td>Cognizant</td>\n",
       "      <td>4.0</td>\n",
       "      <td>29.8k</td>\n",
       "      <td>Private</td>\n",
       "      <td>Teaneck. New Jersey. + 101 more</td>\n",
       "      <td>1 Lakh+ Employees (India)</td>\n",
       "      <td>29</td>\n",
       "      <td>Teaneck. New Jersey.</td>\n",
       "    </tr>\n",
       "    <tr>\n",
       "      <th>3</th>\n",
       "      <td>ICICI Bank</td>\n",
       "      <td>4.0</td>\n",
       "      <td>33.7k</td>\n",
       "      <td>Public</td>\n",
       "      <td>Mumbai,Maharashtra + 1057 more</td>\n",
       "      <td>1 Lakh+ Employees (India)</td>\n",
       "      <td>29</td>\n",
       "      <td>Mumbai,Maharashtra</td>\n",
       "    </tr>\n",
       "    <tr>\n",
       "      <th>4</th>\n",
       "      <td>HDFC Bank</td>\n",
       "      <td>4.0</td>\n",
       "      <td>39.5k</td>\n",
       "      <td>Public</td>\n",
       "      <td>Mumbai,Maharashtra + 1254 more</td>\n",
       "      <td>50k-1 Lakh Employees (India)</td>\n",
       "      <td>29</td>\n",
       "      <td>Mumbai,Maharashtra</td>\n",
       "    </tr>\n",
       "  </tbody>\n",
       "</table>\n",
       "</div>"
      ],
      "text/plain": [
       "         name rating review    ctype                         location  \\\n",
       "0         TCS    3.9  50.7k   Public    Mumbai,Maharashtra + 270 more   \n",
       "1   Accenture    4.1  32.4k   Public                Dublin + 131 more   \n",
       "2   Cognizant    4.0  29.8k  Private  Teaneck. New Jersey. + 101 more   \n",
       "3  ICICI Bank    4.0  33.7k   Public   Mumbai,Maharashtra + 1057 more   \n",
       "4   HDFC Bank    4.0  39.5k   Public   Mumbai,Maharashtra + 1254 more   \n",
       "\n",
       "                      employees total_no_of_years                     Hq  \n",
       "0     1 Lakh+ Employees (India)                55    Mumbai,Maharashtra   \n",
       "1     1 Lakh+ Employees (India)                34                Dublin   \n",
       "2     1 Lakh+ Employees (India)                29  Teaneck. New Jersey.   \n",
       "3     1 Lakh+ Employees (India)                29    Mumbai,Maharashtra   \n",
       "4  50k-1 Lakh Employees (India)                29    Mumbai,Maharashtra   "
      ]
     },
     "execution_count": 16,
     "metadata": {},
     "output_type": "execute_result"
    }
   ],
   "source": [
    "final_df.head()"
   ]
  },
  {
   "cell_type": "code",
   "execution_count": 17,
   "id": "24d8bbbe",
   "metadata": {},
   "outputs": [
    {
     "name": "stdout",
     "output_type": "stream",
     "text": [
      "<class 'pandas.core.frame.DataFrame'>\n",
      "Int64Index: 4040 entries, 0 to 4468\n",
      "Data columns (total 8 columns):\n",
      " #   Column             Non-Null Count  Dtype \n",
      "---  ------             --------------  ----- \n",
      " 0   name               4040 non-null   object\n",
      " 1   rating             4040 non-null   object\n",
      " 2   review             4040 non-null   object\n",
      " 3   ctype              4040 non-null   object\n",
      " 4   location           4040 non-null   object\n",
      " 5   employees          4040 non-null   object\n",
      " 6   total_no_of_years  4040 non-null   object\n",
      " 7   Hq                 4040 non-null   object\n",
      "dtypes: object(8)\n",
      "memory usage: 284.1+ KB\n"
     ]
    }
   ],
   "source": [
    "final_df.info()"
   ]
  },
  {
   "cell_type": "code",
   "execution_count": 18,
   "id": "b16bc820",
   "metadata": {},
   "outputs": [],
   "source": [
    "final_df['rating']=final_df['rating'].astype('float')\n",
    "final_df['total_no_of_years']=final_df['total_no_of_years'].astype('int')"
   ]
  },
  {
   "cell_type": "code",
   "execution_count": 19,
   "id": "287ffb60",
   "metadata": {},
   "outputs": [],
   "source": [
    "final_df.rename(columns={'name':'Company_name', 'review':'Reviews','rating':'Rating', 'ctype':'Company_type','location':'Total_Locations', 'employees':'Employees','total_no_of_years':'Total_no_of_years'}, inplace=True)"
   ]
  },
  {
   "cell_type": "code",
   "execution_count": 20,
   "id": "fbf77619",
   "metadata": {},
   "outputs": [
    {
     "data": {
      "text/html": [
       "<div>\n",
       "<style scoped>\n",
       "    .dataframe tbody tr th:only-of-type {\n",
       "        vertical-align: middle;\n",
       "    }\n",
       "\n",
       "    .dataframe tbody tr th {\n",
       "        vertical-align: top;\n",
       "    }\n",
       "\n",
       "    .dataframe thead th {\n",
       "        text-align: right;\n",
       "    }\n",
       "</style>\n",
       "<table border=\"1\" class=\"dataframe\">\n",
       "  <thead>\n",
       "    <tr style=\"text-align: right;\">\n",
       "      <th></th>\n",
       "      <th>Company_name</th>\n",
       "      <th>Rating</th>\n",
       "      <th>Reviews</th>\n",
       "      <th>Company_type</th>\n",
       "      <th>Total_Locations</th>\n",
       "      <th>Employees</th>\n",
       "      <th>Total_no_of_years</th>\n",
       "      <th>Hq</th>\n",
       "    </tr>\n",
       "  </thead>\n",
       "  <tbody>\n",
       "    <tr>\n",
       "      <th>0</th>\n",
       "      <td>TCS</td>\n",
       "      <td>3.9</td>\n",
       "      <td>50.7k</td>\n",
       "      <td>Public</td>\n",
       "      <td>Mumbai,Maharashtra + 270 more</td>\n",
       "      <td>1 Lakh+ Employees (India)</td>\n",
       "      <td>55</td>\n",
       "      <td>Mumbai,Maharashtra</td>\n",
       "    </tr>\n",
       "    <tr>\n",
       "      <th>1</th>\n",
       "      <td>Accenture</td>\n",
       "      <td>4.1</td>\n",
       "      <td>32.4k</td>\n",
       "      <td>Public</td>\n",
       "      <td>Dublin + 131 more</td>\n",
       "      <td>1 Lakh+ Employees (India)</td>\n",
       "      <td>34</td>\n",
       "      <td>Dublin</td>\n",
       "    </tr>\n",
       "    <tr>\n",
       "      <th>2</th>\n",
       "      <td>Cognizant</td>\n",
       "      <td>4.0</td>\n",
       "      <td>29.8k</td>\n",
       "      <td>Private</td>\n",
       "      <td>Teaneck. New Jersey. + 101 more</td>\n",
       "      <td>1 Lakh+ Employees (India)</td>\n",
       "      <td>29</td>\n",
       "      <td>Teaneck. New Jersey.</td>\n",
       "    </tr>\n",
       "    <tr>\n",
       "      <th>3</th>\n",
       "      <td>ICICI Bank</td>\n",
       "      <td>4.0</td>\n",
       "      <td>33.7k</td>\n",
       "      <td>Public</td>\n",
       "      <td>Mumbai,Maharashtra + 1057 more</td>\n",
       "      <td>1 Lakh+ Employees (India)</td>\n",
       "      <td>29</td>\n",
       "      <td>Mumbai,Maharashtra</td>\n",
       "    </tr>\n",
       "    <tr>\n",
       "      <th>4</th>\n",
       "      <td>HDFC Bank</td>\n",
       "      <td>4.0</td>\n",
       "      <td>39.5k</td>\n",
       "      <td>Public</td>\n",
       "      <td>Mumbai,Maharashtra + 1254 more</td>\n",
       "      <td>50k-1 Lakh Employees (India)</td>\n",
       "      <td>29</td>\n",
       "      <td>Mumbai,Maharashtra</td>\n",
       "    </tr>\n",
       "  </tbody>\n",
       "</table>\n",
       "</div>"
      ],
      "text/plain": [
       "  Company_name  Rating Reviews Company_type                  Total_Locations  \\\n",
       "0          TCS     3.9   50.7k       Public    Mumbai,Maharashtra + 270 more   \n",
       "1    Accenture     4.1   32.4k       Public                Dublin + 131 more   \n",
       "2    Cognizant     4.0   29.8k      Private  Teaneck. New Jersey. + 101 more   \n",
       "3   ICICI Bank     4.0   33.7k       Public   Mumbai,Maharashtra + 1057 more   \n",
       "4    HDFC Bank     4.0   39.5k       Public   Mumbai,Maharashtra + 1254 more   \n",
       "\n",
       "                      Employees  Total_no_of_years                     Hq  \n",
       "0     1 Lakh+ Employees (India)                 55    Mumbai,Maharashtra   \n",
       "1     1 Lakh+ Employees (India)                 34                Dublin   \n",
       "2     1 Lakh+ Employees (India)                 29  Teaneck. New Jersey.   \n",
       "3     1 Lakh+ Employees (India)                 29    Mumbai,Maharashtra   \n",
       "4  50k-1 Lakh Employees (India)                 29    Mumbai,Maharashtra   "
      ]
     },
     "execution_count": 20,
     "metadata": {},
     "output_type": "execute_result"
    }
   ],
   "source": [
    "final_df.head()"
   ]
  },
  {
   "cell_type": "code",
   "execution_count": 26,
   "id": "86a34947",
   "metadata": {},
   "outputs": [
    {
     "data": {
      "text/plain": [
       "Mumbai,Maharashtra                   562\n",
       "Bangalore/Bengaluru,Karnataka        179\n",
       "Chennai,Tamil Nadu                   178\n",
       "Gurgaon/Gurugram,Haryana             171\n",
       "Hyderabad/Secunderabad,Telangana     147\n",
       "Delhi/NCR,Delhi                      131\n",
       "Noida,Uttar Pradesh                  129\n",
       "Mumbai                               117\n",
       "Pune,Maharashtra                     105\n",
       "Kolkata,West Bengal                  102\n",
       "Delhi/NCR,New Delhi                   85\n",
       "Bangalore,Karnataka                   83\n",
       "Gurgaon,Haryana                       50\n",
       "Ahmedabad,Gujarat                     48\n",
       "New Delhi                             46\n",
       "London                                44\n",
       "Pune                                  35\n",
       "Gurgaon                               33\n",
       "Noida                                 29\n",
       "Hyderabad                             28\n",
       "Name: Hq, dtype: int64"
      ]
     },
     "execution_count": 26,
     "metadata": {},
     "output_type": "execute_result"
    }
   ],
   "source": [
    "final_df['Hq'].value_counts()[0:20]"
   ]
  },
  {
   "cell_type": "code",
   "execution_count": null,
   "id": "4d052552",
   "metadata": {},
   "outputs": [],
   "source": []
  },
  {
   "cell_type": "code",
   "execution_count": 33,
   "id": "c65ecc52",
   "metadata": {},
   "outputs": [
    {
     "data": {
      "text/plain": [
       "Mumbai,Maharashtra                   701\n",
       "Delhi/NCR,Delhi                      313\n",
       "Bengaluru,Karnataka                  312\n",
       "Gurgaon,Haryana                      273\n",
       "Chennai,Tamil Nadu                   208\n",
       "Noida,Uttar Pradesh                  164\n",
       "Hyderabad/Secunderabad,Telangana     147\n",
       "Pune,Maharashtra                     143\n",
       "Kolkata,West Bengal                  102\n",
       "Ahmedabad,Gujarat                     86\n",
       "New York City,New York                52\n",
       "London,England                        49\n",
       "Hyderabad,Telangana                   35\n",
       "Faridabad,Haryana                     26\n",
       "Dubai ,UAE                            24\n",
       "Paris,France                          24\n",
       "Jaipur,Rajasthan                      22\n",
       "Tokyo,Japan                           20\n",
       "San Jose,California                   19\n",
       "West Bengal,Kolkata                   18\n",
       "Name: Hq, dtype: int64"
      ]
     },
     "execution_count": 33,
     "metadata": {},
     "output_type": "execute_result"
    }
   ],
   "source": [
    "# since we can see some of the places are same but are differently spelt, so we have to correct the spelling to perform proper data visualizations\n",
    "\n",
    "final_df.replace('Mumbai ', 'Mumbai,Maharashtra ', inplace=True)\n",
    "final_df.replace('Navi Mumbai ', 'Mumbai,Maharashtra ', inplace=True)\n",
    "final_df.replace('Bengaluru/Bangalore,Karnataka ', 'Bengaluru,Karnataka ', inplace=True)\n",
    "final_df.replace('Bengaluru ', 'Bengaluru,Karnataka ', inplace=True)\n",
    "final_df.replace('Bangalore,Karnataka ', 'Bengaluru,Karnataka ', inplace=True)\n",
    "final_df.replace('Karnataka ', 'Bengaluru,Karnataka ', inplace=True)\n",
    "final_df.replace('Bangalore/Bengaluru,Karnataka ', 'Bengaluru,Karnataka ', inplace=True)\n",
    "final_df.replace('Bangalore ', 'Bengaluru,Karnataka ',inplace=True)\n",
    "final_df.replace('Bengaluru/Bangalore ', 'Bengaluru,Karnataka ', inplace=True)\n",
    "final_df.replace('Noida ', 'Noida,Uttar Pradesh ', inplace=True)\n",
    "final_df.replace('Greater Noida,Uttar Pradesh ', 'Noida,Uttar Pradesh ', inplace=True)\n",
    "final_df.replace('Navi Mumbai,Maharashtra ', 'Mumbai,Maharashtra ', inplace=True)\n",
    "final_df.replace('Navi Mumbai ', 'Mumbai,Maharashtra ', inplace=True)\n",
    "final_df.replace('Nashik ', 'Nashik,Maharashtra ', inplace=True)\n",
    "final_df.replace('Nasik/Nashik,Maharashtra ', 'Nashik,Maharashtra ', inplace=True)\n",
    "final_df.replace('Gurgaon/Gurugram,Haryana ', 'Gurgaon,Haryana ', inplace=True)\n",
    "final_df.replace('Gurgaon ', 'Gurgaon,Haryana ', inplace=True)\n",
    "final_df.replace('GURGAON ', 'Gurgaon,Haryana ', inplace=True)\n",
    "final_df.replace('Gurgram ', 'Gurgaon,Haryana ', inplace=True)\n",
    "final_df.replace('Gurgaon/Gurugram,Haryana', 'Gurgaon,Haryana ', inplace=True)\n",
    "final_df.replace('Gurugram ','Gurgaon,Haryana ', inplace=True)\n",
    "final_df.replace('Gurgaon/Gurugram ','Gurgaon,Haryana ', inplace=True)\n",
    "final_df.replace('Faridabad ','Faridabad,Haryana ', inplace=True)\n",
    "final_df.replace('Ahmedabad,Gujrat ', 'Ahmedabad,Gujarat ',inplace=True)\n",
    "final_df.replace('Ahmedabad ', 'Ahmedabad,Gujarat ',inplace=True)\n",
    "final_df.replace('Ahemdabad ', 'Ahmedabad,Gujarat ',inplace=True)\n",
    "final_df.replace('Ahmedabad,\\xa0India ', 'Ahmedabad,Gujarat ',inplace=True)\n",
    "final_df.replace('Gujrat ', 'Ahmedabad,Gujarat ',inplace=True)\n",
    "final_df.replace('New York,New York ','New York City,New York ', inplace=True)\n",
    "final_df.replace('New York,New York, ','New York City,New York ', inplace=True)\n",
    "final_df.replace('New York ','New York City,New York ', inplace=True)\n",
    "final_df.replace('New York','New York City,New York ', inplace=True)\n",
    "final_df.replace('New York,NY ','New York City,New York ', inplace=True)\n",
    "final_df.replace('Purchase,New York ','New York City,New York ', inplace=True)\n",
    "final_df.replace('Chennai ', 'Chennai,Tamil Nadu ', inplace=True)\n",
    "final_df.replace('Chennai', 'Chennai,Tamil Nadu ', inplace=True)\n",
    "final_df.replace('Chennai,Tamil Nadu', 'Chennai,Tamil Nadu ', inplace=True)\n",
    "final_df.replace('Paris ', 'Paris,France ', inplace=True)\n",
    "final_df.replace('Paris,Ile de France ', 'Paris,France ', inplace=True)\n",
    "final_df.replace('Paris,√éle-de-France ', 'Paris,France ', inplace=True)\n",
    "final_df.replace('Paris,Ile-de-France ', 'Paris,France ', inplace=True)\n",
    "final_df.replace('Delhi,NCT ', 'Delhi/NCR,Delhi ', inplace=True)\n",
    "final_df.replace('New Delhi', 'Delhi/NCR,Delhi ', inplace=True)\n",
    "final_df.replace('New Delhi,Delhi ', 'Delhi/NCR,Delhi ', inplace=True)\n",
    "final_df.replace('Delhi/NCR,New Delhi ', 'Delhi/NCR,Delhi ', inplace=True)\n",
    "final_df.replace('New Delhi ', 'Delhi/NCR,Delhi ', inplace=True)\n",
    "final_df.replace('Delhi ', 'Delhi/NCR,Delhi ', inplace=True)\n",
    "final_df.replace('New Delhi,New Delhi ', 'Delhi/NCR,Delhi ', inplace=True)\n",
    "final_df.replace('Pune ', 'Pune,Maharashtra ', inplace=True)\n",
    "final_df.replace('Lonavla ', 'Pune,Maharashtra ', inplace=True)\n",
    "final_df.replace('Pune', 'Pune,Maharashtra ', inplace=True)\n",
    "final_df.replace('Pune,Indore ', 'Pune,Maharashtra ', inplace=True)\n",
    "final_df.replace('Osaka ', 'Osaka,Japan ', inplace=True)\n",
    "final_df.replace('Geneva,Geneva ', 'Geneva,Switzerland ', inplace=True)\n",
    "final_df.replace('Abu Dhabi,Abu Dhabi ', 'Abu Dhabi,UAE ', inplace=True)\n",
    "final_df.replace('Al Ain,Abu Dhabi ', 'Abu Dhabi,UAE ', inplace=True)\n",
    "final_df.replace('Abu Dhabi ', 'Abu Dhabi,UAE ', inplace=True)\n",
    "final_df.replace('Kolkata ', 'West Bengal,Kolkata ', inplace=True)\n",
    "final_df.replace('Kolkata,India ', 'West Bengal,Kolkata ', inplace=True)\n",
    "final_df.replace('Kolkata,West Bengal', 'West Bengal,Kolkata ', inplace=True)\n",
    "final_df.replace('Hyderabad ', 'Hyderabad,Telangana ', inplace=True)\n",
    "final_df.replace('Hyderabad/Secunderabad ', 'Hyderabad,Telangana ', inplace=True)\n",
    "final_df.replace('Tokyo,Tokyo-to ', 'Tokyo,Japan ', inplace=True)\n",
    "final_df.replace('Tokyo,Tokyo ', 'Tokyo,Japan ', inplace=True)\n",
    "final_df.replace('Tokyo ', 'Tokyo,Japan ', inplace=True)\n",
    "final_df.replace('Toyota City,Aichi Prefecture ', 'Tokyo,Japan ', inplace=True)\n",
    "final_df.replace('London,London ', 'London,England ', inplace=True)\n",
    "final_df.replace('London ', 'London,England ', inplace=True)\n",
    "final_df.replace('Dubai,Dubai ', 'Dubai ,UAE ', inplace=True)\n",
    "final_df.replace('Dubai ', 'Dubai ,UAE ', inplace=True)\n",
    "final_df.replace('Ota City,Tokyo ', 'Tokyo,Japan ', inplace=True)\n",
    "final_df.replace('Jodhpur ', 'Jodhpur, Rajasthan ', inplace=True)\n",
    "\n",
    "final_df['Hq'].value_counts()[0:20]"
   ]
  },
  {
   "cell_type": "markdown",
   "id": "e4576952",
   "metadata": {},
   "source": [
    "### To find Outliers"
   ]
  },
  {
   "cell_type": "code",
   "execution_count": 72,
   "id": "0b15c6f4",
   "metadata": {},
   "outputs": [
    {
     "data": {
      "text/plain": [
       "array([ 55,  34,  29,  78,  42,  56,  37,  26,  32,  30, 112,  40,  16,\n",
       "        77,   5,  45,  17,  20, 178,  50,  28,  12,  27,   6,  23,  21,\n",
       "       147,  25,  88,  19,   7,  81,  35,  24, 128,  36,  11,  13,  90,\n",
       "        48,  22, 171,  71,  44, 158,  75,  14, 176,   8, 116,  33,  41,\n",
       "        46,  10,  39, 137,  79,  43,  74,  85, 117, 126, 122, 120,  84,\n",
       "       136,  63,  65,  15,   9,  38,  69,  31,  64,  91,  47, 173, 153,\n",
       "        99,  93,  92,  68,  54, 119,  52,  80,  87,  18, 100, 139,  51,\n",
       "        49, 114,  67,  76, 159,  59, 131,  98, 231,  57,  82,  96,  86,\n",
       "         3,  61,  94,  73, 177, 103,  66,  72,  53, 333,  62, 358, 195,\n",
       "        83,  89, 106, 145, 211, 186, 113, 115,  97,  70, 105, 104, 134,\n",
       "        95, 160, 170, 175,  58,  60, 111, 167, 152, 157, 124,   4, 142,\n",
       "       135, 101, 129, 141, 161, 164, 125, 166, 221, 150, 107, 163, 108,\n",
       "       133, 127, 144, 121, 185, 169, 265,   1, 154, 102, 208, 189, 203,\n",
       "       184, 123, 190, 235, 156, 182, 132, 199, 138, 206, 140, 174,   2,\n",
       "       259, 181, 110, 187, 130, 263, 109, 180, 148, 172, 151, 248, 118,\n",
       "       258, 149, 545])"
      ]
     },
     "execution_count": 72,
     "metadata": {},
     "output_type": "execute_result"
    }
   ],
   "source": [
    "final_df['Total_no_of_years'].unique()"
   ]
  },
  {
   "cell_type": "code",
   "execution_count": 53,
   "id": "0b81a1b3",
   "metadata": {},
   "outputs": [
    {
     "data": {
      "text/html": [
       "<div>\n",
       "<style scoped>\n",
       "    .dataframe tbody tr th:only-of-type {\n",
       "        vertical-align: middle;\n",
       "    }\n",
       "\n",
       "    .dataframe tbody tr th {\n",
       "        vertical-align: top;\n",
       "    }\n",
       "\n",
       "    .dataframe thead th {\n",
       "        text-align: right;\n",
       "    }\n",
       "</style>\n",
       "<table border=\"1\" class=\"dataframe\">\n",
       "  <thead>\n",
       "    <tr style=\"text-align: right;\">\n",
       "      <th></th>\n",
       "      <th>Company_name</th>\n",
       "      <th>Rating</th>\n",
       "      <th>Reviews</th>\n",
       "      <th>Company_type</th>\n",
       "      <th>Total_Locations</th>\n",
       "      <th>Employees</th>\n",
       "      <th>Total_no_of_years</th>\n",
       "      <th>Hq</th>\n",
       "    </tr>\n",
       "  </thead>\n",
       "  <tbody>\n",
       "    <tr>\n",
       "      <th>1162</th>\n",
       "      <td>Prodapt Solution...</td>\n",
       "      <td>3.9</td>\n",
       "      <td>429</td>\n",
       "      <td>Private</td>\n",
       "      <td>Chennai,Tamil Nadu + 7 more</td>\n",
       "      <td>1k-5k Employees (India)</td>\n",
       "      <td>2023</td>\n",
       "      <td>Chennai,Tamil Nadu</td>\n",
       "    </tr>\n",
       "    <tr>\n",
       "      <th>1274</th>\n",
       "      <td>TDK India</td>\n",
       "      <td>4.0</td>\n",
       "      <td>393</td>\n",
       "      <td>Private</td>\n",
       "      <td>Nashik + 19 more</td>\n",
       "      <td>1k-5k Employees (India)</td>\n",
       "      <td>2023</td>\n",
       "      <td>Nashik,Maharashtra</td>\n",
       "    </tr>\n",
       "  </tbody>\n",
       "</table>\n",
       "</div>"
      ],
      "text/plain": [
       "             Company_name  Rating Reviews Company_type  \\\n",
       "1162  Prodapt Solution...     3.9     429      Private   \n",
       "1274            TDK India     4.0     393      Private   \n",
       "\n",
       "                  Total_Locations                Employees  Total_no_of_years  \\\n",
       "1162  Chennai,Tamil Nadu + 7 more  1k-5k Employees (India)               2023   \n",
       "1274             Nashik + 19 more  1k-5k Employees (India)               2023   \n",
       "\n",
       "                       Hq  \n",
       "1162  Chennai,Tamil Nadu   \n",
       "1274  Nashik,Maharashtra   "
      ]
     },
     "execution_count": 53,
     "metadata": {},
     "output_type": "execute_result"
    }
   ],
   "source": [
    "# replacing the values with the correct ones \n",
    "\n",
    "final_df.loc[final_df['Total_no_of_years']==2023]\n",
    "\n",
    "\n",
    "final_df.loc[[1162, 1274],['Total_no_of_years']]=[23, 46]\n"
   ]
  },
  {
   "cell_type": "code",
   "execution_count": 58,
   "id": "1668aa94",
   "metadata": {},
   "outputs": [
    {
     "data": {
      "text/html": [
       "<div>\n",
       "<style scoped>\n",
       "    .dataframe tbody tr th:only-of-type {\n",
       "        vertical-align: middle;\n",
       "    }\n",
       "\n",
       "    .dataframe tbody tr th {\n",
       "        vertical-align: top;\n",
       "    }\n",
       "\n",
       "    .dataframe thead th {\n",
       "        text-align: right;\n",
       "    }\n",
       "</style>\n",
       "<table border=\"1\" class=\"dataframe\">\n",
       "  <thead>\n",
       "    <tr style=\"text-align: right;\">\n",
       "      <th></th>\n",
       "      <th>Company_name</th>\n",
       "      <th>Rating</th>\n",
       "      <th>Reviews</th>\n",
       "      <th>Company_type</th>\n",
       "      <th>Total_Locations</th>\n",
       "      <th>Employees</th>\n",
       "      <th>Total_no_of_years</th>\n",
       "      <th>Hq</th>\n",
       "    </tr>\n",
       "  </thead>\n",
       "  <tbody>\n",
       "    <tr>\n",
       "      <th>3305</th>\n",
       "      <td>Merck Life Scien...</td>\n",
       "      <td>4.2</td>\n",
       "      <td>161</td>\n",
       "      <td>Private</td>\n",
       "      <td>Mumbai + 12 more</td>\n",
       "      <td>1k-5k Employees (India)</td>\n",
       "      <td>355</td>\n",
       "      <td>Mumbai,Maharashtra</td>\n",
       "    </tr>\n",
       "  </tbody>\n",
       "</table>\n",
       "</div>"
      ],
      "text/plain": [
       "             Company_name  Rating Reviews Company_type   Total_Locations  \\\n",
       "3305  Merck Life Scien...     4.2     161      Private  Mumbai + 12 more   \n",
       "\n",
       "                    Employees  Total_no_of_years                   Hq  \n",
       "3305  1k-5k Employees (India)                355  Mumbai,Maharashtra   "
      ]
     },
     "execution_count": 58,
     "metadata": {},
     "output_type": "execute_result"
    }
   ],
   "source": [
    "final_df.loc[final_df['Total_no_of_years']==355]\n",
    "\n",
    "final_df.loc[[3305],['Total_no_of_years']]=[36]"
   ]
  },
  {
   "cell_type": "code",
   "execution_count": 60,
   "id": "9f39bb3c",
   "metadata": {},
   "outputs": [
    {
     "data": {
      "text/html": [
       "<div>\n",
       "<style scoped>\n",
       "    .dataframe tbody tr th:only-of-type {\n",
       "        vertical-align: middle;\n",
       "    }\n",
       "\n",
       "    .dataframe tbody tr th {\n",
       "        vertical-align: top;\n",
       "    }\n",
       "\n",
       "    .dataframe thead th {\n",
       "        text-align: right;\n",
       "    }\n",
       "</style>\n",
       "<table border=\"1\" class=\"dataframe\">\n",
       "  <thead>\n",
       "    <tr style=\"text-align: right;\">\n",
       "      <th></th>\n",
       "      <th>Company_name</th>\n",
       "      <th>Rating</th>\n",
       "      <th>Reviews</th>\n",
       "      <th>Company_type</th>\n",
       "      <th>Total_Locations</th>\n",
       "      <th>Employees</th>\n",
       "      <th>Total_no_of_years</th>\n",
       "      <th>Hq</th>\n",
       "    </tr>\n",
       "  </thead>\n",
       "  <tbody>\n",
       "    <tr>\n",
       "      <th>2840</th>\n",
       "      <td>Refinitiv</td>\n",
       "      <td>4.1</td>\n",
       "      <td>184</td>\n",
       "      <td>Private</td>\n",
       "      <td>London,England + 1 more</td>\n",
       "      <td>51-200 Employees (India)</td>\n",
       "      <td>325</td>\n",
       "      <td>London,England</td>\n",
       "    </tr>\n",
       "    <tr>\n",
       "      <th>2937</th>\n",
       "      <td>London Stock Exc...</td>\n",
       "      <td>4.2</td>\n",
       "      <td>361</td>\n",
       "      <td>Private</td>\n",
       "      <td>London + 3 more</td>\n",
       "      <td>5k-10k Employees (India)</td>\n",
       "      <td>325</td>\n",
       "      <td>London,England</td>\n",
       "    </tr>\n",
       "  </tbody>\n",
       "</table>\n",
       "</div>"
      ],
      "text/plain": [
       "             Company_name  Rating Reviews Company_type  \\\n",
       "2840            Refinitiv     4.1     184      Private   \n",
       "2937  London Stock Exc...     4.2     361      Private   \n",
       "\n",
       "              Total_Locations                 Employees  Total_no_of_years  \\\n",
       "2840  London,England + 1 more  51-200 Employees (India)                325   \n",
       "2937          London + 3 more  5k-10k Employees (India)                325   \n",
       "\n",
       "                   Hq  \n",
       "2840  London,England   \n",
       "2937  London,England   "
      ]
     },
     "execution_count": 60,
     "metadata": {},
     "output_type": "execute_result"
    }
   ],
   "source": [
    "final_df.loc[final_df['Total_no_of_years']==325]\n",
    "\n",
    "final_df.loc[[2840, 2937],['Total_no_of_years']]=[221, 221]"
   ]
  },
  {
   "cell_type": "code",
   "execution_count": 62,
   "id": "8fdc4183",
   "metadata": {},
   "outputs": [
    {
     "data": {
      "text/html": [
       "<div>\n",
       "<style scoped>\n",
       "    .dataframe tbody tr th:only-of-type {\n",
       "        vertical-align: middle;\n",
       "    }\n",
       "\n",
       "    .dataframe tbody tr th {\n",
       "        vertical-align: top;\n",
       "    }\n",
       "\n",
       "    .dataframe thead th {\n",
       "        text-align: right;\n",
       "    }\n",
       "</style>\n",
       "<table border=\"1\" class=\"dataframe\">\n",
       "  <thead>\n",
       "    <tr style=\"text-align: right;\">\n",
       "      <th></th>\n",
       "      <th>Company_name</th>\n",
       "      <th>Rating</th>\n",
       "      <th>Reviews</th>\n",
       "      <th>Company_type</th>\n",
       "      <th>Total_Locations</th>\n",
       "      <th>Employees</th>\n",
       "      <th>Total_no_of_years</th>\n",
       "      <th>Hq</th>\n",
       "    </tr>\n",
       "  </thead>\n",
       "  <tbody>\n",
       "    <tr>\n",
       "      <th>910</th>\n",
       "      <td>Aviva Life Insur...</td>\n",
       "      <td>4.1</td>\n",
       "      <td>540</td>\n",
       "      <td>JV</td>\n",
       "      <td>London + 83 more</td>\n",
       "      <td>1k-5k Employees (India)</td>\n",
       "      <td>327</td>\n",
       "      <td>London,England</td>\n",
       "    </tr>\n",
       "  </tbody>\n",
       "</table>\n",
       "</div>"
      ],
      "text/plain": [
       "            Company_name  Rating Reviews Company_type   Total_Locations  \\\n",
       "910  Aviva Life Insur...     4.1     540           JV  London + 83 more   \n",
       "\n",
       "                   Employees  Total_no_of_years               Hq  \n",
       "910  1k-5k Employees (India)                327  London,England   "
      ]
     },
     "execution_count": 62,
     "metadata": {},
     "output_type": "execute_result"
    }
   ],
   "source": [
    "final_df.loc[final_df['Total_no_of_years']==327]\n",
    "\n",
    "final_df.loc[[910],['Total_no_of_years']]=[20]"
   ]
  },
  {
   "cell_type": "code",
   "execution_count": 76,
   "id": "efed9519",
   "metadata": {},
   "outputs": [
    {
     "data": {
      "text/html": [
       "<div>\n",
       "<style scoped>\n",
       "    .dataframe tbody tr th:only-of-type {\n",
       "        vertical-align: middle;\n",
       "    }\n",
       "\n",
       "    .dataframe tbody tr th {\n",
       "        vertical-align: top;\n",
       "    }\n",
       "\n",
       "    .dataframe thead th {\n",
       "        text-align: right;\n",
       "    }\n",
       "</style>\n",
       "<table border=\"1\" class=\"dataframe\">\n",
       "  <thead>\n",
       "    <tr style=\"text-align: right;\">\n",
       "      <th></th>\n",
       "      <th>Company_name</th>\n",
       "      <th>Rating</th>\n",
       "      <th>Reviews</th>\n",
       "      <th>Company_type</th>\n",
       "      <th>Total_Locations</th>\n",
       "      <th>Employees</th>\n",
       "      <th>Total_no_of_years</th>\n",
       "      <th>Hq</th>\n",
       "    </tr>\n",
       "  </thead>\n",
       "  <tbody>\n",
       "    <tr>\n",
       "      <th>1944</th>\n",
       "      <td>Lafarge</td>\n",
       "      <td>4.1</td>\n",
       "      <td>261</td>\n",
       "      <td>Private</td>\n",
       "      <td>Paris + 68 more</td>\n",
       "      <td>201-500 Employees (India)</td>\n",
       "      <td>190</td>\n",
       "      <td>Paris,France</td>\n",
       "    </tr>\n",
       "  </tbody>\n",
       "</table>\n",
       "</div>"
      ],
      "text/plain": [
       "     Company_name  Rating Reviews Company_type  Total_Locations  \\\n",
       "1944      Lafarge     4.1     261      Private  Paris + 68 more   \n",
       "\n",
       "                      Employees  Total_no_of_years             Hq  \n",
       "1944  201-500 Employees (India)                190  Paris,France   "
      ]
     },
     "execution_count": 76,
     "metadata": {},
     "output_type": "execute_result"
    }
   ],
   "source": [
    "final_df.loc[final_df['Total_no_of_years']==190]"
   ]
  },
  {
   "cell_type": "code",
   "execution_count": null,
   "id": "2829ba83",
   "metadata": {},
   "outputs": [],
   "source": []
  },
  {
   "cell_type": "code",
   "execution_count": 35,
   "id": "cada3841",
   "metadata": {},
   "outputs": [
    {
     "name": "stderr",
     "output_type": "stream",
     "text": [
      "C:\\ProgramData\\Anaconda3\\lib\\site-packages\\seaborn\\distributions.py:2619: FutureWarning: `distplot` is a deprecated function and will be removed in a future version. Please adapt your code to use either `displot` (a figure-level function with similar flexibility) or `histplot` (an axes-level function for histograms).\n",
      "  warnings.warn(msg, FutureWarning)\n"
     ]
    },
    {
     "data": {
      "image/png": "[encoded data removed]",
      "text/plain": [
       "<Figure size 864x720 with 1 Axes>"
      ]
     },
     "metadata": {
      "needs_background": "light"
     },
     "output_type": "display_data"
    },
    {
     "data": {
      "text/plain": [
       "count    4040.000000\n",
       "mean        3.960668\n",
       "std         0.322108\n",
       "min         2.400000\n",
       "25%         3.800000\n",
       "50%         4.000000\n",
       "75%         4.200000\n",
       "max         5.000000\n",
       "Name: Rating, dtype: float64"
      ]
     },
     "execution_count": 35,
     "metadata": {},
     "output_type": "execute_result"
    }
   ],
   "source": [
    "# since the data is a little left skewed, but this can be ignored as the all the values lies within the range .\n",
    "\n",
    "plt.figure(figsize=(12,10))\n",
    "plt.subplot(121)\n",
    "sns.distplot(final_df['Rating'])\n",
    "plt.show()\n",
    "\n",
    "\n",
    "final_df['Rating'].describe()"
   ]
  },
  {
   "cell_type": "code",
   "execution_count": 73,
   "id": "407c03fe",
   "metadata": {},
   "outputs": [
    {
     "name": "stderr",
     "output_type": "stream",
     "text": [
      "C:\\ProgramData\\Anaconda3\\lib\\site-packages\\seaborn\\distributions.py:2619: FutureWarning: `distplot` is a deprecated function and will be removed in a future version. Please adapt your code to use either `displot` (a figure-level function with similar flexibility) or `histplot` (an axes-level function for histograms).\n",
      "  warnings.warn(msg, FutureWarning)\n",
      "C:\\ProgramData\\Anaconda3\\lib\\site-packages\\seaborn\\_decorators.py:36: FutureWarning: Pass the following variable as a keyword arg: x. From version 0.12, the only valid positional argument will be `data`, and passing other arguments without an explicit keyword will result in an error or misinterpretation.\n",
      "  warnings.warn(\n"
     ]
    },
    {
     "data": {
      "image/png": "[encoded data removed]",
      "text/plain": [
       "<Figure size 864x720 with 2 Axes>"
      ]
     },
     "metadata": {
      "needs_background": "light"
     },
     "output_type": "display_data"
    },
    {
     "data": {
      "text/plain": [
       "count    4040.000000\n",
       "mean       40.967327\n",
       "std        36.307269\n",
       "min         1.000000\n",
       "25%        19.000000\n",
       "50%        29.000000\n",
       "75%        49.000000\n",
       "max       545.000000\n",
       "Name: Total_no_of_years, dtype: float64"
      ]
     },
     "execution_count": 73,
     "metadata": {},
     "output_type": "execute_result"
    }
   ],
   "source": [
    "# it is a right skewed graph, but dealing with the outliers can impact the data too much, as most of the 'Total_no_of_years' are correct. I won't be applying any type of method to deal with the outliers. \n",
    "\n",
    "plt.figure(figsize=(12,10))\n",
    "plt.subplot(121)\n",
    "sns.distplot(final_df['Total_no_of_years'])\n",
    "\n",
    "plt.subplot(122)\n",
    "sns.boxplot(final_df['Total_no_of_years'])\n",
    "plt.show()\n",
    "\n",
    "final_df['Total_no_of_years'].describe()"
   ]
  },
  {
   "cell_type": "markdown",
   "id": "a5dfc42c",
   "metadata": {},
   "source": [
    "###  converting the dataset into csv file "
   ]
  },
  {
   "cell_type": "code",
   "execution_count": 77,
   "id": "efdeaacc",
   "metadata": {},
   "outputs": [],
   "source": [
    "ambition_web_scraping_project2=pd.DataFrame(final_df, columns=['Company_name', 'Rating', 'Reviews', 'Company_type', 'Total_Locations', 'Employees','Total_no_of_years','Hq'])\n",
    "final_df.to_csv('C://Users//RAJAT SINGH//Downloads//Ambition web scraping project//ambition_web_scraping_project2.csv')"
   ]
  },
  {
   "cell_type": "markdown",
   "id": "52c89c7f",
   "metadata": {},
   "source": [
    "## Data Visualization"
   ]
  },
  {
   "cell_type": "markdown",
   "id": "5b52063b",
   "metadata": {},
   "source": [
    "### Find Cities with highest number of Hq?"
   ]
  },
  {
   "cell_type": "code",
   "execution_count": 79,
   "id": "4d2b0524",
   "metadata": {},
   "outputs": [
    {
     "data": {
      "text/plain": [
       "Mumbai,Maharashtra                   701\n",
       "Delhi/NCR,Delhi                      313\n",
       "Bengaluru,Karnataka                  312\n",
       "Gurgaon,Haryana                      273\n",
       "Chennai,Tamil Nadu                   208\n",
       "Noida,Uttar Pradesh                  164\n",
       "Hyderabad/Secunderabad,Telangana     147\n",
       "Pune,Maharashtra                     143\n",
       "Kolkata,West Bengal                  102\n",
       "Ahmedabad,Gujarat                     86\n",
       "New York City,New York                52\n",
       "London,England                        49\n",
       "Hyderabad,Telangana                   35\n",
       "Faridabad,Haryana                     26\n",
       "Dubai ,UAE                            24\n",
       "Paris,France                          24\n",
       "Jaipur,Rajasthan                      22\n",
       "Tokyo,Japan                           20\n",
       "San Jose,California                   19\n",
       "West Bengal,Kolkata                   18\n",
       "Name: Hq, dtype: int64"
      ]
     },
     "execution_count": 79,
     "metadata": {},
     "output_type": "execute_result"
    }
   ],
   "source": [
    "total_hq = final_df['Hq'].value_counts()[0:20]\n",
    "total_hq"
   ]
  },
  {
   "cell_type": "code",
   "execution_count": 80,
   "id": "d6a718f6",
   "metadata": {},
   "outputs": [
    {
     "data": {
      "text/plain": [
       "Index(['Mumbai,Maharashtra ', 'Delhi/NCR,Delhi ', 'Bengaluru,Karnataka ',\n",
       "       'Gurgaon,Haryana ', 'Chennai,Tamil Nadu ', 'Noida,Uttar Pradesh ',\n",
       "       'Hyderabad/Secunderabad,Telangana ', 'Pune,Maharashtra ',\n",
       "       'Kolkata,West Bengal ', 'Ahmedabad,Gujarat ', 'New York City,New York ',\n",
       "       'London,England ', 'Hyderabad,Telangana ', 'Faridabad,Haryana ',\n",
       "       'Dubai ,UAE ', 'Paris,France ', 'Jaipur,Rajasthan ', 'Tokyo,Japan ',\n",
       "       'San Jose,California ', 'West Bengal,Kolkata '],\n",
       "      dtype='object')"
      ]
     },
     "execution_count": 80,
     "metadata": {},
     "output_type": "execute_result"
    }
   ],
   "source": [
    "total_hq.index"
   ]
  },
  {
   "cell_type": "code",
   "execution_count": 81,
   "id": "c4b91f7e",
   "metadata": {},
   "outputs": [
    {
     "data": {
      "text/plain": [
       "Text(0.5, 0, 'Hq')"
      ]
     },
     "execution_count": 81,
     "metadata": {},
     "output_type": "execute_result"
    },
    {
     "data": {
      "image/png": "[encoded data removed]",
      "text/plain": [
       "<Figure size 864x720 with 1 Axes>"
      ]
     },
     "metadata": {
      "needs_background": "light"
     },
     "output_type": "display_data"
    }
   ],
   "source": [
    "plt.figure(figsize=(12, 10))\n",
    "sns.barplot(x=total_hq, y=total_hq.index )\n",
    "plt.title('Maximum No of HQ in cities')\n",
    "plt.xlabel('Hq')"
   ]
  },
  {
   "cell_type": "markdown",
   "id": "d6fa35b4",
   "metadata": {},
   "source": [
    "### What are the total Company_types?"
   ]
  },
  {
   "cell_type": "code",
   "execution_count": 83,
   "id": "f673dc88",
   "metadata": {},
   "outputs": [
    {
     "data": {
      "text/plain": [
       "Private                                     2806\n",
       "Public                                      1140\n",
       "JV                                            25\n",
       "Government                                    13\n",
       "LLP                                           13\n",
       "Partnership                                   11\n",
       "LLC                                           10\n",
       "NGO/NPO                                        9\n",
       "Govt Organisation                              6\n",
       "Other                                          3\n",
       "Central Public Sector Enterprises (CPSE)       1\n",
       "Conglomerate                                   1\n",
       "Sole Proprietorship                            1\n",
       "Proprietorship                                 1\n",
       "Name: Company_type, dtype: int64"
      ]
     },
     "execution_count": 83,
     "metadata": {},
     "output_type": "execute_result"
    }
   ],
   "source": [
    "total_type = final_df['Company_type'].value_counts()\n",
    "total_type"
   ]
  },
  {
   "cell_type": "code",
   "execution_count": 84,
   "id": "b7e446c8",
   "metadata": {},
   "outputs": [
    {
     "data": {
      "text/plain": [
       "Index(['Private', 'Public', 'JV', 'Government', 'LLP', 'Partnership', 'LLC',\n",
       "       'NGO/NPO', 'Govt Organisation', 'Other',\n",
       "       'Central Public Sector Enterprises (CPSE)', 'Conglomerate',\n",
       "       'Sole Proprietorship', 'Proprietorship'],\n",
       "      dtype='object')"
      ]
     },
     "execution_count": 84,
     "metadata": {},
     "output_type": "execute_result"
    }
   ],
   "source": [
    "total_type.index"
   ]
  },
  {
   "cell_type": "code",
   "execution_count": 93,
   "id": "321a1009",
   "metadata": {},
   "outputs": [
    {
     "data": {
      "image/png": "[encoded data removed]",
      "text/plain": [
       "<Figure size 1080x1080 with 1 Axes>"
      ]
     },
     "metadata": {},
     "output_type": "display_data"
    }
   ],
   "source": [
    "plt.figure(figsize=(15,15))\n",
    "plt.pie(total_type, labels=total_type.index, autopct='%0.1f%%')\n",
    "plt.show()"
   ]
  },
  {
   "cell_type": "markdown",
   "id": "937fe20d",
   "metadata": {},
   "source": [
    "### Top Rated Companies "
   ]
  },
  {
   "cell_type": "code",
   "execution_count": 97,
   "id": "b8f0413c",
   "metadata": {},
   "outputs": [
    {
     "data": {
      "text/plain": [
       "4.1    600\n",
       "4.0    567\n",
       "3.9    517\n",
       "4.2    463\n",
       "3.8    362\n",
       "3.7    301\n",
       "4.3    286\n",
       "3.6    198\n",
       "4.4    161\n",
       "3.5    134\n",
       "3.4    104\n",
       "4.5     88\n",
       "3.3     58\n",
       "3.2     46\n",
       "4.6     40\n",
       "4.7     28\n",
       "3.1     23\n",
       "3.0     19\n",
       "4.8     14\n",
       "4.9      8\n",
       "2.9      6\n",
       "2.8      5\n",
       "2.5      3\n",
       "2.4      3\n",
       "2.7      3\n",
       "2.6      2\n",
       "5.0      1\n",
       "Name: Rating, dtype: int64"
      ]
     },
     "execution_count": 97,
     "metadata": {},
     "output_type": "execute_result"
    }
   ],
   "source": [
    "final_df['Rating'].value_counts()"
   ]
  },
  {
   "cell_type": "code",
   "execution_count": 108,
   "id": "b7cdfc9b",
   "metadata": {},
   "outputs": [
    {
     "data": {
      "text/plain": [
       "Company_name\n",
       "Hummingwave Tech...    5.0\n",
       "Aurigo                 4.9\n",
       "Claritus Managem...    4.9\n",
       "E2logy Software ...    4.9\n",
       "Hire Glocal            4.9\n",
       "Online Legal Ind...    4.9\n",
       "Sistema Shyam Te...    4.9\n",
       "Zovian Technolog...    4.9\n",
       "75way Technologi...    4.8\n",
       "AYN InfoTech           4.8\n",
       "Appsierra              4.8\n",
       "CodeClouds             4.8\n",
       "ExportersIndia         4.8\n",
       "Fingent                4.8\n",
       "Kalyan Jewellers       4.8\n",
       "Mayoor School          4.8\n",
       "Namdev Finvest         4.8\n",
       "NetTantra Techno...    4.8\n",
       "Skilliantech           4.8\n",
       "Taj Mahal Hotel        4.8\n",
       "Name: Rating, dtype: float64"
      ]
     },
     "execution_count": 108,
     "metadata": {},
     "output_type": "execute_result"
    }
   ],
   "source": [
    "top_companies=final_df.groupby('Company_name')['Rating'].max().nlargest(20)\n",
    "top_companies"
   ]
  },
  {
   "cell_type": "code",
   "execution_count": 109,
   "id": "700c8eb9",
   "metadata": {},
   "outputs": [
    {
     "data": {
      "image/png": "[encoded data removed]",
      "text/plain": [
       "<Figure size 1080x1080 with 1 Axes>"
      ]
     },
     "metadata": {
      "needs_background": "light"
     },
     "output_type": "display_data"
    }
   ],
   "source": [
    "plt.figure(figsize=(15,15))\n",
    "sns.barplot(x=top_companies, y=top_companies.index)\n",
    "plt.title('Top Rated Companies')\n",
    "plt.show()"
   ]
  },
  {
   "cell_type": "markdown",
   "id": "e770d4c2",
   "metadata": {},
   "source": [
    "### Least Rated companies"
   ]
  },
  {
   "cell_type": "code",
   "execution_count": 107,
   "id": "ce1f31bd",
   "metadata": {},
   "outputs": [
    {
     "data": {
      "text/plain": [
       "Company_name\n",
       "DSM Infocom            2.4\n",
       "Franchise India ...    2.4\n",
       "Royal Research         2.4\n",
       "Mobiloitte Techn...    2.5\n",
       "Richfeel Health ...    2.5\n",
       "SiliconIndia           2.5\n",
       "INDIABULLS PHARM...    2.6\n",
       "MagicPin               2.6\n",
       "Galore Networks        2.7\n",
       "Trigo Quality Pr...    2.7\n",
       "Vcare Call Cente...    2.7\n",
       "Alankit                2.8\n",
       "IndianMoney.com        2.8\n",
       "MAQ Software           2.8\n",
       "OMICS Internatio...    2.8\n",
       "Xrbia Developers       2.8\n",
       "Entab Infotech         2.9\n",
       "Jaro Education         2.9\n",
       "Maxi Multiservic...    2.9\n",
       "Precision Camsha...    2.9\n",
       "Name: Rating, dtype: float64"
      ]
     },
     "execution_count": 107,
     "metadata": {},
     "output_type": "execute_result"
    }
   ],
   "source": [
    "least_companies=final_df.groupby('Company_name')['Rating'].min().nsmallest(20)\n",
    "least_companies"
   ]
  },
  {
   "cell_type": "code",
   "execution_count": 111,
   "id": "497d0d52",
   "metadata": {},
   "outputs": [
    {
     "data": {
      "image/png": "[encoded data removed]",
      "text/plain": [
       "<Figure size 1080x1080 with 1 Axes>"
      ]
     },
     "metadata": {
      "needs_background": "light"
     },
     "output_type": "display_data"
    }
   ],
   "source": [
    "plt.figure(figsize=(15,15))\n",
    "sns.barplot(x=least_companies, y=least_companies.index)\n",
    "plt.title('Least Rated Companies')\n",
    "plt.show()"
   ]
  },
  {
   "cell_type": "code",
   "execution_count": null,
   "id": "3210fca0",
   "metadata": {},
   "outputs": [],
   "source": []
  }
 ],
 "metadata": {
  "kernelspec": {
   "display_name": "Python 3 (ipykernel)",
   "language": "python",
   "name": "python3"
  },
  "language_info": {
   "codemirror_mode": {
    "name": "ipython",
    "version": 3
   },
   "file_extension": ".py",
   "mimetype": "text/x-python",
   "name": "python",
   "nbconvert_exporter": "python",
   "pygments_lexer": "ipython3",
   "version": "3.9.12"
  }
 },
 "nbformat": 4,
 "nbformat_minor": 5
}
