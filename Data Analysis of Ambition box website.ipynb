{
 "cells": [
  {
   "cell_type": "code",
   "execution_count": 371,
   "id": "f704707d",
   "metadata": {},
   "outputs": [],
   "source": [
    "import pandas as pd \n",
    "import numpy as np\n",
    "import matplotlib.pyplot as plt\n",
    "import seaborn as sns\n",
    "import requests\n",
    "from bs4 import BeautifulSoup"
   ]
  },
  {
   "cell_type": "code",
   "execution_count": 372,
   "id": "55fcd4fb",
   "metadata": {},
   "outputs": [
    {
     "data": {
      "text/plain": [
       "<Response [403]>"
      ]
     },
     "execution_count": 372,
     "metadata": {},
     "output_type": "execute_result"
    }
   ],
   "source": [
    "url=requests.get('https://www.ambitionbox.com/list-of-companies?campaign=desktop_nav')\n",
    "url"
   ]
  },
  {
   "cell_type": "code",
   "execution_count": 373,
   "id": "8b4ab5dd",
   "metadata": {},
   "outputs": [],
   "source": [
    "headers={'User-Agent':'Mozilla/5.0 (Windows NT 6.3; Win64; x64) AppleWebKit/537.36 (KHTM, like Gecko) Chrome/80.0.3987.162 Safari/537.36'}\n",
    "url=requests.get('https://www.ambitionbox.com/list-of-companies?campaign=desktop_nav', headers=headers).text\n",
    "\n",
    "soup=BeautifulSoup(url, 'html.parser')\n",
    "\n",
    "soup2=BeautifulSoup(soup.prettify(), 'html.parser')\n"
   ]
  },
  {
   "cell_type": "code",
   "execution_count": 374,
   "id": "50adb296",
   "metadata": {},
   "outputs": [
    {
     "name": "stdout",
     "output_type": "stream",
     "text": [
      "TCS\n",
      "Accenture\n",
      "Cognizant\n",
      "ICICI Bank\n",
      "HDFC Bank\n",
      "Wipro\n",
      "Infosys\n",
      "Capgemini\n",
      "Tech Mahindra\n",
      "Genpact\n",
      "HCLTech\n",
      "Amazon\n",
      "Axis Bank\n",
      "IBM\n",
      "Concentrix Corpo...\n",
      "Reliance jio\n",
      "Larsen & Toubro ...\n",
      "HDB Financial Se...\n",
      "Vodafone Idea\n",
      "Teleperformance\n",
      "Reliance Retail\n",
      "Kotak Mahindra B...\n",
      "Deloitte\n",
      "Reliance Industr...\n",
      "Bharti Airtel\n",
      "BYJU'S\n",
      "Tata Motors\n",
      "Flipkart\n",
      "WNS\n",
      "Mahindra & Mahin...\n"
     ]
    },
    {
     "data": {
      "text/plain": [
       "30"
      ]
     },
     "execution_count": 374,
     "metadata": {},
     "output_type": "execute_result"
    }
   ],
   "source": [
    "# companies on the first page of the website \n",
    "\n",
    "for i in soup2.find_all('h2'):\n",
    "    print(i.text.strip())\n",
    "    \n",
    "company=soup.find_all('div', class_='company-info-wrapper')\n",
    "len(company)"
   ]
  },
  {
   "cell_type": "code",
   "execution_count": 375,
   "id": "f0677bae",
   "metadata": {},
   "outputs": [
    {
     "name": "stderr",
     "output_type": "stream",
     "text": [
      "C:\\Users\\RAJAT SINGH\\AppData\\Local\\Temp\\ipykernel_12128\\2769601861.py:48: FutureWarning: The frame.append method is deprecated and will be removed from pandas in a future version. Use pandas.concat instead.\n",
      "  final_df=final_df.append(df, ignore_index=True)\n"
     ]
    }
   ],
   "source": [
    "# Extracting data from all the pages of the website\n",
    "\n",
    "final_df=pd.DataFrame()\n",
    "\n",
    "for j in range(1, 150):\n",
    "    headers={'User-Agent':'Mozilla/5.0 (Windows NT 6.3; Win64; x64) AppleWebKit/537.36 (KHTM, like Gecko) Chrome/80.0.3987.162 Safari/537.36'}\n",
    "    url='https://www.ambitionbox.com/list-of-companies?page={}'.format(j)\n",
    "    webpage=requests.get(url, headers=headers).text\n",
    "    \n",
    "    soup=BeautifulSoup(webpage, 'html.parser')\n",
    "    \n",
    "    company=soup.find_all('div', class_='company-content-wrapper')\n",
    "    \n",
    "    name=[]\n",
    "    rating=[]\n",
    "    review=[]\n",
    "    ctype=[]\n",
    "    location=[]\n",
    "    old_in_years=[]\n",
    "    employees=[]\n",
    "\n",
    "    for i in company:\n",
    "        name.append(i.find('h2', class_='company-name').text.strip())\n",
    "        rating.append(i.find('p', class_='rating').text.strip())\n",
    "        review.append(i.find('a', class_='review-count').text.strip())\n",
    "        try:\n",
    "            ctype.append(i.find_all('p', class_='infoEntity')[0].text.strip())\n",
    "        except:\n",
    "            ctype.append(np.nan)\n",
    "            \n",
    "        try:\n",
    "            location.append(i.find_all('p', class_='infoEntity')[1].text.strip())\n",
    "        except:\n",
    "            location.append(np.nan)\n",
    "            \n",
    "        try:\n",
    "            old_in_years.append(i.find_all('p', class_='infoEntity')[2].text.strip())\n",
    "        except:\n",
    "            old_in_years.append(np.nan)\n",
    "        try:\n",
    "            employees.append(i.find_all('p', class_='infoEntity')[3].text.strip())\n",
    "        except:\n",
    "            employees.append(np.nan)\n",
    "        \n",
    "    d={'name': name, 'rating': rating, 'review': review, 'ctype': ctype, 'location': location, 'old_in_years':old_in_years, 'employees':employees}\n",
    "    df=pd.DataFrame(d)\n",
    "    \n",
    "    final_df=final_df.append(df, ignore_index=True)"
   ]
  },
  {
   "cell_type": "code",
   "execution_count": 376,
   "id": "94993279",
   "metadata": {},
   "outputs": [
    {
     "data": {
      "text/html": [
       "<div>\n",
       "<style scoped>\n",
       "    .dataframe tbody tr th:only-of-type {\n",
       "        vertical-align: middle;\n",
       "    }\n",
       "\n",
       "    .dataframe tbody tr th {\n",
       "        vertical-align: top;\n",
       "    }\n",
       "\n",
       "    .dataframe thead th {\n",
       "        text-align: right;\n",
       "    }\n",
       "</style>\n",
       "<table border=\"1\" class=\"dataframe\">\n",
       "  <thead>\n",
       "    <tr style=\"text-align: right;\">\n",
       "      <th></th>\n",
       "      <th>name</th>\n",
       "      <th>rating</th>\n",
       "      <th>review</th>\n",
       "      <th>ctype</th>\n",
       "      <th>location</th>\n",
       "      <th>old_in_years</th>\n",
       "      <th>employees</th>\n",
       "    </tr>\n",
       "  </thead>\n",
       "  <tbody>\n",
       "    <tr>\n",
       "      <th>0</th>\n",
       "      <td>TCS</td>\n",
       "      <td>3.9</td>\n",
       "      <td>(51.3k Reviews)</td>\n",
       "      <td>Public</td>\n",
       "      <td>Mumbai,Maharashtra + 271 more</td>\n",
       "      <td>55 years old</td>\n",
       "      <td>1 Lakh+ Employees (India)</td>\n",
       "    </tr>\n",
       "    <tr>\n",
       "      <th>1</th>\n",
       "      <td>Accenture</td>\n",
       "      <td>4.1</td>\n",
       "      <td>(32.8k Reviews)</td>\n",
       "      <td>Public</td>\n",
       "      <td>Dublin + 131 more</td>\n",
       "      <td>34 years old</td>\n",
       "      <td>1 Lakh+ Employees (India)</td>\n",
       "    </tr>\n",
       "    <tr>\n",
       "      <th>2</th>\n",
       "      <td>Cognizant</td>\n",
       "      <td>3.9</td>\n",
       "      <td>(30.2k Reviews)</td>\n",
       "      <td>Private</td>\n",
       "      <td>Teaneck. New Jersey. + 101 more</td>\n",
       "      <td>29 years old</td>\n",
       "      <td>1 Lakh+ Employees (India)</td>\n",
       "    </tr>\n",
       "    <tr>\n",
       "      <th>3</th>\n",
       "      <td>ICICI Bank</td>\n",
       "      <td>4.0</td>\n",
       "      <td>(34.1k Reviews)</td>\n",
       "      <td>Public</td>\n",
       "      <td>Mumbai,Maharashtra + 1058 more</td>\n",
       "      <td>29 years old</td>\n",
       "      <td>1 Lakh+ Employees (India)</td>\n",
       "    </tr>\n",
       "    <tr>\n",
       "      <th>4</th>\n",
       "      <td>HDFC Bank</td>\n",
       "      <td>4.0</td>\n",
       "      <td>(40k Reviews)</td>\n",
       "      <td>Public</td>\n",
       "      <td>Mumbai,Maharashtra + 1270 more</td>\n",
       "      <td>29 years old</td>\n",
       "      <td>50k-1 Lakh Employees (India)</td>\n",
       "    </tr>\n",
       "  </tbody>\n",
       "</table>\n",
       "</div>"
      ],
      "text/plain": [
       "         name rating           review    ctype  \\\n",
       "0         TCS    3.9  (51.3k Reviews)   Public   \n",
       "1   Accenture    4.1  (32.8k Reviews)   Public   \n",
       "2   Cognizant    3.9  (30.2k Reviews)  Private   \n",
       "3  ICICI Bank    4.0  (34.1k Reviews)   Public   \n",
       "4   HDFC Bank    4.0    (40k Reviews)   Public   \n",
       "\n",
       "                          location  old_in_years                     employees  \n",
       "0    Mumbai,Maharashtra + 271 more  55 years old     1 Lakh+ Employees (India)  \n",
       "1                Dublin + 131 more  34 years old     1 Lakh+ Employees (India)  \n",
       "2  Teaneck. New Jersey. + 101 more  29 years old     1 Lakh+ Employees (India)  \n",
       "3   Mumbai,Maharashtra + 1058 more  29 years old     1 Lakh+ Employees (India)  \n",
       "4   Mumbai,Maharashtra + 1270 more  29 years old  50k-1 Lakh Employees (India)  "
      ]
     },
     "execution_count": 376,
     "metadata": {},
     "output_type": "execute_result"
    }
   ],
   "source": [
    "final_df.head()"
   ]
  },
  {
   "cell_type": "code",
   "execution_count": 377,
   "id": "c2385af5",
   "metadata": {},
   "outputs": [
    {
     "data": {
      "text/plain": [
       "(4469, 7)"
      ]
     },
     "execution_count": 377,
     "metadata": {},
     "output_type": "execute_result"
    }
   ],
   "source": [
    "final_df.shape"
   ]
  },
  {
   "cell_type": "markdown",
   "id": "90ca09b1",
   "metadata": {},
   "source": [
    "### Data Mining"
   ]
  },
  {
   "cell_type": "code",
   "execution_count": 378,
   "id": "fa046c65",
   "metadata": {},
   "outputs": [
    {
     "data": {
      "text/plain": [
       "name            0.000000\n",
       "rating          0.000000\n",
       "review          0.000000\n",
       "ctype           0.000000\n",
       "location        0.872678\n",
       "old_in_years    3.043186\n",
       "employees       9.398076\n",
       "dtype: float64"
      ]
     },
     "execution_count": 378,
     "metadata": {},
     "output_type": "execute_result"
    }
   ],
   "source": [
    "# Finding null values in the dataset\n",
    "\n",
    "final_df.isnull().mean()*100"
   ]
  },
  {
   "cell_type": "code",
   "execution_count": 379,
   "id": "960cdd7e",
   "metadata": {},
   "outputs": [],
   "source": [
    "# we have to drop the null values as some values have jumbled up in the middle part of the dataset which has left most of the null values in the 'employees' section.\n",
    "# I have tried correcting it multiple times but everytime i run the program as fresh , the null values changes, making it hard to correct it. \n",
    "\n",
    "final_df.dropna(inplace=True)"
   ]
  },
  {
   "cell_type": "code",
   "execution_count": 380,
   "id": "fab6af0b",
   "metadata": {},
   "outputs": [
    {
     "data": {
      "text/plain": [
       "name            0.0\n",
       "rating          0.0\n",
       "review          0.0\n",
       "ctype           0.0\n",
       "location        0.0\n",
       "old_in_years    0.0\n",
       "employees       0.0\n",
       "dtype: float64"
      ]
     },
     "execution_count": 380,
     "metadata": {},
     "output_type": "execute_result"
    }
   ],
   "source": [
    "final_df.isnull().mean()*100"
   ]
  },
  {
   "cell_type": "code",
   "execution_count": 381,
   "id": "9366357d",
   "metadata": {},
   "outputs": [
    {
     "data": {
      "text/plain": [
       "(4049, 7)"
      ]
     },
     "execution_count": 381,
     "metadata": {},
     "output_type": "execute_result"
    }
   ],
   "source": [
    "final_df.shape"
   ]
  },
  {
   "cell_type": "code",
   "execution_count": 382,
   "id": "46a9e17a",
   "metadata": {},
   "outputs": [
    {
     "data": {
      "text/html": [
       "<div>\n",
       "<style scoped>\n",
       "    .dataframe tbody tr th:only-of-type {\n",
       "        vertical-align: middle;\n",
       "    }\n",
       "\n",
       "    .dataframe tbody tr th {\n",
       "        vertical-align: top;\n",
       "    }\n",
       "\n",
       "    .dataframe thead th {\n",
       "        text-align: right;\n",
       "    }\n",
       "</style>\n",
       "<table border=\"1\" class=\"dataframe\">\n",
       "  <thead>\n",
       "    <tr style=\"text-align: right;\">\n",
       "      <th></th>\n",
       "      <th>name</th>\n",
       "      <th>rating</th>\n",
       "      <th>review</th>\n",
       "      <th>ctype</th>\n",
       "      <th>location</th>\n",
       "      <th>old_in_years</th>\n",
       "      <th>employees</th>\n",
       "    </tr>\n",
       "  </thead>\n",
       "  <tbody>\n",
       "    <tr>\n",
       "      <th>0</th>\n",
       "      <td>TCS</td>\n",
       "      <td>3.9</td>\n",
       "      <td>(51.3k Reviews)</td>\n",
       "      <td>Public</td>\n",
       "      <td>Mumbai,Maharashtra + 271 more</td>\n",
       "      <td>55 years old</td>\n",
       "      <td>1 Lakh+ Employees (India)</td>\n",
       "    </tr>\n",
       "    <tr>\n",
       "      <th>1</th>\n",
       "      <td>Accenture</td>\n",
       "      <td>4.1</td>\n",
       "      <td>(32.8k Reviews)</td>\n",
       "      <td>Public</td>\n",
       "      <td>Dublin + 131 more</td>\n",
       "      <td>34 years old</td>\n",
       "      <td>1 Lakh+ Employees (India)</td>\n",
       "    </tr>\n",
       "    <tr>\n",
       "      <th>2</th>\n",
       "      <td>Cognizant</td>\n",
       "      <td>3.9</td>\n",
       "      <td>(30.2k Reviews)</td>\n",
       "      <td>Private</td>\n",
       "      <td>Teaneck. New Jersey. + 101 more</td>\n",
       "      <td>29 years old</td>\n",
       "      <td>1 Lakh+ Employees (India)</td>\n",
       "    </tr>\n",
       "    <tr>\n",
       "      <th>3</th>\n",
       "      <td>ICICI Bank</td>\n",
       "      <td>4.0</td>\n",
       "      <td>(34.1k Reviews)</td>\n",
       "      <td>Public</td>\n",
       "      <td>Mumbai,Maharashtra + 1058 more</td>\n",
       "      <td>29 years old</td>\n",
       "      <td>1 Lakh+ Employees (India)</td>\n",
       "    </tr>\n",
       "    <tr>\n",
       "      <th>4</th>\n",
       "      <td>HDFC Bank</td>\n",
       "      <td>4.0</td>\n",
       "      <td>(40k Reviews)</td>\n",
       "      <td>Public</td>\n",
       "      <td>Mumbai,Maharashtra + 1270 more</td>\n",
       "      <td>29 years old</td>\n",
       "      <td>50k-1 Lakh Employees (India)</td>\n",
       "    </tr>\n",
       "  </tbody>\n",
       "</table>\n",
       "</div>"
      ],
      "text/plain": [
       "         name rating           review    ctype  \\\n",
       "0         TCS    3.9  (51.3k Reviews)   Public   \n",
       "1   Accenture    4.1  (32.8k Reviews)   Public   \n",
       "2   Cognizant    3.9  (30.2k Reviews)  Private   \n",
       "3  ICICI Bank    4.0  (34.1k Reviews)   Public   \n",
       "4   HDFC Bank    4.0    (40k Reviews)   Public   \n",
       "\n",
       "                          location  old_in_years                     employees  \n",
       "0    Mumbai,Maharashtra + 271 more  55 years old     1 Lakh+ Employees (India)  \n",
       "1                Dublin + 131 more  34 years old     1 Lakh+ Employees (India)  \n",
       "2  Teaneck. New Jersey. + 101 more  29 years old     1 Lakh+ Employees (India)  \n",
       "3   Mumbai,Maharashtra + 1058 more  29 years old     1 Lakh+ Employees (India)  \n",
       "4   Mumbai,Maharashtra + 1270 more  29 years old  50k-1 Lakh Employees (India)  "
      ]
     },
     "execution_count": 382,
     "metadata": {},
     "output_type": "execute_result"
    }
   ],
   "source": [
    "final_df.head()"
   ]
  },
  {
   "cell_type": "code",
   "execution_count": 383,
   "id": "63ca25bb",
   "metadata": {},
   "outputs": [],
   "source": [
    "# Splitting 'Reviews' from every row of the 'review' column.\n",
    "\n",
    "def review(x):\n",
    "    return x.split(' ')[0].split('(')[1]\n",
    "\n",
    "final_df['review']=final_df['review'].apply(review)"
   ]
  },
  {
   "cell_type": "code",
   "execution_count": 384,
   "id": "4f9132d0",
   "metadata": {},
   "outputs": [],
   "source": [
    "# Splitting 'years old' from every row of the 'old_in_years' column.\n",
    "# Changing the name of the 'old_in_years' column.\n",
    "\n",
    "def year(x):\n",
    "    return x.split(' ')[0]\n",
    "\n",
    "final_df['total_no_of_years']=final_df['old_in_years'].apply(year)"
   ]
  },
  {
   "cell_type": "code",
   "execution_count": 385,
   "id": "0fc43c32",
   "metadata": {},
   "outputs": [],
   "source": [
    "# Splitting 'location' from the 'location' column.\n",
    "# Also assigning it a new name.\n",
    "\n",
    "def hq(x):\n",
    "    return x.split('+')[0]\n",
    "\n",
    "final_df['Hq']=final_df['location'].apply(hq)\n",
    "\n",
    "final_df.drop('old_in_years', axis=1, inplace=True)"
   ]
  },
  {
   "cell_type": "code",
   "execution_count": 386,
   "id": "1f805fab",
   "metadata": {},
   "outputs": [
    {
     "data": {
      "text/plain": [
       "array(['Mumbai,Maharashtra ', 'Dublin ', 'Teaneck. New Jersey. ',\n",
       "       'Bangalore/Bengaluru,Karnataka ', 'Bengaluru/Bangalore,Karnataka ',\n",
       "       'Paris ', 'Pune,Maharashtra ', 'New York,New York ',\n",
       "       'Noida,Uttar Pradesh ', 'Seattle,Washington ', 'Armonk,New York ',\n",
       "       'Fremont,California ', 'Navi Mumbai,Maharashtra ',\n",
       "       'Ahmedabad,Gujrat ', 'Gandhinagar,Gujrat ',\n",
       "       'Gurgaon/Gurugram,Haryana ', 'Bangalore,Karnataka ', 'London ',\n",
       "       'Minato,Tokyo ', 'New Delhi,Delhi ', 'Stockholm,Stockholm County ',\n",
       "       'Hyderabad/Secunderabad,Telangana ', 'Pittsford,New York ',\n",
       "       'Chiyoda City,Tokyo ', 'New York City,New York ',\n",
       "       'Bengaluru/Bangalore ', 'Gurugram ', 'Noida ',\n",
       "       'Kolkata,West Bengal ', 'Dongguan,Guangdong ',\n",
       "       'San Francisco,California ', 'Delhi,NCT ', 'Ahmedabad,\\xa0India ',\n",
       "       'Mumbai ', 'Chennai,Tamil Nadu ', 'Jaipur,Rajasthan ',\n",
       "       'Munich,Bavaria ', 'Houston,Texas ', 'Espoo,Southern Finland ',\n",
       "       'Austin,Texas ', 'Bangalore ', 'Jacksonville,Florida ', 'Pune ',\n",
       "       'Gurgaon,Haryana ', 'Seoul ', 'Gerlingen,Baden-Wuerttemberg ',\n",
       "       'Chennai ', 'Florida ', 'Troy,Michigan ',\n",
       "       'Thrissur/Trichur,Kerala ', 'Durham ', 'Chesterfield,Missouri ',\n",
       "       'Los Angeles,California ', 'Gerlingen ', 'Aliso Viejo,California ',\n",
       "       'Dearborn,Michigan ', 'Round Rock,Texas ', 'Minnetonka,Minnesota ',\n",
       "       'Kochi/Cochin,Kerala ', 'Trivandrum/Thiruvananthapuram,Kerala ',\n",
       "       'Moline,Illinois ', 'San Jose,California ', 'Ypsilanti,Michigan ',\n",
       "       'Southborough,Massachusetts ', 'San Mateo,California ',\n",
       "       'Seoul,Seoul ', 'Issy Les Moulineaux ', 'Minnesota ',\n",
       "       'Illinois City,Illinois ', 'Vadodara/Baroda,Gujarat ',\n",
       "       'Montreal,Quebec ', 'Vadodara/Baroda,Gujrat ', 'Frankfurt ',\n",
       "       'Zurich ', 'Vilnius,Vilniaus Apskritis ',\n",
       "       'Florham Park,New Jersey ', 'Chicago,Illinois ',\n",
       "       'Wedel,Schleswig-holstein ', 'Delhi/NCR,Delhi ', 'Copenhagen ',\n",
       "       'Charlotte ', 'Faridabad,Haryana ', 'Delhi/NCR,New Delhi ',\n",
       "       'Varanasi,Uttar Pradesh ', 'Indore,Madhya Pradesh ',\n",
       "       'Boston,Massachusetts ', 'Ghaziabad,Uttar Pradesh ',\n",
       "       'Culver City,California ', 'Murray,Utah ',\n",
       "       'Bhopal,Madhya Pradesh ', 'Haridwar,Uttarakhand ', 'San Jose ',\n",
       "       'Dallas,Texas ', 'Dubai Marina,Dubai ', 'Vevey ', 'New Delhi ',\n",
       "       'Brookfield,Wisconsin ', 'Washington DC ', 'Singapore ',\n",
       "       'Greater Noida,Uttar Pradesh ', 'Harrison,New York ',\n",
       "       'Reading,Reading ', 'Thrissur ', 'Gurgaon ', 'New York ',\n",
       "       'Tokyo,Tokyo ', 'Hoshiarpur,Punjab ', 'Lucknow,Uttar Pradesh ',\n",
       "       'Nagda ', 'Michigan ', 'Bengaluru,Karnataka ',\n",
       "       'Kanchipuram,Tamil Nadu ', 'Cork ', 'Toronto ',\n",
       "       'Aurangabad,Maharashtra ', 'London,England ',\n",
       "       'Rocester,Staffordshire ', 'Paris,Ile-de-France ',\n",
       "       'Paris La Défense,Hauts-de-Seine ', 'Paris,France ',\n",
       "       'Garner,North Carolina ', 'Iwata,Shizuoka ',\n",
       "       'Walldorf,Baden-Württemberg ', 'Taipei ',\n",
       "       'Morris Plains,New Jersey ', 'Dallas ', 'Eindhoven,North Brabant ',\n",
       "       'Udaipur,Rajasthan ', 'Geneva,Geneva ', 'Navi Mumbai ',\n",
       "       'Slough,Slough ', 'Cincinnati,Ohio ', 'Sunnyvale,California ',\n",
       "       'Mountain View,California ', 'Pune,Indore ', 'Amsterdam ',\n",
       "       'Moon Township ', 'Zurich,Zurich ', 'Hopkinton ', 'Abu Dhabi ',\n",
       "       'Marseille,Marseille ', 'Atlanta,Georgia ',\n",
       "       'East Moline,Illinois ', 'New Brunswick,New Jersey ', 'Bonn ',\n",
       "       'Delhi ', 'Evanston,Illinois ', 'Kadoma,Osaka ',\n",
       "       'Norwalk,Connecticut ', 'Berne ', 'Miami,Florida ',\n",
       "       'Hertfordshire ', 'Santa Ana,California ', 'Nanterre ',\n",
       "       'Louisville,Kentucky ', 'West Palm Beach,Florida ',\n",
       "       'Bethesda,Maryland ', 'Aurangabad ', 'Coimbatore,Tamil Nadu ',\n",
       "       'Gurgaon/Gurugram ', 'Winnipeg,Manitoba ',\n",
       "       'Santa Clara,California ', 'Lausanne ', 'Ludhiana,Punjab ',\n",
       "       'Saint-Ouen ', 'Hyderabad ',\n",
       "       'Monheim Am Rhein,North Rhine-westphalia ', 'Qingdao ',\n",
       "       'Blue Bell,Pennsylvania ', 'Basking Ridge,New Jersey ',\n",
       "       'Osaka City,Osaka ', 'Falls Church,Virginia ', 'Sunnyvale ',\n",
       "       'Windsor Locks,Connecticut ', 'Marousi,Alger ',\n",
       "       'San Donato Milanese,Milan ', 'Las Vegas,Nevada ', 'Hook ',\n",
       "       'Kansas,Missouri ', 'Nagpur ', 'Chicago ', 'Panchkula ',\n",
       "       'Milpitas,California ', 'Chandigarh,Chandigarh ',\n",
       "       'Chertsey,Surrey ', 'New Jersey ', 'Gothenburg ', 'Stamford ',\n",
       "       'Nasik/Nashik,Maharashtra ', 'Brande ', 'Greater Chicago Area,IL ',\n",
       "       'Sharjah ', 'Kariya,Aichi ', 'Wayzata,Minnesota ', 'Berlin ',\n",
       "       'Schaffhausen,Schaffhausen ', 'Saint Petersburg,Florida ',\n",
       "       'Haidian District,Beijing ', 'Bhubaneswar,Odisha ',\n",
       "       'Deerfield,Illinois ', 'Al Jubail ', 'Leuven ', 'Pontedera ',\n",
       "       'Aarhus,Central Denmark Region ',\n",
       "       'Chandigarh,Union Territory Of Chandigarh ', 'Miami ', 'Lagos ',\n",
       "       'Rockville ', 'Brantford,Ontario ', 'Lower Saxony,Hanover ',\n",
       "       'Bridgewater,New Jersey ', 'Valsad ', 'Zamudio,Vizcaya ',\n",
       "       'Munich ', 'Nellore,Andhra Pradesh ', 'Lake Forest,Illinois ',\n",
       "       'Edison,New Jersey ', 'Gardena,California ',\n",
       "       'Milwaukee,Wisconsin ', 'Thane,Maharashtra ', 'Atlanta ',\n",
       "       'Kolkata ', 'Cleveland,Ohio ', 'Ahmedabad,Gujarat ', 'Helsinki ',\n",
       "       'Los Gatos,California ', 'Princeton ', 'Massachusetts ',\n",
       "       'Cambridge,Cambridgeshire ', 'Essen ', 'Lille ', 'Mita,Tokyo ',\n",
       "       'El Dorado Hills,California ', 'Plano,Texas ', 'Ahmedabad ',\n",
       "       'Copenhagen,Valby ', 'Irving,Texas ', 'Lainate ',\n",
       "       'Fornebu,Fornebu ', 'Westborough,Massachusetts ',\n",
       "       'Stockholm,Stockholm ', 'Clichy ', 'Cranbury,New Jersey ',\n",
       "       'Basel,Basel ', 'Tampa,Florida ', 'Folsom,California ',\n",
       "       'Vapi,Gujarat ', 'Stuttgart,Germany ', 'Espoo ', 'Muscat ',\n",
       "       'Osaka ', 'Palo Alto,California ', 'Southfield,Michigan ',\n",
       "       'Lisle,Illinois ', 'Suwon-Si,Gyeonggi-Do ', 'Dublin,Dublin ',\n",
       "       'North Sydney,North Sydney ', 'Chandlers Ford,Eastleigh ',\n",
       "       'Ontario ', 'Schenectady,Düsseldorf ', 'Hilversum,Hilversum ',\n",
       "       'Stamford,Connecticut ', 'New Braunfels,Texas ',\n",
       "       'Reston,Virginia ', 'Jharsuguda,Odisha ', 'Dallas,TX ',\n",
       "       'Wilmington,Delaware Valley ', 'Nacka Municipality,Stockholm ',\n",
       "       'Plantation,Florida ', 'Clark,New Jersey ', 'Karur,Tamil Nadu ',\n",
       "       'Kolkata,India ', 'Velizy-villacoublay,Yvelines ',\n",
       "       'Hanover,Maryland ', 'Hamamatsu ', 'Draper,Utah ',\n",
       "       'Farmington,Connecticut ', 'New Delhi,New Delhi ', 'Essen,Essen ',\n",
       "       'Jharkhand ', 'San Diego,California ', 'Aluva,Kerala ',\n",
       "       'Clermont-Ferrand ', 'Minneapolis,Minnesota ',\n",
       "       'Northbrook,Illinois ', 'Jalgaon,Maharashtra ',\n",
       "       'Kohler,Wisconsin ', 'Morristown,New Jersey ', 'Seattle ',\n",
       "       'Shenzhen ', 'Guwahati,Assam ', 'Dubai,Dubai ',\n",
       "       'Gothenburg,Gothenburg ', 'Oak Brook ', 'Kalol,Gujarat ',\n",
       "       'Irvine,California ', 'Stuttgart ', 'St. Louis,Missouri ',\n",
       "       'Sriperumbudur,Tamil Nadu ', 'New Jersey,New Jersey ', 'Tokyo ',\n",
       "       'Seocho-gu ', 'Princeton,New Jersey ', 'Iselin,New Jersey ',\n",
       "       'Detroit,Michigan ', 'Kuwait City,Kuwait ',\n",
       "       'Ada Township,Michigan ', 'Schaumburg,Chicago ',\n",
       "       'Charlotte,North Carolina ', 'Plainsboro New Jersey ',\n",
       "       'Geneva,Switzerland ', 'Ludwigshafen ', 'Memphis,Buckinghamshire ',\n",
       "       'Redditch,Worcestershire ', 'Bryanston,Johannesburg ',\n",
       "       'Salem,Tamil Nadu ', 'Fargo,North Dakota ', 'Ernakulam,Kerala ',\n",
       "       'Panchkula,Haryana ', 'Mooresville ', 'Pullach ', 'Nashik ',\n",
       "       'Thanjavur,Tamil Nadu ', 'North Canton,Ohio ', 'Rajkot,Gujarat ',\n",
       "       'Herzogenaurach,Herzogenaurach ', 'Mannheim ',\n",
       "       'Boulogne Billancourt Cedex ', 'Piscataway,New Jersey ',\n",
       "       'New York,NY ', 'Phagwara,Punjab ', 'Milwaukee,WI ',\n",
       "       'Baddi,Himachal Pradesh ', 'Ebikon,Lucerne ',\n",
       "       'Shenzhen,Guangdong ', 'Dhahran ', 'Madurai,Tamil Nadu ',\n",
       "       'Waltham ', 'Kochi ', 'Toronto,Ontario ', 'Alpharetta ',\n",
       "       'St Petersburg,Florida ', 'Lippstadt,Lippstadt ', 'Faridabad ',\n",
       "       'Waltham,MA ', 'Jeddah,Riyadh ', 'Kozhikode ', 'Doha ',\n",
       "       'Thiruvananthapuram,Kerala ', 'Luxembourg ', 'San Mateo ',\n",
       "       'Texas ', 'Kelowna,British Columbia ', 'Purchase,New York ',\n",
       "       'Al Ahmadi ', 'Edinburgh,Edinburgh ', 'Aurora ',\n",
       "       'Manhattan,New York ', 'Madrid,Community Of Madrid ',\n",
       "       'Des Moines ', 'Vallancherry,Tamil Nadu ', 'Ajmer,Rajasthan ',\n",
       "       'Mclean,Virginia ', 'Belagavi/Belgaum,Karnataka ', 'Akron,OH ',\n",
       "       'Clifton,New Jersey ', 'London,London ', 'Southfield ',\n",
       "       'Battle Creek,Michigan ', 'Chiyoda-ku,Tokyo-to ', 'Madrid ',\n",
       "       'Tokyo,Tokyo-to ', 'Tokyo,Japan ', 'Saint Paul,Minnesota ',\n",
       "       'Jaipur ', 'Hamburg ', 'Ruwi ', 'Mysore/Mysuru,Karnataka ',\n",
       "       'Courbevoie,Courbevoie ', 'San Francisco ',\n",
       "       'Waltham,Massachusetts ', 'Hyderabad/Secunderabad,Telangana',\n",
       "       'Mohali,Punjab ', 'Colombo,Colombo ', 'Lexington,Kentucky ',\n",
       "       'Schaan ', 'Crawley ', 'Salo ', 'Eysines ', 'Ota City,Tokyo ',\n",
       "       'Dubai,Jebel Ali ', 'Dehradun,Uttarakhand ', 'Teaneck,New Jersey ',\n",
       "       'Cayman Islands ', 'To Be Validated,4704971 ', 'Surat ',\n",
       "       'Quarry Bay ', 'Copenhagen,Denmark ', 'Kota,Rajasthan ',\n",
       "       'Paddington,London ', 'Kanpur,Uttar Pradesh ', 'Sulaibiya ',\n",
       "       'Hubballi,Karnataka ', 'Waterloo,Ontario ', 'Nagpur,Maharashtra ',\n",
       "       'Hoffman Estates,Illinois ', 'Fort Mill,South Carolina ',\n",
       "       'Nagano ', 'Riyadh,Central Province ', 'Simi Valley,California ',\n",
       "       'Visakhapatnam/Vizag,Andhra Pradesh ', 'Herzogenaurach,Bavaria ',\n",
       "       'Singhbum,Jharkhand ', 'Middlesex ', 'Pangbourne,Berkshire ',\n",
       "       'Solan,Himachal Pradesh ', 'Copenhagen,Copenhagen ',\n",
       "       'Ras Al Khaimah,Ras Al Khaimah ', 'Alpharetta,Georgia ',\n",
       "       'Coimbatore ', 'Minnetonka ', 'SMC Global Securities Ltd. ',\n",
       "       'Patna,Bihar ', 'Vesterbro,Copenhagen ', 'Lincolnshire ',\n",
       "       'Lahore ', 'Abu Dhabi,Dubai ', 'Scottsdale,Arizona ',\n",
       "       'Riyadh,Riyadh ', 'Hanover ', 'Ingolstadt,Bavaria ',\n",
       "       'Klarabergsviadukten 70,Stockholm ', 'Winterthur,Winterthur ',\n",
       "       'Staffordshire ', 'Corbetta,Corbetta ', 'Glendale,California ',\n",
       "       'Toyota City,Aichi Prefecture ', 'Cupertino,California ',\n",
       "       'Melsungen,Hesse ', 'Graz,Steiermark ',\n",
       "       'Philadelphia,Pennsylvania ', 'Brooklyn,New York ',\n",
       "       'Montreal,Berlin ', 'McLean ', 'Hyderabad,Telangana ',\n",
       "       'Nordborg,Als ', 'Hisar,Haryana ', 'Beaverton,Oregon ',\n",
       "       'Hangzhou ', 'Philadelphia ', 'Wilmington,Delaware ', 'Riyadh ',\n",
       "       'Dubai ', 'Bellandur ', 'Jodhpur ',\n",
       "       'Mangaluru/Mangalore,Karnataka ', 'Bengaluru ',\n",
       "       'Fairfax,Virginia ', 'Rewari,Haryana ', 'Arlington,VA ',\n",
       "       'San Antonio,Texas ', 'GURGAON ', 'Alwar,Rajasthan ', 'Stezzano ',\n",
       "       'Zug ', 'Vellore,Tamil Nadu ', 'Limoges,Limoges ', 'Thane ',\n",
       "       'Pondicherry ', 'Morrisville,North Carolina ', 'Morristown ',\n",
       "       'Holzkirchen ', 'Melbourne,Victoria ',\n",
       "       'Selangor Darul Ehsan,Selangor Darul Ehsan ', 'Sotokanda,Chiyoda ',\n",
       "       'Shanghai,Shanghai ', 'Ahemdabad ', 'Richardson,Texas ',\n",
       "       'El Paso ', 'Henderson,Nevada ', 'Sanjose,California ', 'Gujrat ',\n",
       "       'Yokohama-shi,Kanagawa ', 'Safat ', 'Redwood City,San Francisco ',\n",
       "       'Cairo ', 'Los Angeles ', 'South Jordan ', 'Yamunanagar,Haryana ',\n",
       "       'Columbus,Ohio ', 'Los Gatos ', 'Gütersloh ', 'Nagold ',\n",
       "       'Berkeley Heights,New Jersey ', 'Santa Clarita ', 'Madurai ',\n",
       "       'Santa Rosa,California ', 'Hard,Vorarlberg ',\n",
       "       'Chakkarpur,Haryana ', 'Ranchi,Jharkhand ', 'Surat,Gujarat ',\n",
       "       'South Plainfield,New Jersey ', 'Aichi ', 'Fornebu,Akershus ',\n",
       "       'Santa Barbara ', 'Chembur,Maharashtra ',\n",
       "       'Calicut/Kozhikode,Kerala ', 'Tel Aviv ', 'Keysborough ',\n",
       "       'Bezons,Val Doise ', 'Pully ', 'Mc Lean ', 'Berlin,Berlin ',\n",
       "       'Englewood,Colorado ', 'York,Pennsylvania ', 'Pipitea,Wellington ',\n",
       "       'Menlo Park,California ', 'Houston,Texas, ', 'Dehradun ',\n",
       "       'Ashland,Massachusetts', 'Chandigarh,Haryana ', 'Herne ',\n",
       "       'Rahway,New Jersey ', 'Indianapolis,Indiana ', 'Brisbane ',\n",
       "       'Hosur,Tamil Nadu ', 'Stockholm ', 'Kirchlengern ', 'Herndon ',\n",
       "       'Beijing,Beijing ', 'Utrecht,Utrecht ', 'Â Arteixo ',\n",
       "       'Paris,Ile De France ', 'Schindellegi,Feusisberg ',\n",
       "       'Newbury,West Berkshire ', 'Khandala,Punjab ', 'Daejeon ',\n",
       "       'Dallas,Texas', 'Düsseldorf,North Rhine-Westphalia ',\n",
       "       'Johannesburg,Vaud ', 'Municipality Of GavÃ ',\n",
       "       'Parsippany,New Jersey ', 'Southampton ', 'Kuwait City ',\n",
       "       'Plymouth,MI ', 'Delft ', 'Ingelheim ',\n",
       "       'Colonel Sanders Lane,Louisville ', 'Singapore,Singapore ',\n",
       "       'Raleigh,North Carolina ', 'Redmond ', 'Koppal,Karnataka ',\n",
       "       'Bina,Madhya Pradesh ', 'Madison Heights ', 'Nashik,Maharashtra ',\n",
       "       'Abu Dhabi,Abu Dhabi ', 'North Sydney,New South Wales ',\n",
       "       'Santa Clara ', 'Fort Worth,Texas ', 'Holon,Tel Aviv ',\n",
       "       'Atlanta,Atlanta ', 'Al-Khobar ', 'Uzwil,St. Gallen ',\n",
       "       'Lippo Di Calderara Di Reno,Bologna ', 'Bedford,Massachusetts ',\n",
       "       'Lohr A. Main,Bavaria ', 'Greensboro ',\n",
       "       'Pondicherry/Puducherry,Tamil Nadu ', 'Lund,Skane ',\n",
       "       'Toledo,Ohio ', 'Solan,Madhya Pradesh ', 'Mysore ', 'Hyvinkää ',\n",
       "       'Anand ', 'Latrobe,Pennsylvania ', 'Provo,Utah', 'Zug,Zug ',\n",
       "       'Charenton-le-Pont ', 'Sydney ', 'Jalna,Maharashtra ',\n",
       "       'Kalamazoo,Michigan ', 'Sydney,New South Wales ',\n",
       "       'Frankenthal,Rhineland-Palatinate ', 'Chuo City,Tokyo ',\n",
       "       'Muttenz,Bael-Country ', 'Agra,Uttar Pradesh ', 'Wichita,Kansas ',\n",
       "       'Franklin,Tennesse ', 'Satara,Maharashtra ',\n",
       "       'Bridgeville,Pennsylvania ', 'Indore ', 'Kenosha ',\n",
       "       'Milford,Connecticut ', 'Jakarta ', 'Södertälje,Södertälje ',\n",
       "       'Lestrem ', 'Montreal ', 'Hosur ', 'Jeddah ', 'Idukki,Kerala ',\n",
       "       'Bangalore/Bengaluru,Karnataka', 'Schwieberdinger,Ludwigsburg ',\n",
       "       'Durham,North Carolina ', 'Amsterdam,North Holland ',\n",
       "       'Friedrichshafen ', 'Vijayawada ', 'Bawal ', 'Hong Kong ',\n",
       "       'Cambridge,Massachusetts ', 'Bhilai/Bhillai,Chhattisgarh ',\n",
       "       'Greater Noida ', 'Neckarlsum ', 'Lincoln,Nebraska ',\n",
       "       'Scottsdale,AZ ', 'Basel,Basel City ', 'Mohali ', 'Roseland,NJ ',\n",
       "       'Buk-gu,Ulsan ', 'Greifensee,Zurich ', 'Cincinnati ',\n",
       "       'Burlington,Massachusetts ', 'North Carolina ',\n",
       "       'Gandhinagar,Gujarat ', 'Ulsan ', 'AUstin,Texas ',\n",
       "       'Midnapore,West Bengal ', 'Short Hills,New Jersey ', 'Beirut ',\n",
       "       'New York,New York, ', 'Allahabad/Prayagraj,Uttar Pradesh ',\n",
       "       'Wayne ', 'Vijayawada,Andhra Pradesh ', 'Vadodara ',\n",
       "       'Toranomon,Tokyo ', 'Hoofddorp,North Holand ', 'Gangnam-gu,Seoul ',\n",
       "       'Dhar,Madhya Pradesh ', 'Geneva ', 'Dankuni ',\n",
       "       'Paris,√éle-de-France ', 'Laguna Hills,California ',\n",
       "       'Gurgaon/Gurugram,Haryana', 'Burj Khalifa,Dubai ',\n",
       "       'Hollywood,Florida ', 'Udaipur,Rajasthan', 'Barcelona ',\n",
       "       'Becharaji ', 'Manhattan Beach,California ', 'Panaji/Panjim,Goa ',\n",
       "       'Bhiwadi,Rajasthan ', 'Richardson,TX ', 'Bronx,New York ',\n",
       "       'Hyderabad/Secunderabad ', 'Stockholm,Schaffhausen ',\n",
       "       'Racine,Wisconsin ', 'New Delhi,Delhi',\n",
       "       'Hemel Hempstead,Hertfordshire ', 'West Chester,Pennsylvania ',\n",
       "       'Okemos (MI) ', 'Windermere ', 'Morrisville,Carolina', 'Dammam ',\n",
       "       'Pohang-si ', 'Manipal,Karnataka ', 'Campbell,California ',\n",
       "       'Glenview,Illinois ', 'Rockford,IL', 'Rueil-Malmaison ',\n",
       "       'Houston ', 'Nacogdoches,Texas ', 'Montreuil,Seine-saint-denis ',\n",
       "       'Genoa ', 'Monrovia,California ', 'Aberdeen City,Aberdeen ',\n",
       "       'Johannesburg ', 'Naju,Jeollanam-do ', 'Cologne ', 'Naperville ',\n",
       "       'Redmond,Washington ', 'Raipur,Chhattisgarh ',\n",
       "       'Bangalore,Karnataka', 'Danbury,Connecticut ',\n",
       "       'Municipility Of Sant Feliu De Llobregat ', 'Chantilly,Virginia ',\n",
       "       'Kyoto ', 'Midland,Michigan ', 'Hoshiarpur ', 'New Britain ',\n",
       "       'Derry Township,Pennsylvania ', 'Londonderry ', 'Quebec ',\n",
       "       'Boston,MA ', 'Auburn Hills,Michigan ', 'Southlake,Texas ',\n",
       "       'Graz ', 'Rajkot,Gujrat ', 'Lalitpur ', 'Skipton,North Yorkshire ',\n",
       "       'Chennai,Tamil Nadu', 'St Helier,New Jersey ',\n",
       "       'Kansas City,Missouri ', 'Bothell,Washington ', 'Keonjhar ',\n",
       "       'Greenwood Village,CO ', 'King Of Prussia,Pennsylvania ',\n",
       "       'Burgos,Burgos ', 'Denver,Colorado ', 'Kathmandu ', 'Austin ',\n",
       "       'Orlando,Florida ', 'Rajnandgaon ', 'Pantin ', 'Edinburgh ',\n",
       "       'Heerlen ', 'Hosapete ', 'Banswara,Rajasthan ',\n",
       "       'Trelleborg,Baden-Württemberg ', 'Meridian,ID ',\n",
       "       'Aurangabad,Maharashtra', 'New Delhi', 'Palwal,Haryana ',\n",
       "       'Jacksonville,Florida', 'Giridih,Jharkhand ',\n",
       "       'Arlington,Virginia ', 'Nagoya,Aichi ', 'Bristol ', 'Fairfield ',\n",
       "       'Rahata ', 'Kolkata,West Bengal', 'Unnao,Uttar Pradesh ',\n",
       "       'Hoofddorp ', 'Bolingbrook,Illinois ', 'Pune,Maharashtra',\n",
       "       'Kottayam,Kerala ', 'Naidupet Mandal,Andhra Pradesh ',\n",
       "       'Bharuch,Gujarat ', 'Boulevard D’Avranches ',\n",
       "       'Santa Clara,California', 'Beitou District,Taipei ', 'Novi ',\n",
       "       'Kowloon ', 'Pithampur,Madhya Pradesh ', 'Pittsburgh ',\n",
       "       'Satna,Madhya Pradesh ', 'Marseille ', 'Newark,New Jersey ',\n",
       "       'Campodarsego,Padua ', 'McLean,Virginia ', 'St Louis,Missouri ',\n",
       "       'Kanpur ', 'Norwalk ', 'El Segundo,California ',\n",
       "       'Dordrecht,South Holland ', 'Howrah ', 'Lonavla ',\n",
       "       'Greenwood Village,Colorado ', 'Bellevue,Washington',\n",
       "       'Milan,Milan ', 'Wilmington,North Carolina ', 'Bhopal ',\n",
       "       'Buttrio,Udine ', 'Rajnandgaon,Chhattisgarh ', 'Raipur ',\n",
       "       'Dhanbad,Jharkhand ', 'Aberdeen ',\n",
       "       'Search ResultsWeb ResultsMalvern,Pennsylvania ',\n",
       "       'Pittsburgh,Pennsylvania ', 'North Ryde,NSW ',\n",
       "       'Framingham,Massachusetts ', 'Maryland ', 'Dundalk,County Louth ',\n",
       "       'Lowell,Massachusetts', 'Irving', 'Pfaffikon ', 'Anjar ',\n",
       "       'Dayton,OH ', 'Al Ain,Abu Dhabi ', 'Jamshedpur,Jharkhand ',\n",
       "       'Miami Beach,Florida ', 'Richmond,Verginia ', 'Tel Aviv,Tel Aviv ',\n",
       "       'Rapperswil-Jona', 'Boulder,Colorado ', 'Munich,Munich ',\n",
       "       'New Udupi,Karnataka ', 'Dallas,TX', 'Farmers Branch,Texas ',\n",
       "       'Milwaukee ', 'Albuquerque,New Mexico ', 'Bellevue,Washington ',\n",
       "       'Nuremberg,Bavaria ', 'Chengalpattu,Tamil Nadu ', 'Meerut ',\n",
       "       'Somerset,New Jersey ', 'St. Louis ', 'Ann Arbor,Detroit ',\n",
       "       'Amsterdam,North Holland', 'The Hague ', 'Coventry ',\n",
       "       'Leiden,Netherlands ', 'Huizhou ', 'Vitthal Udyognagar ',\n",
       "       'Tucson,Arizona ', 'Princeton,New Jersey', 'Solapur,Maharashtra ',\n",
       "       'Schaumburg,Illinois ', 'Kundli ', 'Gurgram ', 'Sioux Falls ',\n",
       "       'Oxford,Oxfordshire ', 'Jericho,New York ', 'California ',\n",
       "       'Fort Lauderdale,Florida ', 'Yongin-si,Gyeonggi-Do ', 'Massy ',\n",
       "       'Ahmednagar ', 'Kikuyu,Nairobi ', 'Lyngby ',\n",
       "       'Monterrey,Nuevo Leon ', 'Wayne,Pennsylvania ', 'Cergy,Val Doise ',\n",
       "       'Kapurthala\\xa0,Punjab ', 'Radnor Township,Pennsylvania ',\n",
       "       'Bharuch ', 'Balasore,Odisha ', 'Bilaspur ',\n",
       "       'Westport,Connecticut ', 'Kanagawa ', 'Thiruvananthapuram ',\n",
       "       'West Kingston,RI ', 'Secunderabad,Andhra Pradesh ',\n",
       "       'Fahaheel,Ahmadi ', 'Allahabad ', 'Plymouth ', 'Surat,Gujrat ',\n",
       "       'Kolhapur,Maharashtra ', 'Noblesville,Indiana ',\n",
       "       'Levallois-Perret ', 'Visakhapatnam ', 'Bagsværd ', 'Cambridge ',\n",
       "       'Canary Wharf,London ', 'Blue Ash,Ohio ', 'Herborn ',\n",
       "       'Mechanicsburg,Pennsylvania ', 'Menlo Park ', 'Lucknow ',\n",
       "       'Fort Worth ', 'Rotterdam,South Holland ', 'Nainital,Uttarakhand ',\n",
       "       'Howrah,West Bengal ', 'Wood Dale,Illinois ', 'Pune',\n",
       "       'Washington D.C ', 'Copenhagen,Capital Region', 'Wolfratshausen ',\n",
       "       'New York', 'Northfield,Illinois ', 'Boise,Idaho ',\n",
       "       'Union,New Jersey ', 'Downers Grove,Illinois ',\n",
       "       'Secaucus,New Jersey ', 'Rye Brook,New York ', 'Duluth ',\n",
       "       'Bellevue,Washington State ', 'Hamilton,Bermuda ',\n",
       "       'Lalitpur,Uttar Pradesh ', 'Siegburg,NRW ',\n",
       "       'Centreville,Virginia ', 'Madrid,Madrid '], dtype=object)"
      ]
     },
     "execution_count": 386,
     "metadata": {},
     "output_type": "execute_result"
    }
   ],
   "source": [
    "final_df['Hq'].unique()"
   ]
  },
  {
   "cell_type": "code",
   "execution_count": 387,
   "id": "e74d6d0e",
   "metadata": {},
   "outputs": [],
   "source": [
    "# since we can see some of the places are same but are differently spelt.\n",
    "# So we have to correct the spelling manually to perform proper data visualizations.\n",
    "\n",
    "final_df.replace('Mumbai ', 'Mumbai,Maharashtra ', inplace=True)\n",
    "final_df.replace('Navi Mumbai ', 'Mumbai,Maharashtra ', inplace=True)\n",
    "final_df.replace('Teaneck. New Jersey. ', 'Teaneck,NewJersey', inplace=True)\n",
    "final_df.replace('Dublin ', 'Dublin,Ireland ', inplace=True)\n",
    "final_df.replace('Seoul ', 'Seoul,SouthKorea ', inplace=True)\n",
    "final_df.replace('Seoul,Seoul ', 'Seoul,SouthKorea ', inplace=True)\n",
    "final_df.replace('Florida ', 'FLorida,USA ', inplace=True)\n",
    "final_df.replace('Gerlingen ', 'Gerlingen,Baden-Wuerttemberg ', inplace=True)\n",
    "final_df.replace('Durham ', 'Durham,England ', inplace=True)\n",
    "final_df.replace('Minnesota ', 'Minnetonka,Minnesota ', inplace=True)\n",
    "final_df.replace('Frankfurt ', 'Frankfurt,Germany ', inplace=True)\n",
    "final_df.replace('Charlotte ', 'Charlotte,NorthCarolina ', inplace=True)\n",
    "final_df.replace('Copenhagen ', 'Copenhagen,Denmark ', inplace=True)\n",
    "final_df.replace('Issy Les Moulineaux ', 'Issy Les Moulineaux,Paris ', inplace=True)\n",
    "final_df.replace('Zurich ', 'Zurich,Switzerland ', inplace=True)\n",
    "final_df.replace('Wong Chuk Hang ', 'Wong Chuk Hang,HongKong ', inplace=True)\n",
    "final_df.replace('Warren ', 'Warrenburg,Missouri ', inplace=True)\n",
    "final_df.replace('Allahabad ', 'Allahabad,Uttar Pradesh ', inplace=True)\n",
    "final_df.replace('Ahmednagar ', 'Ahmednagar,Maharashtra ', inplace=True)\n",
    "final_df.replace('Thiruvananthapuram ', 'Thiruvananthapuram,AndhraPradesh ', inplace=True)\n",
    "final_df.replace('Trivandrum/Thiruvananthapuram,Kerala ', 'Thiruvananthapuram,AndhraPradesh ', inplace=True)\n",
    "final_df.replace('Meerut ', 'Meerut,Uttar Pradesh ', inplace=True)\n",
    "final_df.replace('Coventry ', 'Coventry,England ', inplace=True)\n",
    "final_df.replace('California ', 'California,USA ', inplace=True)\n",
    "final_df.replace('Brisbane ', 'Brisbane,Australia ', inplace=True)\n",
    "final_df.replace('Dehradun ', 'Dehradun,Uttarakhand ', inplace=True)\n",
    "final_df.replace('Mysore ', 'Mysore,Karnataka ', inplace=True)\n",
    "final_df.replace('Sydney ', 'Sydney,New South Wales ', inplace=True)\n",
    "final_df.replace('Jakarta ', 'Jakarta,Indonesia ', inplace=True)\n",
    "final_df.replace('Hosur ', 'Hosur,Karnataka ', inplace=True)\n",
    "final_df.replace('Allahabad/Prayagraj,Uttar Pradesh ', 'Allahabad,Uttar Pradesh ', inplace=True)\n",
    "final_df.replace('Londonderry ', 'Londonderry,England ', inplace=True)\n",
    "final_df.replace('Kyoto ', 'Kyoto,Japan ', inplace=True)\n",
    "final_df.replace('Petaling Jaya ', 'Jaya,Indonesia ', inplace=True)\n",
    "final_df.replace('Hopkinton ', 'Hopkinton,Massachusetts ', inplace=True)\n",
    "final_df.replace('Aurangabad ', 'Aurangabad,Maharashtra ', inplace=True)\n",
    "final_df.replace('Moon Township ', 'Moon Township,Pennsylvania ', inplace=True)\n",
    "final_df.replace('Bonn ', 'Bonn,Germany ', inplace=True)\n",
    "final_df.replace('Hertfordshire ', 'Hertfordshire,England ', inplace=True)\n",
    "final_df.replace('Saint-Ouen ', 'Saint-Ouen,Paris ', inplace=True)\n",
    "final_df.replace('Herborn ', 'Herborn,Hesse ', inplace=True)\n",
    "final_df.replace('Plymouth ', 'Plymouth,Devon ', inplace=True)\n",
    "final_df.replace('Thiruvananthapuram ', 'Thiruvananthapuram,Kerala ', inplace=True)\n",
    "final_df.replace('Kapurthala\\xa0,Punjab ', 'Kapurthala,Punjab ', inplace=True)\n",
    "final_df.replace('Bilaspur ', 'Bilaspur,Chattisgarh ', inplace=True)\n",
    "final_df.replace('Cambridge ', 'Cambridge,England ', inplace=True)\n",
    "final_df.replace('Kanagawa ', 'Kanagawa,Japan ', inplace=True)\n",
    "final_df.replace('Lucknow ', 'Uttar Pradesh ', inplace=True)\n",
    "final_df.replace('Wolfratshausen ', 'Wolfratshausen,Bavaria ', inplace=True)\n",
    "final_df.replace('Velagapudi ', 'Velagapudi,Guntur ', inplace=True)\n",
    "final_df.replace('Visakhapatnam ', 'Visakhapatnam,AndhraPradesh ', inplace=True)\n",
    "final_df.replace('Levallois-Perret ', 'Levallois,Perret ', inplace=True)\n",
    "final_df.replace('Bharuch ', 'Bharuch,Gujarat ', inplace=True)\n",
    "final_df.replace('Lyngby ', 'Lyngby,Denmark ', inplace=True)\n",
    "final_df.replace('fuschl ', 'fuschl,Austria ', inplace=True)\n",
    "final_df.replace('Bengaluru/Bangalore,Karnataka ', 'Bengaluru,Karnataka ', inplace=True)\n",
    "final_df.replace('Bengaluru ', 'Bengaluru,Karnataka ', inplace=True)\n",
    "final_df.replace('Bangalore,Karnataka ', 'Bengaluru,Karnataka ', inplace=True)\n",
    "final_df.replace('Karnataka ', 'Bengaluru,Karnataka ', inplace=True)\n",
    "final_df.replace('Bangalore/Bengaluru,Karnataka ', 'Bengaluru,Karnataka ', inplace=True)\n",
    "final_df.replace('Bangalore ', 'Bengaluru,Karnataka ',inplace=True)\n",
    "final_df.replace('Bengaluru/Bangalore ', 'Bengaluru,Karnataka ', inplace=True)\n",
    "final_df.replace('Noida ', 'Noida,Uttar Pradesh ', inplace=True)\n",
    "final_df.replace('Greater Noida,Uttar Pradesh ', 'Noida,Uttar Pradesh ', inplace=True)\n",
    "final_df.replace('Navi Mumbai,Maharashtra ', 'Mumbai,Maharashtra ', inplace=True)\n",
    "final_df.replace('Navi Mumbai ', 'Mumbai,Maharashtra ', inplace=True)\n",
    "final_df.replace('Nashik ', 'Nashik,Maharashtra ', inplace=True)\n",
    "final_df.replace('Nasik/Nashik,Maharashtra ', 'Nashik,Maharashtra ', inplace=True)\n",
    "final_df.replace('Gurgaon/Gurugram,Haryana ', 'Gurgaon,Haryana ', inplace=True)\n",
    "final_df.replace('Gurgaon ', 'Gurgaon,Haryana ', inplace=True)\n",
    "final_df.replace('GURGAON ', 'Gurgaon,Haryana ', inplace=True)\n",
    "final_df.replace('Gurgram ', 'Gurgaon,Haryana ', inplace=True)\n",
    "final_df.replace('Gurgaon/Gurugram,Haryana', 'Gurgaon,Haryana ', inplace=True)\n",
    "final_df.replace('Gurugram ','Gurgaon,Haryana ', inplace=True)\n",
    "final_df.replace('Gurgaon/Gurugram ','Gurgaon,Haryana ', inplace=True)\n",
    "final_df.replace('Faridabad ','Faridabad,Haryana ', inplace=True)\n",
    "final_df.replace('Ahmedabad,Gujrat ', 'Ahmedabad,Gujarat ',inplace=True)\n",
    "final_df.replace('Ahmedabad ', 'Ahmedabad,Gujarat ',inplace=True)\n",
    "final_df.replace('Ahemdabad ', 'Ahmedabad,Gujarat ',inplace=True)\n",
    "final_df.replace('Ahmedabad,\\xa0India ', 'Ahmedabad,Gujarat ',inplace=True)\n",
    "final_df.replace('Gujrat ', 'Ahmedabad,Gujarat ',inplace=True)\n",
    "final_df.replace('New York,New York ','New York City,New York ', inplace=True)\n",
    "final_df.replace('New York,New York, ','New York City,New York ', inplace=True)\n",
    "final_df.replace('New York ','New York City,New York ', inplace=True)\n",
    "final_df.replace('New York','New York City,New York ', inplace=True)\n",
    "final_df.replace('New York,NY ','New York City,New York ', inplace=True)\n",
    "final_df.replace('Purchase,New York ','New York City,New York ', inplace=True)\n",
    "final_df.replace('Chennai ', 'Chennai,Tamil Nadu ', inplace=True)\n",
    "final_df.replace('Chennai', 'Chennai,Tamil Nadu ', inplace=True)\n",
    "final_df.replace('Chennai,Tamil Nadu', 'Chennai,Tamil Nadu ', inplace=True)\n",
    "final_df.replace('Paris ', 'Paris,France ', inplace=True)\n",
    "final_df.replace('Paris,Ile de France ', 'Paris,France ', inplace=True)\n",
    "final_df.replace('Paris,√éle-de-France ', 'Paris,France ', inplace=True)\n",
    "final_df.replace('Paris,Ile-de-France ', 'Paris,France ', inplace=True)\n",
    "final_df.replace('Delhi,NCT ', 'Delhi/NCR,Delhi ', inplace=True)\n",
    "final_df.replace('New Delhi', 'Delhi/NCR,Delhi ', inplace=True)\n",
    "final_df.replace('New Delhi,Delhi ', 'Delhi/NCR,Delhi ', inplace=True)\n",
    "final_df.replace('Delhi/NCR,New Delhi ', 'Delhi/NCR,Delhi ', inplace=True)\n",
    "final_df.replace('New Delhi ', 'Delhi/NCR,Delhi ', inplace=True)\n",
    "final_df.replace('Delhi ', 'Delhi/NCR,Delhi ', inplace=True)\n",
    "final_df.replace('New Delhi,New Delhi ', 'Delhi/NCR,Delhi ', inplace=True)\n",
    "final_df.replace('Pune ', 'Pune,Maharashtra ', inplace=True)\n",
    "final_df.replace('Lonavla ', 'Pune,Maharashtra ', inplace=True)\n",
    "final_df.replace('Pune', 'Pune,Maharashtra ', inplace=True)\n",
    "final_df.replace('Pune,Indore ', 'Pune,Maharashtra ', inplace=True)\n",
    "final_df.replace('Osaka ', 'Osaka,Japan ', inplace=True)\n",
    "final_df.replace('Geneva,Geneva ', 'Geneva,Switzerland ', inplace=True)\n",
    "final_df.replace('Abu Dhabi,Abu Dhabi ', 'Abu Dhabi,UAE ', inplace=True)\n",
    "final_df.replace('Al Ain,Abu Dhabi ', 'Abu Dhabi,UAE ', inplace=True)\n",
    "final_df.replace('Abu Dhabi ', 'Abu Dhabi,UAE ', inplace=True)\n",
    "final_df.replace('Kolkata ', 'West Bengal,Kolkata ', inplace=True)\n",
    "final_df.replace('Kolkata,India ', 'West Bengal,Kolkata ', inplace=True)\n",
    "final_df.replace('Kolkata,West Bengal', 'West Bengal,Kolkata ', inplace=True)\n",
    "final_df.replace('Hyderabad ', 'Hyderabad,Telangana ', inplace=True)\n",
    "final_df.replace('Hyderabad/Secunderabad ', 'Hyderabad,Telangana ', inplace=True)\n",
    "final_df.replace('Hyderabad/Secunderabad,Telangana ', 'Hyderabad,Telangana ', inplace=True)\n",
    "final_df.replace('Tokyo,Tokyo-to ', 'Tokyo,Japan ', inplace=True)\n",
    "final_df.replace('Tokyo,Tokyo ', 'Tokyo,Japan ', inplace=True)\n",
    "final_df.replace('Tokyo ', 'Tokyo,Japan ', inplace=True)\n",
    "final_df.replace('Toyota City,Aichi Prefecture ', 'Tokyo,Japan ', inplace=True)\n",
    "final_df.replace('London,London ', 'London,England ', inplace=True)\n",
    "final_df.replace('London ', 'London,England ', inplace=True)\n",
    "final_df.replace('Dubai,Dubai ', 'Dubai ,UAE ', inplace=True)\n",
    "final_df.replace('Dubai ', 'Dubai ,UAE ', inplace=True)\n",
    "final_df.replace('Ota City,Tokyo ', 'Tokyo,Japan ', inplace=True)\n",
    "final_df.replace('Jodhpur ', 'Jodhpur, Rajasthan ', inplace=True)\n"
   ]
  },
  {
   "cell_type": "code",
   "execution_count": 471,
   "id": "0f384a18",
   "metadata": {
    "scrolled": false
   },
   "outputs": [
    {
     "data": {
      "text/html": [
       "<div>\n",
       "<style scoped>\n",
       "    .dataframe tbody tr th:only-of-type {\n",
       "        vertical-align: middle;\n",
       "    }\n",
       "\n",
       "    .dataframe tbody tr th {\n",
       "        vertical-align: top;\n",
       "    }\n",
       "\n",
       "    .dataframe thead th {\n",
       "        text-align: right;\n",
       "    }\n",
       "</style>\n",
       "<table border=\"1\" class=\"dataframe\">\n",
       "  <thead>\n",
       "    <tr style=\"text-align: right;\">\n",
       "      <th></th>\n",
       "      <th>index</th>\n",
       "      <th>Company_name</th>\n",
       "      <th>Rating</th>\n",
       "      <th>Reviews</th>\n",
       "      <th>Company_type</th>\n",
       "      <th>Employees</th>\n",
       "      <th>Total_no_of_years</th>\n",
       "      <th>City</th>\n",
       "      <th>State/Country</th>\n",
       "      <th>Locations across the Globe</th>\n",
       "      <th>Work_location</th>\n",
       "    </tr>\n",
       "  </thead>\n",
       "  <tbody>\n",
       "    <tr>\n",
       "      <th>0</th>\n",
       "      <td>0</td>\n",
       "      <td>TCS</td>\n",
       "      <td>3.9</td>\n",
       "      <td>51300</td>\n",
       "      <td>Public</td>\n",
       "      <td>1Lakh+</td>\n",
       "      <td>55</td>\n",
       "      <td>Mumbai</td>\n",
       "      <td>Maharashtra</td>\n",
       "      <td>271</td>\n",
       "      <td>India</td>\n",
       "    </tr>\n",
       "    <tr>\n",
       "      <th>1</th>\n",
       "      <td>1</td>\n",
       "      <td>Accenture</td>\n",
       "      <td>4.1</td>\n",
       "      <td>32800</td>\n",
       "      <td>Public</td>\n",
       "      <td>1Lakh+</td>\n",
       "      <td>34</td>\n",
       "      <td>Dublin</td>\n",
       "      <td>Ireland</td>\n",
       "      <td>131</td>\n",
       "      <td>India</td>\n",
       "    </tr>\n",
       "    <tr>\n",
       "      <th>2</th>\n",
       "      <td>2</td>\n",
       "      <td>Cognizant</td>\n",
       "      <td>3.9</td>\n",
       "      <td>30200</td>\n",
       "      <td>Private</td>\n",
       "      <td>1Lakh+</td>\n",
       "      <td>29</td>\n",
       "      <td>Teaneck</td>\n",
       "      <td>NewJersey</td>\n",
       "      <td>101</td>\n",
       "      <td>India</td>\n",
       "    </tr>\n",
       "    <tr>\n",
       "      <th>3</th>\n",
       "      <td>3</td>\n",
       "      <td>ICICI Bank</td>\n",
       "      <td>4.0</td>\n",
       "      <td>34100</td>\n",
       "      <td>Public</td>\n",
       "      <td>1Lakh+</td>\n",
       "      <td>29</td>\n",
       "      <td>Mumbai</td>\n",
       "      <td>Maharashtra</td>\n",
       "      <td>1058</td>\n",
       "      <td>India</td>\n",
       "    </tr>\n",
       "    <tr>\n",
       "      <th>4</th>\n",
       "      <td>4</td>\n",
       "      <td>HDFC Bank</td>\n",
       "      <td>4.0</td>\n",
       "      <td>40000</td>\n",
       "      <td>Public</td>\n",
       "      <td>50k-1Lakh</td>\n",
       "      <td>29</td>\n",
       "      <td>Mumbai</td>\n",
       "      <td>Maharashtra</td>\n",
       "      <td>1270</td>\n",
       "      <td>India</td>\n",
       "    </tr>\n",
       "    <tr>\n",
       "      <th>...</th>\n",
       "      <td>...</td>\n",
       "      <td>...</td>\n",
       "      <td>...</td>\n",
       "      <td>...</td>\n",
       "      <td>...</td>\n",
       "      <td>...</td>\n",
       "      <td>...</td>\n",
       "      <td>...</td>\n",
       "      <td>...</td>\n",
       "      <td>...</td>\n",
       "      <td>...</td>\n",
       "    </tr>\n",
       "    <tr>\n",
       "      <th>4004</th>\n",
       "      <td>4004</td>\n",
       "      <td>Lifelong India</td>\n",
       "      <td>4.2</td>\n",
       "      <td>120</td>\n",
       "      <td>Private</td>\n",
       "      <td>501-1k</td>\n",
       "      <td>38</td>\n",
       "      <td>Delhi/NCR</td>\n",
       "      <td>Delhi</td>\n",
       "      <td>3</td>\n",
       "      <td>India</td>\n",
       "    </tr>\n",
       "    <tr>\n",
       "      <th>4005</th>\n",
       "      <td>4005</td>\n",
       "      <td>Namdev Finvest</td>\n",
       "      <td>4.8</td>\n",
       "      <td>120</td>\n",
       "      <td>Private</td>\n",
       "      <td>201-500</td>\n",
       "      <td>26</td>\n",
       "      <td>Jaipur</td>\n",
       "      <td>Rajasthan</td>\n",
       "      <td>21</td>\n",
       "      <td>India</td>\n",
       "    </tr>\n",
       "    <tr>\n",
       "      <th>4006</th>\n",
       "      <td>4006</td>\n",
       "      <td>Carnival Group</td>\n",
       "      <td>3.8</td>\n",
       "      <td>126</td>\n",
       "      <td>Private</td>\n",
       "      <td>51-200</td>\n",
       "      <td>16</td>\n",
       "      <td>Mumbai</td>\n",
       "      <td>Maharashtra</td>\n",
       "      <td>33</td>\n",
       "      <td>India</td>\n",
       "    </tr>\n",
       "    <tr>\n",
       "      <th>4007</th>\n",
       "      <td>4007</td>\n",
       "      <td>National Securit...</td>\n",
       "      <td>3.5</td>\n",
       "      <td>119</td>\n",
       "      <td>Private</td>\n",
       "      <td>201-500</td>\n",
       "      <td>27</td>\n",
       "      <td>Mumbai</td>\n",
       "      <td>Maharashtra</td>\n",
       "      <td>4</td>\n",
       "      <td>India</td>\n",
       "    </tr>\n",
       "    <tr>\n",
       "      <th>4008</th>\n",
       "      <td>4008</td>\n",
       "      <td>TIL</td>\n",
       "      <td>3.7</td>\n",
       "      <td>119</td>\n",
       "      <td>Public</td>\n",
       "      <td>501-1k</td>\n",
       "      <td>79</td>\n",
       "      <td>WestBengal</td>\n",
       "      <td>Kolkata</td>\n",
       "      <td>13</td>\n",
       "      <td>India</td>\n",
       "    </tr>\n",
       "  </tbody>\n",
       "</table>\n",
       "<p>4009 rows × 11 columns</p>\n",
       "</div>"
      ],
      "text/plain": [
       "      index         Company_name  Rating  Reviews Company_type  Employees  \\\n",
       "0         0                  TCS     3.9    51300       Public     1Lakh+   \n",
       "1         1            Accenture     4.1    32800       Public     1Lakh+   \n",
       "2         2            Cognizant     3.9    30200      Private     1Lakh+   \n",
       "3         3           ICICI Bank     4.0    34100       Public     1Lakh+   \n",
       "4         4            HDFC Bank     4.0    40000       Public  50k-1Lakh   \n",
       "...     ...                  ...     ...      ...          ...        ...   \n",
       "4004   4004       Lifelong India     4.2      120      Private     501-1k   \n",
       "4005   4005       Namdev Finvest     4.8      120      Private    201-500   \n",
       "4006   4006       Carnival Group     3.8      126      Private     51-200   \n",
       "4007   4007  National Securit...     3.5      119      Private    201-500   \n",
       "4008   4008                  TIL     3.7      119       Public     501-1k   \n",
       "\n",
       "      Total_no_of_years        City State/Country  Locations across the Globe  \\\n",
       "0                    55      Mumbai   Maharashtra                         271   \n",
       "1                    34      Dublin       Ireland                         131   \n",
       "2                    29     Teaneck     NewJersey                         101   \n",
       "3                    29      Mumbai   Maharashtra                        1058   \n",
       "4                    29      Mumbai   Maharashtra                        1270   \n",
       "...                 ...         ...           ...                         ...   \n",
       "4004                 38   Delhi/NCR         Delhi                           3   \n",
       "4005                 26      Jaipur     Rajasthan                          21   \n",
       "4006                 16      Mumbai   Maharashtra                          33   \n",
       "4007                 27      Mumbai   Maharashtra                           4   \n",
       "4008                 79  WestBengal       Kolkata                          13   \n",
       "\n",
       "     Work_location  \n",
       "0            India  \n",
       "1            India  \n",
       "2            India  \n",
       "3            India  \n",
       "4            India  \n",
       "...            ...  \n",
       "4004         India  \n",
       "4005         India  \n",
       "4006         India  \n",
       "4007         India  \n",
       "4008         India  \n",
       "\n",
       "[4009 rows x 11 columns]"
      ]
     },
     "execution_count": 471,
     "metadata": {},
     "output_type": "execute_result"
    }
   ],
   "source": [
    "# Setting the index in order.\n",
    "\n",
    "final_df.reset_index()\n"
   ]
  },
  {
   "cell_type": "code",
   "execution_count": 389,
   "id": "d2faa941",
   "metadata": {},
   "outputs": [
    {
     "data": {
      "text/html": [
       "<div>\n",
       "<style scoped>\n",
       "    .dataframe tbody tr th:only-of-type {\n",
       "        vertical-align: middle;\n",
       "    }\n",
       "\n",
       "    .dataframe tbody tr th {\n",
       "        vertical-align: top;\n",
       "    }\n",
       "\n",
       "    .dataframe thead th {\n",
       "        text-align: right;\n",
       "    }\n",
       "</style>\n",
       "<table border=\"1\" class=\"dataframe\">\n",
       "  <thead>\n",
       "    <tr style=\"text-align: right;\">\n",
       "      <th></th>\n",
       "      <th>0</th>\n",
       "      <th>1</th>\n",
       "    </tr>\n",
       "  </thead>\n",
       "  <tbody>\n",
       "    <tr>\n",
       "      <th>0</th>\n",
       "      <td>Mumbai</td>\n",
       "      <td>Maharashtra</td>\n",
       "    </tr>\n",
       "    <tr>\n",
       "      <th>1</th>\n",
       "      <td>Dublin</td>\n",
       "      <td>Ireland</td>\n",
       "    </tr>\n",
       "    <tr>\n",
       "      <th>2</th>\n",
       "      <td>Teaneck</td>\n",
       "      <td>NewJersey</td>\n",
       "    </tr>\n",
       "    <tr>\n",
       "      <th>3</th>\n",
       "      <td>Mumbai</td>\n",
       "      <td>Maharashtra</td>\n",
       "    </tr>\n",
       "    <tr>\n",
       "      <th>4</th>\n",
       "      <td>Mumbai</td>\n",
       "      <td>Maharashtra</td>\n",
       "    </tr>\n",
       "    <tr>\n",
       "      <th>...</th>\n",
       "      <td>...</td>\n",
       "      <td>...</td>\n",
       "    </tr>\n",
       "    <tr>\n",
       "      <th>4463</th>\n",
       "      <td>Delhi/NCR</td>\n",
       "      <td>Delhi</td>\n",
       "    </tr>\n",
       "    <tr>\n",
       "      <th>4465</th>\n",
       "      <td>Jaipur</td>\n",
       "      <td>Rajasthan</td>\n",
       "    </tr>\n",
       "    <tr>\n",
       "      <th>4466</th>\n",
       "      <td>Mumbai</td>\n",
       "      <td>Maharashtra</td>\n",
       "    </tr>\n",
       "    <tr>\n",
       "      <th>4467</th>\n",
       "      <td>Mumbai</td>\n",
       "      <td>Maharashtra</td>\n",
       "    </tr>\n",
       "    <tr>\n",
       "      <th>4468</th>\n",
       "      <td>West Bengal</td>\n",
       "      <td>Kolkata</td>\n",
       "    </tr>\n",
       "  </tbody>\n",
       "</table>\n",
       "<p>4049 rows × 2 columns</p>\n",
       "</div>"
      ],
      "text/plain": [
       "                0             1\n",
       "0          Mumbai  Maharashtra \n",
       "1          Dublin      Ireland \n",
       "2         Teaneck     NewJersey\n",
       "3          Mumbai  Maharashtra \n",
       "4          Mumbai  Maharashtra \n",
       "...           ...           ...\n",
       "4463    Delhi/NCR        Delhi \n",
       "4465       Jaipur    Rajasthan \n",
       "4466       Mumbai  Maharashtra \n",
       "4467       Mumbai  Maharashtra \n",
       "4468  West Bengal      Kolkata \n",
       "\n",
       "[4049 rows x 2 columns]"
      ]
     },
     "execution_count": 389,
     "metadata": {},
     "output_type": "execute_result"
    }
   ],
   "source": [
    "# Separating the values of 'Hq' for better visualization.\n",
    "\n",
    "new=final_df['Hq'].str.split(',', n=1, expand=True)\n",
    "new"
   ]
  },
  {
   "cell_type": "code",
   "execution_count": 390,
   "id": "028b7a43",
   "metadata": {},
   "outputs": [],
   "source": [
    "final_df['city']=new[0]"
   ]
  },
  {
   "cell_type": "code",
   "execution_count": 391,
   "id": "b75a65f3",
   "metadata": {},
   "outputs": [],
   "source": [
    "final_df['State']=new[1]"
   ]
  },
  {
   "cell_type": "code",
   "execution_count": 392,
   "id": "abdc68d1",
   "metadata": {},
   "outputs": [
    {
     "data": {
      "text/html": [
       "<div>\n",
       "<style scoped>\n",
       "    .dataframe tbody tr th:only-of-type {\n",
       "        vertical-align: middle;\n",
       "    }\n",
       "\n",
       "    .dataframe tbody tr th {\n",
       "        vertical-align: top;\n",
       "    }\n",
       "\n",
       "    .dataframe thead th {\n",
       "        text-align: right;\n",
       "    }\n",
       "</style>\n",
       "<table border=\"1\" class=\"dataframe\">\n",
       "  <thead>\n",
       "    <tr style=\"text-align: right;\">\n",
       "      <th></th>\n",
       "      <th>name</th>\n",
       "      <th>rating</th>\n",
       "      <th>review</th>\n",
       "      <th>ctype</th>\n",
       "      <th>location</th>\n",
       "      <th>employees</th>\n",
       "      <th>total_no_of_years</th>\n",
       "      <th>Hq</th>\n",
       "      <th>city</th>\n",
       "      <th>State</th>\n",
       "    </tr>\n",
       "  </thead>\n",
       "  <tbody>\n",
       "    <tr>\n",
       "      <th>0</th>\n",
       "      <td>TCS</td>\n",
       "      <td>3.9</td>\n",
       "      <td>51.3k</td>\n",
       "      <td>Public</td>\n",
       "      <td>Mumbai,Maharashtra + 271 more</td>\n",
       "      <td>1 Lakh+ Employees (India)</td>\n",
       "      <td>55</td>\n",
       "      <td>Mumbai,Maharashtra</td>\n",
       "      <td>Mumbai</td>\n",
       "      <td>Maharashtra</td>\n",
       "    </tr>\n",
       "    <tr>\n",
       "      <th>1</th>\n",
       "      <td>Accenture</td>\n",
       "      <td>4.1</td>\n",
       "      <td>32.8k</td>\n",
       "      <td>Public</td>\n",
       "      <td>Dublin + 131 more</td>\n",
       "      <td>1 Lakh+ Employees (India)</td>\n",
       "      <td>34</td>\n",
       "      <td>Dublin,Ireland</td>\n",
       "      <td>Dublin</td>\n",
       "      <td>Ireland</td>\n",
       "    </tr>\n",
       "    <tr>\n",
       "      <th>2</th>\n",
       "      <td>Cognizant</td>\n",
       "      <td>3.9</td>\n",
       "      <td>30.2k</td>\n",
       "      <td>Private</td>\n",
       "      <td>Teaneck. New Jersey. + 101 more</td>\n",
       "      <td>1 Lakh+ Employees (India)</td>\n",
       "      <td>29</td>\n",
       "      <td>Teaneck,NewJersey</td>\n",
       "      <td>Teaneck</td>\n",
       "      <td>NewJersey</td>\n",
       "    </tr>\n",
       "    <tr>\n",
       "      <th>3</th>\n",
       "      <td>ICICI Bank</td>\n",
       "      <td>4.0</td>\n",
       "      <td>34.1k</td>\n",
       "      <td>Public</td>\n",
       "      <td>Mumbai,Maharashtra + 1058 more</td>\n",
       "      <td>1 Lakh+ Employees (India)</td>\n",
       "      <td>29</td>\n",
       "      <td>Mumbai,Maharashtra</td>\n",
       "      <td>Mumbai</td>\n",
       "      <td>Maharashtra</td>\n",
       "    </tr>\n",
       "    <tr>\n",
       "      <th>4</th>\n",
       "      <td>HDFC Bank</td>\n",
       "      <td>4.0</td>\n",
       "      <td>40k</td>\n",
       "      <td>Public</td>\n",
       "      <td>Mumbai,Maharashtra + 1270 more</td>\n",
       "      <td>50k-1 Lakh Employees (India)</td>\n",
       "      <td>29</td>\n",
       "      <td>Mumbai,Maharashtra</td>\n",
       "      <td>Mumbai</td>\n",
       "      <td>Maharashtra</td>\n",
       "    </tr>\n",
       "  </tbody>\n",
       "</table>\n",
       "</div>"
      ],
      "text/plain": [
       "         name rating review    ctype                         location  \\\n",
       "0         TCS    3.9  51.3k   Public    Mumbai,Maharashtra + 271 more   \n",
       "1   Accenture    4.1  32.8k   Public                Dublin + 131 more   \n",
       "2   Cognizant    3.9  30.2k  Private  Teaneck. New Jersey. + 101 more   \n",
       "3  ICICI Bank    4.0  34.1k   Public   Mumbai,Maharashtra + 1058 more   \n",
       "4   HDFC Bank    4.0    40k   Public   Mumbai,Maharashtra + 1270 more   \n",
       "\n",
       "                      employees total_no_of_years                   Hq  \\\n",
       "0     1 Lakh+ Employees (India)                55  Mumbai,Maharashtra    \n",
       "1     1 Lakh+ Employees (India)                34      Dublin,Ireland    \n",
       "2     1 Lakh+ Employees (India)                29    Teaneck,NewJersey   \n",
       "3     1 Lakh+ Employees (India)                29  Mumbai,Maharashtra    \n",
       "4  50k-1 Lakh Employees (India)                29  Mumbai,Maharashtra    \n",
       "\n",
       "      city         State  \n",
       "0   Mumbai  Maharashtra   \n",
       "1   Dublin      Ireland   \n",
       "2  Teaneck     NewJersey  \n",
       "3   Mumbai  Maharashtra   \n",
       "4   Mumbai  Maharashtra   "
      ]
     },
     "execution_count": 392,
     "metadata": {},
     "output_type": "execute_result"
    }
   ],
   "source": [
    "final_df.head()"
   ]
  },
  {
   "cell_type": "code",
   "execution_count": 393,
   "id": "f8036dfd",
   "metadata": {},
   "outputs": [
    {
     "name": "stdout",
     "output_type": "stream",
     "text": [
      "<class 'pandas.core.frame.DataFrame'>\n",
      "Int64Index: 4049 entries, 0 to 4468\n",
      "Data columns (total 10 columns):\n",
      " #   Column             Non-Null Count  Dtype \n",
      "---  ------             --------------  ----- \n",
      " 0   name               4049 non-null   object\n",
      " 1   rating             4049 non-null   object\n",
      " 2   review             4049 non-null   object\n",
      " 3   ctype              4049 non-null   object\n",
      " 4   location           4049 non-null   object\n",
      " 5   employees          4049 non-null   object\n",
      " 6   total_no_of_years  4049 non-null   object\n",
      " 7   Hq                 4049 non-null   object\n",
      " 8   city               4049 non-null   object\n",
      " 9   State              3723 non-null   object\n",
      "dtypes: object(10)\n",
      "memory usage: 348.0+ KB\n"
     ]
    }
   ],
   "source": [
    "final_df.info()"
   ]
  },
  {
   "cell_type": "code",
   "execution_count": 394,
   "id": "8a2dda16",
   "metadata": {},
   "outputs": [],
   "source": [
    "# Converting the object data type to integer\n",
    "\n",
    "final_df['rating']=final_df['rating'].astype('float')\n",
    "final_df['total_no_of_years']=final_df['total_no_of_years'].astype('int')"
   ]
  },
  {
   "cell_type": "code",
   "execution_count": 395,
   "id": "32a65435",
   "metadata": {},
   "outputs": [
    {
     "name": "stdout",
     "output_type": "stream",
     "text": [
      "<class 'pandas.core.frame.DataFrame'>\n",
      "Int64Index: 4049 entries, 0 to 4468\n",
      "Data columns (total 10 columns):\n",
      " #   Column             Non-Null Count  Dtype  \n",
      "---  ------             --------------  -----  \n",
      " 0   name               4049 non-null   object \n",
      " 1   rating             4049 non-null   float64\n",
      " 2   review             4049 non-null   object \n",
      " 3   ctype              4049 non-null   object \n",
      " 4   location           4049 non-null   object \n",
      " 5   employees          4049 non-null   object \n",
      " 6   total_no_of_years  4049 non-null   int32  \n",
      " 7   Hq                 4049 non-null   object \n",
      " 8   city               4049 non-null   object \n",
      " 9   State              3723 non-null   object \n",
      "dtypes: float64(1), int32(1), object(8)\n",
      "memory usage: 332.1+ KB\n"
     ]
    }
   ],
   "source": [
    "final_df.info()"
   ]
  },
  {
   "cell_type": "code",
   "execution_count": 396,
   "id": "914d866a",
   "metadata": {},
   "outputs": [],
   "source": [
    "# Renaming the columns for better readability \n",
    "\n",
    "final_df.rename(columns={'name':'Company_name', 'review':'Reviews','rating':'Rating', 'ctype':'Company_type','location':'Total_Locations', 'employees':'Employees','total_no_of_years':'Total_no_of_years'}, inplace=True)\n"
   ]
  },
  {
   "cell_type": "code",
   "execution_count": 397,
   "id": "3cf435e7",
   "metadata": {},
   "outputs": [
    {
     "data": {
      "text/html": [
       "<div>\n",
       "<style scoped>\n",
       "    .dataframe tbody tr th:only-of-type {\n",
       "        vertical-align: middle;\n",
       "    }\n",
       "\n",
       "    .dataframe tbody tr th {\n",
       "        vertical-align: top;\n",
       "    }\n",
       "\n",
       "    .dataframe thead th {\n",
       "        text-align: right;\n",
       "    }\n",
       "</style>\n",
       "<table border=\"1\" class=\"dataframe\">\n",
       "  <thead>\n",
       "    <tr style=\"text-align: right;\">\n",
       "      <th></th>\n",
       "      <th>Company_name</th>\n",
       "      <th>Rating</th>\n",
       "      <th>Reviews</th>\n",
       "      <th>Company_type</th>\n",
       "      <th>Total_Locations</th>\n",
       "      <th>Employees</th>\n",
       "      <th>Total_no_of_years</th>\n",
       "      <th>Hq</th>\n",
       "      <th>city</th>\n",
       "      <th>State</th>\n",
       "    </tr>\n",
       "  </thead>\n",
       "  <tbody>\n",
       "    <tr>\n",
       "      <th>0</th>\n",
       "      <td>TCS</td>\n",
       "      <td>3.9</td>\n",
       "      <td>51.3k</td>\n",
       "      <td>Public</td>\n",
       "      <td>Mumbai,Maharashtra + 271 more</td>\n",
       "      <td>1 Lakh+ Employees (India)</td>\n",
       "      <td>55</td>\n",
       "      <td>Mumbai,Maharashtra</td>\n",
       "      <td>Mumbai</td>\n",
       "      <td>Maharashtra</td>\n",
       "    </tr>\n",
       "  </tbody>\n",
       "</table>\n",
       "</div>"
      ],
      "text/plain": [
       "  Company_name  Rating Reviews Company_type                Total_Locations  \\\n",
       "0          TCS     3.9   51.3k       Public  Mumbai,Maharashtra + 271 more   \n",
       "\n",
       "                   Employees  Total_no_of_years                   Hq    city  \\\n",
       "0  1 Lakh+ Employees (India)                 55  Mumbai,Maharashtra   Mumbai   \n",
       "\n",
       "          State  \n",
       "0  Maharashtra   "
      ]
     },
     "execution_count": 397,
     "metadata": {},
     "output_type": "execute_result"
    }
   ],
   "source": [
    "final_df.head(1)"
   ]
  },
  {
   "cell_type": "code",
   "execution_count": 398,
   "id": "39c5240a",
   "metadata": {},
   "outputs": [
    {
     "data": {
      "text/html": [
       "<div>\n",
       "<style scoped>\n",
       "    .dataframe tbody tr th:only-of-type {\n",
       "        vertical-align: middle;\n",
       "    }\n",
       "\n",
       "    .dataframe tbody tr th {\n",
       "        vertical-align: top;\n",
       "    }\n",
       "\n",
       "    .dataframe thead th {\n",
       "        text-align: right;\n",
       "    }\n",
       "</style>\n",
       "<table border=\"1\" class=\"dataframe\">\n",
       "  <thead>\n",
       "    <tr style=\"text-align: right;\">\n",
       "      <th></th>\n",
       "      <th>0</th>\n",
       "      <th>1</th>\n",
       "    </tr>\n",
       "  </thead>\n",
       "  <tbody>\n",
       "    <tr>\n",
       "      <th>0</th>\n",
       "      <td>Mumbai,Maharashtra</td>\n",
       "      <td>271 more</td>\n",
       "    </tr>\n",
       "    <tr>\n",
       "      <th>1</th>\n",
       "      <td>Dublin</td>\n",
       "      <td>131 more</td>\n",
       "    </tr>\n",
       "    <tr>\n",
       "      <th>2</th>\n",
       "      <td>Teaneck. New Jersey.</td>\n",
       "      <td>101 more</td>\n",
       "    </tr>\n",
       "    <tr>\n",
       "      <th>3</th>\n",
       "      <td>Mumbai,Maharashtra</td>\n",
       "      <td>1058 more</td>\n",
       "    </tr>\n",
       "    <tr>\n",
       "      <th>4</th>\n",
       "      <td>Mumbai,Maharashtra</td>\n",
       "      <td>1270 more</td>\n",
       "    </tr>\n",
       "    <tr>\n",
       "      <th>...</th>\n",
       "      <td>...</td>\n",
       "      <td>...</td>\n",
       "    </tr>\n",
       "    <tr>\n",
       "      <th>4463</th>\n",
       "      <td>Delhi/NCR,Delhi</td>\n",
       "      <td>3 more</td>\n",
       "    </tr>\n",
       "    <tr>\n",
       "      <th>4465</th>\n",
       "      <td>Jaipur,Rajasthan</td>\n",
       "      <td>21 more</td>\n",
       "    </tr>\n",
       "    <tr>\n",
       "      <th>4466</th>\n",
       "      <td>Mumbai</td>\n",
       "      <td>33 more</td>\n",
       "    </tr>\n",
       "    <tr>\n",
       "      <th>4467</th>\n",
       "      <td>Mumbai,Maharashtra</td>\n",
       "      <td>4 more</td>\n",
       "    </tr>\n",
       "    <tr>\n",
       "      <th>4468</th>\n",
       "      <td>Kolkata</td>\n",
       "      <td>13 more</td>\n",
       "    </tr>\n",
       "  </tbody>\n",
       "</table>\n",
       "<p>4049 rows × 2 columns</p>\n",
       "</div>"
      ],
      "text/plain": [
       "                          0           1\n",
       "0       Mumbai,Maharashtra     271 more\n",
       "1                   Dublin     131 more\n",
       "2     Teaneck. New Jersey.     101 more\n",
       "3       Mumbai,Maharashtra    1058 more\n",
       "4       Mumbai,Maharashtra    1270 more\n",
       "...                     ...         ...\n",
       "4463       Delhi/NCR,Delhi       3 more\n",
       "4465      Jaipur,Rajasthan      21 more\n",
       "4466                Mumbai      33 more\n",
       "4467    Mumbai,Maharashtra       4 more\n",
       "4468               Kolkata      13 more\n",
       "\n",
       "[4049 rows x 2 columns]"
      ]
     },
     "execution_count": 398,
     "metadata": {},
     "output_type": "execute_result"
    }
   ],
   "source": [
    "# Separating the 'Total_Locations' to get the integer part.\n",
    "\n",
    "location=final_df['Total_Locations'].str.split('+', n=1, expand=True)\n",
    "location"
   ]
  },
  {
   "cell_type": "code",
   "execution_count": 399,
   "id": "bf189753",
   "metadata": {},
   "outputs": [],
   "source": [
    "final_df['Locations across the Globe']=location[1].str.replace('more', '')"
   ]
  },
  {
   "cell_type": "code",
   "execution_count": 400,
   "id": "ab6e8d1d",
   "metadata": {},
   "outputs": [
    {
     "data": {
      "text/html": [
       "<div>\n",
       "<style scoped>\n",
       "    .dataframe tbody tr th:only-of-type {\n",
       "        vertical-align: middle;\n",
       "    }\n",
       "\n",
       "    .dataframe tbody tr th {\n",
       "        vertical-align: top;\n",
       "    }\n",
       "\n",
       "    .dataframe thead th {\n",
       "        text-align: right;\n",
       "    }\n",
       "</style>\n",
       "<table border=\"1\" class=\"dataframe\">\n",
       "  <thead>\n",
       "    <tr style=\"text-align: right;\">\n",
       "      <th></th>\n",
       "      <th>Company_name</th>\n",
       "      <th>Rating</th>\n",
       "      <th>Reviews</th>\n",
       "      <th>Company_type</th>\n",
       "      <th>Total_Locations</th>\n",
       "      <th>Employees</th>\n",
       "      <th>Total_no_of_years</th>\n",
       "      <th>Hq</th>\n",
       "      <th>city</th>\n",
       "      <th>State</th>\n",
       "      <th>Locations across the Globe</th>\n",
       "    </tr>\n",
       "  </thead>\n",
       "  <tbody>\n",
       "    <tr>\n",
       "      <th>0</th>\n",
       "      <td>TCS</td>\n",
       "      <td>3.9</td>\n",
       "      <td>51.3k</td>\n",
       "      <td>Public</td>\n",
       "      <td>Mumbai,Maharashtra + 271 more</td>\n",
       "      <td>1 Lakh+ Employees (India)</td>\n",
       "      <td>55</td>\n",
       "      <td>Mumbai,Maharashtra</td>\n",
       "      <td>Mumbai</td>\n",
       "      <td>Maharashtra</td>\n",
       "      <td>271</td>\n",
       "    </tr>\n",
       "    <tr>\n",
       "      <th>1</th>\n",
       "      <td>Accenture</td>\n",
       "      <td>4.1</td>\n",
       "      <td>32.8k</td>\n",
       "      <td>Public</td>\n",
       "      <td>Dublin + 131 more</td>\n",
       "      <td>1 Lakh+ Employees (India)</td>\n",
       "      <td>34</td>\n",
       "      <td>Dublin,Ireland</td>\n",
       "      <td>Dublin</td>\n",
       "      <td>Ireland</td>\n",
       "      <td>131</td>\n",
       "    </tr>\n",
       "    <tr>\n",
       "      <th>2</th>\n",
       "      <td>Cognizant</td>\n",
       "      <td>3.9</td>\n",
       "      <td>30.2k</td>\n",
       "      <td>Private</td>\n",
       "      <td>Teaneck. New Jersey. + 101 more</td>\n",
       "      <td>1 Lakh+ Employees (India)</td>\n",
       "      <td>29</td>\n",
       "      <td>Teaneck,NewJersey</td>\n",
       "      <td>Teaneck</td>\n",
       "      <td>NewJersey</td>\n",
       "      <td>101</td>\n",
       "    </tr>\n",
       "    <tr>\n",
       "      <th>3</th>\n",
       "      <td>ICICI Bank</td>\n",
       "      <td>4.0</td>\n",
       "      <td>34.1k</td>\n",
       "      <td>Public</td>\n",
       "      <td>Mumbai,Maharashtra + 1058 more</td>\n",
       "      <td>1 Lakh+ Employees (India)</td>\n",
       "      <td>29</td>\n",
       "      <td>Mumbai,Maharashtra</td>\n",
       "      <td>Mumbai</td>\n",
       "      <td>Maharashtra</td>\n",
       "      <td>1058</td>\n",
       "    </tr>\n",
       "    <tr>\n",
       "      <th>4</th>\n",
       "      <td>HDFC Bank</td>\n",
       "      <td>4.0</td>\n",
       "      <td>40k</td>\n",
       "      <td>Public</td>\n",
       "      <td>Mumbai,Maharashtra + 1270 more</td>\n",
       "      <td>50k-1 Lakh Employees (India)</td>\n",
       "      <td>29</td>\n",
       "      <td>Mumbai,Maharashtra</td>\n",
       "      <td>Mumbai</td>\n",
       "      <td>Maharashtra</td>\n",
       "      <td>1270</td>\n",
       "    </tr>\n",
       "  </tbody>\n",
       "</table>\n",
       "</div>"
      ],
      "text/plain": [
       "  Company_name  Rating Reviews Company_type                  Total_Locations  \\\n",
       "0          TCS     3.9   51.3k       Public    Mumbai,Maharashtra + 271 more   \n",
       "1    Accenture     4.1   32.8k       Public                Dublin + 131 more   \n",
       "2    Cognizant     3.9   30.2k      Private  Teaneck. New Jersey. + 101 more   \n",
       "3   ICICI Bank     4.0   34.1k       Public   Mumbai,Maharashtra + 1058 more   \n",
       "4    HDFC Bank     4.0     40k       Public   Mumbai,Maharashtra + 1270 more   \n",
       "\n",
       "                      Employees  Total_no_of_years                   Hq  \\\n",
       "0     1 Lakh+ Employees (India)                 55  Mumbai,Maharashtra    \n",
       "1     1 Lakh+ Employees (India)                 34      Dublin,Ireland    \n",
       "2     1 Lakh+ Employees (India)                 29    Teaneck,NewJersey   \n",
       "3     1 Lakh+ Employees (India)                 29  Mumbai,Maharashtra    \n",
       "4  50k-1 Lakh Employees (India)                 29  Mumbai,Maharashtra    \n",
       "\n",
       "      city         State Locations across the Globe  \n",
       "0   Mumbai  Maharashtra                        271   \n",
       "1   Dublin      Ireland                        131   \n",
       "2  Teaneck     NewJersey                       101   \n",
       "3   Mumbai  Maharashtra                       1058   \n",
       "4   Mumbai  Maharashtra                       1270   "
      ]
     },
     "execution_count": 400,
     "metadata": {},
     "output_type": "execute_result"
    }
   ],
   "source": [
    "final_df.head()"
   ]
  },
  {
   "cell_type": "code",
   "execution_count": 401,
   "id": "3bdf67fc",
   "metadata": {},
   "outputs": [],
   "source": [
    "final_df.drop(columns=['Total_Locations', 'Hq'], inplace=True)"
   ]
  },
  {
   "cell_type": "code",
   "execution_count": 402,
   "id": "24d8bbbe",
   "metadata": {},
   "outputs": [
    {
     "data": {
      "text/html": [
       "<div>\n",
       "<style scoped>\n",
       "    .dataframe tbody tr th:only-of-type {\n",
       "        vertical-align: middle;\n",
       "    }\n",
       "\n",
       "    .dataframe tbody tr th {\n",
       "        vertical-align: top;\n",
       "    }\n",
       "\n",
       "    .dataframe thead th {\n",
       "        text-align: right;\n",
       "    }\n",
       "</style>\n",
       "<table border=\"1\" class=\"dataframe\">\n",
       "  <thead>\n",
       "    <tr style=\"text-align: right;\">\n",
       "      <th></th>\n",
       "      <th>Company_name</th>\n",
       "      <th>Rating</th>\n",
       "      <th>Reviews</th>\n",
       "      <th>Company_type</th>\n",
       "      <th>Employees</th>\n",
       "      <th>Total_no_of_years</th>\n",
       "      <th>city</th>\n",
       "      <th>State</th>\n",
       "      <th>Locations across the Globe</th>\n",
       "    </tr>\n",
       "  </thead>\n",
       "  <tbody>\n",
       "    <tr>\n",
       "      <th>0</th>\n",
       "      <td>TCS</td>\n",
       "      <td>3.9</td>\n",
       "      <td>51.3k</td>\n",
       "      <td>Public</td>\n",
       "      <td>1 Lakh+ Employees (India)</td>\n",
       "      <td>55</td>\n",
       "      <td>Mumbai</td>\n",
       "      <td>Maharashtra</td>\n",
       "      <td>271</td>\n",
       "    </tr>\n",
       "    <tr>\n",
       "      <th>1</th>\n",
       "      <td>Accenture</td>\n",
       "      <td>4.1</td>\n",
       "      <td>32.8k</td>\n",
       "      <td>Public</td>\n",
       "      <td>1 Lakh+ Employees (India)</td>\n",
       "      <td>34</td>\n",
       "      <td>Dublin</td>\n",
       "      <td>Ireland</td>\n",
       "      <td>131</td>\n",
       "    </tr>\n",
       "    <tr>\n",
       "      <th>2</th>\n",
       "      <td>Cognizant</td>\n",
       "      <td>3.9</td>\n",
       "      <td>30.2k</td>\n",
       "      <td>Private</td>\n",
       "      <td>1 Lakh+ Employees (India)</td>\n",
       "      <td>29</td>\n",
       "      <td>Teaneck</td>\n",
       "      <td>NewJersey</td>\n",
       "      <td>101</td>\n",
       "    </tr>\n",
       "    <tr>\n",
       "      <th>3</th>\n",
       "      <td>ICICI Bank</td>\n",
       "      <td>4.0</td>\n",
       "      <td>34.1k</td>\n",
       "      <td>Public</td>\n",
       "      <td>1 Lakh+ Employees (India)</td>\n",
       "      <td>29</td>\n",
       "      <td>Mumbai</td>\n",
       "      <td>Maharashtra</td>\n",
       "      <td>1058</td>\n",
       "    </tr>\n",
       "    <tr>\n",
       "      <th>4</th>\n",
       "      <td>HDFC Bank</td>\n",
       "      <td>4.0</td>\n",
       "      <td>40k</td>\n",
       "      <td>Public</td>\n",
       "      <td>50k-1 Lakh Employees (India)</td>\n",
       "      <td>29</td>\n",
       "      <td>Mumbai</td>\n",
       "      <td>Maharashtra</td>\n",
       "      <td>1270</td>\n",
       "    </tr>\n",
       "  </tbody>\n",
       "</table>\n",
       "</div>"
      ],
      "text/plain": [
       "  Company_name  Rating Reviews Company_type                     Employees  \\\n",
       "0          TCS     3.9   51.3k       Public     1 Lakh+ Employees (India)   \n",
       "1    Accenture     4.1   32.8k       Public     1 Lakh+ Employees (India)   \n",
       "2    Cognizant     3.9   30.2k      Private     1 Lakh+ Employees (India)   \n",
       "3   ICICI Bank     4.0   34.1k       Public     1 Lakh+ Employees (India)   \n",
       "4    HDFC Bank     4.0     40k       Public  50k-1 Lakh Employees (India)   \n",
       "\n",
       "   Total_no_of_years     city         State Locations across the Globe  \n",
       "0                 55   Mumbai  Maharashtra                        271   \n",
       "1                 34   Dublin      Ireland                        131   \n",
       "2                 29  Teaneck     NewJersey                       101   \n",
       "3                 29   Mumbai  Maharashtra                       1058   \n",
       "4                 29   Mumbai  Maharashtra                       1270   "
      ]
     },
     "execution_count": 402,
     "metadata": {},
     "output_type": "execute_result"
    }
   ],
   "source": [
    "final_df.head()"
   ]
  },
  {
   "cell_type": "code",
   "execution_count": 404,
   "id": "189aada1",
   "metadata": {},
   "outputs": [],
   "source": [
    "# Replacing the extra space in the data.\n",
    "\n",
    "final_df['city']=final_df['city'].str.replace(' ','')"
   ]
  },
  {
   "cell_type": "code",
   "execution_count": 406,
   "id": "fbf77619",
   "metadata": {},
   "outputs": [],
   "source": [
    "# Replacing the extra space in the data.\n",
    "\n",
    "final_df['State']=final_df['State'].str.replace(' ', '')"
   ]
  },
  {
   "cell_type": "code",
   "execution_count": 407,
   "id": "86a34947",
   "metadata": {},
   "outputs": [],
   "source": [
    "# Replacing the extra space in the data.\n",
    "\n",
    "final_df['Locations across the Globe']=final_df['Locations across the Globe'].str.replace(' ','')"
   ]
  },
  {
   "cell_type": "code",
   "execution_count": 408,
   "id": "4d052552",
   "metadata": {},
   "outputs": [
    {
     "data": {
      "text/plain": [
       "array(['271', '131', '101', '1058', '1270', '225', '125', '79', '211',\n",
       "       '68', '140', '377', '1107', '121', '70', '997', '528', '800',\n",
       "       '567', '705', '477', '502', '529', '258', '388', '450', '24',\n",
       "       '421', '570', '72', '56', '73', '371', '414', '52', '683', '165',\n",
       "       '38', '51', '133', '41', '187', '366', '321', '316', '345', '42',\n",
       "       '419', '400', '132', '65', '15', '32', '269', '67', '629', '60',\n",
       "       '235', '26', '362', '244', '379', '504', '566', '326', '19', '11',\n",
       "       '478', '117', '689', '157', '139', '327', '50', '298', '161',\n",
       "       '122', '85', '307', '31', '169', '46', '97', '33', '55', '205',\n",
       "       '370', '59', '197', '266', '135', '240', '29', '25', '418', '105',\n",
       "       '229', '83', '208', '268', '14', '402', '252', '354', '405', '200',\n",
       "       '84', '10', '111', '53', '21', '113', '250', '88', '500', '30',\n",
       "       '71', '296', '104', '204', '80', '45', '185', '12', '438', '444',\n",
       "       '497', '434', '76', '396', '23', '213', '260', '184', '61', '141',\n",
       "       '148', '35', '75', '173', '191', '100', '13', '114', '134', '145',\n",
       "       '82', '96', '171', '190', '386', '120', '18', '215', '22', '259',\n",
       "       '413', '149', '164', '124', '196', '92', '89', '218', '147', '247',\n",
       "       '86', '143', '180', '176', '17', '186', '74', '183', '168', '189',\n",
       "       '199', '127', '16', '221', '234', '142', '188', '198', '155',\n",
       "       '112', '87', '8', '103', '93', '220', '109', '295', '115', '110',\n",
       "       '102', '368', '37', '209', '90', '179', '272', '9', '174', '324',\n",
       "       '153', '116', '66', '223', '78', '107', '236', '138', '36', '144',\n",
       "       '137', '47', '106', '365', '6', '54', '91', '108', '48', '128',\n",
       "       '146', '4', '241', '195', '27', '28', '44', '159', '81', '43',\n",
       "       '178', '123', '20', '58', '99', '63', '7', '62', '95', '69', '40',\n",
       "       '34', '98', '158', '152', '64', '226', '119', '39', '1', '49',\n",
       "       '118', '163', '5', '126', '94', '77', '175', '182', '57', '150',\n",
       "       '2', '3', '129', '160', '162', '166', None], dtype=object)"
      ]
     },
     "execution_count": 408,
     "metadata": {},
     "output_type": "execute_result"
    }
   ],
   "source": [
    "final_df['Locations across the Globe'].unique()"
   ]
  },
  {
   "cell_type": "code",
   "execution_count": 409,
   "id": "7f6e98b1",
   "metadata": {},
   "outputs": [
    {
     "data": {
      "text/plain": [
       "Company_name                    0\n",
       "Rating                          0\n",
       "Reviews                         0\n",
       "Company_type                    0\n",
       "Employees                       0\n",
       "Total_no_of_years               0\n",
       "city                            0\n",
       "State                         326\n",
       "Locations across the Globe     38\n",
       "dtype: int64"
      ]
     },
     "execution_count": 409,
     "metadata": {},
     "output_type": "execute_result"
    }
   ],
   "source": [
    "final_df.isnull().sum()"
   ]
  },
  {
   "cell_type": "code",
   "execution_count": 410,
   "id": "7d56eb4d",
   "metadata": {},
   "outputs": [],
   "source": [
    "# Replacing the null values in the 'State' column with the values in the 'city' column.\n",
    "\n",
    "final_df['State']= np.where(final_df['State'].isnull(), final_df['city'], final_df['State'])"
   ]
  },
  {
   "cell_type": "code",
   "execution_count": 411,
   "id": "2d345d79",
   "metadata": {},
   "outputs": [
    {
     "data": {
      "text/plain": [
       "Company_name                   0\n",
       "Rating                         0\n",
       "Reviews                        0\n",
       "Company_type                   0\n",
       "Employees                      0\n",
       "Total_no_of_years              0\n",
       "city                           0\n",
       "State                          0\n",
       "Locations across the Globe    38\n",
       "dtype: int64"
      ]
     },
     "execution_count": 411,
     "metadata": {},
     "output_type": "execute_result"
    }
   ],
   "source": [
    "final_df.isnull().sum()"
   ]
  },
  {
   "cell_type": "code",
   "execution_count": 412,
   "id": "7c37db46",
   "metadata": {},
   "outputs": [],
   "source": [
    "final_df.dropna(inplace=True)"
   ]
  },
  {
   "cell_type": "code",
   "execution_count": 413,
   "id": "c598ca8b",
   "metadata": {},
   "outputs": [
    {
     "data": {
      "text/plain": [
       "Company_name                  0\n",
       "Rating                        0\n",
       "Reviews                       0\n",
       "Company_type                  0\n",
       "Employees                     0\n",
       "Total_no_of_years             0\n",
       "city                          0\n",
       "State                         0\n",
       "Locations across the Globe    0\n",
       "dtype: int64"
      ]
     },
     "execution_count": 413,
     "metadata": {},
     "output_type": "execute_result"
    }
   ],
   "source": [
    "final_df.isnull().sum()"
   ]
  },
  {
   "cell_type": "code",
   "execution_count": 414,
   "id": "82b54780",
   "metadata": {},
   "outputs": [
    {
     "data": {
      "text/plain": [
       "(4011, 9)"
      ]
     },
     "execution_count": 414,
     "metadata": {},
     "output_type": "execute_result"
    }
   ],
   "source": [
    "final_df.shape"
   ]
  },
  {
   "cell_type": "code",
   "execution_count": 415,
   "id": "f215360b",
   "metadata": {},
   "outputs": [
    {
     "data": {
      "text/html": [
       "<div>\n",
       "<style scoped>\n",
       "    .dataframe tbody tr th:only-of-type {\n",
       "        vertical-align: middle;\n",
       "    }\n",
       "\n",
       "    .dataframe tbody tr th {\n",
       "        vertical-align: top;\n",
       "    }\n",
       "\n",
       "    .dataframe thead th {\n",
       "        text-align: right;\n",
       "    }\n",
       "</style>\n",
       "<table border=\"1\" class=\"dataframe\">\n",
       "  <thead>\n",
       "    <tr style=\"text-align: right;\">\n",
       "      <th></th>\n",
       "      <th>Company_name</th>\n",
       "      <th>Rating</th>\n",
       "      <th>Reviews</th>\n",
       "      <th>Company_type</th>\n",
       "      <th>Employees</th>\n",
       "      <th>Total_no_of_years</th>\n",
       "      <th>city</th>\n",
       "      <th>State</th>\n",
       "      <th>Locations across the Globe</th>\n",
       "    </tr>\n",
       "  </thead>\n",
       "  <tbody>\n",
       "    <tr>\n",
       "      <th>0</th>\n",
       "      <td>TCS</td>\n",
       "      <td>3.9</td>\n",
       "      <td>51.3k</td>\n",
       "      <td>Public</td>\n",
       "      <td>1 Lakh+ Employees (India)</td>\n",
       "      <td>55</td>\n",
       "      <td>Mumbai</td>\n",
       "      <td>Maharashtra</td>\n",
       "      <td>271</td>\n",
       "    </tr>\n",
       "    <tr>\n",
       "      <th>1</th>\n",
       "      <td>Accenture</td>\n",
       "      <td>4.1</td>\n",
       "      <td>32.8k</td>\n",
       "      <td>Public</td>\n",
       "      <td>1 Lakh+ Employees (India)</td>\n",
       "      <td>34</td>\n",
       "      <td>Dublin</td>\n",
       "      <td>Ireland</td>\n",
       "      <td>131</td>\n",
       "    </tr>\n",
       "    <tr>\n",
       "      <th>2</th>\n",
       "      <td>Cognizant</td>\n",
       "      <td>3.9</td>\n",
       "      <td>30.2k</td>\n",
       "      <td>Private</td>\n",
       "      <td>1 Lakh+ Employees (India)</td>\n",
       "      <td>29</td>\n",
       "      <td>Teaneck</td>\n",
       "      <td>NewJersey</td>\n",
       "      <td>101</td>\n",
       "    </tr>\n",
       "    <tr>\n",
       "      <th>3</th>\n",
       "      <td>ICICI Bank</td>\n",
       "      <td>4.0</td>\n",
       "      <td>34.1k</td>\n",
       "      <td>Public</td>\n",
       "      <td>1 Lakh+ Employees (India)</td>\n",
       "      <td>29</td>\n",
       "      <td>Mumbai</td>\n",
       "      <td>Maharashtra</td>\n",
       "      <td>1058</td>\n",
       "    </tr>\n",
       "    <tr>\n",
       "      <th>4</th>\n",
       "      <td>HDFC Bank</td>\n",
       "      <td>4.0</td>\n",
       "      <td>40k</td>\n",
       "      <td>Public</td>\n",
       "      <td>50k-1 Lakh Employees (India)</td>\n",
       "      <td>29</td>\n",
       "      <td>Mumbai</td>\n",
       "      <td>Maharashtra</td>\n",
       "      <td>1270</td>\n",
       "    </tr>\n",
       "  </tbody>\n",
       "</table>\n",
       "</div>"
      ],
      "text/plain": [
       "  Company_name  Rating Reviews Company_type                     Employees  \\\n",
       "0          TCS     3.9   51.3k       Public     1 Lakh+ Employees (India)   \n",
       "1    Accenture     4.1   32.8k       Public     1 Lakh+ Employees (India)   \n",
       "2    Cognizant     3.9   30.2k      Private     1 Lakh+ Employees (India)   \n",
       "3   ICICI Bank     4.0   34.1k       Public     1 Lakh+ Employees (India)   \n",
       "4    HDFC Bank     4.0     40k       Public  50k-1 Lakh Employees (India)   \n",
       "\n",
       "   Total_no_of_years     city        State Locations across the Globe  \n",
       "0                 55   Mumbai  Maharashtra                        271  \n",
       "1                 34   Dublin      Ireland                        131  \n",
       "2                 29  Teaneck    NewJersey                        101  \n",
       "3                 29   Mumbai  Maharashtra                       1058  \n",
       "4                 29   Mumbai  Maharashtra                       1270  "
      ]
     },
     "execution_count": 415,
     "metadata": {},
     "output_type": "execute_result"
    }
   ],
   "source": [
    "final_df.head()"
   ]
  },
  {
   "cell_type": "code",
   "execution_count": 416,
   "id": "a876b085",
   "metadata": {},
   "outputs": [],
   "source": [
    "# Replacing the k with a 1000 and also multiplying it with the respective no.\n",
    "\n",
    "final_df['Reviews']=final_df[\"Reviews\"].replace({\"k\":\"*1e3\"}, regex=True).map(pd.eval).astype(int)"
   ]
  },
  {
   "cell_type": "code",
   "execution_count": 417,
   "id": "cdc23738",
   "metadata": {},
   "outputs": [],
   "source": [
    "final_df['Locations across the Globe']=final_df['Locations across the Globe'].astype('int')\n",
    "final_df['Reviews']=final_df['Reviews'].astype('int')"
   ]
  },
  {
   "cell_type": "code",
   "execution_count": 418,
   "id": "11be7ec5",
   "metadata": {},
   "outputs": [
    {
     "name": "stdout",
     "output_type": "stream",
     "text": [
      "<class 'pandas.core.frame.DataFrame'>\n",
      "Int64Index: 4011 entries, 0 to 4468\n",
      "Data columns (total 9 columns):\n",
      " #   Column                      Non-Null Count  Dtype  \n",
      "---  ------                      --------------  -----  \n",
      " 0   Company_name                4011 non-null   object \n",
      " 1   Rating                      4011 non-null   float64\n",
      " 2   Reviews                     4011 non-null   int32  \n",
      " 3   Company_type                4011 non-null   object \n",
      " 4   Employees                   4011 non-null   object \n",
      " 5   Total_no_of_years           4011 non-null   int32  \n",
      " 6   city                        4011 non-null   object \n",
      " 7   State                       4011 non-null   object \n",
      " 8   Locations across the Globe  4011 non-null   int32  \n",
      "dtypes: float64(1), int32(3), object(5)\n",
      "memory usage: 266.4+ KB\n"
     ]
    }
   ],
   "source": [
    "final_df.info()"
   ]
  },
  {
   "cell_type": "code",
   "execution_count": 419,
   "id": "2364cf25",
   "metadata": {},
   "outputs": [],
   "source": [
    "final_df.rename(columns={'city':'City', 'State':'State/Country'}, inplace=True)"
   ]
  },
  {
   "cell_type": "code",
   "execution_count": 469,
   "id": "91e46b32",
   "metadata": {
    "scrolled": false
   },
   "outputs": [
    {
     "data": {
      "text/html": [
       "<div>\n",
       "<style scoped>\n",
       "    .dataframe tbody tr th:only-of-type {\n",
       "        vertical-align: middle;\n",
       "    }\n",
       "\n",
       "    .dataframe tbody tr th {\n",
       "        vertical-align: top;\n",
       "    }\n",
       "\n",
       "    .dataframe thead th {\n",
       "        text-align: right;\n",
       "    }\n",
       "</style>\n",
       "<table border=\"1\" class=\"dataframe\">\n",
       "  <thead>\n",
       "    <tr style=\"text-align: right;\">\n",
       "      <th></th>\n",
       "      <th>Company_name</th>\n",
       "      <th>Rating</th>\n",
       "      <th>Reviews</th>\n",
       "      <th>Company_type</th>\n",
       "      <th>Employees</th>\n",
       "      <th>Total_no_of_years</th>\n",
       "      <th>City</th>\n",
       "      <th>State/Country</th>\n",
       "      <th>Locations across the Globe</th>\n",
       "      <th>Work_location</th>\n",
       "    </tr>\n",
       "  </thead>\n",
       "  <tbody>\n",
       "    <tr>\n",
       "      <th>2582</th>\n",
       "      <td>My Home Construc...</td>\n",
       "      <td>4.4</td>\n",
       "      <td>188</td>\n",
       "      <td>Private</td>\n",
       "      <td>501-1k</td>\n",
       "      <td>34</td>\n",
       "      <td>Hyderabad</td>\n",
       "      <td>Telangana</td>\n",
       "      <td>9</td>\n",
       "      <td>India</td>\n",
       "    </tr>\n",
       "    <tr>\n",
       "      <th>1010</th>\n",
       "      <td>Quest Retail</td>\n",
       "      <td>4.4</td>\n",
       "      <td>466</td>\n",
       "      <td>Private</td>\n",
       "      <td>501-1k</td>\n",
       "      <td>18</td>\n",
       "      <td>Gurgaon</td>\n",
       "      <td>Haryana</td>\n",
       "      <td>58</td>\n",
       "      <td>India</td>\n",
       "    </tr>\n",
       "    <tr>\n",
       "      <th>2415</th>\n",
       "      <td>Kogta Financial</td>\n",
       "      <td>4.3</td>\n",
       "      <td>201</td>\n",
       "      <td>Public</td>\n",
       "      <td>1k-5k</td>\n",
       "      <td>27</td>\n",
       "      <td>Jaipur</td>\n",
       "      <td>Rajasthan</td>\n",
       "      <td>66</td>\n",
       "      <td>India</td>\n",
       "    </tr>\n",
       "    <tr>\n",
       "      <th>1437</th>\n",
       "      <td>Cigniti Technolo...</td>\n",
       "      <td>4.0</td>\n",
       "      <td>335</td>\n",
       "      <td>Public</td>\n",
       "      <td>1k-5k</td>\n",
       "      <td>25</td>\n",
       "      <td>Irving</td>\n",
       "      <td>Texas</td>\n",
       "      <td>4</td>\n",
       "      <td>India</td>\n",
       "    </tr>\n",
       "    <tr>\n",
       "      <th>2728</th>\n",
       "      <td>Global Aluminium</td>\n",
       "      <td>3.9</td>\n",
       "      <td>178</td>\n",
       "      <td>Private</td>\n",
       "      <td>1k-5k</td>\n",
       "      <td>26</td>\n",
       "      <td>Hyderabad</td>\n",
       "      <td>Telangana</td>\n",
       "      <td>5</td>\n",
       "      <td>India</td>\n",
       "    </tr>\n",
       "  </tbody>\n",
       "</table>\n",
       "</div>"
      ],
      "text/plain": [
       "             Company_name  Rating  Reviews Company_type Employees  \\\n",
       "2582  My Home Construc...     4.4      188      Private    501-1k   \n",
       "1010         Quest Retail     4.4      466      Private    501-1k   \n",
       "2415      Kogta Financial     4.3      201       Public     1k-5k   \n",
       "1437  Cigniti Technolo...     4.0      335       Public     1k-5k   \n",
       "2728     Global Aluminium     3.9      178      Private     1k-5k   \n",
       "\n",
       "      Total_no_of_years       City State/Country  Locations across the Globe  \\\n",
       "2582                 34  Hyderabad     Telangana                           9   \n",
       "1010                 18    Gurgaon       Haryana                          58   \n",
       "2415                 27     Jaipur     Rajasthan                          66   \n",
       "1437                 25     Irving         Texas                           4   \n",
       "2728                 26  Hyderabad     Telangana                           5   \n",
       "\n",
       "     Work_location  \n",
       "2582         India  \n",
       "1010         India  \n",
       "2415         India  \n",
       "1437         India  \n",
       "2728         India  "
      ]
     },
     "execution_count": 469,
     "metadata": {},
     "output_type": "execute_result"
    }
   ],
   "source": [
    "final_df.sample(5)"
   ]
  },
  {
   "cell_type": "code",
   "execution_count": 421,
   "id": "004ef1c4",
   "metadata": {},
   "outputs": [],
   "source": [
    "# Removing 'Employees' in the data from the 'Employees' column\n",
    "\n",
    "final_df['Employees']=final_df['Employees'].str.replace('Employees', '')"
   ]
  },
  {
   "cell_type": "code",
   "execution_count": 424,
   "id": "19b84a35",
   "metadata": {},
   "outputs": [
    {
     "data": {
      "text/plain": [
       "1k-5k  (India)          1659\n",
       "501-1k  (India)          800\n",
       "201-500  (India)         512\n",
       "10k-50k  (India)         313\n",
       "5k-10k  (India)          273\n",
       "51-200  (India)          253\n",
       "11-50  (India)            45\n",
       "1 Lakh+  (India)          44\n",
       "50k-1 Lakh  (India)       33\n",
       "1k-5k  (Global)           21\n",
       "5k-10k  (Global)          17\n",
       "1-10  (India)             16\n",
       "201-500  (Global)         11\n",
       "10k-50k  (Global)          6\n",
       "501-1k  (Global)           4\n",
       "1 Lakh+  (Global)          2\n",
       "50k-1 Lakh  (Global)       1\n",
       "51-200  (Global)           1\n",
       "Name: Employees, dtype: int64"
      ]
     },
     "execution_count": 424,
     "metadata": {},
     "output_type": "execute_result"
    }
   ],
   "source": [
    "final_df['Employees'].value_counts()"
   ]
  },
  {
   "cell_type": "code",
   "execution_count": 425,
   "id": "748d3434",
   "metadata": {},
   "outputs": [
    {
     "data": {
      "text/html": [
       "<div>\n",
       "<style scoped>\n",
       "    .dataframe tbody tr th:only-of-type {\n",
       "        vertical-align: middle;\n",
       "    }\n",
       "\n",
       "    .dataframe tbody tr th {\n",
       "        vertical-align: top;\n",
       "    }\n",
       "\n",
       "    .dataframe thead th {\n",
       "        text-align: right;\n",
       "    }\n",
       "</style>\n",
       "<table border=\"1\" class=\"dataframe\">\n",
       "  <thead>\n",
       "    <tr style=\"text-align: right;\">\n",
       "      <th></th>\n",
       "      <th>0</th>\n",
       "      <th>1</th>\n",
       "      <th>2</th>\n",
       "    </tr>\n",
       "  </thead>\n",
       "  <tbody>\n",
       "    <tr>\n",
       "      <th>0</th>\n",
       "      <td>1</td>\n",
       "      <td>Lakh+</td>\n",
       "      <td>(India)</td>\n",
       "    </tr>\n",
       "    <tr>\n",
       "      <th>1</th>\n",
       "      <td>1</td>\n",
       "      <td>Lakh+</td>\n",
       "      <td>(India)</td>\n",
       "    </tr>\n",
       "    <tr>\n",
       "      <th>2</th>\n",
       "      <td>1</td>\n",
       "      <td>Lakh+</td>\n",
       "      <td>(India)</td>\n",
       "    </tr>\n",
       "    <tr>\n",
       "      <th>3</th>\n",
       "      <td>1</td>\n",
       "      <td>Lakh+</td>\n",
       "      <td>(India)</td>\n",
       "    </tr>\n",
       "    <tr>\n",
       "      <th>4</th>\n",
       "      <td>50k-1</td>\n",
       "      <td>Lakh</td>\n",
       "      <td>(India)</td>\n",
       "    </tr>\n",
       "    <tr>\n",
       "      <th>...</th>\n",
       "      <td>...</td>\n",
       "      <td>...</td>\n",
       "      <td>...</td>\n",
       "    </tr>\n",
       "    <tr>\n",
       "      <th>4463</th>\n",
       "      <td>501-1k</td>\n",
       "      <td></td>\n",
       "      <td>(India)</td>\n",
       "    </tr>\n",
       "    <tr>\n",
       "      <th>4465</th>\n",
       "      <td>201-500</td>\n",
       "      <td></td>\n",
       "      <td>(India)</td>\n",
       "    </tr>\n",
       "    <tr>\n",
       "      <th>4466</th>\n",
       "      <td>51-200</td>\n",
       "      <td></td>\n",
       "      <td>(India)</td>\n",
       "    </tr>\n",
       "    <tr>\n",
       "      <th>4467</th>\n",
       "      <td>201-500</td>\n",
       "      <td></td>\n",
       "      <td>(India)</td>\n",
       "    </tr>\n",
       "    <tr>\n",
       "      <th>4468</th>\n",
       "      <td>501-1k</td>\n",
       "      <td></td>\n",
       "      <td>(India)</td>\n",
       "    </tr>\n",
       "  </tbody>\n",
       "</table>\n",
       "<p>4011 rows × 3 columns</p>\n",
       "</div>"
      ],
      "text/plain": [
       "            0      1         2\n",
       "0           1  Lakh+   (India)\n",
       "1           1  Lakh+   (India)\n",
       "2           1  Lakh+   (India)\n",
       "3           1  Lakh+   (India)\n",
       "4       50k-1   Lakh   (India)\n",
       "...       ...    ...       ...\n",
       "4463   501-1k          (India)\n",
       "4465  201-500          (India)\n",
       "4466   51-200          (India)\n",
       "4467  201-500          (India)\n",
       "4468   501-1k          (India)\n",
       "\n",
       "[4011 rows x 3 columns]"
      ]
     },
     "execution_count": 425,
     "metadata": {},
     "output_type": "execute_result"
    }
   ],
   "source": [
    "#Separating the 'Employees' column into multiple columns to get the desired data.\n",
    "\n",
    "loc=final_df['Employees'].str.split(' ', n=2, expand=True)\n",
    "loc"
   ]
  },
  {
   "cell_type": "code",
   "execution_count": 426,
   "id": "8a9b3904",
   "metadata": {},
   "outputs": [],
   "source": [
    "final_df['Employees']=loc[0]+loc[1]"
   ]
  },
  {
   "cell_type": "code",
   "execution_count": 427,
   "id": "508f6bf4",
   "metadata": {},
   "outputs": [
    {
     "data": {
      "text/plain": [
       "array(['1Lakh+', '50k-1Lakh', '10k-50k', '1k-5k', '5k-10k', '201-500',\n",
       "       '501-1k', '51-200', '11-50', '1-10'], dtype=object)"
      ]
     },
     "execution_count": 427,
     "metadata": {},
     "output_type": "execute_result"
    }
   ],
   "source": [
    "final_df['Employees'].unique()"
   ]
  },
  {
   "cell_type": "code",
   "execution_count": 428,
   "id": "12d2912a",
   "metadata": {},
   "outputs": [
    {
     "name": "stderr",
     "output_type": "stream",
     "text": [
      "C:\\Users\\RAJAT SINGH\\AppData\\Local\\Temp\\ipykernel_12128\\3523805037.py:1: FutureWarning: The default value of regex will change from True to False in a future version. In addition, single character regular expressions will *not* be treated as literal strings when regex=True.\n",
      "  final_df['Work_location']=loc[2].str.replace('(', '').str.replace(')', '')\n"
     ]
    }
   ],
   "source": [
    "# After separating the 'Employees' column, from there taking one of its column and making a new data out of it. \n",
    "\n",
    "final_df['Work_location']=loc[2].str.replace('(', '').str.replace(')', '')"
   ]
  },
  {
   "cell_type": "code",
   "execution_count": 429,
   "id": "3204e181",
   "metadata": {},
   "outputs": [
    {
     "data": {
      "text/html": [
       "<div>\n",
       "<style scoped>\n",
       "    .dataframe tbody tr th:only-of-type {\n",
       "        vertical-align: middle;\n",
       "    }\n",
       "\n",
       "    .dataframe tbody tr th {\n",
       "        vertical-align: top;\n",
       "    }\n",
       "\n",
       "    .dataframe thead th {\n",
       "        text-align: right;\n",
       "    }\n",
       "</style>\n",
       "<table border=\"1\" class=\"dataframe\">\n",
       "  <thead>\n",
       "    <tr style=\"text-align: right;\">\n",
       "      <th></th>\n",
       "      <th>Company_name</th>\n",
       "      <th>Rating</th>\n",
       "      <th>Reviews</th>\n",
       "      <th>Company_type</th>\n",
       "      <th>Employees</th>\n",
       "      <th>Total_no_of_years</th>\n",
       "      <th>City</th>\n",
       "      <th>State/Country</th>\n",
       "      <th>Locations across the Globe</th>\n",
       "      <th>Work_location</th>\n",
       "    </tr>\n",
       "  </thead>\n",
       "  <tbody>\n",
       "    <tr>\n",
       "      <th>0</th>\n",
       "      <td>TCS</td>\n",
       "      <td>3.9</td>\n",
       "      <td>51300</td>\n",
       "      <td>Public</td>\n",
       "      <td>1Lakh+</td>\n",
       "      <td>55</td>\n",
       "      <td>Mumbai</td>\n",
       "      <td>Maharashtra</td>\n",
       "      <td>271</td>\n",
       "      <td>India</td>\n",
       "    </tr>\n",
       "    <tr>\n",
       "      <th>1</th>\n",
       "      <td>Accenture</td>\n",
       "      <td>4.1</td>\n",
       "      <td>32800</td>\n",
       "      <td>Public</td>\n",
       "      <td>1Lakh+</td>\n",
       "      <td>34</td>\n",
       "      <td>Dublin</td>\n",
       "      <td>Ireland</td>\n",
       "      <td>131</td>\n",
       "      <td>India</td>\n",
       "    </tr>\n",
       "    <tr>\n",
       "      <th>2</th>\n",
       "      <td>Cognizant</td>\n",
       "      <td>3.9</td>\n",
       "      <td>30200</td>\n",
       "      <td>Private</td>\n",
       "      <td>1Lakh+</td>\n",
       "      <td>29</td>\n",
       "      <td>Teaneck</td>\n",
       "      <td>NewJersey</td>\n",
       "      <td>101</td>\n",
       "      <td>India</td>\n",
       "    </tr>\n",
       "    <tr>\n",
       "      <th>3</th>\n",
       "      <td>ICICI Bank</td>\n",
       "      <td>4.0</td>\n",
       "      <td>34100</td>\n",
       "      <td>Public</td>\n",
       "      <td>1Lakh+</td>\n",
       "      <td>29</td>\n",
       "      <td>Mumbai</td>\n",
       "      <td>Maharashtra</td>\n",
       "      <td>1058</td>\n",
       "      <td>India</td>\n",
       "    </tr>\n",
       "    <tr>\n",
       "      <th>4</th>\n",
       "      <td>HDFC Bank</td>\n",
       "      <td>4.0</td>\n",
       "      <td>40000</td>\n",
       "      <td>Public</td>\n",
       "      <td>50k-1Lakh</td>\n",
       "      <td>29</td>\n",
       "      <td>Mumbai</td>\n",
       "      <td>Maharashtra</td>\n",
       "      <td>1270</td>\n",
       "      <td>India</td>\n",
       "    </tr>\n",
       "  </tbody>\n",
       "</table>\n",
       "</div>"
      ],
      "text/plain": [
       "  Company_name  Rating  Reviews Company_type  Employees  Total_no_of_years  \\\n",
       "0          TCS     3.9    51300       Public     1Lakh+                 55   \n",
       "1    Accenture     4.1    32800       Public     1Lakh+                 34   \n",
       "2    Cognizant     3.9    30200      Private     1Lakh+                 29   \n",
       "3   ICICI Bank     4.0    34100       Public     1Lakh+                 29   \n",
       "4    HDFC Bank     4.0    40000       Public  50k-1Lakh                 29   \n",
       "\n",
       "      City State/Country  Locations across the Globe Work_location  \n",
       "0   Mumbai   Maharashtra                         271         India  \n",
       "1   Dublin       Ireland                         131         India  \n",
       "2  Teaneck     NewJersey                         101         India  \n",
       "3   Mumbai   Maharashtra                        1058         India  \n",
       "4   Mumbai   Maharashtra                        1270         India  "
      ]
     },
     "execution_count": 429,
     "metadata": {},
     "output_type": "execute_result"
    }
   ],
   "source": [
    "final_df.head()"
   ]
  },
  {
   "cell_type": "code",
   "execution_count": 230,
   "id": "1a32a4cc",
   "metadata": {},
   "outputs": [],
   "source": []
  },
  {
   "cell_type": "markdown",
   "id": "8a0b2eaa",
   "metadata": {},
   "source": [
    "## Data Visualization"
   ]
  },
  {
   "cell_type": "markdown",
   "id": "ca2ba1c5",
   "metadata": {},
   "source": [
    "### Cities with maximum no. of Headquarters"
   ]
  },
  {
   "cell_type": "code",
   "execution_count": 430,
   "id": "bca11b08",
   "metadata": {},
   "outputs": [
    {
     "data": {
      "text/plain": [
       "Mumbai             707\n",
       "Delhi/NCR          314\n",
       "Bengaluru          295\n",
       "Gurgaon            265\n",
       "Chennai            212\n",
       "Hyderabad          182\n",
       "Noida              167\n",
       "Pune               140\n",
       "Kolkata            102\n",
       "Ahmedabad           82\n",
       "NewYorkCity         54\n",
       "London              49\n",
       "Faridabad           28\n",
       "Jaipur              27\n",
       "Dubai               26\n",
       "SanJose             23\n",
       "Paris               23\n",
       "Tokyo               20\n",
       "Vadodara/Baroda     20\n",
       "WestBengal          19\n",
       "Name: City, dtype: int64"
      ]
     },
     "execution_count": 430,
     "metadata": {},
     "output_type": "execute_result"
    }
   ],
   "source": [
    "chains=final_df['City'].value_counts()[0:20]\n",
    "chains"
   ]
  },
  {
   "cell_type": "code",
   "execution_count": 431,
   "id": "35d66b59",
   "metadata": {},
   "outputs": [
    {
     "data": {
      "text/plain": [
       "Index(['Mumbai', 'Delhi/NCR', 'Bengaluru', 'Gurgaon', 'Chennai', 'Hyderabad',\n",
       "       'Noida', 'Pune', 'Kolkata', 'Ahmedabad', 'NewYorkCity', 'London',\n",
       "       'Faridabad', 'Jaipur', 'Dubai', 'SanJose', 'Paris', 'Tokyo',\n",
       "       'Vadodara/Baroda', 'WestBengal'],\n",
       "      dtype='object')"
      ]
     },
     "execution_count": 431,
     "metadata": {},
     "output_type": "execute_result"
    }
   ],
   "source": [
    "chains.index"
   ]
  },
  {
   "cell_type": "code",
   "execution_count": 432,
   "id": "62db0b42",
   "metadata": {},
   "outputs": [
    {
     "data": {
      "image/png": "[encoded data removed]",
      "text/plain": [
       "<Figure size 864x720 with 1 Axes>"
      ]
     },
     "metadata": {
      "needs_background": "light"
     },
     "output_type": "display_data"
    }
   ],
   "source": [
    "plt.figure(figsize=(12,10))\n",
    "sns.barplot(x=chains, y=chains.index)\n",
    "plt.xlabel('No. of HeadQuarters')\n",
    "plt.show()"
   ]
  },
  {
   "cell_type": "markdown",
   "id": "ff77305c",
   "metadata": {
    "scrolled": true
   },
   "source": [
    "### Distribution of Company_type"
   ]
  },
  {
   "cell_type": "code",
   "execution_count": 433,
   "id": "4fa832ee",
   "metadata": {
    "scrolled": true
   },
   "outputs": [
    {
     "data": {
      "text/plain": [
       "Private                                     2785\n",
       "Public                                      1128\n",
       "JV                                            26\n",
       "LLP                                           15\n",
       "Government                                    13\n",
       "Partnership                                   11\n",
       "LLC                                           11\n",
       "NGO/NPO                                        9\n",
       "Govt Organisation                              7\n",
       "Other                                          3\n",
       "Central Public Sector Enterprises (CPSE)       1\n",
       "Conglomerate                                   1\n",
       "Proprietorship                                 1\n",
       "Name: Company_type, dtype: int64"
      ]
     },
     "execution_count": 433,
     "metadata": {},
     "output_type": "execute_result"
    }
   ],
   "source": [
    "typ=final_df['Company_type'].value_counts()\n",
    "typ"
   ]
  },
  {
   "cell_type": "code",
   "execution_count": 434,
   "id": "706fd91b",
   "metadata": {},
   "outputs": [
    {
     "data": {
      "text/plain": [
       "Index(['Private', 'Public', 'JV', 'LLP', 'Government', 'Partnership', 'LLC',\n",
       "       'NGO/NPO', 'Govt Organisation', 'Other',\n",
       "       'Central Public Sector Enterprises (CPSE)', 'Conglomerate',\n",
       "       'Proprietorship'],\n",
       "      dtype='object')"
      ]
     },
     "execution_count": 434,
     "metadata": {},
     "output_type": "execute_result"
    }
   ],
   "source": [
    "typ.index"
   ]
  },
  {
   "cell_type": "code",
   "execution_count": 435,
   "id": "32d77b75",
   "metadata": {},
   "outputs": [
    {
     "data": {
      "image/png": "[encoded data removed]",
      "text/plain": [
       "<Figure size 864x792 with 1 Axes>"
      ]
     },
     "metadata": {},
     "output_type": "display_data"
    }
   ],
   "source": [
    "plt.figure(figsize=(12,11))\n",
    "plt.pie(typ, labels=typ.index, autopct='%0.1f%%')\n",
    "plt.show()"
   ]
  },
  {
   "cell_type": "markdown",
   "id": "0298f347",
   "metadata": {},
   "source": [
    "### Companies with max Reviews"
   ]
  },
  {
   "cell_type": "code",
   "execution_count": 436,
   "id": "e275795f",
   "metadata": {
    "scrolled": true
   },
   "outputs": [],
   "source": [
    "r2=final_df.groupby('Company_name')['Reviews'].sum().nlargest(20)"
   ]
  },
  {
   "cell_type": "code",
   "execution_count": 437,
   "id": "0ab0e164",
   "metadata": {},
   "outputs": [
    {
     "data": {
      "text/plain": [
       "Index(['TCS', 'Reliance Industr...', 'Mahindra & Mahin...', 'HDFC Bank',\n",
       "       'ICICI Bank', 'Accenture', 'Cognizant', 'Wipro', 'Infosys',\n",
       "       'Larsen & Toubro ...', 'Capgemini', 'Tech Mahindra', 'Genpact',\n",
       "       'Amazon', 'Axis Bank', 'HCLTech', 'Hinduja Group', 'Reliance Retail',\n",
       "       'IBM', 'Concentrix Corpo...'],\n",
       "      dtype='object', name='Company_name')"
      ]
     },
     "execution_count": 437,
     "metadata": {},
     "output_type": "execute_result"
    }
   ],
   "source": [
    "r2.index"
   ]
  },
  {
   "cell_type": "code",
   "execution_count": 438,
   "id": "48b79869",
   "metadata": {},
   "outputs": [
    {
     "data": {
      "image/png": "[encoded data removed]",
      "text/plain": [
       "<Figure size 864x792 with 1 Axes>"
      ]
     },
     "metadata": {
      "needs_background": "light"
     },
     "output_type": "display_data"
    }
   ],
   "source": [
    "plt.figure(figsize=(12,11))\n",
    "sns.barplot(x=r2, y=r2.index)\n",
    "plt.show()"
   ]
  },
  {
   "cell_type": "markdown",
   "id": "ab96fabb",
   "metadata": {
    "scrolled": true
   },
   "source": [
    "### Companies with most no. of locations"
   ]
  },
  {
   "cell_type": "code",
   "execution_count": 440,
   "id": "2e2efcc2",
   "metadata": {},
   "outputs": [],
   "source": [
    "loca=final_df.groupby('Company_name')['Locations across the Globe'].sum().nlargest(20)"
   ]
  },
  {
   "cell_type": "code",
   "execution_count": 441,
   "id": "7f0ada70",
   "metadata": {},
   "outputs": [
    {
     "data": {
      "text/plain": [
       "Index(['HDFC Bank', 'Axis Bank', 'ICICI Bank', 'Reliance jio',\n",
       "       'Mahindra & Mahin...', 'HDB Financial Se...', 'Reliance Retail',\n",
       "       'Shriram Transpor...', 'Bajaj Finserv', 'Bajaj Finance',\n",
       "       'IndusInd Bank', 'Vodafone Idea', 'Bandhan Bank', 'Bharti Airtel',\n",
       "       'Larsen & Toubro ...', 'ICICI Prudential...', 'IIFL',\n",
       "       'Reliance Industr...', 'Ecom Express', 'Cholamandalam In...'],\n",
       "      dtype='object', name='Company_name')"
      ]
     },
     "execution_count": 441,
     "metadata": {},
     "output_type": "execute_result"
    }
   ],
   "source": [
    "loca.index"
   ]
  },
  {
   "cell_type": "code",
   "execution_count": 442,
   "id": "724e056b",
   "metadata": {},
   "outputs": [
    {
     "data": {
      "image/png": "[encoded data removed]",
      "text/plain": [
       "<Figure size 864x792 with 1 Axes>"
      ]
     },
     "metadata": {
      "needs_background": "light"
     },
     "output_type": "display_data"
    }
   ],
   "source": [
    "plt.figure(figsize=(12,11))\n",
    "sns.barplot(x=loca, y=loca.index)\n",
    "plt.xlabel('Companies with Most Locations')\n",
    "plt.show()"
   ]
  },
  {
   "cell_type": "markdown",
   "id": "b725d199",
   "metadata": {},
   "source": [
    "### Give an estimate on the companies lying betweem  3.0-5.0 in Rating."
   ]
  },
  {
   "cell_type": "code",
   "execution_count": 443,
   "id": "c6378d73",
   "metadata": {},
   "outputs": [
    {
     "name": "stderr",
     "output_type": "stream",
     "text": [
      "C:\\ProgramData\\Anaconda3\\lib\\site-packages\\seaborn\\_decorators.py:36: FutureWarning: Pass the following variables as keyword args: x, y. From version 0.12, the only valid positional argument will be `data`, and passing other arguments without an explicit keyword will result in an error or misinterpretation.\n",
      "  warnings.warn(\n"
     ]
    },
    {
     "data": {
      "image/png": "[encoded data removed]",
      "text/plain": [
       "<Figure size 864x576 with 1 Axes>"
      ]
     },
     "metadata": {
      "needs_background": "light"
     },
     "output_type": "display_data"
    }
   ],
   "source": [
    "plt.figure(figsize=(12,8))\n",
    "sns.scatterplot(final_df['Rating'], final_df['Total_no_of_years'], linewidth=1, linestyle=':')\n",
    "plt.xlabel('rating')\n",
    "plt.ylabel('No of Years')\n",
    "plt.show()\n",
    "\n",
    "# from here we can see that, most of the companies which have around 20-30 years to 160-180 years of presence lies between 3.0 - 4.6 in rating. "
   ]
  },
  {
   "cell_type": "code",
   "execution_count": 444,
   "id": "6f25230a",
   "metadata": {},
   "outputs": [
    {
     "data": {
      "image/png": "[encoded data removed]",
      "text/plain": [
       "<Figure size 864x576 with 1 Axes>"
      ]
     },
     "metadata": {
      "needs_background": "light"
     },
     "output_type": "display_data"
    }
   ],
   "source": [
    "plt.figure(figsize=(12,8))\n",
    "sns.scatterplot(x=final_df['Rating'], y=final_df['Locations across the Globe'])\n",
    "plt.show()"
   ]
  },
  {
   "cell_type": "markdown",
   "id": "0104f5d1",
   "metadata": {},
   "source": [
    "### Companies with there founding year"
   ]
  },
  {
   "cell_type": "code",
   "execution_count": 445,
   "id": "13f9c5fb",
   "metadata": {},
   "outputs": [
    {
     "data": {
      "text/plain": [
       "Company_name\n",
       "Prodapt Solution...    2023\n",
       "TDK India              2023\n",
       "Oxford Universit...     545\n",
       "Army Medical Cor...     518\n",
       "Saint-Gobain            358\n",
       "Merck Life Scien...     355\n",
       "Pinkerton               346\n",
       "Barclays                333\n",
       "Aviva Life Insur...     327\n",
       "London Stock Exc...     325\n",
       "Refinitiv               325\n",
       "Amcor Flexibles ...     318\n",
       "Allanasons              316\n",
       "Cox & Kings             265\n",
       "MAN Truck & Bus         265\n",
       "Hamleys                 263\n",
       "Forbes & Company        258\n",
       "Ordnance Factory        248\n",
       "King George's Me...     236\n",
       "EID Parry (India...     235\n",
       "Name: Total_no_of_years, dtype: int32"
      ]
     },
     "execution_count": 445,
     "metadata": {},
     "output_type": "execute_result"
    }
   ],
   "source": [
    "final_df.groupby('Company_name')['Total_no_of_years'].sum().nlargest(20)"
   ]
  },
  {
   "cell_type": "code",
   "execution_count": 446,
   "id": "ed1d672f",
   "metadata": {},
   "outputs": [
    {
     "data": {
      "text/plain": [
       "'Prodapt Solution...'"
      ]
     },
     "execution_count": 446,
     "metadata": {},
     "output_type": "execute_result"
    }
   ],
   "source": [
    "final_df['Company_name'][1131]"
   ]
  },
  {
   "cell_type": "code",
   "execution_count": 447,
   "id": "0531c59c",
   "metadata": {},
   "outputs": [
    {
     "data": {
      "text/html": [
       "<div>\n",
       "<style scoped>\n",
       "    .dataframe tbody tr th:only-of-type {\n",
       "        vertical-align: middle;\n",
       "    }\n",
       "\n",
       "    .dataframe tbody tr th {\n",
       "        vertical-align: top;\n",
       "    }\n",
       "\n",
       "    .dataframe thead th {\n",
       "        text-align: right;\n",
       "    }\n",
       "</style>\n",
       "<table border=\"1\" class=\"dataframe\">\n",
       "  <thead>\n",
       "    <tr style=\"text-align: right;\">\n",
       "      <th></th>\n",
       "      <th>Company_name</th>\n",
       "      <th>Rating</th>\n",
       "      <th>Reviews</th>\n",
       "      <th>Company_type</th>\n",
       "      <th>Employees</th>\n",
       "      <th>Total_no_of_years</th>\n",
       "      <th>City</th>\n",
       "      <th>State/Country</th>\n",
       "      <th>Locations across the Globe</th>\n",
       "      <th>Work_location</th>\n",
       "    </tr>\n",
       "  </thead>\n",
       "  <tbody>\n",
       "    <tr>\n",
       "      <th>1131</th>\n",
       "      <td>Prodapt Solution...</td>\n",
       "      <td>3.9</td>\n",
       "      <td>443</td>\n",
       "      <td>Private</td>\n",
       "      <td>1k-5k</td>\n",
       "      <td>2023</td>\n",
       "      <td>Chennai</td>\n",
       "      <td>TamilNadu</td>\n",
       "      <td>7</td>\n",
       "      <td>India</td>\n",
       "    </tr>\n",
       "    <tr>\n",
       "      <th>1254</th>\n",
       "      <td>TDK India</td>\n",
       "      <td>4.0</td>\n",
       "      <td>403</td>\n",
       "      <td>Private</td>\n",
       "      <td>1k-5k</td>\n",
       "      <td>2023</td>\n",
       "      <td>Nashik</td>\n",
       "      <td>Maharashtra</td>\n",
       "      <td>19</td>\n",
       "      <td>India</td>\n",
       "    </tr>\n",
       "  </tbody>\n",
       "</table>\n",
       "</div>"
      ],
      "text/plain": [
       "             Company_name  Rating  Reviews Company_type Employees  \\\n",
       "1131  Prodapt Solution...     3.9      443      Private     1k-5k   \n",
       "1254            TDK India     4.0      403      Private     1k-5k   \n",
       "\n",
       "      Total_no_of_years     City State/Country  Locations across the Globe  \\\n",
       "1131               2023  Chennai     TamilNadu                           7   \n",
       "1254               2023   Nashik   Maharashtra                          19   \n",
       "\n",
       "     Work_location  \n",
       "1131         India  \n",
       "1254         India  "
      ]
     },
     "execution_count": 447,
     "metadata": {},
     "output_type": "execute_result"
    }
   ],
   "source": [
    "final_df[final_df['Total_no_of_years']==2023]"
   ]
  },
  {
   "cell_type": "code",
   "execution_count": 448,
   "id": "37338bde",
   "metadata": {},
   "outputs": [],
   "source": [
    "final_df.set_index('Company_name',inplace=True)"
   ]
  },
  {
   "cell_type": "code",
   "execution_count": 449,
   "id": "622bdf91",
   "metadata": {},
   "outputs": [],
   "source": [
    "final_df.drop(['Prodapt Solution...', 'TDK India'], inplace=True)"
   ]
  },
  {
   "cell_type": "code",
   "execution_count": 450,
   "id": "b27c8738",
   "metadata": {},
   "outputs": [],
   "source": [
    "final_df.reset_index(inplace=True)"
   ]
  },
  {
   "cell_type": "code",
   "execution_count": 451,
   "id": "82a08c43",
   "metadata": {},
   "outputs": [
    {
     "data": {
      "text/plain": [
       "Company_name\n",
       "Oxford Universit...    545\n",
       "Army Medical Cor...    518\n",
       "Saint-Gobain           358\n",
       "Merck Life Scien...    355\n",
       "Pinkerton              346\n",
       "Barclays               333\n",
       "Aviva Life Insur...    327\n",
       "London Stock Exc...    325\n",
       "Refinitiv              325\n",
       "Amcor Flexibles ...    318\n",
       "Allanasons             316\n",
       "Cox & Kings            265\n",
       "MAN Truck & Bus        265\n",
       "Hamleys                263\n",
       "Forbes & Company       258\n",
       "Ordnance Factory       248\n",
       "King George's Me...    236\n",
       "EID Parry (India...    235\n",
       "Fidelity Nationa...    231\n",
       "State Street Cor...    231\n",
       "Name: Total_no_of_years, dtype: int32"
      ]
     },
     "execution_count": 451,
     "metadata": {},
     "output_type": "execute_result"
    }
   ],
   "source": [
    "comp=final_df.groupby('Company_name')['Total_no_of_years'].sum().nlargest(20)\n",
    "comp"
   ]
  },
  {
   "cell_type": "code",
   "execution_count": 452,
   "id": "0d5df030",
   "metadata": {
    "scrolled": false
   },
   "outputs": [
    {
     "data": {
      "image/png": "[encoded data removed]",
      "text/plain": [
       "<Figure size 720x720 with 1 Axes>"
      ]
     },
     "metadata": {
      "needs_background": "light"
     },
     "output_type": "display_data"
    }
   ],
   "source": [
    "plt.figure(figsize=(10,10))\n",
    "sns.barplot(x=comp, y=comp.index, hue=comp, data=final_df)\n",
    "plt.show()"
   ]
  },
  {
   "cell_type": "markdown",
   "id": "bced03c6",
   "metadata": {},
   "source": [
    "### Which section of the Employees are the highest"
   ]
  },
  {
   "cell_type": "code",
   "execution_count": 461,
   "id": "e4dbd7b0",
   "metadata": {},
   "outputs": [
    {
     "data": {
      "text/plain": [
       "1k-5k        1678\n",
       "501-1k        804\n",
       "201-500       523\n",
       "10k-50k       319\n",
       "5k-10k        290\n",
       "51-200        254\n",
       "1Lakh+         46\n",
       "11-50          45\n",
       "50k-1Lakh      34\n",
       "1-10           16\n",
       "Name: Employees, dtype: int64"
      ]
     },
     "execution_count": 461,
     "metadata": {},
     "output_type": "execute_result"
    }
   ],
   "source": [
    "emp=final_df['Employees'].value_counts()\n",
    "emp"
   ]
  },
  {
   "cell_type": "code",
   "execution_count": 454,
   "id": "acb137b0",
   "metadata": {
    "scrolled": true
   },
   "outputs": [
    {
     "data": {
      "text/html": [
       "<div>\n",
       "<style scoped>\n",
       "    .dataframe tbody tr th:only-of-type {\n",
       "        vertical-align: middle;\n",
       "    }\n",
       "\n",
       "    .dataframe tbody tr th {\n",
       "        vertical-align: top;\n",
       "    }\n",
       "\n",
       "    .dataframe thead th {\n",
       "        text-align: right;\n",
       "    }\n",
       "</style>\n",
       "<table border=\"1\" class=\"dataframe\">\n",
       "  <thead>\n",
       "    <tr style=\"text-align: right;\">\n",
       "      <th></th>\n",
       "      <th>Company_name</th>\n",
       "      <th>Rating</th>\n",
       "      <th>Reviews</th>\n",
       "      <th>Company_type</th>\n",
       "      <th>Employees</th>\n",
       "      <th>Total_no_of_years</th>\n",
       "      <th>City</th>\n",
       "      <th>State/Country</th>\n",
       "      <th>Locations across the Globe</th>\n",
       "      <th>Work_location</th>\n",
       "    </tr>\n",
       "  </thead>\n",
       "  <tbody>\n",
       "    <tr>\n",
       "      <th>3265</th>\n",
       "      <td>Jindal Industrie...</td>\n",
       "      <td>3.3</td>\n",
       "      <td>149</td>\n",
       "      <td>Public</td>\n",
       "      <td>1k-5k</td>\n",
       "      <td>71</td>\n",
       "      <td>Delhi/NCR</td>\n",
       "      <td>Delhi</td>\n",
       "      <td>16</td>\n",
       "      <td>Global</td>\n",
       "    </tr>\n",
       "    <tr>\n",
       "      <th>2946</th>\n",
       "      <td>Murugappa Group</td>\n",
       "      <td>4.1</td>\n",
       "      <td>6300</td>\n",
       "      <td>Private</td>\n",
       "      <td>50k-1Lakh</td>\n",
       "      <td>123</td>\n",
       "      <td>Chennai</td>\n",
       "      <td>TamilNadu</td>\n",
       "      <td>54</td>\n",
       "      <td>India</td>\n",
       "    </tr>\n",
       "    <tr>\n",
       "      <th>3190</th>\n",
       "      <td>US Tech Solution...</td>\n",
       "      <td>4.0</td>\n",
       "      <td>153</td>\n",
       "      <td>Private</td>\n",
       "      <td>201-500</td>\n",
       "      <td>23</td>\n",
       "      <td>NewJersey</td>\n",
       "      <td>NewJersey</td>\n",
       "      <td>8</td>\n",
       "      <td>India</td>\n",
       "    </tr>\n",
       "    <tr>\n",
       "      <th>3074</th>\n",
       "      <td>Polyplex</td>\n",
       "      <td>4.4</td>\n",
       "      <td>159</td>\n",
       "      <td>Public</td>\n",
       "      <td>1k-5k</td>\n",
       "      <td>39</td>\n",
       "      <td>Noida</td>\n",
       "      <td>UttarPradesh</td>\n",
       "      <td>9</td>\n",
       "      <td>India</td>\n",
       "    </tr>\n",
       "    <tr>\n",
       "      <th>1177</th>\n",
       "      <td>Diebold Nixdorf</td>\n",
       "      <td>4.1</td>\n",
       "      <td>403</td>\n",
       "      <td>Private</td>\n",
       "      <td>1k-5k</td>\n",
       "      <td>31</td>\n",
       "      <td>NorthCanton</td>\n",
       "      <td>Ohio</td>\n",
       "      <td>34</td>\n",
       "      <td>India</td>\n",
       "    </tr>\n",
       "  </tbody>\n",
       "</table>\n",
       "</div>"
      ],
      "text/plain": [
       "             Company_name  Rating  Reviews Company_type  Employees  \\\n",
       "3265  Jindal Industrie...     3.3      149       Public      1k-5k   \n",
       "2946      Murugappa Group     4.1     6300      Private  50k-1Lakh   \n",
       "3190  US Tech Solution...     4.0      153      Private    201-500   \n",
       "3074             Polyplex     4.4      159       Public      1k-5k   \n",
       "1177      Diebold Nixdorf     4.1      403      Private      1k-5k   \n",
       "\n",
       "      Total_no_of_years         City State/Country  \\\n",
       "3265                 71    Delhi/NCR         Delhi   \n",
       "2946                123      Chennai     TamilNadu   \n",
       "3190                 23    NewJersey     NewJersey   \n",
       "3074                 39        Noida  UttarPradesh   \n",
       "1177                 31  NorthCanton          Ohio   \n",
       "\n",
       "      Locations across the Globe Work_location  \n",
       "3265                          16        Global  \n",
       "2946                          54         India  \n",
       "3190                           8         India  \n",
       "3074                           9         India  \n",
       "1177                          34         India  "
      ]
     },
     "execution_count": 454,
     "metadata": {},
     "output_type": "execute_result"
    }
   ],
   "source": [
    "final_df.sample(5)"
   ]
  },
  {
   "cell_type": "code",
   "execution_count": 455,
   "id": "5db7b2e6",
   "metadata": {},
   "outputs": [
    {
     "data": {
      "text/plain": [
       "array(['1Lakh+', '50k-1Lakh', '10k-50k', '1k-5k', '5k-10k', '201-500',\n",
       "       '501-1k', '51-200', '11-50', '1-10'], dtype=object)"
      ]
     },
     "execution_count": 455,
     "metadata": {},
     "output_type": "execute_result"
    }
   ],
   "source": [
    "final_df['Employees'].unique()"
   ]
  },
  {
   "cell_type": "code",
   "execution_count": 462,
   "id": "b6ab17fb",
   "metadata": {},
   "outputs": [
    {
     "data": {
      "image/png": "[encoded data removed]",
      "text/plain": [
       "<Figure size 720x720 with 1 Axes>"
      ]
     },
     "metadata": {
      "needs_background": "light"
     },
     "output_type": "display_data"
    }
   ],
   "source": [
    "plt.figure(figsize=(10,10))\n",
    "sns.barplot(x=emp, y=emp.index, hue=emp)\n",
    "plt.show()"
   ]
  },
  {
   "cell_type": "markdown",
   "id": "8f076550",
   "metadata": {},
   "source": [
    "### Distribution on the basis of Work location"
   ]
  },
  {
   "cell_type": "code",
   "execution_count": 463,
   "id": "2b3c7161",
   "metadata": {},
   "outputs": [
    {
     "data": {
      "text/plain": [
       "array(['India', 'Global'], dtype=object)"
      ]
     },
     "execution_count": 463,
     "metadata": {},
     "output_type": "execute_result"
    }
   ],
   "source": [
    "final_df['Work_location'].unique()"
   ]
  },
  {
   "cell_type": "code",
   "execution_count": 464,
   "id": "0b15c6f4",
   "metadata": {},
   "outputs": [],
   "source": [
    "final_df['Work_location']=final_df['Work_location'].str.replace(' ','')"
   ]
  },
  {
   "cell_type": "code",
   "execution_count": 465,
   "id": "0b81a1b3",
   "metadata": {},
   "outputs": [
    {
     "data": {
      "text/plain": [
       "array(['India', 'Global'], dtype=object)"
      ]
     },
     "execution_count": 465,
     "metadata": {},
     "output_type": "execute_result"
    }
   ],
   "source": [
    "final_df['Work_location'].unique()"
   ]
  },
  {
   "cell_type": "code",
   "execution_count": 466,
   "id": "1668aa94",
   "metadata": {},
   "outputs": [
    {
     "data": {
      "text/plain": [
       "<AxesSubplot:>"
      ]
     },
     "execution_count": 466,
     "metadata": {},
     "output_type": "execute_result"
    },
    {
     "data": {
      "image/png": "[encoded data removed]",
      "text/plain": [
       "<Figure size 432x288 with 1 Axes>"
      ]
     },
     "metadata": {
      "needs_background": "light"
     },
     "output_type": "display_data"
    }
   ],
   "source": [
    "# most favoured work location on ambition box page\n",
    "final_df['Work_location'].value_counts().plot(kind='bar')"
   ]
  },
  {
   "cell_type": "markdown",
   "id": "d7272a30",
   "metadata": {},
   "source": [
    "### Top Rated Companies"
   ]
  },
  {
   "cell_type": "code",
   "execution_count": 467,
   "id": "2829ba83",
   "metadata": {},
   "outputs": [
    {
     "data": {
      "text/plain": [
       "Company_name\n",
       "Hummingwave Tech...    5.0\n",
       "Aurigo                 4.9\n",
       "Claritus Managem...    4.9\n",
       "E2logy Software ...    4.9\n",
       "Hire Glocal            4.9\n",
       "Online Legal Ind...    4.9\n",
       "Sistema Shyam Te...    4.9\n",
       "Zovian Technolog...    4.9\n",
       "75way Technologi...    4.8\n",
       "AYN InfoTech           4.8\n",
       "Name: Rating, dtype: float64"
      ]
     },
     "execution_count": 467,
     "metadata": {},
     "output_type": "execute_result"
    }
   ],
   "source": [
    "rate=final_df.groupby('Company_name')['Rating'].max().nlargest(10)\n",
    "rate"
   ]
  },
  {
   "cell_type": "code",
   "execution_count": 468,
   "id": "cada3841",
   "metadata": {},
   "outputs": [
    {
     "data": {
      "image/png": "[encoded data removed]",
      "text/plain": [
       "<Figure size 864x576 with 1 Axes>"
      ]
     },
     "metadata": {
      "needs_background": "light"
     },
     "output_type": "display_data"
    }
   ],
   "source": [
    "plt.figure(figsize=(12,8))\n",
    "plt.bar(rate.index, rate)\n",
    "plt.title('Top Rated Companies')\n",
    "plt.xlabel('Companies')\n",
    "plt.ylabel('Rating')\n",
    "plt.xticks(rotation='vertical')\n",
    "plt.show()"
   ]
  },
  {
   "cell_type": "markdown",
   "id": "ce885b3d",
   "metadata": {},
   "source": [
    "### Converting the updated dataset into a csv file"
   ]
  },
  {
   "cell_type": "code",
   "execution_count": null,
   "id": "968bb5fd",
   "metadata": {},
   "outputs": [],
   "source": [
    "final_df.to_csv('data_analysis_project.csv')"
   ]
  }
 ],
 "metadata": {
  "kernelspec": {
   "display_name": "Python 3 (ipykernel)",
   "language": "python",
   "name": "python3"
  },
  "language_info": {
   "codemirror_mode": {
    "name": "ipython",
    "version": 3
   },
   "file_extension": ".py",
   "mimetype": "text/x-python",
   "name": "python",
   "nbconvert_exporter": "python",
   "pygments_lexer": "ipython3",
   "version": "3.9.12"
  }
 },
 "nbformat": 4,
 "nbformat_minor": 5
}
