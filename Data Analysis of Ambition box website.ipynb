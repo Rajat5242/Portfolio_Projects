{
 "cells": [
  {
   "cell_type": "code",
   "execution_count": 1,
   "id": "f704707d",
   "metadata": {},
   "outputs": [],
   "source": [
    "import pandas as pd \n",
    "import numpy as np\n",
    "import matplotlib.pyplot as plt\n",
    "import seaborn as sns\n",
    "import requests\n",
    "from bs4 import BeautifulSoup"
   ]
  },
  {
   "cell_type": "code",
   "execution_count": 2,
   "id": "55fcd4fb",
   "metadata": {},
   "outputs": [
    {
     "data": {
      "text/plain": [
       "<Response [403]>"
      ]
     },
     "execution_count": 2,
     "metadata": {},
     "output_type": "execute_result"
    }
   ],
   "source": [
    "url=requests.get('https://www.ambitionbox.com/list-of-companies?campaign=desktop_nav')\n",
    "url"
   ]
  },
  {
   "cell_type": "code",
   "execution_count": 3,
   "id": "8b4ab5dd",
   "metadata": {},
   "outputs": [],
   "source": [
    "headers={'User-Agent':'Mozilla/5.0 (Windows NT 6.3; Win64; x64) AppleWebKit/537.36 (KHTM, like Gecko) Chrome/80.0.3987.162 Safari/537.36'}\n",
    "url=requests.get('https://www.ambitionbox.com/list-of-companies?campaign=desktop_nav', headers=headers).text\n",
    "\n",
    "soup=BeautifulSoup(url, 'html.parser')\n",
    "\n",
    "soup2=BeautifulSoup(soup.prettify(), 'html.parser')\n"
   ]
  },
  {
   "cell_type": "code",
   "execution_count": 4,
   "id": "50adb296",
   "metadata": {},
   "outputs": [
    {
     "name": "stdout",
     "output_type": "stream",
     "text": [
      "TCS\n",
      "Accenture\n",
      "Cognizant\n",
      "ICICI Bank\n",
      "HDFC Bank\n",
      "Wipro\n",
      "Infosys\n",
      "Capgemini\n",
      "Tech Mahindra\n",
      "Genpact\n",
      "HCLTech\n",
      "Amazon\n",
      "Axis Bank\n",
      "Concentrix Corpo...\n",
      "IBM\n",
      "Reliance jio\n",
      "Larsen & Toubro ...\n",
      "HDB Financial Se...\n",
      "Vodafone Idea\n",
      "Teleperformance\n",
      "Reliance Retail\n",
      "Kotak Mahindra B...\n",
      "Deloitte\n",
      "Reliance Industr...\n",
      "Bharti Airtel\n",
      "BYJU'S\n",
      "Tata Motors\n",
      "Flipkart\n",
      "WNS\n",
      "Mahindra & Mahin...\n"
     ]
    },
    {
     "data": {
      "text/plain": [
       "30"
      ]
     },
     "execution_count": 4,
     "metadata": {},
     "output_type": "execute_result"
    }
   ],
   "source": [
    "# companies on the first page of the website \n",
    "\n",
    "for i in soup2.find_all('h2'):\n",
    "    print(i.text.strip())\n",
    "    \n",
    "company=soup.find_all('div', class_='company-info-wrapper')\n",
    "len(company)"
   ]
  },
  {
   "cell_type": "code",
   "execution_count": 5,
   "id": "f0677bae",
   "metadata": {},
   "outputs": [
    {
     "name": "stderr",
     "output_type": "stream",
     "text": [
      "C:\\Users\\RAJAT SINGH\\AppData\\Local\\Temp\\ipykernel_10400\\2769601861.py:48: FutureWarning: The frame.append method is deprecated and will be removed from pandas in a future version. Use pandas.concat instead.\n",
      "  final_df=final_df.append(df, ignore_index=True)\n"
     ]
    }
   ],
   "source": [
    "# Extracting data from all the pages of the website\n",
    "\n",
    "final_df=pd.DataFrame()\n",
    "\n",
    "for j in range(1, 150):\n",
    "    headers={'User-Agent':'Mozilla/5.0 (Windows NT 6.3; Win64; x64) AppleWebKit/537.36 (KHTM, like Gecko) Chrome/80.0.3987.162 Safari/537.36'}\n",
    "    url='https://www.ambitionbox.com/list-of-companies?page={}'.format(j)\n",
    "    webpage=requests.get(url, headers=headers).text\n",
    "    \n",
    "    soup=BeautifulSoup(webpage, 'html.parser')\n",
    "    \n",
    "    company=soup.find_all('div', class_='company-content-wrapper')\n",
    "    \n",
    "    name=[]\n",
    "    rating=[]\n",
    "    review=[]\n",
    "    ctype=[]\n",
    "    location=[]\n",
    "    old_in_years=[]\n",
    "    employees=[]\n",
    "\n",
    "    for i in company:\n",
    "        name.append(i.find('h2', class_='company-name').text.strip())\n",
    "        rating.append(i.find('p', class_='rating').text.strip())\n",
    "        review.append(i.find('a', class_='review-count').text.strip())\n",
    "        try:\n",
    "            ctype.append(i.find_all('p', class_='infoEntity')[0].text.strip())\n",
    "        except:\n",
    "            ctype.append(np.nan)\n",
    "            \n",
    "        try:\n",
    "            location.append(i.find_all('p', class_='infoEntity')[1].text.strip())\n",
    "        except:\n",
    "            location.append(np.nan)\n",
    "            \n",
    "        try:\n",
    "            old_in_years.append(i.find_all('p', class_='infoEntity')[2].text.strip())\n",
    "        except:\n",
    "            old_in_years.append(np.nan)\n",
    "        try:\n",
    "            employees.append(i.find_all('p', class_='infoEntity')[3].text.strip())\n",
    "        except:\n",
    "            employees.append(np.nan)\n",
    "        \n",
    "    d={'name': name, 'rating': rating, 'review': review, 'ctype': ctype, 'location': location, 'old_in_years':old_in_years, 'employees':employees}\n",
    "    df=pd.DataFrame(d)\n",
    "    \n",
    "    final_df=final_df.append(df, ignore_index=True)"
   ]
  },
  {
   "cell_type": "code",
   "execution_count": 6,
   "id": "94993279",
   "metadata": {},
   "outputs": [
    {
     "data": {
      "text/html": [
       "<div>\n",
       "<style scoped>\n",
       "    .dataframe tbody tr th:only-of-type {\n",
       "        vertical-align: middle;\n",
       "    }\n",
       "\n",
       "    .dataframe tbody tr th {\n",
       "        vertical-align: top;\n",
       "    }\n",
       "\n",
       "    .dataframe thead th {\n",
       "        text-align: right;\n",
       "    }\n",
       "</style>\n",
       "<table border=\"1\" class=\"dataframe\">\n",
       "  <thead>\n",
       "    <tr style=\"text-align: right;\">\n",
       "      <th></th>\n",
       "      <th>name</th>\n",
       "      <th>rating</th>\n",
       "      <th>review</th>\n",
       "      <th>ctype</th>\n",
       "      <th>location</th>\n",
       "      <th>old_in_years</th>\n",
       "      <th>employees</th>\n",
       "    </tr>\n",
       "  </thead>\n",
       "  <tbody>\n",
       "    <tr>\n",
       "      <th>0</th>\n",
       "      <td>TCS</td>\n",
       "      <td>3.9</td>\n",
       "      <td>(51.4k Reviews)</td>\n",
       "      <td>Public</td>\n",
       "      <td>Mumbai,Maharashtra + 271 more</td>\n",
       "      <td>55 years old</td>\n",
       "      <td>1 Lakh+ Employees (India)</td>\n",
       "    </tr>\n",
       "    <tr>\n",
       "      <th>1</th>\n",
       "      <td>Accenture</td>\n",
       "      <td>4.1</td>\n",
       "      <td>(32.8k Reviews)</td>\n",
       "      <td>Public</td>\n",
       "      <td>Dublin + 131 more</td>\n",
       "      <td>34 years old</td>\n",
       "      <td>1 Lakh+ Employees (India)</td>\n",
       "    </tr>\n",
       "    <tr>\n",
       "      <th>2</th>\n",
       "      <td>Cognizant</td>\n",
       "      <td>3.9</td>\n",
       "      <td>(30.2k Reviews)</td>\n",
       "      <td>Private</td>\n",
       "      <td>Teaneck. New Jersey. + 101 more</td>\n",
       "      <td>29 years old</td>\n",
       "      <td>1 Lakh+ Employees (India)</td>\n",
       "    </tr>\n",
       "    <tr>\n",
       "      <th>3</th>\n",
       "      <td>ICICI Bank</td>\n",
       "      <td>4.0</td>\n",
       "      <td>(34.1k Reviews)</td>\n",
       "      <td>Public</td>\n",
       "      <td>Mumbai,Maharashtra + 1059 more</td>\n",
       "      <td>29 years old</td>\n",
       "      <td>1 Lakh+ Employees (India)</td>\n",
       "    </tr>\n",
       "    <tr>\n",
       "      <th>4</th>\n",
       "      <td>HDFC Bank</td>\n",
       "      <td>4.0</td>\n",
       "      <td>(40.1k Reviews)</td>\n",
       "      <td>Public</td>\n",
       "      <td>Mumbai,Maharashtra + 1269 more</td>\n",
       "      <td>29 years old</td>\n",
       "      <td>50k-1 Lakh Employees (India)</td>\n",
       "    </tr>\n",
       "  </tbody>\n",
       "</table>\n",
       "</div>"
      ],
      "text/plain": [
       "         name rating           review    ctype  \\\n",
       "0         TCS    3.9  (51.4k Reviews)   Public   \n",
       "1   Accenture    4.1  (32.8k Reviews)   Public   \n",
       "2   Cognizant    3.9  (30.2k Reviews)  Private   \n",
       "3  ICICI Bank    4.0  (34.1k Reviews)   Public   \n",
       "4   HDFC Bank    4.0  (40.1k Reviews)   Public   \n",
       "\n",
       "                          location  old_in_years                     employees  \n",
       "0    Mumbai,Maharashtra + 271 more  55 years old     1 Lakh+ Employees (India)  \n",
       "1                Dublin + 131 more  34 years old     1 Lakh+ Employees (India)  \n",
       "2  Teaneck. New Jersey. + 101 more  29 years old     1 Lakh+ Employees (India)  \n",
       "3   Mumbai,Maharashtra + 1059 more  29 years old     1 Lakh+ Employees (India)  \n",
       "4   Mumbai,Maharashtra + 1269 more  29 years old  50k-1 Lakh Employees (India)  "
      ]
     },
     "execution_count": 6,
     "metadata": {},
     "output_type": "execute_result"
    }
   ],
   "source": [
    "final_df.head()"
   ]
  },
  {
   "cell_type": "code",
   "execution_count": 7,
   "id": "c2385af5",
   "metadata": {},
   "outputs": [
    {
     "data": {
      "text/plain": [
       "(4469, 7)"
      ]
     },
     "execution_count": 7,
     "metadata": {},
     "output_type": "execute_result"
    }
   ],
   "source": [
    "final_df.shape"
   ]
  },
  {
   "cell_type": "markdown",
   "id": "90ca09b1",
   "metadata": {},
   "source": [
    "### Data Mining"
   ]
  },
  {
   "cell_type": "code",
   "execution_count": 8,
   "id": "fa046c65",
   "metadata": {},
   "outputs": [
    {
     "data": {
      "text/plain": [
       "name            0.000000\n",
       "rating          0.000000\n",
       "review          0.000000\n",
       "ctype           0.000000\n",
       "location        0.984560\n",
       "old_in_years    3.087939\n",
       "employees       9.554710\n",
       "dtype: float64"
      ]
     },
     "execution_count": 8,
     "metadata": {},
     "output_type": "execute_result"
    }
   ],
   "source": [
    "# Finding null values in the dataset\n",
    "\n",
    "final_df.isnull().mean()*100"
   ]
  },
  {
   "cell_type": "code",
   "execution_count": 9,
   "id": "960cdd7e",
   "metadata": {},
   "outputs": [],
   "source": [
    "# we have to drop the null values as some values have jumbled up in the middle part of the dataset which has left most of the null values in the 'employees' section.\n",
    "# I have tried correcting it multiple times but everytime i run the program as fresh , the null values changes, making it hard to correct it. \n",
    "\n",
    "final_df.dropna(inplace=True)"
   ]
  },
  {
   "cell_type": "code",
   "execution_count": 10,
   "id": "fab6af0b",
   "metadata": {},
   "outputs": [
    {
     "data": {
      "text/plain": [
       "name            0.0\n",
       "rating          0.0\n",
       "review          0.0\n",
       "ctype           0.0\n",
       "location        0.0\n",
       "old_in_years    0.0\n",
       "employees       0.0\n",
       "dtype: float64"
      ]
     },
     "execution_count": 10,
     "metadata": {},
     "output_type": "execute_result"
    }
   ],
   "source": [
    "final_df.isnull().mean()*100"
   ]
  },
  {
   "cell_type": "code",
   "execution_count": 11,
   "id": "9366357d",
   "metadata": {},
   "outputs": [
    {
     "data": {
      "text/plain": [
       "(4042, 7)"
      ]
     },
     "execution_count": 11,
     "metadata": {},
     "output_type": "execute_result"
    }
   ],
   "source": [
    "final_df.shape"
   ]
  },
  {
   "cell_type": "code",
   "execution_count": 12,
   "id": "63ca25bb",
   "metadata": {},
   "outputs": [],
   "source": [
    "# Splitting 'Reviews' from every row of the 'review' column.\n",
    "\n",
    "def review(x):\n",
    "    return x.split(' ')[0].split('(')[1]\n",
    "\n",
    "final_df['review']=final_df['review'].apply(review)"
   ]
  },
  {
   "cell_type": "code",
   "execution_count": 13,
   "id": "4f9132d0",
   "metadata": {},
   "outputs": [],
   "source": [
    "# Splitting 'years old' from every row of the 'old_in_years' column.\n",
    "# Changing the name of the 'old_in_years' column.\n",
    "\n",
    "def year(x):\n",
    "    return x.split(' ')[0]\n",
    "\n",
    "final_df['total_no_of_years']=final_df['old_in_years'].apply(year)"
   ]
  },
  {
   "cell_type": "code",
   "execution_count": 14,
   "id": "0fc43c32",
   "metadata": {},
   "outputs": [],
   "source": [
    "# Splitting 'location' from the 'location' column.\n",
    "# Also assigning it a new name.\n",
    "\n",
    "def hq(x):\n",
    "    return x.split('+')[0]\n",
    "\n",
    "final_df['Hq']=final_df['location'].apply(hq)\n",
    "\n",
    "final_df.drop('old_in_years', axis=1, inplace=True)"
   ]
  },
  {
   "cell_type": "code",
   "execution_count": 15,
   "id": "e74d6d0e",
   "metadata": {},
   "outputs": [],
   "source": [
    "# since we can see some of the places are same but are differently spelt.\n",
    "# So we have to correct the spelling manually to perform proper data visualizations.\n",
    "\n",
    "final_df.replace('Mumbai ', 'Mumbai,Maharashtra ', inplace=True)\n",
    "final_df.replace('Navi Mumbai ', 'Mumbai,Maharashtra ', inplace=True)\n",
    "final_df.replace('Teaneck. New Jersey. ', 'Teaneck,NewJersey', inplace=True)\n",
    "final_df.replace('Dublin ', 'Dublin,Ireland ', inplace=True)\n",
    "final_df.replace('Seoul ', 'Seoul,SouthKorea ', inplace=True)\n",
    "final_df.replace('Seoul,Seoul ', 'Seoul,SouthKorea ', inplace=True)\n",
    "final_df.replace('Florida ', 'FLorida,USA ', inplace=True)\n",
    "final_df.replace('Gerlingen ', 'Gerlingen,Baden-Wuerttemberg ', inplace=True)\n",
    "final_df.replace('Durham ', 'Durham,England ', inplace=True)\n",
    "final_df.replace('Minnesota ', 'Minnetonka,Minnesota ', inplace=True)\n",
    "final_df.replace('Frankfurt ', 'Frankfurt,Germany ', inplace=True)\n",
    "final_df.replace('Charlotte ', 'Charlotte,NorthCarolina ', inplace=True)\n",
    "final_df.replace('Copenhagen ', 'Copenhagen,Denmark ', inplace=True)\n",
    "final_df.replace('Issy Les Moulineaux ', 'Issy Les Moulineaux,Paris ', inplace=True)\n",
    "final_df.replace('Zurich ', 'Zurich,Switzerland ', inplace=True)\n",
    "final_df.replace('Wong Chuk Hang ', 'Wong Chuk Hang,HongKong ', inplace=True)\n",
    "final_df.replace('Warren ', 'Warrenburg,Missouri ', inplace=True)\n",
    "final_df.replace('Allahabad ', 'Allahabad,Uttar Pradesh ', inplace=True)\n",
    "final_df.replace('Ahmednagar ', 'Ahmednagar,Maharashtra ', inplace=True)\n",
    "final_df.replace('Thiruvananthapuram ', 'Thiruvananthapuram,AndhraPradesh ', inplace=True)\n",
    "final_df.replace('Trivandrum/Thiruvananthapuram,Kerala ', 'Thiruvananthapuram,AndhraPradesh ', inplace=True)\n",
    "final_df.replace('Meerut ', 'Meerut,Uttar Pradesh ', inplace=True)\n",
    "final_df.replace('Coventry ', 'Coventry,England ', inplace=True)\n",
    "final_df.replace('California ', 'California,USA ', inplace=True)\n",
    "final_df.replace('Brisbane ', 'Brisbane,Australia ', inplace=True)\n",
    "final_df.replace('Dehradun ', 'Dehradun,Uttarakhand ', inplace=True)\n",
    "final_df.replace('Mysore ', 'Mysore,Karnataka ', inplace=True)\n",
    "final_df.replace('Sydney ', 'Sydney,New South Wales ', inplace=True)\n",
    "final_df.replace('Jakarta ', 'Jakarta,Indonesia ', inplace=True)\n",
    "final_df.replace('Hosur ', 'Hosur,Karnataka ', inplace=True)\n",
    "final_df.replace('Allahabad/Prayagraj,Uttar Pradesh ', 'Allahabad,Uttar Pradesh ', inplace=True)\n",
    "final_df.replace('Londonderry ', 'Londonderry,England ', inplace=True)\n",
    "final_df.replace('Kyoto ', 'Kyoto,Japan ', inplace=True)\n",
    "final_df.replace('Petaling Jaya ', 'Jaya,Indonesia ', inplace=True)\n",
    "final_df.replace('Hopkinton ', 'Hopkinton,Massachusetts ', inplace=True)\n",
    "final_df.replace('Aurangabad ', 'Aurangabad,Maharashtra ', inplace=True)\n",
    "final_df.replace('Moon Township ', 'Moon Township,Pennsylvania ', inplace=True)\n",
    "final_df.replace('Bonn ', 'Bonn,Germany ', inplace=True)\n",
    "final_df.replace('Hertfordshire ', 'Hertfordshire,England ', inplace=True)\n",
    "final_df.replace('Saint-Ouen ', 'Saint-Ouen,Paris ', inplace=True)\n",
    "final_df.replace('Herborn ', 'Herborn,Hesse ', inplace=True)\n",
    "final_df.replace('Plymouth ', 'Plymouth,Devon ', inplace=True)\n",
    "final_df.replace('Thiruvananthapuram ', 'Thiruvananthapuram,Kerala ', inplace=True)\n",
    "final_df.replace('Kapurthala\\xa0,Punjab ', 'Kapurthala,Punjab ', inplace=True)\n",
    "final_df.replace('Bilaspur ', 'Bilaspur,Chattisgarh ', inplace=True)\n",
    "final_df.replace('Cambridge ', 'Cambridge,England ', inplace=True)\n",
    "final_df.replace('Kanagawa ', 'Kanagawa,Japan ', inplace=True)\n",
    "final_df.replace('Lucknow ', 'Uttar Pradesh ', inplace=True)\n",
    "final_df.replace('Wolfratshausen ', 'Wolfratshausen,Bavaria ', inplace=True)\n",
    "final_df.replace('Velagapudi ', 'Velagapudi,Guntur ', inplace=True)\n",
    "final_df.replace('Visakhapatnam ', 'Visakhapatnam,AndhraPradesh ', inplace=True)\n",
    "final_df.replace('Levallois-Perret ', 'Levallois,Perret ', inplace=True)\n",
    "final_df.replace('Bharuch ', 'Bharuch,Gujarat ', inplace=True)\n",
    "final_df.replace('Lyngby ', 'Lyngby,Denmark ', inplace=True)\n",
    "final_df.replace('fuschl ', 'fuschl,Austria ', inplace=True)\n",
    "final_df.replace('Bengaluru/Bangalore,Karnataka ', 'Bengaluru,Karnataka ', inplace=True)\n",
    "final_df.replace('Bengaluru ', 'Bengaluru,Karnataka ', inplace=True)\n",
    "final_df.replace('Bangalore,Karnataka ', 'Bengaluru,Karnataka ', inplace=True)\n",
    "final_df.replace('Karnataka ', 'Bengaluru,Karnataka ', inplace=True)\n",
    "final_df.replace('Bangalore/Bengaluru,Karnataka ', 'Bengaluru,Karnataka ', inplace=True)\n",
    "final_df.replace('Bangalore ', 'Bengaluru,Karnataka ',inplace=True)\n",
    "final_df.replace('Bengaluru/Bangalore ', 'Bengaluru,Karnataka ', inplace=True)\n",
    "final_df.replace('Noida ', 'Noida,Uttar Pradesh ', inplace=True)\n",
    "final_df.replace('Greater Noida,Uttar Pradesh ', 'Noida,Uttar Pradesh ', inplace=True)\n",
    "final_df.replace('Navi Mumbai,Maharashtra ', 'Mumbai,Maharashtra ', inplace=True)\n",
    "final_df.replace('Navi Mumbai ', 'Mumbai,Maharashtra ', inplace=True)\n",
    "final_df.replace('Nashik ', 'Nashik,Maharashtra ', inplace=True)\n",
    "final_df.replace('Nasik/Nashik,Maharashtra ', 'Nashik,Maharashtra ', inplace=True)\n",
    "final_df.replace('Gurgaon/Gurugram,Haryana ', 'Gurgaon,Haryana ', inplace=True)\n",
    "final_df.replace('Gurgaon ', 'Gurgaon,Haryana ', inplace=True)\n",
    "final_df.replace('GURGAON ', 'Gurgaon,Haryana ', inplace=True)\n",
    "final_df.replace('Gurgram ', 'Gurgaon,Haryana ', inplace=True)\n",
    "final_df.replace('Gurgaon/Gurugram,Haryana', 'Gurgaon,Haryana ', inplace=True)\n",
    "final_df.replace('Gurugram ','Gurgaon,Haryana ', inplace=True)\n",
    "final_df.replace('Gurgaon/Gurugram ','Gurgaon,Haryana ', inplace=True)\n",
    "final_df.replace('Faridabad ','Faridabad,Haryana ', inplace=True)\n",
    "final_df.replace('Ahmedabad,Gujrat ', 'Ahmedabad,Gujarat ',inplace=True)\n",
    "final_df.replace('Ahmedabad ', 'Ahmedabad,Gujarat ',inplace=True)\n",
    "final_df.replace('Ahemdabad ', 'Ahmedabad,Gujarat ',inplace=True)\n",
    "final_df.replace('Ahmedabad,\\xa0India ', 'Ahmedabad,Gujarat ',inplace=True)\n",
    "final_df.replace('Gujrat ', 'Ahmedabad,Gujarat ',inplace=True)\n",
    "final_df.replace('New York,New York ','New York City,New York ', inplace=True)\n",
    "final_df.replace('New York,New York, ','New York City,New York ', inplace=True)\n",
    "final_df.replace('New York ','New York City,New York ', inplace=True)\n",
    "final_df.replace('New York','New York City,New York ', inplace=True)\n",
    "final_df.replace('New York,NY ','New York City,New York ', inplace=True)\n",
    "final_df.replace('Purchase,New York ','New York City,New York ', inplace=True)\n",
    "final_df.replace('Chennai ', 'Chennai,Tamil Nadu ', inplace=True)\n",
    "final_df.replace('Chennai', 'Chennai,Tamil Nadu ', inplace=True)\n",
    "final_df.replace('Chennai,Tamil Nadu', 'Chennai,Tamil Nadu ', inplace=True)\n",
    "final_df.replace('Paris ', 'Paris,France ', inplace=True)\n",
    "final_df.replace('Paris,Ile de France ', 'Paris,France ', inplace=True)\n",
    "final_df.replace('Paris,√éle-de-France ', 'Paris,France ', inplace=True)\n",
    "final_df.replace('Paris,Ile-de-France ', 'Paris,France ', inplace=True)\n",
    "final_df.replace('Delhi,NCT ', 'Delhi/NCR,Delhi ', inplace=True)\n",
    "final_df.replace('New Delhi', 'Delhi/NCR,Delhi ', inplace=True)\n",
    "final_df.replace('New Delhi,Delhi ', 'Delhi/NCR,Delhi ', inplace=True)\n",
    "final_df.replace('Delhi/NCR,New Delhi ', 'Delhi/NCR,Delhi ', inplace=True)\n",
    "final_df.replace('New Delhi ', 'Delhi/NCR,Delhi ', inplace=True)\n",
    "final_df.replace('Delhi ', 'Delhi/NCR,Delhi ', inplace=True)\n",
    "final_df.replace('New Delhi,New Delhi ', 'Delhi/NCR,Delhi ', inplace=True)\n",
    "final_df.replace('Pune ', 'Pune,Maharashtra ', inplace=True)\n",
    "final_df.replace('Lonavla ', 'Pune,Maharashtra ', inplace=True)\n",
    "final_df.replace('Pune', 'Pune,Maharashtra ', inplace=True)\n",
    "final_df.replace('Pune,Indore ', 'Pune,Maharashtra ', inplace=True)\n",
    "final_df.replace('Osaka ', 'Osaka,Japan ', inplace=True)\n",
    "final_df.replace('Geneva,Geneva ', 'Geneva,Switzerland ', inplace=True)\n",
    "final_df.replace('Abu Dhabi,Abu Dhabi ', 'Abu Dhabi,UAE ', inplace=True)\n",
    "final_df.replace('Al Ain,Abu Dhabi ', 'Abu Dhabi,UAE ', inplace=True)\n",
    "final_df.replace('Abu Dhabi ', 'Abu Dhabi,UAE ', inplace=True)\n",
    "final_df.replace('Kolkata ', 'West Bengal,Kolkata ', inplace=True)\n",
    "final_df.replace('Kolkata,India ', 'West Bengal,Kolkata ', inplace=True)\n",
    "final_df.replace('Kolkata,West Bengal', 'West Bengal,Kolkata ', inplace=True)\n",
    "final_df.replace('Hyderabad ', 'Hyderabad,Telangana ', inplace=True)\n",
    "final_df.replace('Hyderabad/Secunderabad ', 'Hyderabad,Telangana ', inplace=True)\n",
    "final_df.replace('Hyderabad/Secunderabad,Telangana ', 'Hyderabad,Telangana ', inplace=True)\n",
    "final_df.replace('Tokyo,Tokyo-to ', 'Tokyo,Japan ', inplace=True)\n",
    "final_df.replace('Tokyo,Tokyo ', 'Tokyo,Japan ', inplace=True)\n",
    "final_df.replace('Tokyo ', 'Tokyo,Japan ', inplace=True)\n",
    "final_df.replace('Toyota City,Aichi Prefecture ', 'Tokyo,Japan ', inplace=True)\n",
    "final_df.replace('London,London ', 'London,England ', inplace=True)\n",
    "final_df.replace('London ', 'London,England ', inplace=True)\n",
    "final_df.replace('Dubai,Dubai ', 'Dubai ,UAE ', inplace=True)\n",
    "final_df.replace('Dubai ', 'Dubai ,UAE ', inplace=True)\n",
    "final_df.replace('Ota City,Tokyo ', 'Tokyo,Japan ', inplace=True)\n",
    "final_df.replace('Jodhpur ', 'Jodhpur, Rajasthan ', inplace=True)\n"
   ]
  },
  {
   "cell_type": "code",
   "execution_count": 16,
   "id": "0f384a18",
   "metadata": {
    "scrolled": false
   },
   "outputs": [
    {
     "data": {
      "text/html": [
       "<div>\n",
       "<style scoped>\n",
       "    .dataframe tbody tr th:only-of-type {\n",
       "        vertical-align: middle;\n",
       "    }\n",
       "\n",
       "    .dataframe tbody tr th {\n",
       "        vertical-align: top;\n",
       "    }\n",
       "\n",
       "    .dataframe thead th {\n",
       "        text-align: right;\n",
       "    }\n",
       "</style>\n",
       "<table border=\"1\" class=\"dataframe\">\n",
       "  <thead>\n",
       "    <tr style=\"text-align: right;\">\n",
       "      <th></th>\n",
       "      <th>index</th>\n",
       "      <th>name</th>\n",
       "      <th>rating</th>\n",
       "      <th>review</th>\n",
       "      <th>ctype</th>\n",
       "      <th>location</th>\n",
       "      <th>employees</th>\n",
       "      <th>total_no_of_years</th>\n",
       "      <th>Hq</th>\n",
       "    </tr>\n",
       "  </thead>\n",
       "  <tbody>\n",
       "    <tr>\n",
       "      <th>0</th>\n",
       "      <td>0</td>\n",
       "      <td>TCS</td>\n",
       "      <td>3.9</td>\n",
       "      <td>51.4k</td>\n",
       "      <td>Public</td>\n",
       "      <td>Mumbai,Maharashtra + 271 more</td>\n",
       "      <td>1 Lakh+ Employees (India)</td>\n",
       "      <td>55</td>\n",
       "      <td>Mumbai,Maharashtra</td>\n",
       "    </tr>\n",
       "    <tr>\n",
       "      <th>1</th>\n",
       "      <td>1</td>\n",
       "      <td>Accenture</td>\n",
       "      <td>4.1</td>\n",
       "      <td>32.8k</td>\n",
       "      <td>Public</td>\n",
       "      <td>Dublin + 131 more</td>\n",
       "      <td>1 Lakh+ Employees (India)</td>\n",
       "      <td>34</td>\n",
       "      <td>Dublin,Ireland</td>\n",
       "    </tr>\n",
       "    <tr>\n",
       "      <th>2</th>\n",
       "      <td>2</td>\n",
       "      <td>Cognizant</td>\n",
       "      <td>3.9</td>\n",
       "      <td>30.2k</td>\n",
       "      <td>Private</td>\n",
       "      <td>Teaneck. New Jersey. + 101 more</td>\n",
       "      <td>1 Lakh+ Employees (India)</td>\n",
       "      <td>29</td>\n",
       "      <td>Teaneck,NewJersey</td>\n",
       "    </tr>\n",
       "    <tr>\n",
       "      <th>3</th>\n",
       "      <td>3</td>\n",
       "      <td>ICICI Bank</td>\n",
       "      <td>4.0</td>\n",
       "      <td>34.1k</td>\n",
       "      <td>Public</td>\n",
       "      <td>Mumbai,Maharashtra + 1059 more</td>\n",
       "      <td>1 Lakh+ Employees (India)</td>\n",
       "      <td>29</td>\n",
       "      <td>Mumbai,Maharashtra</td>\n",
       "    </tr>\n",
       "    <tr>\n",
       "      <th>4</th>\n",
       "      <td>4</td>\n",
       "      <td>HDFC Bank</td>\n",
       "      <td>4.0</td>\n",
       "      <td>40.1k</td>\n",
       "      <td>Public</td>\n",
       "      <td>Mumbai,Maharashtra + 1269 more</td>\n",
       "      <td>50k-1 Lakh Employees (India)</td>\n",
       "      <td>29</td>\n",
       "      <td>Mumbai,Maharashtra</td>\n",
       "    </tr>\n",
       "    <tr>\n",
       "      <th>...</th>\n",
       "      <td>...</td>\n",
       "      <td>...</td>\n",
       "      <td>...</td>\n",
       "      <td>...</td>\n",
       "      <td>...</td>\n",
       "      <td>...</td>\n",
       "      <td>...</td>\n",
       "      <td>...</td>\n",
       "      <td>...</td>\n",
       "    </tr>\n",
       "    <tr>\n",
       "      <th>4037</th>\n",
       "      <td>4464</td>\n",
       "      <td>CANTABIL RETAIL ...</td>\n",
       "      <td>3.8</td>\n",
       "      <td>120</td>\n",
       "      <td>Public</td>\n",
       "      <td>Delhi/NCR,New Delhi + 37 more</td>\n",
       "      <td>1k-5k Employees (India)</td>\n",
       "      <td>23</td>\n",
       "      <td>Delhi/NCR,Delhi</td>\n",
       "    </tr>\n",
       "    <tr>\n",
       "      <th>4038</th>\n",
       "      <td>4465</td>\n",
       "      <td>Técnicas Reunida...</td>\n",
       "      <td>4.6</td>\n",
       "      <td>120</td>\n",
       "      <td>Private</td>\n",
       "      <td>Madrid,Madrid + 13 more</td>\n",
       "      <td>5k-10k Employees (Global)</td>\n",
       "      <td>51</td>\n",
       "      <td>Madrid,Madrid</td>\n",
       "    </tr>\n",
       "    <tr>\n",
       "      <th>4039</th>\n",
       "      <td>4466</td>\n",
       "      <td>Apollo Diagnosti...</td>\n",
       "      <td>4.1</td>\n",
       "      <td>120</td>\n",
       "      <td>Private</td>\n",
       "      <td>Hyderabad + 32 more</td>\n",
       "      <td>201-500 Employees (India)</td>\n",
       "      <td>8</td>\n",
       "      <td>Hyderabad,Telangana</td>\n",
       "    </tr>\n",
       "    <tr>\n",
       "      <th>4040</th>\n",
       "      <td>4467</td>\n",
       "      <td>Magnasoft Consul...</td>\n",
       "      <td>3.8</td>\n",
       "      <td>120</td>\n",
       "      <td>Private</td>\n",
       "      <td>Bangalore/Bengaluru,Karnataka + 8 more</td>\n",
       "      <td>501-1k Employees (India)</td>\n",
       "      <td>23</td>\n",
       "      <td>Bengaluru,Karnataka</td>\n",
       "    </tr>\n",
       "    <tr>\n",
       "      <th>4041</th>\n",
       "      <td>4468</td>\n",
       "      <td>Afflatus Gravure...</td>\n",
       "      <td>3.6</td>\n",
       "      <td>120</td>\n",
       "      <td>Private</td>\n",
       "      <td>Noida,Uttar Pradesh + 10 more</td>\n",
       "      <td>51-200 Employees (India)</td>\n",
       "      <td>20</td>\n",
       "      <td>Noida,Uttar Pradesh</td>\n",
       "    </tr>\n",
       "  </tbody>\n",
       "</table>\n",
       "<p>4042 rows × 9 columns</p>\n",
       "</div>"
      ],
      "text/plain": [
       "      index                 name rating review    ctype  \\\n",
       "0         0                  TCS    3.9  51.4k   Public   \n",
       "1         1            Accenture    4.1  32.8k   Public   \n",
       "2         2            Cognizant    3.9  30.2k  Private   \n",
       "3         3           ICICI Bank    4.0  34.1k   Public   \n",
       "4         4            HDFC Bank    4.0  40.1k   Public   \n",
       "...     ...                  ...    ...    ...      ...   \n",
       "4037   4464  CANTABIL RETAIL ...    3.8    120   Public   \n",
       "4038   4465  Técnicas Reunida...    4.6    120  Private   \n",
       "4039   4466  Apollo Diagnosti...    4.1    120  Private   \n",
       "4040   4467  Magnasoft Consul...    3.8    120  Private   \n",
       "4041   4468  Afflatus Gravure...    3.6    120  Private   \n",
       "\n",
       "                                    location                     employees  \\\n",
       "0              Mumbai,Maharashtra + 271 more     1 Lakh+ Employees (India)   \n",
       "1                          Dublin + 131 more     1 Lakh+ Employees (India)   \n",
       "2            Teaneck. New Jersey. + 101 more     1 Lakh+ Employees (India)   \n",
       "3             Mumbai,Maharashtra + 1059 more     1 Lakh+ Employees (India)   \n",
       "4             Mumbai,Maharashtra + 1269 more  50k-1 Lakh Employees (India)   \n",
       "...                                      ...                           ...   \n",
       "4037           Delhi/NCR,New Delhi + 37 more       1k-5k Employees (India)   \n",
       "4038                 Madrid,Madrid + 13 more     5k-10k Employees (Global)   \n",
       "4039                     Hyderabad + 32 more     201-500 Employees (India)   \n",
       "4040  Bangalore/Bengaluru,Karnataka + 8 more      501-1k Employees (India)   \n",
       "4041           Noida,Uttar Pradesh + 10 more      51-200 Employees (India)   \n",
       "\n",
       "     total_no_of_years                    Hq  \n",
       "0                   55   Mumbai,Maharashtra   \n",
       "1                   34       Dublin,Ireland   \n",
       "2                   29     Teaneck,NewJersey  \n",
       "3                   29   Mumbai,Maharashtra   \n",
       "4                   29   Mumbai,Maharashtra   \n",
       "...                ...                   ...  \n",
       "4037                23      Delhi/NCR,Delhi   \n",
       "4038                51        Madrid,Madrid   \n",
       "4039                 8  Hyderabad,Telangana   \n",
       "4040                23  Bengaluru,Karnataka   \n",
       "4041                20  Noida,Uttar Pradesh   \n",
       "\n",
       "[4042 rows x 9 columns]"
      ]
     },
     "execution_count": 16,
     "metadata": {},
     "output_type": "execute_result"
    }
   ],
   "source": [
    "# Setting the index in order.\n",
    "\n",
    "final_df.reset_index()\n"
   ]
  },
  {
   "cell_type": "code",
   "execution_count": 17,
   "id": "d2faa941",
   "metadata": {},
   "outputs": [
    {
     "data": {
      "text/html": [
       "<div>\n",
       "<style scoped>\n",
       "    .dataframe tbody tr th:only-of-type {\n",
       "        vertical-align: middle;\n",
       "    }\n",
       "\n",
       "    .dataframe tbody tr th {\n",
       "        vertical-align: top;\n",
       "    }\n",
       "\n",
       "    .dataframe thead th {\n",
       "        text-align: right;\n",
       "    }\n",
       "</style>\n",
       "<table border=\"1\" class=\"dataframe\">\n",
       "  <thead>\n",
       "    <tr style=\"text-align: right;\">\n",
       "      <th></th>\n",
       "      <th>0</th>\n",
       "      <th>1</th>\n",
       "    </tr>\n",
       "  </thead>\n",
       "  <tbody>\n",
       "    <tr>\n",
       "      <th>0</th>\n",
       "      <td>Mumbai</td>\n",
       "      <td>Maharashtra</td>\n",
       "    </tr>\n",
       "    <tr>\n",
       "      <th>1</th>\n",
       "      <td>Dublin</td>\n",
       "      <td>Ireland</td>\n",
       "    </tr>\n",
       "    <tr>\n",
       "      <th>2</th>\n",
       "      <td>Teaneck</td>\n",
       "      <td>NewJersey</td>\n",
       "    </tr>\n",
       "    <tr>\n",
       "      <th>3</th>\n",
       "      <td>Mumbai</td>\n",
       "      <td>Maharashtra</td>\n",
       "    </tr>\n",
       "    <tr>\n",
       "      <th>4</th>\n",
       "      <td>Mumbai</td>\n",
       "      <td>Maharashtra</td>\n",
       "    </tr>\n",
       "    <tr>\n",
       "      <th>...</th>\n",
       "      <td>...</td>\n",
       "      <td>...</td>\n",
       "    </tr>\n",
       "    <tr>\n",
       "      <th>4464</th>\n",
       "      <td>Delhi/NCR</td>\n",
       "      <td>Delhi</td>\n",
       "    </tr>\n",
       "    <tr>\n",
       "      <th>4465</th>\n",
       "      <td>Madrid</td>\n",
       "      <td>Madrid</td>\n",
       "    </tr>\n",
       "    <tr>\n",
       "      <th>4466</th>\n",
       "      <td>Hyderabad</td>\n",
       "      <td>Telangana</td>\n",
       "    </tr>\n",
       "    <tr>\n",
       "      <th>4467</th>\n",
       "      <td>Bengaluru</td>\n",
       "      <td>Karnataka</td>\n",
       "    </tr>\n",
       "    <tr>\n",
       "      <th>4468</th>\n",
       "      <td>Noida</td>\n",
       "      <td>Uttar Pradesh</td>\n",
       "    </tr>\n",
       "  </tbody>\n",
       "</table>\n",
       "<p>4042 rows × 2 columns</p>\n",
       "</div>"
      ],
      "text/plain": [
       "              0               1\n",
       "0        Mumbai    Maharashtra \n",
       "1        Dublin        Ireland \n",
       "2       Teaneck       NewJersey\n",
       "3        Mumbai    Maharashtra \n",
       "4        Mumbai    Maharashtra \n",
       "...         ...             ...\n",
       "4464  Delhi/NCR          Delhi \n",
       "4465     Madrid         Madrid \n",
       "4466  Hyderabad      Telangana \n",
       "4467  Bengaluru      Karnataka \n",
       "4468      Noida  Uttar Pradesh \n",
       "\n",
       "[4042 rows x 2 columns]"
      ]
     },
     "execution_count": 17,
     "metadata": {},
     "output_type": "execute_result"
    }
   ],
   "source": [
    "# Separating the values of 'Hq' for better visualization.\n",
    "\n",
    "new=final_df['Hq'].str.split(',', n=1, expand=True)\n",
    "new"
   ]
  },
  {
   "cell_type": "code",
   "execution_count": 18,
   "id": "028b7a43",
   "metadata": {},
   "outputs": [],
   "source": [
    "final_df['city']=new[0]"
   ]
  },
  {
   "cell_type": "code",
   "execution_count": 19,
   "id": "b75a65f3",
   "metadata": {},
   "outputs": [],
   "source": [
    "final_df['State']=new[1]"
   ]
  },
  {
   "cell_type": "code",
   "execution_count": 20,
   "id": "abdc68d1",
   "metadata": {},
   "outputs": [
    {
     "data": {
      "text/html": [
       "<div>\n",
       "<style scoped>\n",
       "    .dataframe tbody tr th:only-of-type {\n",
       "        vertical-align: middle;\n",
       "    }\n",
       "\n",
       "    .dataframe tbody tr th {\n",
       "        vertical-align: top;\n",
       "    }\n",
       "\n",
       "    .dataframe thead th {\n",
       "        text-align: right;\n",
       "    }\n",
       "</style>\n",
       "<table border=\"1\" class=\"dataframe\">\n",
       "  <thead>\n",
       "    <tr style=\"text-align: right;\">\n",
       "      <th></th>\n",
       "      <th>name</th>\n",
       "      <th>rating</th>\n",
       "      <th>review</th>\n",
       "      <th>ctype</th>\n",
       "      <th>location</th>\n",
       "      <th>employees</th>\n",
       "      <th>total_no_of_years</th>\n",
       "      <th>Hq</th>\n",
       "      <th>city</th>\n",
       "      <th>State</th>\n",
       "    </tr>\n",
       "  </thead>\n",
       "  <tbody>\n",
       "    <tr>\n",
       "      <th>0</th>\n",
       "      <td>TCS</td>\n",
       "      <td>3.9</td>\n",
       "      <td>51.4k</td>\n",
       "      <td>Public</td>\n",
       "      <td>Mumbai,Maharashtra + 271 more</td>\n",
       "      <td>1 Lakh+ Employees (India)</td>\n",
       "      <td>55</td>\n",
       "      <td>Mumbai,Maharashtra</td>\n",
       "      <td>Mumbai</td>\n",
       "      <td>Maharashtra</td>\n",
       "    </tr>\n",
       "    <tr>\n",
       "      <th>1</th>\n",
       "      <td>Accenture</td>\n",
       "      <td>4.1</td>\n",
       "      <td>32.8k</td>\n",
       "      <td>Public</td>\n",
       "      <td>Dublin + 131 more</td>\n",
       "      <td>1 Lakh+ Employees (India)</td>\n",
       "      <td>34</td>\n",
       "      <td>Dublin,Ireland</td>\n",
       "      <td>Dublin</td>\n",
       "      <td>Ireland</td>\n",
       "    </tr>\n",
       "    <tr>\n",
       "      <th>2</th>\n",
       "      <td>Cognizant</td>\n",
       "      <td>3.9</td>\n",
       "      <td>30.2k</td>\n",
       "      <td>Private</td>\n",
       "      <td>Teaneck. New Jersey. + 101 more</td>\n",
       "      <td>1 Lakh+ Employees (India)</td>\n",
       "      <td>29</td>\n",
       "      <td>Teaneck,NewJersey</td>\n",
       "      <td>Teaneck</td>\n",
       "      <td>NewJersey</td>\n",
       "    </tr>\n",
       "    <tr>\n",
       "      <th>3</th>\n",
       "      <td>ICICI Bank</td>\n",
       "      <td>4.0</td>\n",
       "      <td>34.1k</td>\n",
       "      <td>Public</td>\n",
       "      <td>Mumbai,Maharashtra + 1059 more</td>\n",
       "      <td>1 Lakh+ Employees (India)</td>\n",
       "      <td>29</td>\n",
       "      <td>Mumbai,Maharashtra</td>\n",
       "      <td>Mumbai</td>\n",
       "      <td>Maharashtra</td>\n",
       "    </tr>\n",
       "    <tr>\n",
       "      <th>4</th>\n",
       "      <td>HDFC Bank</td>\n",
       "      <td>4.0</td>\n",
       "      <td>40.1k</td>\n",
       "      <td>Public</td>\n",
       "      <td>Mumbai,Maharashtra + 1269 more</td>\n",
       "      <td>50k-1 Lakh Employees (India)</td>\n",
       "      <td>29</td>\n",
       "      <td>Mumbai,Maharashtra</td>\n",
       "      <td>Mumbai</td>\n",
       "      <td>Maharashtra</td>\n",
       "    </tr>\n",
       "  </tbody>\n",
       "</table>\n",
       "</div>"
      ],
      "text/plain": [
       "         name rating review    ctype                         location  \\\n",
       "0         TCS    3.9  51.4k   Public    Mumbai,Maharashtra + 271 more   \n",
       "1   Accenture    4.1  32.8k   Public                Dublin + 131 more   \n",
       "2   Cognizant    3.9  30.2k  Private  Teaneck. New Jersey. + 101 more   \n",
       "3  ICICI Bank    4.0  34.1k   Public   Mumbai,Maharashtra + 1059 more   \n",
       "4   HDFC Bank    4.0  40.1k   Public   Mumbai,Maharashtra + 1269 more   \n",
       "\n",
       "                      employees total_no_of_years                   Hq  \\\n",
       "0     1 Lakh+ Employees (India)                55  Mumbai,Maharashtra    \n",
       "1     1 Lakh+ Employees (India)                34      Dublin,Ireland    \n",
       "2     1 Lakh+ Employees (India)                29    Teaneck,NewJersey   \n",
       "3     1 Lakh+ Employees (India)                29  Mumbai,Maharashtra    \n",
       "4  50k-1 Lakh Employees (India)                29  Mumbai,Maharashtra    \n",
       "\n",
       "      city         State  \n",
       "0   Mumbai  Maharashtra   \n",
       "1   Dublin      Ireland   \n",
       "2  Teaneck     NewJersey  \n",
       "3   Mumbai  Maharashtra   \n",
       "4   Mumbai  Maharashtra   "
      ]
     },
     "execution_count": 20,
     "metadata": {},
     "output_type": "execute_result"
    }
   ],
   "source": [
    "final_df.head()"
   ]
  },
  {
   "cell_type": "code",
   "execution_count": 21,
   "id": "f8036dfd",
   "metadata": {},
   "outputs": [
    {
     "name": "stdout",
     "output_type": "stream",
     "text": [
      "<class 'pandas.core.frame.DataFrame'>\n",
      "Int64Index: 4042 entries, 0 to 4468\n",
      "Data columns (total 10 columns):\n",
      " #   Column             Non-Null Count  Dtype \n",
      "---  ------             --------------  ----- \n",
      " 0   name               4042 non-null   object\n",
      " 1   rating             4042 non-null   object\n",
      " 2   review             4042 non-null   object\n",
      " 3   ctype              4042 non-null   object\n",
      " 4   location           4042 non-null   object\n",
      " 5   employees          4042 non-null   object\n",
      " 6   total_no_of_years  4042 non-null   object\n",
      " 7   Hq                 4042 non-null   object\n",
      " 8   city               4042 non-null   object\n",
      " 9   State              3718 non-null   object\n",
      "dtypes: object(10)\n",
      "memory usage: 347.4+ KB\n"
     ]
    }
   ],
   "source": [
    "final_df.info()"
   ]
  },
  {
   "cell_type": "code",
   "execution_count": 22,
   "id": "8a2dda16",
   "metadata": {},
   "outputs": [],
   "source": [
    "# Converting the object data type to integer\n",
    "\n",
    "final_df['rating']=final_df['rating'].astype('float')\n",
    "final_df['total_no_of_years']=final_df['total_no_of_years'].astype('int')"
   ]
  },
  {
   "cell_type": "code",
   "execution_count": 23,
   "id": "32a65435",
   "metadata": {},
   "outputs": [
    {
     "name": "stdout",
     "output_type": "stream",
     "text": [
      "<class 'pandas.core.frame.DataFrame'>\n",
      "Int64Index: 4042 entries, 0 to 4468\n",
      "Data columns (total 10 columns):\n",
      " #   Column             Non-Null Count  Dtype  \n",
      "---  ------             --------------  -----  \n",
      " 0   name               4042 non-null   object \n",
      " 1   rating             4042 non-null   float64\n",
      " 2   review             4042 non-null   object \n",
      " 3   ctype              4042 non-null   object \n",
      " 4   location           4042 non-null   object \n",
      " 5   employees          4042 non-null   object \n",
      " 6   total_no_of_years  4042 non-null   int32  \n",
      " 7   Hq                 4042 non-null   object \n",
      " 8   city               4042 non-null   object \n",
      " 9   State              3718 non-null   object \n",
      "dtypes: float64(1), int32(1), object(8)\n",
      "memory usage: 331.6+ KB\n"
     ]
    }
   ],
   "source": [
    "final_df.info()"
   ]
  },
  {
   "cell_type": "code",
   "execution_count": 24,
   "id": "914d866a",
   "metadata": {},
   "outputs": [],
   "source": [
    "# Renaming the columns for better readability \n",
    "\n",
    "final_df.rename(columns={'name':'Company_name', 'review':'Reviews','rating':'Rating', 'ctype':'Company_type','location':'Total_Locations', 'employees':'Employees','total_no_of_years':'Total_no_of_years'}, inplace=True)\n"
   ]
  },
  {
   "cell_type": "code",
   "execution_count": 25,
   "id": "3cf435e7",
   "metadata": {},
   "outputs": [
    {
     "data": {
      "text/html": [
       "<div>\n",
       "<style scoped>\n",
       "    .dataframe tbody tr th:only-of-type {\n",
       "        vertical-align: middle;\n",
       "    }\n",
       "\n",
       "    .dataframe tbody tr th {\n",
       "        vertical-align: top;\n",
       "    }\n",
       "\n",
       "    .dataframe thead th {\n",
       "        text-align: right;\n",
       "    }\n",
       "</style>\n",
       "<table border=\"1\" class=\"dataframe\">\n",
       "  <thead>\n",
       "    <tr style=\"text-align: right;\">\n",
       "      <th></th>\n",
       "      <th>Company_name</th>\n",
       "      <th>Rating</th>\n",
       "      <th>Reviews</th>\n",
       "      <th>Company_type</th>\n",
       "      <th>Total_Locations</th>\n",
       "      <th>Employees</th>\n",
       "      <th>Total_no_of_years</th>\n",
       "      <th>Hq</th>\n",
       "      <th>city</th>\n",
       "      <th>State</th>\n",
       "    </tr>\n",
       "  </thead>\n",
       "  <tbody>\n",
       "    <tr>\n",
       "      <th>0</th>\n",
       "      <td>TCS</td>\n",
       "      <td>3.9</td>\n",
       "      <td>51.4k</td>\n",
       "      <td>Public</td>\n",
       "      <td>Mumbai,Maharashtra + 271 more</td>\n",
       "      <td>1 Lakh+ Employees (India)</td>\n",
       "      <td>55</td>\n",
       "      <td>Mumbai,Maharashtra</td>\n",
       "      <td>Mumbai</td>\n",
       "      <td>Maharashtra</td>\n",
       "    </tr>\n",
       "  </tbody>\n",
       "</table>\n",
       "</div>"
      ],
      "text/plain": [
       "  Company_name  Rating Reviews Company_type                Total_Locations  \\\n",
       "0          TCS     3.9   51.4k       Public  Mumbai,Maharashtra + 271 more   \n",
       "\n",
       "                   Employees  Total_no_of_years                   Hq    city  \\\n",
       "0  1 Lakh+ Employees (India)                 55  Mumbai,Maharashtra   Mumbai   \n",
       "\n",
       "          State  \n",
       "0  Maharashtra   "
      ]
     },
     "execution_count": 25,
     "metadata": {},
     "output_type": "execute_result"
    }
   ],
   "source": [
    "final_df.head(1)"
   ]
  },
  {
   "cell_type": "code",
   "execution_count": 26,
   "id": "39c5240a",
   "metadata": {},
   "outputs": [
    {
     "data": {
      "text/html": [
       "<div>\n",
       "<style scoped>\n",
       "    .dataframe tbody tr th:only-of-type {\n",
       "        vertical-align: middle;\n",
       "    }\n",
       "\n",
       "    .dataframe tbody tr th {\n",
       "        vertical-align: top;\n",
       "    }\n",
       "\n",
       "    .dataframe thead th {\n",
       "        text-align: right;\n",
       "    }\n",
       "</style>\n",
       "<table border=\"1\" class=\"dataframe\">\n",
       "  <thead>\n",
       "    <tr style=\"text-align: right;\">\n",
       "      <th></th>\n",
       "      <th>0</th>\n",
       "      <th>1</th>\n",
       "    </tr>\n",
       "  </thead>\n",
       "  <tbody>\n",
       "    <tr>\n",
       "      <th>0</th>\n",
       "      <td>Mumbai,Maharashtra</td>\n",
       "      <td>271 more</td>\n",
       "    </tr>\n",
       "    <tr>\n",
       "      <th>1</th>\n",
       "      <td>Dublin</td>\n",
       "      <td>131 more</td>\n",
       "    </tr>\n",
       "    <tr>\n",
       "      <th>2</th>\n",
       "      <td>Teaneck. New Jersey.</td>\n",
       "      <td>101 more</td>\n",
       "    </tr>\n",
       "    <tr>\n",
       "      <th>3</th>\n",
       "      <td>Mumbai,Maharashtra</td>\n",
       "      <td>1059 more</td>\n",
       "    </tr>\n",
       "    <tr>\n",
       "      <th>4</th>\n",
       "      <td>Mumbai,Maharashtra</td>\n",
       "      <td>1269 more</td>\n",
       "    </tr>\n",
       "    <tr>\n",
       "      <th>...</th>\n",
       "      <td>...</td>\n",
       "      <td>...</td>\n",
       "    </tr>\n",
       "    <tr>\n",
       "      <th>4464</th>\n",
       "      <td>Delhi/NCR,New Delhi</td>\n",
       "      <td>37 more</td>\n",
       "    </tr>\n",
       "    <tr>\n",
       "      <th>4465</th>\n",
       "      <td>Madrid,Madrid</td>\n",
       "      <td>13 more</td>\n",
       "    </tr>\n",
       "    <tr>\n",
       "      <th>4466</th>\n",
       "      <td>Hyderabad</td>\n",
       "      <td>32 more</td>\n",
       "    </tr>\n",
       "    <tr>\n",
       "      <th>4467</th>\n",
       "      <td>Bangalore/Bengaluru,Karnataka</td>\n",
       "      <td>8 more</td>\n",
       "    </tr>\n",
       "    <tr>\n",
       "      <th>4468</th>\n",
       "      <td>Noida,Uttar Pradesh</td>\n",
       "      <td>10 more</td>\n",
       "    </tr>\n",
       "  </tbody>\n",
       "</table>\n",
       "<p>4042 rows × 2 columns</p>\n",
       "</div>"
      ],
      "text/plain": [
       "                                   0           1\n",
       "0                Mumbai,Maharashtra     271 more\n",
       "1                            Dublin     131 more\n",
       "2              Teaneck. New Jersey.     101 more\n",
       "3                Mumbai,Maharashtra    1059 more\n",
       "4                Mumbai,Maharashtra    1269 more\n",
       "...                              ...         ...\n",
       "4464            Delhi/NCR,New Delhi      37 more\n",
       "4465                  Madrid,Madrid      13 more\n",
       "4466                      Hyderabad      32 more\n",
       "4467  Bangalore/Bengaluru,Karnataka       8 more\n",
       "4468            Noida,Uttar Pradesh      10 more\n",
       "\n",
       "[4042 rows x 2 columns]"
      ]
     },
     "execution_count": 26,
     "metadata": {},
     "output_type": "execute_result"
    }
   ],
   "source": [
    "# Separating the 'Total_Locations' to get the integer part.\n",
    "\n",
    "location=final_df['Total_Locations'].str.split('+', n=1, expand=True)\n",
    "location"
   ]
  },
  {
   "cell_type": "code",
   "execution_count": 27,
   "id": "bf189753",
   "metadata": {},
   "outputs": [],
   "source": [
    "final_df['Locations across the Globe']=location[1].str.replace('more', '')"
   ]
  },
  {
   "cell_type": "code",
   "execution_count": 28,
   "id": "ab6e8d1d",
   "metadata": {},
   "outputs": [
    {
     "data": {
      "text/html": [
       "<div>\n",
       "<style scoped>\n",
       "    .dataframe tbody tr th:only-of-type {\n",
       "        vertical-align: middle;\n",
       "    }\n",
       "\n",
       "    .dataframe tbody tr th {\n",
       "        vertical-align: top;\n",
       "    }\n",
       "\n",
       "    .dataframe thead th {\n",
       "        text-align: right;\n",
       "    }\n",
       "</style>\n",
       "<table border=\"1\" class=\"dataframe\">\n",
       "  <thead>\n",
       "    <tr style=\"text-align: right;\">\n",
       "      <th></th>\n",
       "      <th>Company_name</th>\n",
       "      <th>Rating</th>\n",
       "      <th>Reviews</th>\n",
       "      <th>Company_type</th>\n",
       "      <th>Total_Locations</th>\n",
       "      <th>Employees</th>\n",
       "      <th>Total_no_of_years</th>\n",
       "      <th>Hq</th>\n",
       "      <th>city</th>\n",
       "      <th>State</th>\n",
       "      <th>Locations across the Globe</th>\n",
       "    </tr>\n",
       "  </thead>\n",
       "  <tbody>\n",
       "    <tr>\n",
       "      <th>0</th>\n",
       "      <td>TCS</td>\n",
       "      <td>3.9</td>\n",
       "      <td>51.4k</td>\n",
       "      <td>Public</td>\n",
       "      <td>Mumbai,Maharashtra + 271 more</td>\n",
       "      <td>1 Lakh+ Employees (India)</td>\n",
       "      <td>55</td>\n",
       "      <td>Mumbai,Maharashtra</td>\n",
       "      <td>Mumbai</td>\n",
       "      <td>Maharashtra</td>\n",
       "      <td>271</td>\n",
       "    </tr>\n",
       "    <tr>\n",
       "      <th>1</th>\n",
       "      <td>Accenture</td>\n",
       "      <td>4.1</td>\n",
       "      <td>32.8k</td>\n",
       "      <td>Public</td>\n",
       "      <td>Dublin + 131 more</td>\n",
       "      <td>1 Lakh+ Employees (India)</td>\n",
       "      <td>34</td>\n",
       "      <td>Dublin,Ireland</td>\n",
       "      <td>Dublin</td>\n",
       "      <td>Ireland</td>\n",
       "      <td>131</td>\n",
       "    </tr>\n",
       "    <tr>\n",
       "      <th>2</th>\n",
       "      <td>Cognizant</td>\n",
       "      <td>3.9</td>\n",
       "      <td>30.2k</td>\n",
       "      <td>Private</td>\n",
       "      <td>Teaneck. New Jersey. + 101 more</td>\n",
       "      <td>1 Lakh+ Employees (India)</td>\n",
       "      <td>29</td>\n",
       "      <td>Teaneck,NewJersey</td>\n",
       "      <td>Teaneck</td>\n",
       "      <td>NewJersey</td>\n",
       "      <td>101</td>\n",
       "    </tr>\n",
       "    <tr>\n",
       "      <th>3</th>\n",
       "      <td>ICICI Bank</td>\n",
       "      <td>4.0</td>\n",
       "      <td>34.1k</td>\n",
       "      <td>Public</td>\n",
       "      <td>Mumbai,Maharashtra + 1059 more</td>\n",
       "      <td>1 Lakh+ Employees (India)</td>\n",
       "      <td>29</td>\n",
       "      <td>Mumbai,Maharashtra</td>\n",
       "      <td>Mumbai</td>\n",
       "      <td>Maharashtra</td>\n",
       "      <td>1059</td>\n",
       "    </tr>\n",
       "    <tr>\n",
       "      <th>4</th>\n",
       "      <td>HDFC Bank</td>\n",
       "      <td>4.0</td>\n",
       "      <td>40.1k</td>\n",
       "      <td>Public</td>\n",
       "      <td>Mumbai,Maharashtra + 1269 more</td>\n",
       "      <td>50k-1 Lakh Employees (India)</td>\n",
       "      <td>29</td>\n",
       "      <td>Mumbai,Maharashtra</td>\n",
       "      <td>Mumbai</td>\n",
       "      <td>Maharashtra</td>\n",
       "      <td>1269</td>\n",
       "    </tr>\n",
       "  </tbody>\n",
       "</table>\n",
       "</div>"
      ],
      "text/plain": [
       "  Company_name  Rating Reviews Company_type                  Total_Locations  \\\n",
       "0          TCS     3.9   51.4k       Public    Mumbai,Maharashtra + 271 more   \n",
       "1    Accenture     4.1   32.8k       Public                Dublin + 131 more   \n",
       "2    Cognizant     3.9   30.2k      Private  Teaneck. New Jersey. + 101 more   \n",
       "3   ICICI Bank     4.0   34.1k       Public   Mumbai,Maharashtra + 1059 more   \n",
       "4    HDFC Bank     4.0   40.1k       Public   Mumbai,Maharashtra + 1269 more   \n",
       "\n",
       "                      Employees  Total_no_of_years                   Hq  \\\n",
       "0     1 Lakh+ Employees (India)                 55  Mumbai,Maharashtra    \n",
       "1     1 Lakh+ Employees (India)                 34      Dublin,Ireland    \n",
       "2     1 Lakh+ Employees (India)                 29    Teaneck,NewJersey   \n",
       "3     1 Lakh+ Employees (India)                 29  Mumbai,Maharashtra    \n",
       "4  50k-1 Lakh Employees (India)                 29  Mumbai,Maharashtra    \n",
       "\n",
       "      city         State Locations across the Globe  \n",
       "0   Mumbai  Maharashtra                        271   \n",
       "1   Dublin      Ireland                        131   \n",
       "2  Teaneck     NewJersey                       101   \n",
       "3   Mumbai  Maharashtra                       1059   \n",
       "4   Mumbai  Maharashtra                       1269   "
      ]
     },
     "execution_count": 28,
     "metadata": {},
     "output_type": "execute_result"
    }
   ],
   "source": [
    "final_df.head()"
   ]
  },
  {
   "cell_type": "code",
   "execution_count": 29,
   "id": "3bdf67fc",
   "metadata": {},
   "outputs": [],
   "source": [
    "final_df.drop(columns=['Total_Locations', 'Hq'], inplace=True)"
   ]
  },
  {
   "cell_type": "code",
   "execution_count": 30,
   "id": "24d8bbbe",
   "metadata": {},
   "outputs": [
    {
     "data": {
      "text/html": [
       "<div>\n",
       "<style scoped>\n",
       "    .dataframe tbody tr th:only-of-type {\n",
       "        vertical-align: middle;\n",
       "    }\n",
       "\n",
       "    .dataframe tbody tr th {\n",
       "        vertical-align: top;\n",
       "    }\n",
       "\n",
       "    .dataframe thead th {\n",
       "        text-align: right;\n",
       "    }\n",
       "</style>\n",
       "<table border=\"1\" class=\"dataframe\">\n",
       "  <thead>\n",
       "    <tr style=\"text-align: right;\">\n",
       "      <th></th>\n",
       "      <th>Company_name</th>\n",
       "      <th>Rating</th>\n",
       "      <th>Reviews</th>\n",
       "      <th>Company_type</th>\n",
       "      <th>Employees</th>\n",
       "      <th>Total_no_of_years</th>\n",
       "      <th>city</th>\n",
       "      <th>State</th>\n",
       "      <th>Locations across the Globe</th>\n",
       "    </tr>\n",
       "  </thead>\n",
       "  <tbody>\n",
       "    <tr>\n",
       "      <th>0</th>\n",
       "      <td>TCS</td>\n",
       "      <td>3.9</td>\n",
       "      <td>51.4k</td>\n",
       "      <td>Public</td>\n",
       "      <td>1 Lakh+ Employees (India)</td>\n",
       "      <td>55</td>\n",
       "      <td>Mumbai</td>\n",
       "      <td>Maharashtra</td>\n",
       "      <td>271</td>\n",
       "    </tr>\n",
       "    <tr>\n",
       "      <th>1</th>\n",
       "      <td>Accenture</td>\n",
       "      <td>4.1</td>\n",
       "      <td>32.8k</td>\n",
       "      <td>Public</td>\n",
       "      <td>1 Lakh+ Employees (India)</td>\n",
       "      <td>34</td>\n",
       "      <td>Dublin</td>\n",
       "      <td>Ireland</td>\n",
       "      <td>131</td>\n",
       "    </tr>\n",
       "    <tr>\n",
       "      <th>2</th>\n",
       "      <td>Cognizant</td>\n",
       "      <td>3.9</td>\n",
       "      <td>30.2k</td>\n",
       "      <td>Private</td>\n",
       "      <td>1 Lakh+ Employees (India)</td>\n",
       "      <td>29</td>\n",
       "      <td>Teaneck</td>\n",
       "      <td>NewJersey</td>\n",
       "      <td>101</td>\n",
       "    </tr>\n",
       "    <tr>\n",
       "      <th>3</th>\n",
       "      <td>ICICI Bank</td>\n",
       "      <td>4.0</td>\n",
       "      <td>34.1k</td>\n",
       "      <td>Public</td>\n",
       "      <td>1 Lakh+ Employees (India)</td>\n",
       "      <td>29</td>\n",
       "      <td>Mumbai</td>\n",
       "      <td>Maharashtra</td>\n",
       "      <td>1059</td>\n",
       "    </tr>\n",
       "    <tr>\n",
       "      <th>4</th>\n",
       "      <td>HDFC Bank</td>\n",
       "      <td>4.0</td>\n",
       "      <td>40.1k</td>\n",
       "      <td>Public</td>\n",
       "      <td>50k-1 Lakh Employees (India)</td>\n",
       "      <td>29</td>\n",
       "      <td>Mumbai</td>\n",
       "      <td>Maharashtra</td>\n",
       "      <td>1269</td>\n",
       "    </tr>\n",
       "  </tbody>\n",
       "</table>\n",
       "</div>"
      ],
      "text/plain": [
       "  Company_name  Rating Reviews Company_type                     Employees  \\\n",
       "0          TCS     3.9   51.4k       Public     1 Lakh+ Employees (India)   \n",
       "1    Accenture     4.1   32.8k       Public     1 Lakh+ Employees (India)   \n",
       "2    Cognizant     3.9   30.2k      Private     1 Lakh+ Employees (India)   \n",
       "3   ICICI Bank     4.0   34.1k       Public     1 Lakh+ Employees (India)   \n",
       "4    HDFC Bank     4.0   40.1k       Public  50k-1 Lakh Employees (India)   \n",
       "\n",
       "   Total_no_of_years     city         State Locations across the Globe  \n",
       "0                 55   Mumbai  Maharashtra                        271   \n",
       "1                 34   Dublin      Ireland                        131   \n",
       "2                 29  Teaneck     NewJersey                       101   \n",
       "3                 29   Mumbai  Maharashtra                       1059   \n",
       "4                 29   Mumbai  Maharashtra                       1269   "
      ]
     },
     "execution_count": 30,
     "metadata": {},
     "output_type": "execute_result"
    }
   ],
   "source": [
    "final_df.head()"
   ]
  },
  {
   "cell_type": "code",
   "execution_count": 31,
   "id": "189aada1",
   "metadata": {},
   "outputs": [],
   "source": [
    "# Replacing the extra space in the data.\n",
    "\n",
    "final_df['city']=final_df['city'].str.replace(' ','')"
   ]
  },
  {
   "cell_type": "code",
   "execution_count": 32,
   "id": "fbf77619",
   "metadata": {},
   "outputs": [],
   "source": [
    "# Replacing the extra space in the data.\n",
    "\n",
    "final_df['State']=final_df['State'].str.replace(' ', '')"
   ]
  },
  {
   "cell_type": "code",
   "execution_count": 33,
   "id": "86a34947",
   "metadata": {},
   "outputs": [],
   "source": [
    "# Replacing the extra space in the data.\n",
    "\n",
    "final_df['Locations across the Globe']=final_df['Locations across the Globe'].str.replace(' ','')"
   ]
  },
  {
   "cell_type": "code",
   "execution_count": 34,
   "id": "4d052552",
   "metadata": {},
   "outputs": [
    {
     "data": {
      "text/plain": [
       "array(['271', '131', '101', '1059', '1269', '225', '125', '79', '211',\n",
       "       '68', '140', '377', '1109', '70', '121', '998', '528', '803',\n",
       "       '567', '705', '478', '502', '530', '259', '388', '452', '24',\n",
       "       '421', '571', '72', '56', '73', '373', '418', '52', '684', '165',\n",
       "       '38', '51', '133', '41', '188', '367', '321', '316', '346', '42',\n",
       "       '419', '400', '132', '65', '15', '32', '270', '67', '345', '631',\n",
       "       '60', '237', '26', '362', '244', '379', '504', '326', '19', '11',\n",
       "       '479', '118', '689', '157', '139', '50', '187', '328', '570',\n",
       "       '300', '161', '122', '85', '307', '31', '169', '46', '97', '33',\n",
       "       '363', '205', '55', '370', '59', '267', '197', '135', '240', '29',\n",
       "       '25', '105', '229', '84', '208', '269', '14', '403', '253', '354',\n",
       "       '405', '201', '10', '111', '54', '21', '113', '501', '88', '250',\n",
       "       '71', '30', '104', '204', '296', '80', '186', '45', '440', '12',\n",
       "       '83', '446', '96', '498', '434', '76', '397', '23', '213', '260',\n",
       "       '185', '141', '61', '148', '35', '75', '203', '174', '200', '191',\n",
       "       '100', '13', '115', '134', '147', '82', '172', '190', '251', '386',\n",
       "       '120', '18', '327', '216', '22', '414', '149', '124', '196', '92',\n",
       "       '89', '218', '248', '86', '181', '143', '176', '74', '17', '183',\n",
       "       '168', '189', '199', '16', '127', '222', '235', '142', '145',\n",
       "       '198', '155', '87', '8', '93', '220', '109', '294', '110', '102',\n",
       "       '368', '209', '37', '90', '159', '180', '272', '9', '175', '325',\n",
       "       '153', '116', '223', '66', '78', '107', '236', '138', '36', '144',\n",
       "       '164', '137', '47', '106', '365', '179', '6', '184', '91', '108',\n",
       "       '48', '128', '146', '5', '114', '241', '195', '27', '28', '44',\n",
       "       '81', '43', '178', '123', '58', '20', '112', '98', '63', '7',\n",
       "       '117', '95', '62', '69', '4', '40', '34', '158', '49', '152', '64',\n",
       "       '177', '226', '119', '39', '1', '77', '53', '103', '126', '163',\n",
       "       '94', '57', '150', '160', '2', '129', '3', '162', '166', '99',\n",
       "       None], dtype=object)"
      ]
     },
     "execution_count": 34,
     "metadata": {},
     "output_type": "execute_result"
    }
   ],
   "source": [
    "final_df['Locations across the Globe'].unique()"
   ]
  },
  {
   "cell_type": "code",
   "execution_count": 35,
   "id": "7f6e98b1",
   "metadata": {},
   "outputs": [
    {
     "data": {
      "text/plain": [
       "Company_name                    0\n",
       "Rating                          0\n",
       "Reviews                         0\n",
       "Company_type                    0\n",
       "Employees                       0\n",
       "Total_no_of_years               0\n",
       "city                            0\n",
       "State                         324\n",
       "Locations across the Globe     39\n",
       "dtype: int64"
      ]
     },
     "execution_count": 35,
     "metadata": {},
     "output_type": "execute_result"
    }
   ],
   "source": [
    "final_df.isnull().sum()"
   ]
  },
  {
   "cell_type": "code",
   "execution_count": 36,
   "id": "7d56eb4d",
   "metadata": {},
   "outputs": [],
   "source": [
    "# Replacing the null values in the 'State' column with the values in the 'city' column.\n",
    "\n",
    "final_df['State']= np.where(final_df['State'].isnull(), final_df['city'], final_df['State'])"
   ]
  },
  {
   "cell_type": "code",
   "execution_count": 37,
   "id": "2d345d79",
   "metadata": {},
   "outputs": [
    {
     "data": {
      "text/plain": [
       "Company_name                   0\n",
       "Rating                         0\n",
       "Reviews                        0\n",
       "Company_type                   0\n",
       "Employees                      0\n",
       "Total_no_of_years              0\n",
       "city                           0\n",
       "State                          0\n",
       "Locations across the Globe    39\n",
       "dtype: int64"
      ]
     },
     "execution_count": 37,
     "metadata": {},
     "output_type": "execute_result"
    }
   ],
   "source": [
    "final_df.isnull().sum()"
   ]
  },
  {
   "cell_type": "code",
   "execution_count": 38,
   "id": "7c37db46",
   "metadata": {},
   "outputs": [],
   "source": [
    "# Dropping the null values\n",
    "final_df.dropna(inplace=True)"
   ]
  },
  {
   "cell_type": "code",
   "execution_count": 39,
   "id": "c598ca8b",
   "metadata": {},
   "outputs": [
    {
     "data": {
      "text/plain": [
       "Company_name                  0\n",
       "Rating                        0\n",
       "Reviews                       0\n",
       "Company_type                  0\n",
       "Employees                     0\n",
       "Total_no_of_years             0\n",
       "city                          0\n",
       "State                         0\n",
       "Locations across the Globe    0\n",
       "dtype: int64"
      ]
     },
     "execution_count": 39,
     "metadata": {},
     "output_type": "execute_result"
    }
   ],
   "source": [
    "# Checking for the null values \n",
    "final_df.isnull().sum()"
   ]
  },
  {
   "cell_type": "code",
   "execution_count": 40,
   "id": "82b54780",
   "metadata": {},
   "outputs": [
    {
     "data": {
      "text/plain": [
       "(4003, 9)"
      ]
     },
     "execution_count": 40,
     "metadata": {},
     "output_type": "execute_result"
    }
   ],
   "source": [
    "# Finding the shape after removing the null values.\n",
    "final_df.shape"
   ]
  },
  {
   "cell_type": "code",
   "execution_count": 42,
   "id": "a876b085",
   "metadata": {},
   "outputs": [],
   "source": [
    "# Replacing the k with a 1000 and also multiplying it with the respective no.\n",
    "\n",
    "final_df['Reviews']=final_df[\"Reviews\"].replace({\"k\":\"*1e3\"}, regex=True).map(pd.eval).astype(int)"
   ]
  },
  {
   "cell_type": "code",
   "execution_count": 43,
   "id": "cdc23738",
   "metadata": {},
   "outputs": [],
   "source": [
    "final_df['Locations across the Globe']=final_df['Locations across the Globe'].astype('int')\n",
    "final_df['Reviews']=final_df['Reviews'].astype('int')"
   ]
  },
  {
   "cell_type": "code",
   "execution_count": 44,
   "id": "11be7ec5",
   "metadata": {},
   "outputs": [
    {
     "name": "stdout",
     "output_type": "stream",
     "text": [
      "<class 'pandas.core.frame.DataFrame'>\n",
      "Int64Index: 4003 entries, 0 to 4468\n",
      "Data columns (total 9 columns):\n",
      " #   Column                      Non-Null Count  Dtype  \n",
      "---  ------                      --------------  -----  \n",
      " 0   Company_name                4003 non-null   object \n",
      " 1   Rating                      4003 non-null   float64\n",
      " 2   Reviews                     4003 non-null   int32  \n",
      " 3   Company_type                4003 non-null   object \n",
      " 4   Employees                   4003 non-null   object \n",
      " 5   Total_no_of_years           4003 non-null   int32  \n",
      " 6   city                        4003 non-null   object \n",
      " 7   State                       4003 non-null   object \n",
      " 8   Locations across the Globe  4003 non-null   int32  \n",
      "dtypes: float64(1), int32(3), object(5)\n",
      "memory usage: 265.8+ KB\n"
     ]
    }
   ],
   "source": [
    "final_df.info()"
   ]
  },
  {
   "cell_type": "code",
   "execution_count": 45,
   "id": "2364cf25",
   "metadata": {},
   "outputs": [],
   "source": [
    "final_df.rename(columns={'city':'City', 'State':'State/Country'}, inplace=True)"
   ]
  },
  {
   "cell_type": "code",
   "execution_count": 46,
   "id": "91e46b32",
   "metadata": {
    "scrolled": false
   },
   "outputs": [
    {
     "data": {
      "text/html": [
       "<div>\n",
       "<style scoped>\n",
       "    .dataframe tbody tr th:only-of-type {\n",
       "        vertical-align: middle;\n",
       "    }\n",
       "\n",
       "    .dataframe tbody tr th {\n",
       "        vertical-align: top;\n",
       "    }\n",
       "\n",
       "    .dataframe thead th {\n",
       "        text-align: right;\n",
       "    }\n",
       "</style>\n",
       "<table border=\"1\" class=\"dataframe\">\n",
       "  <thead>\n",
       "    <tr style=\"text-align: right;\">\n",
       "      <th></th>\n",
       "      <th>Company_name</th>\n",
       "      <th>Rating</th>\n",
       "      <th>Reviews</th>\n",
       "      <th>Company_type</th>\n",
       "      <th>Employees</th>\n",
       "      <th>Total_no_of_years</th>\n",
       "      <th>City</th>\n",
       "      <th>State/Country</th>\n",
       "      <th>Locations across the Globe</th>\n",
       "    </tr>\n",
       "  </thead>\n",
       "  <tbody>\n",
       "    <tr>\n",
       "      <th>1779</th>\n",
       "      <td>Heidelberg Cemen...</td>\n",
       "      <td>3.9</td>\n",
       "      <td>288</td>\n",
       "      <td>Private</td>\n",
       "      <td>1k-5k Employees (India)</td>\n",
       "      <td>17</td>\n",
       "      <td>Gurgaon</td>\n",
       "      <td>Haryana</td>\n",
       "      <td>43</td>\n",
       "    </tr>\n",
       "    <tr>\n",
       "      <th>32</th>\n",
       "      <td>DXC Technology</td>\n",
       "      <td>3.9</td>\n",
       "      <td>7100</td>\n",
       "      <td>Public</td>\n",
       "      <td>10k-50k Employees (India)</td>\n",
       "      <td>6</td>\n",
       "      <td>Minato</td>\n",
       "      <td>Tokyo</td>\n",
       "      <td>56</td>\n",
       "    </tr>\n",
       "    <tr>\n",
       "      <th>4014</th>\n",
       "      <td>New Allenberry W...</td>\n",
       "      <td>3.7</td>\n",
       "      <td>135</td>\n",
       "      <td>Private</td>\n",
       "      <td>201-500 Employees (India)</td>\n",
       "      <td>52</td>\n",
       "      <td>Faridabad</td>\n",
       "      <td>Haryana</td>\n",
       "      <td>6</td>\n",
       "    </tr>\n",
       "    <tr>\n",
       "      <th>2195</th>\n",
       "      <td>ELGI Equipments</td>\n",
       "      <td>4.0</td>\n",
       "      <td>252</td>\n",
       "      <td>Public</td>\n",
       "      <td>1k-5k Employees (India)</td>\n",
       "      <td>63</td>\n",
       "      <td>Coimbatore</td>\n",
       "      <td>TamilNadu</td>\n",
       "      <td>22</td>\n",
       "    </tr>\n",
       "    <tr>\n",
       "      <th>3707</th>\n",
       "      <td>Veeba Food Servi...</td>\n",
       "      <td>4.5</td>\n",
       "      <td>146</td>\n",
       "      <td>Private</td>\n",
       "      <td>1k-5k Employees (India)</td>\n",
       "      <td>40</td>\n",
       "      <td>Delhi/NCR</td>\n",
       "      <td>Delhi</td>\n",
       "      <td>22</td>\n",
       "    </tr>\n",
       "  </tbody>\n",
       "</table>\n",
       "</div>"
      ],
      "text/plain": [
       "             Company_name  Rating  Reviews Company_type  \\\n",
       "1779  Heidelberg Cemen...     3.9      288      Private   \n",
       "32         DXC Technology     3.9     7100       Public   \n",
       "4014  New Allenberry W...     3.7      135      Private   \n",
       "2195      ELGI Equipments     4.0      252       Public   \n",
       "3707  Veeba Food Servi...     4.5      146      Private   \n",
       "\n",
       "                      Employees  Total_no_of_years        City State/Country  \\\n",
       "1779    1k-5k Employees (India)                 17     Gurgaon       Haryana   \n",
       "32    10k-50k Employees (India)                  6      Minato         Tokyo   \n",
       "4014  201-500 Employees (India)                 52   Faridabad       Haryana   \n",
       "2195    1k-5k Employees (India)                 63  Coimbatore     TamilNadu   \n",
       "3707    1k-5k Employees (India)                 40   Delhi/NCR         Delhi   \n",
       "\n",
       "      Locations across the Globe  \n",
       "1779                          43  \n",
       "32                            56  \n",
       "4014                           6  \n",
       "2195                          22  \n",
       "3707                          22  "
      ]
     },
     "execution_count": 46,
     "metadata": {},
     "output_type": "execute_result"
    }
   ],
   "source": [
    "final_df.sample(5)"
   ]
  },
  {
   "cell_type": "code",
   "execution_count": 47,
   "id": "004ef1c4",
   "metadata": {},
   "outputs": [],
   "source": [
    "# Removing 'Employees' in the data from the 'Employees' column\n",
    "\n",
    "final_df['Employees']=final_df['Employees'].str.replace('Employees', '')"
   ]
  },
  {
   "cell_type": "code",
   "execution_count": 48,
   "id": "19b84a35",
   "metadata": {},
   "outputs": [
    {
     "data": {
      "text/plain": [
       "1k-5k  (India)          1673\n",
       "501-1k  (India)          790\n",
       "201-500  (India)         505\n",
       "10k-50k  (India)         316\n",
       "5k-10k  (India)          273\n",
       "51-200  (India)          246\n",
       "1 Lakh+  (India)          44\n",
       "11-50  (India)            43\n",
       "50k-1 Lakh  (India)       34\n",
       "1k-5k  (Global)           19\n",
       "5k-10k  (Global)          18\n",
       "1-10  (India)             15\n",
       "201-500  (Global)         10\n",
       "10k-50k  (Global)          7\n",
       "501-1k  (Global)           5\n",
       "1 Lakh+  (Global)          3\n",
       "50k-1 Lakh  (Global)       1\n",
       "51-200  (Global)           1\n",
       "Name: Employees, dtype: int64"
      ]
     },
     "execution_count": 48,
     "metadata": {},
     "output_type": "execute_result"
    }
   ],
   "source": [
    "final_df['Employees'].value_counts()"
   ]
  },
  {
   "cell_type": "code",
   "execution_count": 49,
   "id": "748d3434",
   "metadata": {},
   "outputs": [
    {
     "data": {
      "text/html": [
       "<div>\n",
       "<style scoped>\n",
       "    .dataframe tbody tr th:only-of-type {\n",
       "        vertical-align: middle;\n",
       "    }\n",
       "\n",
       "    .dataframe tbody tr th {\n",
       "        vertical-align: top;\n",
       "    }\n",
       "\n",
       "    .dataframe thead th {\n",
       "        text-align: right;\n",
       "    }\n",
       "</style>\n",
       "<table border=\"1\" class=\"dataframe\">\n",
       "  <thead>\n",
       "    <tr style=\"text-align: right;\">\n",
       "      <th></th>\n",
       "      <th>0</th>\n",
       "      <th>1</th>\n",
       "      <th>2</th>\n",
       "    </tr>\n",
       "  </thead>\n",
       "  <tbody>\n",
       "    <tr>\n",
       "      <th>0</th>\n",
       "      <td>1</td>\n",
       "      <td>Lakh+</td>\n",
       "      <td>(India)</td>\n",
       "    </tr>\n",
       "    <tr>\n",
       "      <th>1</th>\n",
       "      <td>1</td>\n",
       "      <td>Lakh+</td>\n",
       "      <td>(India)</td>\n",
       "    </tr>\n",
       "    <tr>\n",
       "      <th>2</th>\n",
       "      <td>1</td>\n",
       "      <td>Lakh+</td>\n",
       "      <td>(India)</td>\n",
       "    </tr>\n",
       "    <tr>\n",
       "      <th>3</th>\n",
       "      <td>1</td>\n",
       "      <td>Lakh+</td>\n",
       "      <td>(India)</td>\n",
       "    </tr>\n",
       "    <tr>\n",
       "      <th>4</th>\n",
       "      <td>50k-1</td>\n",
       "      <td>Lakh</td>\n",
       "      <td>(India)</td>\n",
       "    </tr>\n",
       "    <tr>\n",
       "      <th>...</th>\n",
       "      <td>...</td>\n",
       "      <td>...</td>\n",
       "      <td>...</td>\n",
       "    </tr>\n",
       "    <tr>\n",
       "      <th>4464</th>\n",
       "      <td>1k-5k</td>\n",
       "      <td></td>\n",
       "      <td>(India)</td>\n",
       "    </tr>\n",
       "    <tr>\n",
       "      <th>4465</th>\n",
       "      <td>5k-10k</td>\n",
       "      <td></td>\n",
       "      <td>(Global)</td>\n",
       "    </tr>\n",
       "    <tr>\n",
       "      <th>4466</th>\n",
       "      <td>201-500</td>\n",
       "      <td></td>\n",
       "      <td>(India)</td>\n",
       "    </tr>\n",
       "    <tr>\n",
       "      <th>4467</th>\n",
       "      <td>501-1k</td>\n",
       "      <td></td>\n",
       "      <td>(India)</td>\n",
       "    </tr>\n",
       "    <tr>\n",
       "      <th>4468</th>\n",
       "      <td>51-200</td>\n",
       "      <td></td>\n",
       "      <td>(India)</td>\n",
       "    </tr>\n",
       "  </tbody>\n",
       "</table>\n",
       "<p>4003 rows × 3 columns</p>\n",
       "</div>"
      ],
      "text/plain": [
       "            0      1         2\n",
       "0           1  Lakh+   (India)\n",
       "1           1  Lakh+   (India)\n",
       "2           1  Lakh+   (India)\n",
       "3           1  Lakh+   (India)\n",
       "4       50k-1   Lakh   (India)\n",
       "...       ...    ...       ...\n",
       "4464    1k-5k          (India)\n",
       "4465   5k-10k         (Global)\n",
       "4466  201-500          (India)\n",
       "4467   501-1k          (India)\n",
       "4468   51-200          (India)\n",
       "\n",
       "[4003 rows x 3 columns]"
      ]
     },
     "execution_count": 49,
     "metadata": {},
     "output_type": "execute_result"
    }
   ],
   "source": [
    "#Separating the 'Employees' column into multiple columns to get the desired data.\n",
    "\n",
    "loc=final_df['Employees'].str.split(' ', n=2, expand=True)\n",
    "loc"
   ]
  },
  {
   "cell_type": "code",
   "execution_count": 50,
   "id": "8a9b3904",
   "metadata": {},
   "outputs": [],
   "source": [
    "final_df['Employees']=loc[0]+loc[1]"
   ]
  },
  {
   "cell_type": "code",
   "execution_count": 51,
   "id": "508f6bf4",
   "metadata": {},
   "outputs": [
    {
     "data": {
      "text/plain": [
       "array(['1Lakh+', '50k-1Lakh', '10k-50k', '1k-5k', '5k-10k', '201-500',\n",
       "       '501-1k', '51-200', '11-50', '1-10'], dtype=object)"
      ]
     },
     "execution_count": 51,
     "metadata": {},
     "output_type": "execute_result"
    }
   ],
   "source": [
    "final_df['Employees'].unique()"
   ]
  },
  {
   "cell_type": "code",
   "execution_count": 52,
   "id": "12d2912a",
   "metadata": {},
   "outputs": [
    {
     "name": "stderr",
     "output_type": "stream",
     "text": [
      "C:\\Users\\RAJAT SINGH\\AppData\\Local\\Temp\\ipykernel_10400\\1193500124.py:3: FutureWarning: The default value of regex will change from True to False in a future version. In addition, single character regular expressions will *not* be treated as literal strings when regex=True.\n",
      "  final_df['Work_location']=loc[2].str.replace('(', '').str.replace(')', '')\n"
     ]
    }
   ],
   "source": [
    "# After separating the 'Employees' column, from there taking one of its column and making a new data out of it. \n",
    "\n",
    "final_df['Work_location']=loc[2].str.replace('(', '').str.replace(')', '')"
   ]
  },
  {
   "cell_type": "code",
   "execution_count": 53,
   "id": "3204e181",
   "metadata": {},
   "outputs": [
    {
     "data": {
      "text/html": [
       "<div>\n",
       "<style scoped>\n",
       "    .dataframe tbody tr th:only-of-type {\n",
       "        vertical-align: middle;\n",
       "    }\n",
       "\n",
       "    .dataframe tbody tr th {\n",
       "        vertical-align: top;\n",
       "    }\n",
       "\n",
       "    .dataframe thead th {\n",
       "        text-align: right;\n",
       "    }\n",
       "</style>\n",
       "<table border=\"1\" class=\"dataframe\">\n",
       "  <thead>\n",
       "    <tr style=\"text-align: right;\">\n",
       "      <th></th>\n",
       "      <th>Company_name</th>\n",
       "      <th>Rating</th>\n",
       "      <th>Reviews</th>\n",
       "      <th>Company_type</th>\n",
       "      <th>Employees</th>\n",
       "      <th>Total_no_of_years</th>\n",
       "      <th>City</th>\n",
       "      <th>State/Country</th>\n",
       "      <th>Locations across the Globe</th>\n",
       "      <th>Work_location</th>\n",
       "    </tr>\n",
       "  </thead>\n",
       "  <tbody>\n",
       "    <tr>\n",
       "      <th>0</th>\n",
       "      <td>TCS</td>\n",
       "      <td>3.9</td>\n",
       "      <td>51400</td>\n",
       "      <td>Public</td>\n",
       "      <td>1Lakh+</td>\n",
       "      <td>55</td>\n",
       "      <td>Mumbai</td>\n",
       "      <td>Maharashtra</td>\n",
       "      <td>271</td>\n",
       "      <td>India</td>\n",
       "    </tr>\n",
       "    <tr>\n",
       "      <th>1</th>\n",
       "      <td>Accenture</td>\n",
       "      <td>4.1</td>\n",
       "      <td>32800</td>\n",
       "      <td>Public</td>\n",
       "      <td>1Lakh+</td>\n",
       "      <td>34</td>\n",
       "      <td>Dublin</td>\n",
       "      <td>Ireland</td>\n",
       "      <td>131</td>\n",
       "      <td>India</td>\n",
       "    </tr>\n",
       "    <tr>\n",
       "      <th>2</th>\n",
       "      <td>Cognizant</td>\n",
       "      <td>3.9</td>\n",
       "      <td>30200</td>\n",
       "      <td>Private</td>\n",
       "      <td>1Lakh+</td>\n",
       "      <td>29</td>\n",
       "      <td>Teaneck</td>\n",
       "      <td>NewJersey</td>\n",
       "      <td>101</td>\n",
       "      <td>India</td>\n",
       "    </tr>\n",
       "    <tr>\n",
       "      <th>3</th>\n",
       "      <td>ICICI Bank</td>\n",
       "      <td>4.0</td>\n",
       "      <td>34100</td>\n",
       "      <td>Public</td>\n",
       "      <td>1Lakh+</td>\n",
       "      <td>29</td>\n",
       "      <td>Mumbai</td>\n",
       "      <td>Maharashtra</td>\n",
       "      <td>1059</td>\n",
       "      <td>India</td>\n",
       "    </tr>\n",
       "    <tr>\n",
       "      <th>4</th>\n",
       "      <td>HDFC Bank</td>\n",
       "      <td>4.0</td>\n",
       "      <td>40100</td>\n",
       "      <td>Public</td>\n",
       "      <td>50k-1Lakh</td>\n",
       "      <td>29</td>\n",
       "      <td>Mumbai</td>\n",
       "      <td>Maharashtra</td>\n",
       "      <td>1269</td>\n",
       "      <td>India</td>\n",
       "    </tr>\n",
       "  </tbody>\n",
       "</table>\n",
       "</div>"
      ],
      "text/plain": [
       "  Company_name  Rating  Reviews Company_type  Employees  Total_no_of_years  \\\n",
       "0          TCS     3.9    51400       Public     1Lakh+                 55   \n",
       "1    Accenture     4.1    32800       Public     1Lakh+                 34   \n",
       "2    Cognizant     3.9    30200      Private     1Lakh+                 29   \n",
       "3   ICICI Bank     4.0    34100       Public     1Lakh+                 29   \n",
       "4    HDFC Bank     4.0    40100       Public  50k-1Lakh                 29   \n",
       "\n",
       "      City State/Country  Locations across the Globe Work_location  \n",
       "0   Mumbai   Maharashtra                         271         India  \n",
       "1   Dublin       Ireland                         131         India  \n",
       "2  Teaneck     NewJersey                         101         India  \n",
       "3   Mumbai   Maharashtra                        1059         India  \n",
       "4   Mumbai   Maharashtra                        1269         India  "
      ]
     },
     "execution_count": 53,
     "metadata": {},
     "output_type": "execute_result"
    }
   ],
   "source": [
    "final_df.head()"
   ]
  },
  {
   "cell_type": "markdown",
   "id": "8a0b2eaa",
   "metadata": {},
   "source": [
    "## Data Visualization"
   ]
  },
  {
   "cell_type": "markdown",
   "id": "ca2ba1c5",
   "metadata": {},
   "source": [
    "### Cities with maximum no. of Headquarters"
   ]
  },
  {
   "cell_type": "code",
   "execution_count": 54,
   "id": "bca11b08",
   "metadata": {},
   "outputs": [
    {
     "data": {
      "text/plain": [
       "Mumbai             703\n",
       "Delhi/NCR          314\n",
       "Bengaluru          307\n",
       "Gurgaon            265\n",
       "Chennai            209\n",
       "Hyderabad          178\n",
       "Noida              172\n",
       "Pune               139\n",
       "Kolkata            101\n",
       "Ahmedabad           84\n",
       "NewYorkCity         53\n",
       "London              51\n",
       "Faridabad           29\n",
       "Jaipur              25\n",
       "Paris               25\n",
       "Dubai               24\n",
       "SanJose             23\n",
       "Tokyo               19\n",
       "Vadodara/Baroda     19\n",
       "Thane               17\n",
       "Name: City, dtype: int64"
      ]
     },
     "execution_count": 54,
     "metadata": {},
     "output_type": "execute_result"
    }
   ],
   "source": [
    "chains=final_df['City'].value_counts()[0:20]\n",
    "chains"
   ]
  },
  {
   "cell_type": "code",
   "execution_count": 55,
   "id": "35d66b59",
   "metadata": {},
   "outputs": [
    {
     "data": {
      "text/plain": [
       "Index(['Mumbai', 'Delhi/NCR', 'Bengaluru', 'Gurgaon', 'Chennai', 'Hyderabad',\n",
       "       'Noida', 'Pune', 'Kolkata', 'Ahmedabad', 'NewYorkCity', 'London',\n",
       "       'Faridabad', 'Jaipur', 'Paris', 'Dubai', 'SanJose', 'Tokyo',\n",
       "       'Vadodara/Baroda', 'Thane'],\n",
       "      dtype='object')"
      ]
     },
     "execution_count": 55,
     "metadata": {},
     "output_type": "execute_result"
    }
   ],
   "source": [
    "chains.index"
   ]
  },
  {
   "cell_type": "code",
   "execution_count": 56,
   "id": "62db0b42",
   "metadata": {},
   "outputs": [
    {
     "data": {
      "image/png": "[encoded data removed]",
      "text/plain": [
       "<Figure size 864x720 with 1 Axes>"
      ]
     },
     "metadata": {
      "needs_background": "light"
     },
     "output_type": "display_data"
    }
   ],
   "source": [
    "plt.figure(figsize=(12,10))\n",
    "sns.barplot(x=chains, y=chains.index)\n",
    "plt.xlabel('No. of HeadQuarters')\n",
    "plt.show()"
   ]
  },
  {
   "cell_type": "markdown",
   "id": "ff77305c",
   "metadata": {
    "scrolled": true
   },
   "source": [
    "### Distribution of Company_type"
   ]
  },
  {
   "cell_type": "code",
   "execution_count": 57,
   "id": "4fa832ee",
   "metadata": {
    "scrolled": true
   },
   "outputs": [
    {
     "data": {
      "text/plain": [
       "Private                                     2781\n",
       "Public                                      1128\n",
       "JV                                            25\n",
       "LLP                                           14\n",
       "Government                                    13\n",
       "Partnership                                   11\n",
       "LLC                                            9\n",
       "NGO/NPO                                        9\n",
       "Govt Organisation                              6\n",
       "Other                                          3\n",
       "Central Public Sector Enterprises (CPSE)       1\n",
       "Conglomerate                                   1\n",
       "Sole Proprietorship                            1\n",
       "Proprietorship                                 1\n",
       "Name: Company_type, dtype: int64"
      ]
     },
     "execution_count": 57,
     "metadata": {},
     "output_type": "execute_result"
    }
   ],
   "source": [
    "typ=final_df['Company_type'].value_counts()\n",
    "typ"
   ]
  },
  {
   "cell_type": "code",
   "execution_count": 58,
   "id": "706fd91b",
   "metadata": {},
   "outputs": [
    {
     "data": {
      "text/plain": [
       "Index(['Private', 'Public', 'JV', 'LLP', 'Government', 'Partnership', 'LLC',\n",
       "       'NGO/NPO', 'Govt Organisation', 'Other',\n",
       "       'Central Public Sector Enterprises (CPSE)', 'Conglomerate',\n",
       "       'Sole Proprietorship', 'Proprietorship'],\n",
       "      dtype='object')"
      ]
     },
     "execution_count": 58,
     "metadata": {},
     "output_type": "execute_result"
    }
   ],
   "source": [
    "typ.index"
   ]
  },
  {
   "cell_type": "code",
   "execution_count": 59,
   "id": "32d77b75",
   "metadata": {},
   "outputs": [
    {
     "data": {
      "image/png": "[encoded data removed]",
      "text/plain": [
       "<Figure size 864x792 with 1 Axes>"
      ]
     },
     "metadata": {},
     "output_type": "display_data"
    }
   ],
   "source": [
    "plt.figure(figsize=(12,11))\n",
    "plt.pie(typ, labels=typ.index, autopct='%0.1f%%')\n",
    "plt.show()"
   ]
  },
  {
   "cell_type": "markdown",
   "id": "0298f347",
   "metadata": {},
   "source": [
    "### Companies with max Reviews"
   ]
  },
  {
   "cell_type": "code",
   "execution_count": 60,
   "id": "e275795f",
   "metadata": {
    "scrolled": true
   },
   "outputs": [],
   "source": [
    "r2=final_df.groupby('Company_name')['Reviews'].sum().nlargest(20)"
   ]
  },
  {
   "cell_type": "code",
   "execution_count": 61,
   "id": "0ab0e164",
   "metadata": {},
   "outputs": [
    {
     "data": {
      "text/plain": [
       "Index(['TCS', 'Reliance Industr...', 'Mahindra & Mahin...', 'HDFC Bank',\n",
       "       'ICICI Bank', 'Accenture', 'Cognizant', 'Wipro', 'Infosys',\n",
       "       'Larsen & Toubro ...', 'Capgemini', 'Tech Mahindra', 'Genpact',\n",
       "       'Amazon', 'Axis Bank', 'HCLTech', 'Hinduja Group', 'Reliance Retail',\n",
       "       'IBM', 'Concentrix Corpo...'],\n",
       "      dtype='object', name='Company_name')"
      ]
     },
     "execution_count": 61,
     "metadata": {},
     "output_type": "execute_result"
    }
   ],
   "source": [
    "r2.index"
   ]
  },
  {
   "cell_type": "code",
   "execution_count": 62,
   "id": "48b79869",
   "metadata": {},
   "outputs": [
    {
     "data": {
      "image/png": "[encoded data removed]",
      "text/plain": [
       "<Figure size 864x792 with 1 Axes>"
      ]
     },
     "metadata": {
      "needs_background": "light"
     },
     "output_type": "display_data"
    }
   ],
   "source": [
    "plt.figure(figsize=(12,11))\n",
    "sns.barplot(x=r2, y=r2.index)\n",
    "plt.show()"
   ]
  },
  {
   "cell_type": "markdown",
   "id": "ab96fabb",
   "metadata": {
    "scrolled": true
   },
   "source": [
    "### Companies with most no. of locations"
   ]
  },
  {
   "cell_type": "code",
   "execution_count": 63,
   "id": "2e2efcc2",
   "metadata": {},
   "outputs": [],
   "source": [
    "loca=final_df.groupby('Company_name')['Locations across the Globe'].sum().nlargest(20)"
   ]
  },
  {
   "cell_type": "code",
   "execution_count": 64,
   "id": "7f0ada70",
   "metadata": {},
   "outputs": [
    {
     "data": {
      "text/plain": [
       "Index(['HDFC Bank', 'Axis Bank', 'ICICI Bank', 'Reliance jio',\n",
       "       'Mahindra & Mahin...', 'HDB Financial Se...', 'Reliance Retail',\n",
       "       'Shriram Transpor...', 'Bajaj Finserv', 'Bajaj Finance',\n",
       "       'IndusInd Bank', 'Bandhan Bank', 'Vodafone Idea', 'Bharti Airtel',\n",
       "       'Larsen & Toubro ...', 'ICICI Prudential...', 'IIFL',\n",
       "       'Reliance Industr...', 'Ecom Express', 'Cholamandalam In...'],\n",
       "      dtype='object', name='Company_name')"
      ]
     },
     "execution_count": 64,
     "metadata": {},
     "output_type": "execute_result"
    }
   ],
   "source": [
    "loca.index"
   ]
  },
  {
   "cell_type": "code",
   "execution_count": 65,
   "id": "724e056b",
   "metadata": {},
   "outputs": [
    {
     "data": {
      "image/png": "[encoded data removed]",
      "text/plain": [
       "<Figure size 864x792 with 1 Axes>"
      ]
     },
     "metadata": {
      "needs_background": "light"
     },
     "output_type": "display_data"
    }
   ],
   "source": [
    "plt.figure(figsize=(12,11))\n",
    "sns.barplot(x=loca, y=loca.index)\n",
    "plt.xlabel('Companies with Most Locations')\n",
    "plt.show()"
   ]
  },
  {
   "cell_type": "markdown",
   "id": "b725d199",
   "metadata": {},
   "source": [
    "### Give an estimate on the companies lying betweem  3.0-5.0 in Rating."
   ]
  },
  {
   "cell_type": "code",
   "execution_count": 66,
   "id": "c6378d73",
   "metadata": {},
   "outputs": [
    {
     "name": "stderr",
     "output_type": "stream",
     "text": [
      "C:\\ProgramData\\Anaconda3\\lib\\site-packages\\seaborn\\_decorators.py:36: FutureWarning: Pass the following variables as keyword args: x, y. From version 0.12, the only valid positional argument will be `data`, and passing other arguments without an explicit keyword will result in an error or misinterpretation.\n",
      "  warnings.warn(\n"
     ]
    },
    {
     "data": {
      "image/png": "[encoded data removed]",
      "text/plain": [
       "<Figure size 864x576 with 1 Axes>"
      ]
     },
     "metadata": {
      "needs_background": "light"
     },
     "output_type": "display_data"
    }
   ],
   "source": [
    "plt.figure(figsize=(12,8))\n",
    "sns.scatterplot(final_df['Rating'], final_df['Total_no_of_years'], linewidth=1, linestyle=':')\n",
    "plt.xlabel('rating')\n",
    "plt.ylabel('No of Years')\n",
    "plt.show()\n",
    "\n",
    "# from here we can see that, most of the companies which have around 20-30 years to 160-180 years of presence lies between 3.0 - 4.6 in rating. "
   ]
  },
  {
   "cell_type": "code",
   "execution_count": 67,
   "id": "6f25230a",
   "metadata": {},
   "outputs": [
    {
     "data": {
      "image/png": "[encoded data removed]",
      "text/plain": [
       "<Figure size 864x576 with 1 Axes>"
      ]
     },
     "metadata": {
      "needs_background": "light"
     },
     "output_type": "display_data"
    }
   ],
   "source": [
    "plt.figure(figsize=(12,8))\n",
    "sns.scatterplot(x=final_df['Rating'], y=final_df['Locations across the Globe'])\n",
    "plt.show()"
   ]
  },
  {
   "cell_type": "markdown",
   "id": "cd5a7314",
   "metadata": {},
   "source": [
    "### Top Companies and there presence in the market"
   ]
  },
  {
   "cell_type": "code",
   "execution_count": 68,
   "id": "13f9c5fb",
   "metadata": {},
   "outputs": [
    {
     "data": {
      "text/plain": [
       "Company_name\n",
       "Prodapt Solution...    2023\n",
       "TDK India              2023\n",
       "Oxford Universit...     545\n",
       "Saint-Gobain            358\n",
       "Merck Life Scien...     355\n",
       "Barclays                333\n",
       "Aviva Life Insur...     327\n",
       "London Stock Exc...     325\n",
       "Refinitiv               325\n",
       "Cox & Kings             265\n",
       "MAN Truck & Bus         265\n",
       "Hamleys                 263\n",
       "Army Medical Cor...     259\n",
       "Forbes & Company        258\n",
       "Ordnance Factory        248\n",
       "EID Parry (India...     235\n",
       "Praxair                 232\n",
       "Fidelity Nationa...     231\n",
       "State Street Cor...     231\n",
       "DuPont                  221\n",
       "Name: Total_no_of_years, dtype: int32"
      ]
     },
     "execution_count": 68,
     "metadata": {},
     "output_type": "execute_result"
    }
   ],
   "source": [
    "# Grouping two columns together\n",
    "\n",
    "final_df.groupby('Company_name')['Total_no_of_years'].sum().nlargest(20)"
   ]
  },
  {
   "cell_type": "code",
   "execution_count": 70,
   "id": "0531c59c",
   "metadata": {},
   "outputs": [
    {
     "data": {
      "text/html": [
       "<div>\n",
       "<style scoped>\n",
       "    .dataframe tbody tr th:only-of-type {\n",
       "        vertical-align: middle;\n",
       "    }\n",
       "\n",
       "    .dataframe tbody tr th {\n",
       "        vertical-align: top;\n",
       "    }\n",
       "\n",
       "    .dataframe thead th {\n",
       "        text-align: right;\n",
       "    }\n",
       "</style>\n",
       "<table border=\"1\" class=\"dataframe\">\n",
       "  <thead>\n",
       "    <tr style=\"text-align: right;\">\n",
       "      <th></th>\n",
       "      <th>Company_name</th>\n",
       "      <th>Rating</th>\n",
       "      <th>Reviews</th>\n",
       "      <th>Company_type</th>\n",
       "      <th>Employees</th>\n",
       "      <th>Total_no_of_years</th>\n",
       "      <th>City</th>\n",
       "      <th>State/Country</th>\n",
       "      <th>Locations across the Globe</th>\n",
       "      <th>Work_location</th>\n",
       "    </tr>\n",
       "  </thead>\n",
       "  <tbody>\n",
       "    <tr>\n",
       "      <th>1130</th>\n",
       "      <td>Prodapt Solution...</td>\n",
       "      <td>3.9</td>\n",
       "      <td>444</td>\n",
       "      <td>Private</td>\n",
       "      <td>1k-5k</td>\n",
       "      <td>2023</td>\n",
       "      <td>Chennai</td>\n",
       "      <td>TamilNadu</td>\n",
       "      <td>7</td>\n",
       "      <td>India</td>\n",
       "    </tr>\n",
       "    <tr>\n",
       "      <th>1260</th>\n",
       "      <td>TDK India</td>\n",
       "      <td>4.0</td>\n",
       "      <td>403</td>\n",
       "      <td>Private</td>\n",
       "      <td>1k-5k</td>\n",
       "      <td>2023</td>\n",
       "      <td>Nashik</td>\n",
       "      <td>Maharashtra</td>\n",
       "      <td>19</td>\n",
       "      <td>India</td>\n",
       "    </tr>\n",
       "  </tbody>\n",
       "</table>\n",
       "</div>"
      ],
      "text/plain": [
       "             Company_name  Rating  Reviews Company_type Employees  \\\n",
       "1130  Prodapt Solution...     3.9      444      Private     1k-5k   \n",
       "1260            TDK India     4.0      403      Private     1k-5k   \n",
       "\n",
       "      Total_no_of_years     City State/Country  Locations across the Globe  \\\n",
       "1130               2023  Chennai     TamilNadu                           7   \n",
       "1260               2023   Nashik   Maharashtra                          19   \n",
       "\n",
       "     Work_location  \n",
       "1130         India  \n",
       "1260         India  "
      ]
     },
     "execution_count": 70,
     "metadata": {},
     "output_type": "execute_result"
    }
   ],
   "source": [
    "# finding exceptions\n",
    "final_df[final_df['Total_no_of_years']==2023]"
   ]
  },
  {
   "cell_type": "code",
   "execution_count": 71,
   "id": "37338bde",
   "metadata": {},
   "outputs": [],
   "source": [
    "# Assigning the index to Company_name\n",
    "final_df.set_index('Company_name',inplace=True)"
   ]
  },
  {
   "cell_type": "code",
   "execution_count": 72,
   "id": "622bdf91",
   "metadata": {},
   "outputs": [],
   "source": [
    "# Dropping both the values \n",
    "final_df.drop(['Prodapt Solution...', 'TDK India'], inplace=True)"
   ]
  },
  {
   "cell_type": "code",
   "execution_count": 73,
   "id": "b27c8738",
   "metadata": {},
   "outputs": [],
   "source": [
    "# Resetting the index back to normal\n",
    "final_df.reset_index(inplace=True)"
   ]
  },
  {
   "cell_type": "code",
   "execution_count": 74,
   "id": "82a08c43",
   "metadata": {},
   "outputs": [
    {
     "data": {
      "text/plain": [
       "Company_name\n",
       "Oxford Universit...    545\n",
       "Saint-Gobain           358\n",
       "Merck Life Scien...    355\n",
       "Barclays               333\n",
       "Aviva Life Insur...    327\n",
       "London Stock Exc...    325\n",
       "Refinitiv              325\n",
       "Cox & Kings            265\n",
       "MAN Truck & Bus        265\n",
       "Hamleys                263\n",
       "Army Medical Cor...    259\n",
       "Forbes & Company       258\n",
       "Ordnance Factory       248\n",
       "EID Parry (India...    235\n",
       "Praxair                232\n",
       "Fidelity Nationa...    231\n",
       "State Street Cor...    231\n",
       "DuPont                 221\n",
       "Citibank               211\n",
       "Citigroup              211\n",
       "Name: Total_no_of_years, dtype: int32"
      ]
     },
     "execution_count": 74,
     "metadata": {},
     "output_type": "execute_result"
    }
   ],
   "source": [
    "comp=final_df.groupby('Company_name')['Total_no_of_years'].sum().nlargest(20)\n",
    "comp"
   ]
  },
  {
   "cell_type": "code",
   "execution_count": 75,
   "id": "0d5df030",
   "metadata": {
    "scrolled": false
   },
   "outputs": [
    {
     "data": {
      "image/png": "[encoded data removed]",
      "text/plain": [
       "<Figure size 720x720 with 1 Axes>"
      ]
     },
     "metadata": {
      "needs_background": "light"
     },
     "output_type": "display_data"
    }
   ],
   "source": [
    "plt.figure(figsize=(10,10))\n",
    "sns.barplot(x=comp, y=comp.index, hue=comp, data=final_df)\n",
    "plt.show()"
   ]
  },
  {
   "cell_type": "markdown",
   "id": "bced03c6",
   "metadata": {},
   "source": [
    "### Which section of the Employees are the highest"
   ]
  },
  {
   "cell_type": "code",
   "execution_count": 76,
   "id": "e4dbd7b0",
   "metadata": {},
   "outputs": [
    {
     "data": {
      "text/plain": [
       "1k-5k        1690\n",
       "501-1k        795\n",
       "201-500       515\n",
       "10k-50k       323\n",
       "5k-10k        291\n",
       "51-200        247\n",
       "1Lakh+         47\n",
       "11-50          43\n",
       "50k-1Lakh      35\n",
       "1-10           15\n",
       "Name: Employees, dtype: int64"
      ]
     },
     "execution_count": 76,
     "metadata": {},
     "output_type": "execute_result"
    }
   ],
   "source": [
    "emp=final_df['Employees'].value_counts()\n",
    "emp"
   ]
  },
  {
   "cell_type": "code",
   "execution_count": 77,
   "id": "acb137b0",
   "metadata": {
    "scrolled": true
   },
   "outputs": [
    {
     "data": {
      "text/html": [
       "<div>\n",
       "<style scoped>\n",
       "    .dataframe tbody tr th:only-of-type {\n",
       "        vertical-align: middle;\n",
       "    }\n",
       "\n",
       "    .dataframe tbody tr th {\n",
       "        vertical-align: top;\n",
       "    }\n",
       "\n",
       "    .dataframe thead th {\n",
       "        text-align: right;\n",
       "    }\n",
       "</style>\n",
       "<table border=\"1\" class=\"dataframe\">\n",
       "  <thead>\n",
       "    <tr style=\"text-align: right;\">\n",
       "      <th></th>\n",
       "      <th>Company_name</th>\n",
       "      <th>Rating</th>\n",
       "      <th>Reviews</th>\n",
       "      <th>Company_type</th>\n",
       "      <th>Employees</th>\n",
       "      <th>Total_no_of_years</th>\n",
       "      <th>City</th>\n",
       "      <th>State/Country</th>\n",
       "      <th>Locations across the Globe</th>\n",
       "      <th>Work_location</th>\n",
       "    </tr>\n",
       "  </thead>\n",
       "  <tbody>\n",
       "    <tr>\n",
       "      <th>3659</th>\n",
       "      <td>Zscaler Softech</td>\n",
       "      <td>4.1</td>\n",
       "      <td>133</td>\n",
       "      <td>Private</td>\n",
       "      <td>1k-5k</td>\n",
       "      <td>15</td>\n",
       "      <td>SanJose</td>\n",
       "      <td>California</td>\n",
       "      <td>9</td>\n",
       "      <td>India</td>\n",
       "    </tr>\n",
       "    <tr>\n",
       "      <th>3936</th>\n",
       "      <td>Jaiprakash Power...</td>\n",
       "      <td>3.9</td>\n",
       "      <td>122</td>\n",
       "      <td>Public</td>\n",
       "      <td>5k-10k</td>\n",
       "      <td>29</td>\n",
       "      <td>Noida</td>\n",
       "      <td>UttarPradesh</td>\n",
       "      <td>8</td>\n",
       "      <td>India</td>\n",
       "    </tr>\n",
       "    <tr>\n",
       "      <th>2625</th>\n",
       "      <td>Talwalkars Bette...</td>\n",
       "      <td>3.8</td>\n",
       "      <td>185</td>\n",
       "      <td>Public</td>\n",
       "      <td>201-500</td>\n",
       "      <td>91</td>\n",
       "      <td>Mumbai</td>\n",
       "      <td>Maharashtra</td>\n",
       "      <td>52</td>\n",
       "      <td>India</td>\n",
       "    </tr>\n",
       "    <tr>\n",
       "      <th>3377</th>\n",
       "      <td>Saregama India</td>\n",
       "      <td>3.9</td>\n",
       "      <td>144</td>\n",
       "      <td>Public</td>\n",
       "      <td>201-500</td>\n",
       "      <td>122</td>\n",
       "      <td>Kolkata</td>\n",
       "      <td>WestBengal</td>\n",
       "      <td>27</td>\n",
       "      <td>India</td>\n",
       "    </tr>\n",
       "    <tr>\n",
       "      <th>3296</th>\n",
       "      <td>Nisa Industrial ...</td>\n",
       "      <td>4.0</td>\n",
       "      <td>147</td>\n",
       "      <td>Private</td>\n",
       "      <td>51-200</td>\n",
       "      <td>50</td>\n",
       "      <td>Mumbai</td>\n",
       "      <td>Maharashtra</td>\n",
       "      <td>31</td>\n",
       "      <td>India</td>\n",
       "    </tr>\n",
       "  </tbody>\n",
       "</table>\n",
       "</div>"
      ],
      "text/plain": [
       "             Company_name  Rating  Reviews Company_type Employees  \\\n",
       "3659      Zscaler Softech     4.1      133      Private     1k-5k   \n",
       "3936  Jaiprakash Power...     3.9      122       Public    5k-10k   \n",
       "2625  Talwalkars Bette...     3.8      185       Public   201-500   \n",
       "3377       Saregama India     3.9      144       Public   201-500   \n",
       "3296  Nisa Industrial ...     4.0      147      Private    51-200   \n",
       "\n",
       "      Total_no_of_years     City State/Country  Locations across the Globe  \\\n",
       "3659                 15  SanJose    California                           9   \n",
       "3936                 29    Noida  UttarPradesh                           8   \n",
       "2625                 91   Mumbai   Maharashtra                          52   \n",
       "3377                122  Kolkata    WestBengal                          27   \n",
       "3296                 50   Mumbai   Maharashtra                          31   \n",
       "\n",
       "     Work_location  \n",
       "3659         India  \n",
       "3936         India  \n",
       "2625         India  \n",
       "3377         India  \n",
       "3296         India  "
      ]
     },
     "execution_count": 77,
     "metadata": {},
     "output_type": "execute_result"
    }
   ],
   "source": [
    "final_df.sample(5)"
   ]
  },
  {
   "cell_type": "code",
   "execution_count": 78,
   "id": "5db7b2e6",
   "metadata": {},
   "outputs": [
    {
     "data": {
      "text/plain": [
       "array(['1Lakh+', '50k-1Lakh', '10k-50k', '1k-5k', '5k-10k', '201-500',\n",
       "       '501-1k', '51-200', '11-50', '1-10'], dtype=object)"
      ]
     },
     "execution_count": 78,
     "metadata": {},
     "output_type": "execute_result"
    }
   ],
   "source": [
    "final_df['Employees'].unique()"
   ]
  },
  {
   "cell_type": "code",
   "execution_count": 79,
   "id": "b6ab17fb",
   "metadata": {},
   "outputs": [
    {
     "data": {
      "image/png": "[encoded data removed]",
      "text/plain": [
       "<Figure size 720x720 with 1 Axes>"
      ]
     },
     "metadata": {
      "needs_background": "light"
     },
     "output_type": "display_data"
    }
   ],
   "source": [
    "plt.figure(figsize=(10,10))\n",
    "sns.barplot(x=emp, y=emp.index, hue=emp)\n",
    "plt.show()"
   ]
  },
  {
   "cell_type": "markdown",
   "id": "8f076550",
   "metadata": {},
   "source": [
    "### Distribution on the basis of Work location"
   ]
  },
  {
   "cell_type": "code",
   "execution_count": 80,
   "id": "2b3c7161",
   "metadata": {},
   "outputs": [
    {
     "data": {
      "text/plain": [
       "array([' India', 'India', ' Global', 'Global'], dtype=object)"
      ]
     },
     "execution_count": 80,
     "metadata": {},
     "output_type": "execute_result"
    }
   ],
   "source": [
    "final_df['Work_location'].unique()"
   ]
  },
  {
   "cell_type": "code",
   "execution_count": 81,
   "id": "0b15c6f4",
   "metadata": {},
   "outputs": [],
   "source": [
    "final_df['Work_location']=final_df['Work_location'].str.replace(' ','')"
   ]
  },
  {
   "cell_type": "code",
   "execution_count": 82,
   "id": "0b81a1b3",
   "metadata": {},
   "outputs": [
    {
     "data": {
      "text/plain": [
       "array(['India', 'Global'], dtype=object)"
      ]
     },
     "execution_count": 82,
     "metadata": {},
     "output_type": "execute_result"
    }
   ],
   "source": [
    "final_df['Work_location'].unique()"
   ]
  },
  {
   "cell_type": "code",
   "execution_count": 83,
   "id": "1668aa94",
   "metadata": {},
   "outputs": [
    {
     "data": {
      "text/plain": [
       "<AxesSubplot:>"
      ]
     },
     "execution_count": 83,
     "metadata": {},
     "output_type": "execute_result"
    },
    {
     "data": {
      "image/png": "[encoded data removed]",
      "text/plain": [
       "<Figure size 432x288 with 1 Axes>"
      ]
     },
     "metadata": {
      "needs_background": "light"
     },
     "output_type": "display_data"
    }
   ],
   "source": [
    "# most favoured work location on ambition box page\n",
    "final_df['Work_location'].value_counts().plot(kind='bar')"
   ]
  },
  {
   "cell_type": "markdown",
   "id": "d7272a30",
   "metadata": {},
   "source": [
    "### Top Rated Companies"
   ]
  },
  {
   "cell_type": "code",
   "execution_count": 84,
   "id": "2829ba83",
   "metadata": {},
   "outputs": [
    {
     "data": {
      "text/plain": [
       "Company_name\n",
       "Hummingwave Tech...    5.0\n",
       "Aurigo                 4.9\n",
       "Claritus Managem...    4.9\n",
       "E2logy Software ...    4.9\n",
       "Hire Glocal            4.9\n",
       "Online Legal Ind...    4.9\n",
       "Sistema Shyam Te...    4.9\n",
       "Zovian Technolog...    4.9\n",
       "75way Technologi...    4.8\n",
       "AYN InfoTech           4.8\n",
       "Name: Rating, dtype: float64"
      ]
     },
     "execution_count": 84,
     "metadata": {},
     "output_type": "execute_result"
    }
   ],
   "source": [
    "rate=final_df.groupby('Company_name')['Rating'].max().nlargest(10)\n",
    "rate"
   ]
  },
  {
   "cell_type": "code",
   "execution_count": 85,
   "id": "cada3841",
   "metadata": {},
   "outputs": [
    {
     "data": {
      "image/png": "[encoded data removed]",
      "text/plain": [
       "<Figure size 864x576 with 1 Axes>"
      ]
     },
     "metadata": {
      "needs_background": "light"
     },
     "output_type": "display_data"
    }
   ],
   "source": [
    "plt.figure(figsize=(12,8))\n",
    "plt.bar(rate.index, rate)\n",
    "plt.title('Top Rated Companies')\n",
    "plt.xlabel('Companies')\n",
    "plt.ylabel('Rating')\n",
    "plt.xticks(rotation='vertical')\n",
    "plt.show()"
   ]
  },
  {
   "cell_type": "markdown",
   "id": "ce885b3d",
   "metadata": {},
   "source": [
    "### Converting the updated dataset into a csv file"
   ]
  },
  {
   "cell_type": "code",
   "execution_count": 86,
   "id": "968bb5fd",
   "metadata": {},
   "outputs": [],
   "source": [
    "final_df.to_csv('data_analysis_project.csv')"
   ]
  }
 ],
 "metadata": {
  "kernelspec": {
   "display_name": "Python 3 (ipykernel)",
   "language": "python",
   "name": "python3"
  },
  "language_info": {
   "codemirror_mode": {
    "name": "ipython",
    "version": 3
   },
   "file_extension": ".py",
   "mimetype": "text/x-python",
   "name": "python",
   "nbconvert_exporter": "python",
   "pygments_lexer": "ipython3",
   "version": "3.9.12"
  }
 },
 "nbformat": 4,
 "nbformat_minor": 5
}
