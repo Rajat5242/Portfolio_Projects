{
 "cells": [
  {
   "cell_type": "code",
   "execution_count": 1,
   "id": "0426c830",
   "metadata": {},
   "outputs": [],
   "source": [
    "import pandas as pd \n",
    "import numpy as np\n",
    "import matplotlib.pyplot as plt\n",
    "import seaborn as sns\n",
    "import requests\n",
    "from bs4 import BeautifulSoup"
   ]
  },
  {
   "cell_type": "code",
   "execution_count": 2,
   "id": "364c1059",
   "metadata": {},
   "outputs": [
    {
     "data": {
      "text/plain": [
       "<Response [403]>"
      ]
     },
     "execution_count": 2,
     "metadata": {},
     "output_type": "execute_result"
    }
   ],
   "source": [
    "url=requests.get('https://www.ambitionbox.com/list-of-companies?campaign=desktop_nav')\n",
    "url"
   ]
  },
  {
   "cell_type": "code",
   "execution_count": 3,
   "id": "ece12eb6",
   "metadata": {},
   "outputs": [],
   "source": [
    "headers={'User-Agent':'Mozilla/5.0 (Windows NT 6.3; Win64; x64) AppleWebKit/537.36 (KHTM, like Gecko) Chrome/80.0.3987.162 Safari/537.36'}\n",
    "url=requests.get('https://www.ambitionbox.com/list-of-companies?campaign=desktop_nav', headers=headers).text"
   ]
  },
  {
   "cell_type": "code",
   "execution_count": 4,
   "id": "319ed3b8",
   "metadata": {},
   "outputs": [],
   "source": [
    "soup=BeautifulSoup(url, 'html.parser')"
   ]
  },
  {
   "cell_type": "code",
   "execution_count": 5,
   "id": "3e474bc8",
   "metadata": {},
   "outputs": [
    {
     "data": {
      "text/plain": [
       "[<h1 class=\"bold-title-l title\">List of companies in India</h1>]"
      ]
     },
     "execution_count": 5,
     "metadata": {},
     "output_type": "execute_result"
    }
   ],
   "source": [
    "soup.find_all('h1')"
   ]
  },
  {
   "cell_type": "code",
   "execution_count": 6,
   "id": "efc98eed",
   "metadata": {},
   "outputs": [],
   "source": [
    "company_name=soup.find_all('h2')\n",
    "\n",
    "\n",
    "# Companies on the first page of the website"
   ]
  },
  {
   "cell_type": "code",
   "execution_count": 7,
   "id": "4575e375",
   "metadata": {},
   "outputs": [],
   "source": [
    "paras=soup.find_all('p')"
   ]
  },
  {
   "cell_type": "code",
   "execution_count": 8,
   "id": "16050838",
   "metadata": {},
   "outputs": [
    {
     "name": "stdout",
     "output_type": "stream",
     "text": [
      "TCS\n",
      "Accenture\n",
      "Cognizant\n",
      "ICICI Bank\n",
      "HDFC Bank\n",
      "Wipro\n",
      "Infosys\n",
      "Capgemini\n",
      "Tech Mahindra\n",
      "Genpact\n",
      "HCLTech\n",
      "Amazon\n",
      "Axis Bank\n",
      "IBM\n",
      "Concentrix Corpo...\n",
      "Reliance jio\n",
      "Larsen & Toubro ...\n",
      "HDB Financial Se...\n",
      "Vodafone Idea\n",
      "Teleperformance\n",
      "Reliance Retail\n",
      "Kotak Mahindra B...\n",
      "Deloitte\n",
      "Reliance Industr...\n",
      "Bharti Airtel\n",
      "Tata Motors\n",
      "BYJU'S\n",
      "Flipkart\n",
      "WNS\n",
      "Mahindra & Mahin...\n"
     ]
    }
   ],
   "source": [
    "for i in soup.find_all('h2'):\n",
    "    print(i.text.strip())\n",
    "    \n",
    "# total companies on the first page "
   ]
  },
  {
   "cell_type": "code",
   "execution_count": 9,
   "id": "b72200ec",
   "metadata": {},
   "outputs": [
    {
     "data": {
      "text/plain": [
       "30"
      ]
     },
     "execution_count": 9,
     "metadata": {},
     "output_type": "execute_result"
    }
   ],
   "source": [
    "company=soup.find_all('div', class_='company-info-wrapper')\n",
    "len(company)\n",
    "\n",
    "#Length of companies on the first page"
   ]
  },
  {
   "cell_type": "code",
   "execution_count": 10,
   "id": "91b56baf",
   "metadata": {},
   "outputs": [],
   "source": [
    "#extracting first page of the website \n",
    "\n",
    "name=[]\n",
    "rating=[]\n",
    "review=[]\n",
    "ctype=[]\n",
    "location=[]\n",
    "old=[]\n",
    "employees=[]\n",
    "\n",
    "for i in company:\n",
    "    name.append(i.find('h2', class_='company-name').text.strip())\n",
    "    rating.append(i.find('p', class_='rating').text.strip())\n",
    "    review.append(i.find('a', class_='review-count').text.strip())\n",
    "    ctype.append(i.find_all('p', class_='infoEntity')[0].text.strip())\n",
    "    location.append(i.find_all('p', class_='infoEntity')[1].text.strip())\n",
    "    old.append(i.find_all('p', class_='infoEntity')[2].text.strip())\n",
    "    employees.append(i.find_all('p', class_='infoEntity')[3].text.strip())"
   ]
  },
  {
   "cell_type": "code",
   "execution_count": 11,
   "id": "ce9cdf66",
   "metadata": {},
   "outputs": [
    {
     "data": {
      "text/plain": [
       "['TCS',\n",
       " 'Accenture',\n",
       " 'Cognizant',\n",
       " 'ICICI Bank',\n",
       " 'HDFC Bank',\n",
       " 'Wipro',\n",
       " 'Infosys',\n",
       " 'Capgemini',\n",
       " 'Tech Mahindra',\n",
       " 'Genpact',\n",
       " 'HCLTech',\n",
       " 'Amazon',\n",
       " 'Axis Bank',\n",
       " 'IBM',\n",
       " 'Concentrix Corpo...',\n",
       " 'Reliance jio',\n",
       " 'Larsen & Toubro ...',\n",
       " 'HDB Financial Se...',\n",
       " 'Vodafone Idea',\n",
       " 'Teleperformance',\n",
       " 'Reliance Retail',\n",
       " 'Kotak Mahindra B...',\n",
       " 'Deloitte',\n",
       " 'Reliance Industr...',\n",
       " 'Bharti Airtel',\n",
       " 'Tata Motors',\n",
       " \"BYJU'S\",\n",
       " 'Flipkart',\n",
       " 'WNS',\n",
       " 'Mahindra & Mahin...']"
      ]
     },
     "execution_count": 11,
     "metadata": {},
     "output_type": "execute_result"
    }
   ],
   "source": [
    "name"
   ]
  },
  {
   "cell_type": "code",
   "execution_count": 12,
   "id": "b0e36d61",
   "metadata": {},
   "outputs": [
    {
     "data": {
      "text/plain": [
       "['Public',\n",
       " 'Public',\n",
       " 'Private',\n",
       " 'Public',\n",
       " 'Public',\n",
       " 'Public',\n",
       " 'Public',\n",
       " 'Public',\n",
       " 'Public',\n",
       " 'Public',\n",
       " 'Public',\n",
       " 'Public',\n",
       " 'Public',\n",
       " 'Public',\n",
       " 'Public',\n",
       " 'Public',\n",
       " 'Public',\n",
       " 'Private',\n",
       " 'Public',\n",
       " 'Private',\n",
       " 'Private',\n",
       " 'Public',\n",
       " 'Private',\n",
       " 'Public',\n",
       " 'Public',\n",
       " 'Public',\n",
       " 'Private',\n",
       " 'Public',\n",
       " 'Private',\n",
       " 'Public']"
      ]
     },
     "execution_count": 12,
     "metadata": {},
     "output_type": "execute_result"
    }
   ],
   "source": [
    "ctype"
   ]
  },
  {
   "cell_type": "code",
   "execution_count": 13,
   "id": "07c6efe6",
   "metadata": {},
   "outputs": [
    {
     "data": {
      "text/plain": [
       "['Mumbai,Maharashtra + 270 more',\n",
       " 'Dublin + 131 more',\n",
       " 'Teaneck. New Jersey. + 101 more',\n",
       " 'Mumbai,Maharashtra + 1056 more',\n",
       " 'Mumbai,Maharashtra + 1250 more',\n",
       " 'Bangalore/Bengaluru,Karnataka + 223 more',\n",
       " 'Bengaluru/Bangalore,Karnataka + 124 more',\n",
       " 'Paris + 79 more',\n",
       " 'Pune,Maharashtra + 211 more',\n",
       " 'New York,New York + 67 more',\n",
       " 'Noida + 140 more',\n",
       " 'Seattle,Washington + 375 more',\n",
       " 'Mumbai,Maharashtra + 1099 more',\n",
       " 'Armonk,New York + 119 more',\n",
       " 'Fremont,California + 70 more',\n",
       " 'Navi Mumbai,Maharashtra + 990 more',\n",
       " 'Mumbai,Maharashtra + 522 more',\n",
       " 'Ahmedabad,Gujrat + 795 more',\n",
       " 'Gandhinagar,Gujrat + 565 more',\n",
       " 'Paris + 122 more',\n",
       " 'Navi Mumbai,Maharashtra + 695 more',\n",
       " 'Mumbai,Maharashtra + 473 more',\n",
       " 'New York,New York + 131 more',\n",
       " 'Navi Mumbai,Maharashtra + 500 more',\n",
       " 'Gurgaon/Gurugram,Haryana + 521 more',\n",
       " 'Pune,Maharashtra + 385 more',\n",
       " 'Bangalore,Karnataka + 254 more',\n",
       " 'Bangalore,Karnataka + 446 more',\n",
       " 'Mumbai,Maharashtra + 24 more',\n",
       " 'Mumbai,Maharashtra + 418 more']"
      ]
     },
     "execution_count": 13,
     "metadata": {},
     "output_type": "execute_result"
    }
   ],
   "source": [
    "location"
   ]
  },
  {
   "cell_type": "code",
   "execution_count": 14,
   "id": "823aa51d",
   "metadata": {},
   "outputs": [],
   "source": [
    "#creating dataframe of the first page\n",
    "\n",
    "d={'name': name, 'rating': rating, 'review': review, 'ctype': ctype, 'location': location, 'old':old, 'employees':employees}\n",
    "df=pd.DataFrame(d)"
   ]
  },
  {
   "cell_type": "code",
   "execution_count": 15,
   "id": "91d519cc",
   "metadata": {},
   "outputs": [
    {
     "data": {
      "text/html": [
       "<div>\n",
       "<style scoped>\n",
       "    .dataframe tbody tr th:only-of-type {\n",
       "        vertical-align: middle;\n",
       "    }\n",
       "\n",
       "    .dataframe tbody tr th {\n",
       "        vertical-align: top;\n",
       "    }\n",
       "\n",
       "    .dataframe thead th {\n",
       "        text-align: right;\n",
       "    }\n",
       "</style>\n",
       "<table border=\"1\" class=\"dataframe\">\n",
       "  <thead>\n",
       "    <tr style=\"text-align: right;\">\n",
       "      <th></th>\n",
       "      <th>name</th>\n",
       "      <th>rating</th>\n",
       "      <th>review</th>\n",
       "      <th>ctype</th>\n",
       "      <th>location</th>\n",
       "      <th>old</th>\n",
       "      <th>employees</th>\n",
       "    </tr>\n",
       "  </thead>\n",
       "  <tbody>\n",
       "    <tr>\n",
       "      <th>0</th>\n",
       "      <td>TCS</td>\n",
       "      <td>3.9</td>\n",
       "      <td>(50.5k Reviews)</td>\n",
       "      <td>Public</td>\n",
       "      <td>Mumbai,Maharashtra + 270 more</td>\n",
       "      <td>55 years old</td>\n",
       "      <td>1 Lakh+ Employees (India)</td>\n",
       "    </tr>\n",
       "    <tr>\n",
       "      <th>1</th>\n",
       "      <td>Accenture</td>\n",
       "      <td>4.1</td>\n",
       "      <td>(32.3k Reviews)</td>\n",
       "      <td>Public</td>\n",
       "      <td>Dublin + 131 more</td>\n",
       "      <td>34 years old</td>\n",
       "      <td>1 Lakh+ Employees (India)</td>\n",
       "    </tr>\n",
       "    <tr>\n",
       "      <th>2</th>\n",
       "      <td>Cognizant</td>\n",
       "      <td>4.0</td>\n",
       "      <td>(29.7k Reviews)</td>\n",
       "      <td>Private</td>\n",
       "      <td>Teaneck. New Jersey. + 101 more</td>\n",
       "      <td>29 years old</td>\n",
       "      <td>1 Lakh+ Employees (India)</td>\n",
       "    </tr>\n",
       "    <tr>\n",
       "      <th>3</th>\n",
       "      <td>ICICI Bank</td>\n",
       "      <td>4.0</td>\n",
       "      <td>(33.6k Reviews)</td>\n",
       "      <td>Public</td>\n",
       "      <td>Mumbai,Maharashtra + 1056 more</td>\n",
       "      <td>29 years old</td>\n",
       "      <td>1 Lakh+ Employees (India)</td>\n",
       "    </tr>\n",
       "    <tr>\n",
       "      <th>4</th>\n",
       "      <td>HDFC Bank</td>\n",
       "      <td>4.0</td>\n",
       "      <td>(39.4k Reviews)</td>\n",
       "      <td>Public</td>\n",
       "      <td>Mumbai,Maharashtra + 1250 more</td>\n",
       "      <td>29 years old</td>\n",
       "      <td>50k-1 Lakh Employees (India)</td>\n",
       "    </tr>\n",
       "  </tbody>\n",
       "</table>\n",
       "</div>"
      ],
      "text/plain": [
       "         name rating           review    ctype  \\\n",
       "0         TCS    3.9  (50.5k Reviews)   Public   \n",
       "1   Accenture    4.1  (32.3k Reviews)   Public   \n",
       "2   Cognizant    4.0  (29.7k Reviews)  Private   \n",
       "3  ICICI Bank    4.0  (33.6k Reviews)   Public   \n",
       "4   HDFC Bank    4.0  (39.4k Reviews)   Public   \n",
       "\n",
       "                          location           old                     employees  \n",
       "0    Mumbai,Maharashtra + 270 more  55 years old     1 Lakh+ Employees (India)  \n",
       "1                Dublin + 131 more  34 years old     1 Lakh+ Employees (India)  \n",
       "2  Teaneck. New Jersey. + 101 more  29 years old     1 Lakh+ Employees (India)  \n",
       "3   Mumbai,Maharashtra + 1056 more  29 years old     1 Lakh+ Employees (India)  \n",
       "4   Mumbai,Maharashtra + 1250 more  29 years old  50k-1 Lakh Employees (India)  "
      ]
     },
     "execution_count": 15,
     "metadata": {},
     "output_type": "execute_result"
    }
   ],
   "source": [
    "df.head()"
   ]
  },
  {
   "cell_type": "code",
   "execution_count": 16,
   "id": "fc3fceab",
   "metadata": {},
   "outputs": [
    {
     "data": {
      "text/plain": [
       "(30, 7)"
      ]
     },
     "execution_count": 16,
     "metadata": {},
     "output_type": "execute_result"
    }
   ],
   "source": [
    "df.shape"
   ]
  },
  {
   "cell_type": "code",
   "execution_count": 17,
   "id": "f583513d",
   "metadata": {},
   "outputs": [
    {
     "name": "stderr",
     "output_type": "stream",
     "text": [
      "C:\\Users\\RAJAT SINGH\\AppData\\Local\\Temp\\ipykernel_7564\\1617824850.py:48: FutureWarning: The frame.append method is deprecated and will be removed from pandas in a future version. Use pandas.concat instead.\n",
      "  final_df=final_df.append(df, ignore_index=True)\n"
     ]
    }
   ],
   "source": [
    "# Extracting data from other pages of the website\n",
    "\n",
    "final_df=pd.DataFrame()\n",
    "\n",
    "for j in range(1, 150):\n",
    "    headers={'User-Agent':'Mozilla/5.0 (Windows NT 6.3; Win64; x64) AppleWebKit/537.36 (KHTM, like Gecko) Chrome/80.0.3987.162 Safari/537.36'}\n",
    "    url='https://www.ambitionbox.com/list-of-companies?page={}'.format(j)\n",
    "    webpage=requests.get(url, headers=headers).text\n",
    "    \n",
    "    soup=BeautifulSoup(webpage, 'html.parser')\n",
    "    \n",
    "    company=soup.find_all('div', class_='company-content-wrapper')\n",
    "    \n",
    "    name=[]\n",
    "    rating=[]\n",
    "    review=[]\n",
    "    ctype=[]\n",
    "    location=[]\n",
    "    old_in_years=[]\n",
    "    employees=[]\n",
    "\n",
    "    for i in company:\n",
    "        name.append(i.find('h2', class_='company-name').text.strip())\n",
    "        rating.append(i.find('p', class_='rating').text.strip())\n",
    "        review.append(i.find('a', class_='review-count').text.strip())\n",
    "        try:\n",
    "            ctype.append(i.find_all('p', class_='infoEntity')[0].text.strip())\n",
    "        except:\n",
    "            ctype.append(np.nan)\n",
    "            \n",
    "        try:\n",
    "            location.append(i.find_all('p', class_='infoEntity')[1].text.strip())\n",
    "        except:\n",
    "            location.append(np.nan)\n",
    "            \n",
    "        try:\n",
    "            old_in_years.append(i.find_all('p', class_='infoEntity')[2].text.strip())\n",
    "        except:\n",
    "            old_in_years.append(np.nan)\n",
    "        try:\n",
    "            employees.append(i.find_all('p', class_='infoEntity')[3].text.strip())\n",
    "        except:\n",
    "            employees.append(np.nan)\n",
    "        \n",
    "    d={'name': name, 'rating': rating, 'review': review, 'ctype': ctype, 'location': location, 'old_in_years':old_in_years, 'employees':employees}\n",
    "    df=pd.DataFrame(d)\n",
    "    \n",
    "    final_df=final_df.append(df, ignore_index=True)"
   ]
  },
  {
   "cell_type": "code",
   "execution_count": 18,
   "id": "148aa374",
   "metadata": {},
   "outputs": [
    {
     "data": {
      "text/html": [
       "<div>\n",
       "<style scoped>\n",
       "    .dataframe tbody tr th:only-of-type {\n",
       "        vertical-align: middle;\n",
       "    }\n",
       "\n",
       "    .dataframe tbody tr th {\n",
       "        vertical-align: top;\n",
       "    }\n",
       "\n",
       "    .dataframe thead th {\n",
       "        text-align: right;\n",
       "    }\n",
       "</style>\n",
       "<table border=\"1\" class=\"dataframe\">\n",
       "  <thead>\n",
       "    <tr style=\"text-align: right;\">\n",
       "      <th></th>\n",
       "      <th>name</th>\n",
       "      <th>rating</th>\n",
       "      <th>review</th>\n",
       "      <th>ctype</th>\n",
       "      <th>location</th>\n",
       "      <th>old_in_years</th>\n",
       "      <th>employees</th>\n",
       "    </tr>\n",
       "  </thead>\n",
       "  <tbody>\n",
       "    <tr>\n",
       "      <th>0</th>\n",
       "      <td>TCS</td>\n",
       "      <td>3.9</td>\n",
       "      <td>(50.5k Reviews)</td>\n",
       "      <td>Public</td>\n",
       "      <td>Mumbai,Maharashtra + 270 more</td>\n",
       "      <td>55 years old</td>\n",
       "      <td>1 Lakh+ Employees (India)</td>\n",
       "    </tr>\n",
       "    <tr>\n",
       "      <th>1</th>\n",
       "      <td>Accenture</td>\n",
       "      <td>4.1</td>\n",
       "      <td>(32.3k Reviews)</td>\n",
       "      <td>Public</td>\n",
       "      <td>Dublin + 131 more</td>\n",
       "      <td>34 years old</td>\n",
       "      <td>1 Lakh+ Employees (India)</td>\n",
       "    </tr>\n",
       "    <tr>\n",
       "      <th>2</th>\n",
       "      <td>Cognizant</td>\n",
       "      <td>4.0</td>\n",
       "      <td>(29.7k Reviews)</td>\n",
       "      <td>Private</td>\n",
       "      <td>Teaneck. New Jersey. + 101 more</td>\n",
       "      <td>29 years old</td>\n",
       "      <td>1 Lakh+ Employees (India)</td>\n",
       "    </tr>\n",
       "    <tr>\n",
       "      <th>3</th>\n",
       "      <td>ICICI Bank</td>\n",
       "      <td>4.0</td>\n",
       "      <td>(33.6k Reviews)</td>\n",
       "      <td>Public</td>\n",
       "      <td>Mumbai,Maharashtra + 1057 more</td>\n",
       "      <td>29 years old</td>\n",
       "      <td>1 Lakh+ Employees (India)</td>\n",
       "    </tr>\n",
       "    <tr>\n",
       "      <th>4</th>\n",
       "      <td>HDFC Bank</td>\n",
       "      <td>4.0</td>\n",
       "      <td>(39.3k Reviews)</td>\n",
       "      <td>Public</td>\n",
       "      <td>Mumbai,Maharashtra + 1248 more</td>\n",
       "      <td>29 years old</td>\n",
       "      <td>50k-1 Lakh Employees (India)</td>\n",
       "    </tr>\n",
       "  </tbody>\n",
       "</table>\n",
       "</div>"
      ],
      "text/plain": [
       "         name rating           review    ctype  \\\n",
       "0         TCS    3.9  (50.5k Reviews)   Public   \n",
       "1   Accenture    4.1  (32.3k Reviews)   Public   \n",
       "2   Cognizant    4.0  (29.7k Reviews)  Private   \n",
       "3  ICICI Bank    4.0  (33.6k Reviews)   Public   \n",
       "4   HDFC Bank    4.0  (39.3k Reviews)   Public   \n",
       "\n",
       "                          location  old_in_years                     employees  \n",
       "0    Mumbai,Maharashtra + 270 more  55 years old     1 Lakh+ Employees (India)  \n",
       "1                Dublin + 131 more  34 years old     1 Lakh+ Employees (India)  \n",
       "2  Teaneck. New Jersey. + 101 more  29 years old     1 Lakh+ Employees (India)  \n",
       "3   Mumbai,Maharashtra + 1057 more  29 years old     1 Lakh+ Employees (India)  \n",
       "4   Mumbai,Maharashtra + 1248 more  29 years old  50k-1 Lakh Employees (India)  "
      ]
     },
     "execution_count": 18,
     "metadata": {},
     "output_type": "execute_result"
    }
   ],
   "source": [
    "final_df.head()"
   ]
  },
  {
   "cell_type": "code",
   "execution_count": 19,
   "id": "59c07968",
   "metadata": {},
   "outputs": [
    {
     "data": {
      "text/plain": [
       "(4469, 7)"
      ]
     },
     "execution_count": 19,
     "metadata": {},
     "output_type": "execute_result"
    }
   ],
   "source": [
    "final_df.shape"
   ]
  },
  {
   "cell_type": "markdown",
   "id": "a5ee10e4",
   "metadata": {},
   "source": [
    "## DATA CLEANING"
   ]
  },
  {
   "cell_type": "code",
   "execution_count": 20,
   "id": "eb9dccd0",
   "metadata": {},
   "outputs": [
    {
     "data": {
      "text/plain": [
       "name            0.000000\n",
       "rating          0.000000\n",
       "review          0.000000\n",
       "ctype           0.000000\n",
       "location        0.984560\n",
       "old_in_years    3.020810\n",
       "employees       9.509957\n",
       "dtype: float64"
      ]
     },
     "execution_count": 20,
     "metadata": {},
     "output_type": "execute_result"
    }
   ],
   "source": [
    "final_df.isnull().mean()*100"
   ]
  },
  {
   "cell_type": "code",
   "execution_count": 21,
   "id": "8ef46512",
   "metadata": {},
   "outputs": [],
   "source": [
    "final_df.dropna(inplace=True)"
   ]
  },
  {
   "cell_type": "code",
   "execution_count": 22,
   "id": "a482e321",
   "metadata": {},
   "outputs": [
    {
     "data": {
      "text/plain": [
       "name            0.0\n",
       "rating          0.0\n",
       "review          0.0\n",
       "ctype           0.0\n",
       "location        0.0\n",
       "old_in_years    0.0\n",
       "employees       0.0\n",
       "dtype: float64"
      ]
     },
     "execution_count": 22,
     "metadata": {},
     "output_type": "execute_result"
    }
   ],
   "source": [
    "final_df.isnull().mean()*100\n"
   ]
  },
  {
   "cell_type": "code",
   "execution_count": 23,
   "id": "69669432",
   "metadata": {},
   "outputs": [
    {
     "data": {
      "text/plain": [
       "(4044, 7)"
      ]
     },
     "execution_count": 23,
     "metadata": {},
     "output_type": "execute_result"
    }
   ],
   "source": [
    "final_df.shape"
   ]
  },
  {
   "cell_type": "code",
   "execution_count": 24,
   "id": "63c45139",
   "metadata": {},
   "outputs": [],
   "source": [
    "def review(x):\n",
    "    return x.split(' ')[0].split('(')[1]"
   ]
  },
  {
   "cell_type": "code",
   "execution_count": 25,
   "id": "5582ab1f",
   "metadata": {},
   "outputs": [],
   "source": [
    "final_df['review']=final_df['review'].apply(review)"
   ]
  },
  {
   "cell_type": "code",
   "execution_count": 26,
   "id": "63e16c3c",
   "metadata": {},
   "outputs": [],
   "source": [
    "def year(x):\n",
    "    return x.split(' ')[0]"
   ]
  },
  {
   "cell_type": "code",
   "execution_count": 27,
   "id": "f82f008e",
   "metadata": {},
   "outputs": [],
   "source": [
    "final_df['total_no_of_years']=final_df['old_in_years'].apply(year)"
   ]
  },
  {
   "cell_type": "code",
   "execution_count": 28,
   "id": "53867b7b",
   "metadata": {},
   "outputs": [],
   "source": [
    "def hq(x):\n",
    "    return x.split('+')[0]"
   ]
  },
  {
   "cell_type": "code",
   "execution_count": 29,
   "id": "6348e81f",
   "metadata": {},
   "outputs": [],
   "source": [
    "final_df['Hq']=final_df['location'].apply(hq)"
   ]
  },
  {
   "cell_type": "code",
   "execution_count": 30,
   "id": "ad4a9f72",
   "metadata": {},
   "outputs": [],
   "source": []
  },
  {
   "cell_type": "code",
   "execution_count": null,
   "id": "65d21e78",
   "metadata": {},
   "outputs": [],
   "source": []
  },
  {
   "cell_type": "code",
   "execution_count": 32,
   "id": "ab5f640f",
   "metadata": {},
   "outputs": [
    {
     "data": {
      "text/html": [
       "<div>\n",
       "<style scoped>\n",
       "    .dataframe tbody tr th:only-of-type {\n",
       "        vertical-align: middle;\n",
       "    }\n",
       "\n",
       "    .dataframe tbody tr th {\n",
       "        vertical-align: top;\n",
       "    }\n",
       "\n",
       "    .dataframe thead th {\n",
       "        text-align: right;\n",
       "    }\n",
       "</style>\n",
       "<table border=\"1\" class=\"dataframe\">\n",
       "  <thead>\n",
       "    <tr style=\"text-align: right;\">\n",
       "      <th></th>\n",
       "      <th>name</th>\n",
       "      <th>rating</th>\n",
       "      <th>review</th>\n",
       "      <th>ctype</th>\n",
       "      <th>location</th>\n",
       "      <th>old_in_years</th>\n",
       "      <th>employees</th>\n",
       "      <th>total_no_of_years</th>\n",
       "      <th>Hq</th>\n",
       "    </tr>\n",
       "  </thead>\n",
       "  <tbody>\n",
       "    <tr>\n",
       "      <th>0</th>\n",
       "      <td>TCS</td>\n",
       "      <td>3.9</td>\n",
       "      <td>50.5k</td>\n",
       "      <td>Public</td>\n",
       "      <td>Mumbai,Maharashtra + 270 more</td>\n",
       "      <td>55 years old</td>\n",
       "      <td>1 Lakh+ Employees (India)</td>\n",
       "      <td>55</td>\n",
       "      <td>Mumbai,Maharashtra</td>\n",
       "    </tr>\n",
       "    <tr>\n",
       "      <th>1</th>\n",
       "      <td>Accenture</td>\n",
       "      <td>4.1</td>\n",
       "      <td>32.3k</td>\n",
       "      <td>Public</td>\n",
       "      <td>Dublin + 131 more</td>\n",
       "      <td>34 years old</td>\n",
       "      <td>1 Lakh+ Employees (India)</td>\n",
       "      <td>34</td>\n",
       "      <td>Dublin</td>\n",
       "    </tr>\n",
       "    <tr>\n",
       "      <th>2</th>\n",
       "      <td>Cognizant</td>\n",
       "      <td>4.0</td>\n",
       "      <td>29.7k</td>\n",
       "      <td>Private</td>\n",
       "      <td>Teaneck. New Jersey. + 101 more</td>\n",
       "      <td>29 years old</td>\n",
       "      <td>1 Lakh+ Employees (India)</td>\n",
       "      <td>29</td>\n",
       "      <td>Teaneck. New Jersey.</td>\n",
       "    </tr>\n",
       "    <tr>\n",
       "      <th>3</th>\n",
       "      <td>ICICI Bank</td>\n",
       "      <td>4.0</td>\n",
       "      <td>33.6k</td>\n",
       "      <td>Public</td>\n",
       "      <td>Mumbai,Maharashtra + 1057 more</td>\n",
       "      <td>29 years old</td>\n",
       "      <td>1 Lakh+ Employees (India)</td>\n",
       "      <td>29</td>\n",
       "      <td>Mumbai,Maharashtra</td>\n",
       "    </tr>\n",
       "    <tr>\n",
       "      <th>4</th>\n",
       "      <td>HDFC Bank</td>\n",
       "      <td>4.0</td>\n",
       "      <td>39.3k</td>\n",
       "      <td>Public</td>\n",
       "      <td>Mumbai,Maharashtra + 1248 more</td>\n",
       "      <td>29 years old</td>\n",
       "      <td>50k-1 Lakh Employees (India)</td>\n",
       "      <td>29</td>\n",
       "      <td>Mumbai,Maharashtra</td>\n",
       "    </tr>\n",
       "  </tbody>\n",
       "</table>\n",
       "</div>"
      ],
      "text/plain": [
       "         name rating review    ctype                         location  \\\n",
       "0         TCS    3.9  50.5k   Public    Mumbai,Maharashtra + 270 more   \n",
       "1   Accenture    4.1  32.3k   Public                Dublin + 131 more   \n",
       "2   Cognizant    4.0  29.7k  Private  Teaneck. New Jersey. + 101 more   \n",
       "3  ICICI Bank    4.0  33.6k   Public   Mumbai,Maharashtra + 1057 more   \n",
       "4   HDFC Bank    4.0  39.3k   Public   Mumbai,Maharashtra + 1248 more   \n",
       "\n",
       "   old_in_years                     employees total_no_of_years  \\\n",
       "0  55 years old     1 Lakh+ Employees (India)                55   \n",
       "1  34 years old     1 Lakh+ Employees (India)                34   \n",
       "2  29 years old     1 Lakh+ Employees (India)                29   \n",
       "3  29 years old     1 Lakh+ Employees (India)                29   \n",
       "4  29 years old  50k-1 Lakh Employees (India)                29   \n",
       "\n",
       "                      Hq  \n",
       "0    Mumbai,Maharashtra   \n",
       "1                Dublin   \n",
       "2  Teaneck. New Jersey.   \n",
       "3    Mumbai,Maharashtra   \n",
       "4    Mumbai,Maharashtra   "
      ]
     },
     "execution_count": 32,
     "metadata": {},
     "output_type": "execute_result"
    }
   ],
   "source": [
    "final_df.head()"
   ]
  },
  {
   "cell_type": "code",
   "execution_count": 33,
   "id": "6bfdedc4",
   "metadata": {},
   "outputs": [],
   "source": [
    "final_df.drop('old_in_years', axis=1, inplace=True)"
   ]
  },
  {
   "cell_type": "code",
   "execution_count": 34,
   "id": "f63c3f8d",
   "metadata": {},
   "outputs": [
    {
     "name": "stdout",
     "output_type": "stream",
     "text": [
      "<class 'pandas.core.frame.DataFrame'>\n",
      "Int64Index: 4044 entries, 0 to 4468\n",
      "Data columns (total 8 columns):\n",
      " #   Column             Non-Null Count  Dtype \n",
      "---  ------             --------------  ----- \n",
      " 0   name               4044 non-null   object\n",
      " 1   rating             4044 non-null   object\n",
      " 2   review             4044 non-null   object\n",
      " 3   ctype              4044 non-null   object\n",
      " 4   location           4044 non-null   object\n",
      " 5   employees          4044 non-null   object\n",
      " 6   total_no_of_years  4044 non-null   object\n",
      " 7   Hq                 4044 non-null   object\n",
      "dtypes: object(8)\n",
      "memory usage: 284.3+ KB\n"
     ]
    }
   ],
   "source": [
    "final_df.info()"
   ]
  },
  {
   "cell_type": "code",
   "execution_count": 35,
   "id": "ec7312d3",
   "metadata": {},
   "outputs": [],
   "source": [
    "final_df['rating']=final_df['rating'].astype('float')\n",
    "final_df['total_no_of_years']=final_df['total_no_of_years'].astype('int')"
   ]
  },
  {
   "cell_type": "code",
   "execution_count": 36,
   "id": "3c17a3dc",
   "metadata": {},
   "outputs": [],
   "source": [
    "final_df.rename(columns={'name':'Company_name', 'review':'Reviews','rating':'Rating', 'ctype':'Company_type','location':'Total_Locations', 'employees':'Employees','total_no_of_years':'Total_no_of_years'}, inplace=True)"
   ]
  },
  {
   "cell_type": "code",
   "execution_count": 37,
   "id": "a104fe56",
   "metadata": {},
   "outputs": [
    {
     "name": "stdout",
     "output_type": "stream",
     "text": [
      "<class 'pandas.core.frame.DataFrame'>\n",
      "Int64Index: 4044 entries, 0 to 4468\n",
      "Data columns (total 8 columns):\n",
      " #   Column             Non-Null Count  Dtype  \n",
      "---  ------             --------------  -----  \n",
      " 0   Company_name       4044 non-null   object \n",
      " 1   Rating             4044 non-null   float64\n",
      " 2   Reviews            4044 non-null   object \n",
      " 3   Company_type       4044 non-null   object \n",
      " 4   Total_Locations    4044 non-null   object \n",
      " 5   Employees          4044 non-null   object \n",
      " 6   Total_no_of_years  4044 non-null   int32  \n",
      " 7   Hq                 4044 non-null   object \n",
      "dtypes: float64(1), int32(1), object(6)\n",
      "memory usage: 268.5+ KB\n"
     ]
    }
   ],
   "source": [
    "final_df.info()"
   ]
  },
  {
   "cell_type": "code",
   "execution_count": 78,
   "id": "28589b85",
   "metadata": {},
   "outputs": [
    {
     "data": {
      "text/plain": [
       "Mumbai,Maharashtra           704\n",
       "Delhi/NCR,Delhi              319\n",
       "Bengaluru,Karnataka          307\n",
       "Gurgaon,Haryana              267\n",
       "Chennai,Tamil Nadu           207\n",
       "                            ... \n",
       "Paddington,London              1\n",
       "Teaneck. New Jersey.           1\n",
       "Fort Mill,South Carolina       1\n",
       "Riyadh,Central Province        1\n",
       "Wolfratshausen                 1\n",
       "Name: Hq, Length: 814, dtype: int64"
      ]
     },
     "execution_count": 78,
     "metadata": {},
     "output_type": "execute_result"
    }
   ],
   "source": [
    "final_df['Hq'].value_counts()"
   ]
  },
  {
   "cell_type": "code",
   "execution_count": 51,
   "id": "774a2854",
   "metadata": {},
   "outputs": [],
   "source": [
    "#there were words which were incorrect so I replaced them  \n",
    "\n",
    "final_df.replace('Mumbai,Maharashtra', 'Mumbai,Maharashtra ', inplace=True)\n",
    "final_df.replace('Navi Mumbai ', 'Mumbai,Maharashtra ', inplace=True)\n",
    "final_df.replace('Bengaluru/Bangalore,Karnataka ', 'Bengaluru,Karnataka ', inplace=True)\n",
    "final_df.replace('Bengaluru ', 'Bengaluru,Karnataka ', inplace=True)\n",
    "final_df.replace('Bangalore,Karnataka ', 'Bengaluru,Karnataka ', inplace=True)\n",
    "final_df.replace('Bangalore/Bengaluru,Karnataka ', 'Bengaluru,Karnataka ', inplace=True)\n",
    "final_df.replace('Bangalore ', 'Bengaluru,Karnataka ',inplace=True)\n",
    "final_df.replace('Bengaluru/Bangalore ', 'Bengaluru,Karnataka ', inplace=True)\n",
    "final_df.replace('Noida ', 'Noida,Uttar Pradesh ', inplace=True)\n",
    "final_df.replace('Greater Noida,Uttar Pradesh ', 'Noida,Uttar Pradesh ', inplace=True)\n",
    "final_df.replace('Navi Mumbai,Maharashtra ', 'Mumbai,Maharashtra ', inplace=True)\n",
    "final_df.replace('Navi Mumbai ', 'Mumbai,Maharashtra ', inplace=True)\n",
    "final_df.replace('Nashik ', 'Nashik,Maharashtra ', inplace=True)\n",
    "final_df.replace('Nasik/Nashik,Maharashtra ', 'Nashik,Maharashtra ', inplace=True)\n",
    "final_df.replace('Gurgaon/Gurugram,Haryana ', 'Gurgaon,Haryana ', inplace=True)\n",
    "final_df.replace('Gurgaon ', 'Gurgaon,Haryana ', inplace=True)\n",
    "final_df.replace('Gurgaon/Gurugram,Haryana', 'Gurgaon,Haryana ', inplace=True)\n",
    "final_df.replace('Gurugram ','Gurgaon,Haryana ', inplace=True)\n",
    "final_df.replace('Gurgaon/Gurugram ','Gurgaon,Haryana ', inplace=True)\n",
    "final_df.replace('Faridabad ','Faridabad,Haryana ', inplace=True)\n",
    "final_df.replace('Ahmedabad,Gujrat ', 'Ahmedabad,Gujarat ',inplace=True)\n",
    "final_df.replace('Ahmedabad ', 'Ahmedabad,Gujarat ',inplace=True)\n",
    "final_df.replace('Ahmedabad,\\xa0India ', 'Ahmedabad,Gujarat ',inplace=True)\n",
    "final_df.replace('Gujrat ', 'Ahmedabad,Gujarat ',inplace=True)\n",
    "final_df.replace('New York,New York ','New York City,New York ', inplace=True)\n",
    "final_df.replace('New York,New York, ','New York City,New York ', inplace=True)\n",
    "final_df.replace('New York ','New York City,New York ', inplace=True)\n",
    "final_df.replace('New York','New York City,New York ', inplace=True)\n",
    "final_df.replace('New York,NY ','New York City,New York ', inplace=True)\n",
    "final_df.replace('Purchase,New York ','New York City,New York ', inplace=True)\n",
    "final_df.replace('Chennai ', 'Chennai,Tamil Nadu ', inplace=True)\n",
    "final_df.replace('Chennai', 'Chennai,Tamil Nadu ', inplace=True)\n",
    "final_df.replace('Chennai,Tamil Nadu', 'Chennai,Tamil Nadu ', inplace=True)\n",
    "final_df.replace('Paris ', 'Paris,France ', inplace=True)\n",
    "final_df.replace('Paris,√éle-de-France ', 'Paris,France ', inplace=True)\n",
    "final_df.replace('Paris,Ile-de-France ', 'Paris,France ', inplace=True)\n",
    "final_df.replace('Delhi,NCT ', 'Delhi/NCR,Delhi ', inplace=True)\n",
    "final_df.replace('New Delhi', 'Delhi/NCR,Delhi ', inplace=True)\n",
    "final_df.replace('New Delhi,Delhi ', 'Delhi/NCR,Delhi ', inplace=True)\n",
    "final_df.replace('Delhi/NCR,New Delhi ', 'Delhi/NCR,Delhi ', inplace=True)\n",
    "final_df.replace('New Delhi ', 'Delhi/NCR,Delhi ', inplace=True)\n",
    "final_df.replace('Delhi ', 'Delhi/NCR,Delhi ', inplace=True)\n",
    "final_df.replace('New Delhi,New Delhi ', 'Delhi/NCR,Delhi ', inplace=True)\n",
    "final_df.replace('Pune ', 'Pune,Maharashtra ', inplace=True)\n",
    "final_df.replace('Pune', 'Pune,Maharashtra ', inplace=True)\n",
    "final_df.replace('Pune,Indore ', 'Pune,Maharashtra ', inplace=True)\n",
    "final_df.replace('Osaka ', 'Osaka,Japan ', inplace=True)\n",
    "final_df.replace('Geneva,Geneva ', 'Geneva,Switzerland ', inplace=True)\n",
    "final_df.replace('Abu Dhabi,Abu Dhabi ', 'Abu Dhabi,Dubai ', inplace=True)\n",
    "final_df.replace('Kolkata ', 'West Bengal,Kolkata ', inplace=True)\n",
    "final_df.replace('Kolkata,India ', 'West Bengal,Kolkata ', inplace=True)\n",
    "final_df.replace('Kolkata,West Bengal', 'West Bengal,Kolkata ', inplace=True)\n",
    "final_df.replace('Hyderabad ', 'Hyderabad,Telangana ', inplace=True)\n",
    "final_df.replace('Hyderabad/Secunderabad ', 'Hyderabad,Telangana ', inplace=True)\n",
    "final_df.replace('Tokyo,Tokyo-to ', 'Tokyo,Japan ', inplace=True)\n",
    "final_df.replace('Tokyo,Tokyo ', 'Tokyo,Japan ', inplace=True)\n",
    "final_df.replace('Tokyo ', 'Tokyo,Japan ', inplace=True)\n",
    "final_df.replace('Toyota City,Aichi Prefecture ', 'Tokyo,Japan ', inplace=True)\n",
    "final_df.replace('London,London ', 'London,UK ', inplace=True)"
   ]
  },
  {
   "cell_type": "code",
   "execution_count": 79,
   "id": "50db5d94",
   "metadata": {},
   "outputs": [
    {
     "data": {
      "text/plain": [
       "<AxesSubplot:>"
      ]
     },
     "execution_count": 79,
     "metadata": {},
     "output_type": "execute_result"
    },
    {
     "data": {
      "image/png": "[encoded data removed]",
      "text/plain": [
       "<Figure size 432x288 with 1 Axes>"
      ]
     },
     "metadata": {
      "needs_background": "light"
     },
     "output_type": "display_data"
    }
   ],
   "source": [
    "final_df['Hq'].value_counts()[0:10].plot.bar()"
   ]
  },
  {
   "cell_type": "code",
   "execution_count": 56,
   "id": "9dcdd0cf",
   "metadata": {},
   "outputs": [
    {
     "data": {
      "text/html": [
       "<div>\n",
       "<style scoped>\n",
       "    .dataframe tbody tr th:only-of-type {\n",
       "        vertical-align: middle;\n",
       "    }\n",
       "\n",
       "    .dataframe tbody tr th {\n",
       "        vertical-align: top;\n",
       "    }\n",
       "\n",
       "    .dataframe thead th {\n",
       "        text-align: right;\n",
       "    }\n",
       "</style>\n",
       "<table border=\"1\" class=\"dataframe\">\n",
       "  <thead>\n",
       "    <tr style=\"text-align: right;\">\n",
       "      <th></th>\n",
       "      <th>Company_name</th>\n",
       "      <th>Rating</th>\n",
       "      <th>Reviews</th>\n",
       "      <th>Company_type</th>\n",
       "      <th>Total_Locations</th>\n",
       "      <th>Employees</th>\n",
       "      <th>Total_no_of_years</th>\n",
       "      <th>Hq</th>\n",
       "    </tr>\n",
       "  </thead>\n",
       "  <tbody>\n",
       "    <tr>\n",
       "      <th>0</th>\n",
       "      <td>TCS</td>\n",
       "      <td>3.9</td>\n",
       "      <td>50.5k</td>\n",
       "      <td>Public</td>\n",
       "      <td>Mumbai,Maharashtra + 270 more</td>\n",
       "      <td>1 Lakh+ Employees (India)</td>\n",
       "      <td>55</td>\n",
       "      <td>Mumbai,Maharashtra</td>\n",
       "    </tr>\n",
       "    <tr>\n",
       "      <th>1</th>\n",
       "      <td>Accenture</td>\n",
       "      <td>4.1</td>\n",
       "      <td>32.3k</td>\n",
       "      <td>Public</td>\n",
       "      <td>Dublin + 131 more</td>\n",
       "      <td>1 Lakh+ Employees (India)</td>\n",
       "      <td>34</td>\n",
       "      <td>Dublin</td>\n",
       "    </tr>\n",
       "    <tr>\n",
       "      <th>2</th>\n",
       "      <td>Cognizant</td>\n",
       "      <td>4.0</td>\n",
       "      <td>29.7k</td>\n",
       "      <td>Private</td>\n",
       "      <td>Teaneck. New Jersey. + 101 more</td>\n",
       "      <td>1 Lakh+ Employees (India)</td>\n",
       "      <td>29</td>\n",
       "      <td>Teaneck. New Jersey.</td>\n",
       "    </tr>\n",
       "    <tr>\n",
       "      <th>3</th>\n",
       "      <td>ICICI Bank</td>\n",
       "      <td>4.0</td>\n",
       "      <td>33.6k</td>\n",
       "      <td>Public</td>\n",
       "      <td>Mumbai,Maharashtra + 1057 more</td>\n",
       "      <td>1 Lakh+ Employees (India)</td>\n",
       "      <td>29</td>\n",
       "      <td>Mumbai,Maharashtra</td>\n",
       "    </tr>\n",
       "    <tr>\n",
       "      <th>4</th>\n",
       "      <td>HDFC Bank</td>\n",
       "      <td>4.0</td>\n",
       "      <td>39.3k</td>\n",
       "      <td>Public</td>\n",
       "      <td>Mumbai,Maharashtra + 1248 more</td>\n",
       "      <td>50k-1 Lakh Employees (India)</td>\n",
       "      <td>29</td>\n",
       "      <td>Mumbai,Maharashtra</td>\n",
       "    </tr>\n",
       "  </tbody>\n",
       "</table>\n",
       "</div>"
      ],
      "text/plain": [
       "  Company_name  Rating Reviews Company_type                  Total_Locations  \\\n",
       "0          TCS     3.9   50.5k       Public    Mumbai,Maharashtra + 270 more   \n",
       "1    Accenture     4.1   32.3k       Public                Dublin + 131 more   \n",
       "2    Cognizant     4.0   29.7k      Private  Teaneck. New Jersey. + 101 more   \n",
       "3   ICICI Bank     4.0   33.6k       Public   Mumbai,Maharashtra + 1057 more   \n",
       "4    HDFC Bank     4.0   39.3k       Public   Mumbai,Maharashtra + 1248 more   \n",
       "\n",
       "                      Employees  Total_no_of_years                     Hq  \n",
       "0     1 Lakh+ Employees (India)                 55    Mumbai,Maharashtra   \n",
       "1     1 Lakh+ Employees (India)                 34                Dublin   \n",
       "2     1 Lakh+ Employees (India)                 29  Teaneck. New Jersey.   \n",
       "3     1 Lakh+ Employees (India)                 29    Mumbai,Maharashtra   \n",
       "4  50k-1 Lakh Employees (India)                 29    Mumbai,Maharashtra   "
      ]
     },
     "execution_count": 56,
     "metadata": {},
     "output_type": "execute_result"
    }
   ],
   "source": [
    "final_df.head()"
   ]
  },
  {
   "cell_type": "markdown",
   "id": "a08f78a8",
   "metadata": {},
   "source": [
    "### finding Outliers"
   ]
  },
  {
   "cell_type": "code",
   "execution_count": 57,
   "id": "08836a3b",
   "metadata": {},
   "outputs": [
    {
     "name": "stderr",
     "output_type": "stream",
     "text": [
      "C:\\ProgramData\\Anaconda3\\lib\\site-packages\\seaborn\\distributions.py:2619: FutureWarning: `distplot` is a deprecated function and will be removed in a future version. Please adapt your code to use either `displot` (a figure-level function with similar flexibility) or `histplot` (an axes-level function for histograms).\n",
      "  warnings.warn(msg, FutureWarning)\n"
     ]
    },
    {
     "data": {
      "image/png": "[encoded data removed]",
      "text/plain": [
       "<Figure size 864x720 with 1 Axes>"
      ]
     },
     "metadata": {
      "needs_background": "light"
     },
     "output_type": "display_data"
    }
   ],
   "source": [
    "plt.figure(figsize=(12,10))\n",
    "plt.subplot(121)\n",
    "sns.distplot(final_df['Rating'])\n",
    "plt.show()\n",
    "\n",
    "# since the data is a little left skewed, but this can be ignored as the all the values lies within the range ."
   ]
  },
  {
   "cell_type": "code",
   "execution_count": 58,
   "id": "650f25c9",
   "metadata": {},
   "outputs": [
    {
     "data": {
      "text/plain": [
       "count    4044.000000\n",
       "mean        3.962216\n",
       "std         0.321328\n",
       "min         2.300000\n",
       "25%         3.800000\n",
       "50%         4.000000\n",
       "75%         4.200000\n",
       "max         5.000000\n",
       "Name: Rating, dtype: float64"
      ]
     },
     "execution_count": 58,
     "metadata": {},
     "output_type": "execute_result"
    }
   ],
   "source": [
    "final_df['Rating'].describe()"
   ]
  },
  {
   "cell_type": "code",
   "execution_count": 59,
   "id": "df726022",
   "metadata": {},
   "outputs": [
    {
     "name": "stderr",
     "output_type": "stream",
     "text": [
      "C:\\ProgramData\\Anaconda3\\lib\\site-packages\\seaborn\\distributions.py:2619: FutureWarning: `distplot` is a deprecated function and will be removed in a future version. Please adapt your code to use either `displot` (a figure-level function with similar flexibility) or `histplot` (an axes-level function for histograms).\n",
      "  warnings.warn(msg, FutureWarning)\n"
     ]
    },
    {
     "data": {
      "image/png": "[encoded data removed]",
      "text/plain": [
       "<Figure size 864x720 with 1 Axes>"
      ]
     },
     "metadata": {
      "needs_background": "light"
     },
     "output_type": "display_data"
    }
   ],
   "source": [
    "plt.figure(figsize=(12,10))\n",
    "plt.subplot(121)\n",
    "sns.distplot(final_df['Total_no_of_years'])\n",
    "plt.show()\n",
    "\n",
    "\n",
    "# its a heavily right skewed data so we have to apply boxplot to cap or terminate the outliers. "
   ]
  },
  {
   "cell_type": "code",
   "execution_count": 60,
   "id": "a0094bef",
   "metadata": {},
   "outputs": [
    {
     "data": {
      "text/plain": [
       "count    4044.000000\n",
       "mean       42.313798\n",
       "std        57.840302\n",
       "min         1.000000\n",
       "25%        19.000000\n",
       "50%        29.000000\n",
       "75%        49.000000\n",
       "max      2023.000000\n",
       "Name: Total_no_of_years, dtype: float64"
      ]
     },
     "execution_count": 60,
     "metadata": {},
     "output_type": "execute_result"
    }
   ],
   "source": [
    "final_df['Total_no_of_years'].describe()"
   ]
  },
  {
   "cell_type": "code",
   "execution_count": 61,
   "id": "59eb7b7d",
   "metadata": {},
   "outputs": [
    {
     "name": "stderr",
     "output_type": "stream",
     "text": [
      "C:\\ProgramData\\Anaconda3\\lib\\site-packages\\seaborn\\_decorators.py:36: FutureWarning: Pass the following variable as a keyword arg: x. From version 0.12, the only valid positional argument will be `data`, and passing other arguments without an explicit keyword will result in an error or misinterpretation.\n",
      "  warnings.warn(\n"
     ]
    },
    {
     "data": {
      "text/plain": [
       "<AxesSubplot:xlabel='Total_no_of_years'>"
      ]
     },
     "execution_count": 61,
     "metadata": {},
     "output_type": "execute_result"
    },
    {
     "data": {
      "image/png": "[encoded data removed]",
      "text/plain": [
       "<Figure size 432x288 with 1 Axes>"
      ]
     },
     "metadata": {
      "needs_background": "light"
     },
     "output_type": "display_data"
    }
   ],
   "source": [
    "# to find outliers in the column, we are using boxplot \n",
    "\n",
    "sns.boxplot(final_df['Total_no_of_years'])"
   ]
  },
  {
   "cell_type": "code",
   "execution_count": 62,
   "id": "0807639c",
   "metadata": {},
   "outputs": [],
   "source": [
    "percentile75=final_df['Total_no_of_years'].quantile(0.75)\n",
    "percentile25=final_df['Total_no_of_years'].quantile(0.25)"
   ]
  },
  {
   "cell_type": "code",
   "execution_count": 63,
   "id": "6fe20037",
   "metadata": {},
   "outputs": [
    {
     "data": {
      "text/plain": [
       "49.0"
      ]
     },
     "execution_count": 63,
     "metadata": {},
     "output_type": "execute_result"
    }
   ],
   "source": [
    "percentile75"
   ]
  },
  {
   "cell_type": "code",
   "execution_count": 64,
   "id": "75c18f9f",
   "metadata": {},
   "outputs": [
    {
     "data": {
      "text/plain": [
       "19.0"
      ]
     },
     "execution_count": 64,
     "metadata": {},
     "output_type": "execute_result"
    }
   ],
   "source": [
    "percentile25"
   ]
  },
  {
   "cell_type": "code",
   "execution_count": 65,
   "id": "c3bade18",
   "metadata": {},
   "outputs": [
    {
     "data": {
      "text/plain": [
       "30.0"
      ]
     },
     "execution_count": 65,
     "metadata": {},
     "output_type": "execute_result"
    }
   ],
   "source": [
    "#iqr=Inter Quartile Range\n",
    "\n",
    "iqr=percentile75 - percentile25\n",
    "iqr"
   ]
  },
  {
   "cell_type": "code",
   "execution_count": 66,
   "id": "3ac0bdb0",
   "metadata": {},
   "outputs": [],
   "source": [
    "#formulae\n",
    "\n",
    "upper_limit=percentile75 + 1.5*iqr\n",
    "lower_limit=percentile25 - 1.5*iqr"
   ]
  },
  {
   "cell_type": "code",
   "execution_count": 67,
   "id": "785e08a2",
   "metadata": {},
   "outputs": [
    {
     "data": {
      "text/plain": [
       "94.0"
      ]
     },
     "execution_count": 67,
     "metadata": {},
     "output_type": "execute_result"
    }
   ],
   "source": [
    "upper_limit"
   ]
  },
  {
   "cell_type": "code",
   "execution_count": 68,
   "id": "6465b3be",
   "metadata": {},
   "outputs": [
    {
     "data": {
      "text/plain": [
       "-26.0"
      ]
     },
     "execution_count": 68,
     "metadata": {},
     "output_type": "execute_result"
    }
   ],
   "source": [
    "lower_limit"
   ]
  },
  {
   "cell_type": "code",
   "execution_count": 69,
   "id": "6f279fba",
   "metadata": {},
   "outputs": [
    {
     "data": {
      "text/plain": [
       "(324, 8)"
      ]
     },
     "execution_count": 69,
     "metadata": {},
     "output_type": "execute_result"
    }
   ],
   "source": [
    "final_df[final_df['Total_no_of_years']>upper_limit].shape\n"
   ]
  },
  {
   "cell_type": "code",
   "execution_count": 70,
   "id": "0cb723aa",
   "metadata": {},
   "outputs": [
    {
     "data": {
      "text/plain": [
       "(0, 8)"
      ]
     },
     "execution_count": 70,
     "metadata": {},
     "output_type": "execute_result"
    }
   ],
   "source": [
    "final_df[final_df['Total_no_of_years']<lower_limit].shape"
   ]
  },
  {
   "cell_type": "markdown",
   "id": "3f69d9b4",
   "metadata": {},
   "source": [
    "### CAPPING"
   ]
  },
  {
   "cell_type": "code",
   "execution_count": 71,
   "id": "7b0aadd3",
   "metadata": {},
   "outputs": [],
   "source": [
    "final_df_cap=final_df.copy()           # copyng the data from the original data\n",
    "\n",
    "final_df_cap['Total_no_of_years']=np.where(\n",
    "                                  final_df_cap['Total_no_of_years']>upper_limit,\n",
    "                                  upper_limit,\n",
    "                                  np.where(\n",
    "                                  final_df_cap['Total_no_of_years']<lower_limit,\n",
    "                                  lower_limit,\n",
    "                                  final_df_cap['Total_no_of_years']\n",
    "                                  \n",
    "                                  )\n",
    "\n",
    "\n",
    ")"
   ]
  },
  {
   "cell_type": "code",
   "execution_count": 72,
   "id": "e16322da",
   "metadata": {},
   "outputs": [
    {
     "data": {
      "text/plain": [
       "(4044, 8)"
      ]
     },
     "execution_count": 72,
     "metadata": {},
     "output_type": "execute_result"
    }
   ],
   "source": [
    "final_df_cap.shape"
   ]
  },
  {
   "cell_type": "code",
   "execution_count": 73,
   "id": "084401bc",
   "metadata": {},
   "outputs": [
    {
     "data": {
      "text/plain": [
       "count    4044.000000\n",
       "mean       37.649110\n",
       "std        25.226381\n",
       "min         1.000000\n",
       "25%        19.000000\n",
       "50%        29.000000\n",
       "75%        49.000000\n",
       "max        94.000000\n",
       "Name: Total_no_of_years, dtype: float64"
      ]
     },
     "execution_count": 73,
     "metadata": {},
     "output_type": "execute_result"
    }
   ],
   "source": [
    "final_df_cap['Total_no_of_years'].describe()"
   ]
  },
  {
   "cell_type": "code",
   "execution_count": 74,
   "id": "02072c49",
   "metadata": {},
   "outputs": [
    {
     "name": "stderr",
     "output_type": "stream",
     "text": [
      "C:\\ProgramData\\Anaconda3\\lib\\site-packages\\seaborn\\distributions.py:2619: FutureWarning: `distplot` is a deprecated function and will be removed in a future version. Please adapt your code to use either `displot` (a figure-level function with similar flexibility) or `histplot` (an axes-level function for histograms).\n",
      "  warnings.warn(msg, FutureWarning)\n",
      "C:\\ProgramData\\Anaconda3\\lib\\site-packages\\seaborn\\_decorators.py:36: FutureWarning: Pass the following variable as a keyword arg: x. From version 0.12, the only valid positional argument will be `data`, and passing other arguments without an explicit keyword will result in an error or misinterpretation.\n",
      "  warnings.warn(\n",
      "C:\\ProgramData\\Anaconda3\\lib\\site-packages\\seaborn\\distributions.py:2619: FutureWarning: `distplot` is a deprecated function and will be removed in a future version. Please adapt your code to use either `displot` (a figure-level function with similar flexibility) or `histplot` (an axes-level function for histograms).\n",
      "  warnings.warn(msg, FutureWarning)\n",
      "C:\\ProgramData\\Anaconda3\\lib\\site-packages\\seaborn\\_decorators.py:36: FutureWarning: Pass the following variable as a keyword arg: x. From version 0.12, the only valid positional argument will be `data`, and passing other arguments without an explicit keyword will result in an error or misinterpretation.\n",
      "  warnings.warn(\n"
     ]
    },
    {
     "data": {
      "image/png": "[encoded data removed]",
      "text/plain": [
       "<Figure size 864x720 with 4 Axes>"
      ]
     },
     "metadata": {
      "needs_background": "light"
     },
     "output_type": "display_data"
    }
   ],
   "source": [
    "plt.figure(figsize=(12,10))\n",
    "plt.subplot(221)\n",
    "sns.distplot(final_df['Total_no_of_years'])\n",
    "\n",
    "plt.subplot(222)\n",
    "sns.boxplot(final_df['Total_no_of_years'])\n",
    "\n",
    "plt.subplot(223)\n",
    "sns.distplot(final_df_cap['Total_no_of_years'])\n",
    "\n",
    "plt.subplot(224)\n",
    "sns.boxplot(final_df_cap['Total_no_of_years'])\n",
    "\n",
    "plt.show()"
   ]
  },
  {
   "cell_type": "code",
   "execution_count": 75,
   "id": "3d71dfef",
   "metadata": {},
   "outputs": [
    {
     "data": {
      "text/html": [
       "<div>\n",
       "<style scoped>\n",
       "    .dataframe tbody tr th:only-of-type {\n",
       "        vertical-align: middle;\n",
       "    }\n",
       "\n",
       "    .dataframe tbody tr th {\n",
       "        vertical-align: top;\n",
       "    }\n",
       "\n",
       "    .dataframe thead th {\n",
       "        text-align: right;\n",
       "    }\n",
       "</style>\n",
       "<table border=\"1\" class=\"dataframe\">\n",
       "  <thead>\n",
       "    <tr style=\"text-align: right;\">\n",
       "      <th></th>\n",
       "      <th>Company_name</th>\n",
       "      <th>Rating</th>\n",
       "      <th>Reviews</th>\n",
       "      <th>Company_type</th>\n",
       "      <th>Total_Locations</th>\n",
       "      <th>Employees</th>\n",
       "      <th>Total_no_of_years</th>\n",
       "      <th>Hq</th>\n",
       "    </tr>\n",
       "  </thead>\n",
       "  <tbody>\n",
       "    <tr>\n",
       "      <th>0</th>\n",
       "      <td>TCS</td>\n",
       "      <td>3.9</td>\n",
       "      <td>50.5k</td>\n",
       "      <td>Public</td>\n",
       "      <td>Mumbai,Maharashtra + 270 more</td>\n",
       "      <td>1 Lakh+ Employees (India)</td>\n",
       "      <td>55.0</td>\n",
       "      <td>Mumbai,Maharashtra</td>\n",
       "    </tr>\n",
       "    <tr>\n",
       "      <th>1</th>\n",
       "      <td>Accenture</td>\n",
       "      <td>4.1</td>\n",
       "      <td>32.3k</td>\n",
       "      <td>Public</td>\n",
       "      <td>Dublin + 131 more</td>\n",
       "      <td>1 Lakh+ Employees (India)</td>\n",
       "      <td>34.0</td>\n",
       "      <td>Dublin</td>\n",
       "    </tr>\n",
       "    <tr>\n",
       "      <th>2</th>\n",
       "      <td>Cognizant</td>\n",
       "      <td>4.0</td>\n",
       "      <td>29.7k</td>\n",
       "      <td>Private</td>\n",
       "      <td>Teaneck. New Jersey. + 101 more</td>\n",
       "      <td>1 Lakh+ Employees (India)</td>\n",
       "      <td>29.0</td>\n",
       "      <td>Teaneck. New Jersey.</td>\n",
       "    </tr>\n",
       "    <tr>\n",
       "      <th>3</th>\n",
       "      <td>ICICI Bank</td>\n",
       "      <td>4.0</td>\n",
       "      <td>33.6k</td>\n",
       "      <td>Public</td>\n",
       "      <td>Mumbai,Maharashtra + 1057 more</td>\n",
       "      <td>1 Lakh+ Employees (India)</td>\n",
       "      <td>29.0</td>\n",
       "      <td>Mumbai,Maharashtra</td>\n",
       "    </tr>\n",
       "    <tr>\n",
       "      <th>4</th>\n",
       "      <td>HDFC Bank</td>\n",
       "      <td>4.0</td>\n",
       "      <td>39.3k</td>\n",
       "      <td>Public</td>\n",
       "      <td>Mumbai,Maharashtra + 1248 more</td>\n",
       "      <td>50k-1 Lakh Employees (India)</td>\n",
       "      <td>29.0</td>\n",
       "      <td>Mumbai,Maharashtra</td>\n",
       "    </tr>\n",
       "  </tbody>\n",
       "</table>\n",
       "</div>"
      ],
      "text/plain": [
       "  Company_name  Rating Reviews Company_type                  Total_Locations  \\\n",
       "0          TCS     3.9   50.5k       Public    Mumbai,Maharashtra + 270 more   \n",
       "1    Accenture     4.1   32.3k       Public                Dublin + 131 more   \n",
       "2    Cognizant     4.0   29.7k      Private  Teaneck. New Jersey. + 101 more   \n",
       "3   ICICI Bank     4.0   33.6k       Public   Mumbai,Maharashtra + 1057 more   \n",
       "4    HDFC Bank     4.0   39.3k       Public   Mumbai,Maharashtra + 1248 more   \n",
       "\n",
       "                      Employees  Total_no_of_years                     Hq  \n",
       "0     1 Lakh+ Employees (India)               55.0    Mumbai,Maharashtra   \n",
       "1     1 Lakh+ Employees (India)               34.0                Dublin   \n",
       "2     1 Lakh+ Employees (India)               29.0  Teaneck. New Jersey.   \n",
       "3     1 Lakh+ Employees (India)               29.0    Mumbai,Maharashtra   \n",
       "4  50k-1 Lakh Employees (India)               29.0    Mumbai,Maharashtra   "
      ]
     },
     "execution_count": 75,
     "metadata": {},
     "output_type": "execute_result"
    }
   ],
   "source": [
    "final_df_cap.head()"
   ]
  },
  {
   "cell_type": "code",
   "execution_count": 77,
   "id": "d8939f6e",
   "metadata": {},
   "outputs": [],
   "source": [
    "ambition_web_scraping_project=pd.DataFrame(final_df_cap, columns=['Company_name', 'Rating', 'Reviews', 'Company_type', 'Total_Locations', 'Employees','Total_no_of_years','Hq'])\n",
    "final_df_cap.to_csv('C://Users//RAJAT SINGH//Downloads//Ambition web scraping project//ambition_web_scraping_project.csv')"
   ]
  },
  {
   "cell_type": "code",
   "execution_count": null,
   "id": "61b74c00",
   "metadata": {},
   "outputs": [],
   "source": []
  },
  {
   "cell_type": "code",
   "execution_count": null,
   "id": "53ff4895",
   "metadata": {},
   "outputs": [],
   "source": []
  }
 ],
 "metadata": {
  "kernelspec": {
   "display_name": "Python 3 (ipykernel)",
   "language": "python",
   "name": "python3"
  },
  "language_info": {
   "codemirror_mode": {
    "name": "ipython",
    "version": 3
   },
   "file_extension": ".py",
   "mimetype": "text/x-python",
   "name": "python",
   "nbconvert_exporter": "python",
   "pygments_lexer": "ipython3",
   "version": "3.9.12"
  }
 },
 "nbformat": 4,
 "nbformat_minor": 5
}
